{
 "cells": [
  {
   "cell_type": "markdown",
   "metadata": {},
   "source": [
    "# Data Science And Business Analytics Intern At The Sparks Foundation"
   ]
  },
  {
   "cell_type": "markdown",
   "metadata": {},
   "source": [
    "# GRIPFEB21"
   ]
  },
  {
   "cell_type": "markdown",
   "metadata": {},
   "source": [
    "# Author: Adrita Paria"
   ]
  },
  {
   "cell_type": "markdown",
   "metadata": {},
   "source": [
    "# Task 2=Prediction Using Unsupervised ML"
   ]
  },
  {
   "cell_type": "markdown",
   "metadata": {},
   "source": [
    "### Problem statement= To predict the optimum level of clusters and represent it visually"
   ]
  },
  {
   "cell_type": "markdown",
   "metadata": {},
   "source": [
    "# Step 1: Importing standard ML libraries"
   ]
  },
  {
   "cell_type": "code",
   "execution_count": 49,
   "metadata": {},
   "outputs": [],
   "source": [
    "import pandas as pd\n",
    "from pycaret.datasets import get_data\n",
    "import seaborn as sns\n",
    "import matplotlib.pyplot as plt"
   ]
  },
  {
   "cell_type": "markdown",
   "metadata": {},
   "source": [
    "# Step 2: Importing the data set"
   ]
  },
  {
   "cell_type": "code",
   "execution_count": 33,
   "metadata": {},
   "outputs": [
    {
     "data": {
      "text/html": [
       "<div>\n",
       "<style scoped>\n",
       "    .dataframe tbody tr th:only-of-type {\n",
       "        vertical-align: middle;\n",
       "    }\n",
       "\n",
       "    .dataframe tbody tr th {\n",
       "        vertical-align: top;\n",
       "    }\n",
       "\n",
       "    .dataframe thead th {\n",
       "        text-align: right;\n",
       "    }\n",
       "</style>\n",
       "<table border=\"1\" class=\"dataframe\">\n",
       "  <thead>\n",
       "    <tr style=\"text-align: right;\">\n",
       "      <th></th>\n",
       "      <th>sepallength</th>\n",
       "      <th>sepalwidth</th>\n",
       "      <th>petallength</th>\n",
       "      <th>petalwidth</th>\n",
       "      <th>class</th>\n",
       "    </tr>\n",
       "  </thead>\n",
       "  <tbody>\n",
       "    <tr>\n",
       "      <th>0</th>\n",
       "      <td>5.1</td>\n",
       "      <td>3.5</td>\n",
       "      <td>1.4</td>\n",
       "      <td>0.2</td>\n",
       "      <td>Iris-setosa</td>\n",
       "    </tr>\n",
       "    <tr>\n",
       "      <th>1</th>\n",
       "      <td>4.9</td>\n",
       "      <td>3.0</td>\n",
       "      <td>1.4</td>\n",
       "      <td>0.2</td>\n",
       "      <td>Iris-setosa</td>\n",
       "    </tr>\n",
       "    <tr>\n",
       "      <th>2</th>\n",
       "      <td>4.7</td>\n",
       "      <td>3.2</td>\n",
       "      <td>1.3</td>\n",
       "      <td>0.2</td>\n",
       "      <td>Iris-setosa</td>\n",
       "    </tr>\n",
       "    <tr>\n",
       "      <th>3</th>\n",
       "      <td>4.6</td>\n",
       "      <td>3.1</td>\n",
       "      <td>1.5</td>\n",
       "      <td>0.2</td>\n",
       "      <td>Iris-setosa</td>\n",
       "    </tr>\n",
       "    <tr>\n",
       "      <th>4</th>\n",
       "      <td>5.0</td>\n",
       "      <td>3.6</td>\n",
       "      <td>1.4</td>\n",
       "      <td>0.2</td>\n",
       "      <td>Iris-setosa</td>\n",
       "    </tr>\n",
       "  </tbody>\n",
       "</table>\n",
       "</div>"
      ],
      "text/plain": [
       "   sepallength  sepalwidth  petallength  petalwidth        class\n",
       "0          5.1         3.5          1.4         0.2  Iris-setosa\n",
       "1          4.9         3.0          1.4         0.2  Iris-setosa\n",
       "2          4.7         3.2          1.3         0.2  Iris-setosa\n",
       "3          4.6         3.1          1.5         0.2  Iris-setosa\n",
       "4          5.0         3.6          1.4         0.2  Iris-setosa"
      ]
     },
     "execution_count": 33,
     "metadata": {},
     "output_type": "execute_result"
    }
   ],
   "source": [
    "data=pd.read_csv(\"C:\\\\Users\\\\adrit\\\\Desktop\\\\iris_csv.csv\")\n",
    "data.head(5)"
   ]
  },
  {
   "cell_type": "markdown",
   "metadata": {},
   "source": [
    "# Step 3: Visualisation Of the Dataset using Seaborn"
   ]
  },
  {
   "cell_type": "code",
   "execution_count": 34,
   "metadata": {},
   "outputs": [
    {
     "data": {
      "text/plain": [
       "<seaborn.axisgrid.PairGrid at 0x2292377e520>"
      ]
     },
     "execution_count": 34,
     "metadata": {},
     "output_type": "execute_result"
    },
    {
     "data": {
      "image/png": "[encoded data removed]",
      "text/plain": [
       "<Figure size 720x720 with 20 Axes>"
      ]
     },
     "metadata": {},
     "output_type": "display_data"
    }
   ],
   "source": [
    "sns.pairplot(data)"
   ]
  },
  {
   "cell_type": "markdown",
   "metadata": {},
   "source": [
    "# Step 4:Setting up environment"
   ]
  },
  {
   "cell_type": "code",
   "execution_count": 35,
   "metadata": {},
   "outputs": [],
   "source": [
    "from pycaret.clustering import * "
   ]
  },
  {
   "cell_type": "markdown",
   "metadata": {},
   "source": [
    "# Step 5:Create model"
   ]
  },
  {
   "cell_type": "code",
   "execution_count": 37,
   "metadata": {},
   "outputs": [
    {
     "data": {
      "text/html": [
       "<div>\n",
       "<style scoped>\n",
       "    .dataframe tbody tr th:only-of-type {\n",
       "        vertical-align: middle;\n",
       "    }\n",
       "\n",
       "    .dataframe tbody tr th {\n",
       "        vertical-align: top;\n",
       "    }\n",
       "\n",
       "    .dataframe thead th {\n",
       "        text-align: right;\n",
       "    }\n",
       "</style>\n",
       "<table border=\"1\" class=\"dataframe\">\n",
       "  <thead>\n",
       "    <tr style=\"text-align: right;\">\n",
       "      <th></th>\n",
       "      <th>Silhouette</th>\n",
       "      <th>Calinski-Harabasz</th>\n",
       "      <th>Davies-Bouldin</th>\n",
       "      <th>Homogeneity</th>\n",
       "      <th>Rand Index</th>\n",
       "      <th>Completeness</th>\n",
       "    </tr>\n",
       "  </thead>\n",
       "  <tbody>\n",
       "    <tr>\n",
       "      <th>0</th>\n",
       "      <td>0.4613</td>\n",
       "      <td>200.4224</td>\n",
       "      <td>0.8358</td>\n",
       "      <td>0</td>\n",
       "      <td>0</td>\n",
       "      <td>0</td>\n",
       "    </tr>\n",
       "  </tbody>\n",
       "</table>\n",
       "</div>"
      ],
      "text/plain": [
       "   Silhouette  Calinski-Harabasz  Davies-Bouldin  Homogeneity  Rand Index  \\\n",
       "0      0.4613           200.4224          0.8358            0           0   \n",
       "\n",
       "   Completeness  \n",
       "0             0  "
      ]
     },
     "metadata": {},
     "output_type": "display_data"
    },
    {
     "name": "stdout",
     "output_type": "stream",
     "text": [
      "KMeans(algorithm='auto', copy_x=True, init='k-means++', max_iter=300,\n",
      "       n_clusters=4, n_init=10, n_jobs=-1, precompute_distances='deprecated',\n",
      "       random_state=123, tol=0.0001, verbose=0)\n"
     ]
    }
   ],
   "source": [
    "kmeans=create_model(\"kmeans\")\n",
    "print(kmeans)"
   ]
  },
  {
   "cell_type": "code",
   "execution_count": 38,
   "metadata": {},
   "outputs": [
    {
     "data": {
      "text/html": [
       "<div>\n",
       "<style scoped>\n",
       "    .dataframe tbody tr th:only-of-type {\n",
       "        vertical-align: middle;\n",
       "    }\n",
       "\n",
       "    .dataframe tbody tr th {\n",
       "        vertical-align: top;\n",
       "    }\n",
       "\n",
       "    .dataframe thead th {\n",
       "        text-align: right;\n",
       "    }\n",
       "</style>\n",
       "<table border=\"1\" class=\"dataframe\">\n",
       "  <thead>\n",
       "    <tr style=\"text-align: right;\">\n",
       "      <th></th>\n",
       "      <th>Silhouette</th>\n",
       "      <th>Calinski-Harabasz</th>\n",
       "      <th>Davies-Bouldin</th>\n",
       "      <th>Homogeneity</th>\n",
       "      <th>Rand Index</th>\n",
       "      <th>Completeness</th>\n",
       "    </tr>\n",
       "  </thead>\n",
       "  <tbody>\n",
       "    <tr>\n",
       "      <th>0</th>\n",
       "      <td>0.3667</td>\n",
       "      <td>165.5413</td>\n",
       "      <td>1.2757</td>\n",
       "      <td>0</td>\n",
       "      <td>0</td>\n",
       "      <td>0</td>\n",
       "    </tr>\n",
       "  </tbody>\n",
       "</table>\n",
       "</div>"
      ],
      "text/plain": [
       "   Silhouette  Calinski-Harabasz  Davies-Bouldin  Homogeneity  Rand Index  \\\n",
       "0      0.3667           165.5413          1.2757            0           0   \n",
       "\n",
       "   Completeness  \n",
       "0             0  "
      ]
     },
     "metadata": {},
     "output_type": "display_data"
    },
    {
     "name": "stdout",
     "output_type": "stream",
     "text": [
      "KModes(cat_dissim=<function matching_dissim at 0x000002291E6CCE50>, init='Cao',\n",
      "       max_iter=100, n_clusters=4, n_init=1, n_jobs=-1, random_state=123,\n",
      "       verbose=0)\n"
     ]
    }
   ],
   "source": [
    "kmodes=create_model('kmodes')\n",
    "print(kmodes)"
   ]
  },
  {
   "cell_type": "markdown",
   "metadata": {},
   "source": [
    "# Step 6: Analyze the model"
   ]
  },
  {
   "cell_type": "code",
   "execution_count": 59,
   "metadata": {
    "scrolled": false
   },
   "outputs": [
    {
     "data": {
      "image/png": "[encoded data removed]",
      "text/plain": [
       "<Figure size 576x396 with 1 Axes>"
      ]
     },
     "metadata": {},
     "output_type": "display_data"
    }
   ],
   "source": [
    "plot_model(kmeans,plot='elbow')"
   ]
  },
  {
   "cell_type": "markdown",
   "metadata": {},
   "source": [
    "### From the elbow method it is clearly seen that the optimum number of clusters =4"
   ]
  },
  {
   "cell_type": "code",
   "execution_count": 58,
   "metadata": {},
   "outputs": [
    {
     "data": {
      "application/vnd.plotly.v1+json": {
       "config": {
        "plotlyServerURL": "https://plot.ly"
       },
       "data": [
        {
         "customdata": [
          [
           5.1
          ],
          [
           5.2
          ],
          [
           5.2
          ],
          [
           4.7
          ],
          [
           4.8
          ],
          [
           5.4
          ],
          [
           5.2
          ],
          [
           5.5
          ],
          [
           4.9
          ],
          [
           5
          ],
          [
           5.5
          ],
          [
           4.9
          ],
          [
           4.4
          ],
          [
           5.1
          ],
          [
           5
          ],
          [
           4.4
          ],
          [
           5
          ],
          [
           5.1
          ],
          [
           4.8
          ],
          [
           5.1
          ],
          [
           5.3
          ],
          [
           5
          ],
          [
           5
          ],
          [
           5
          ],
          [
           4.6
          ],
          [
           5.1
          ],
          [
           4.9
          ],
          [
           4.7
          ],
          [
           4.6
          ],
          [
           5
          ],
          [
           5.4
          ],
          [
           4.6
          ],
          [
           5
          ],
          [
           4.4
          ],
          [
           4.9
          ],
          [
           5.4
          ],
          [
           4.8
          ],
          [
           4.8
          ],
          [
           4.3
          ],
          [
           5.8
          ],
          [
           5.7
          ],
          [
           5.4
          ],
          [
           5.1
          ],
          [
           5.7
          ],
          [
           5.1
          ],
          [
           5.4
          ],
          [
           4.8
          ],
          [
           5.1
          ],
          [
           4.6
          ]
         ],
         "hovertemplate": "Cluster=Cluster 0<br>PCA1=%{x}<br>PCA2=%{y}<br>Feature=%{customdata[0]}<extra></extra>",
         "legendgroup": "Cluster 0",
         "marker": {
          "color": "#636efa",
          "opacity": 0.5,
          "symbol": "circle"
         },
         "mode": "markers",
         "name": "Cluster 0",
         "orientation": "v",
         "showlegend": true,
         "textposition": "top center",
         "type": "scatter",
         "x": [
          -2.398362636566162,
          -2.3074746131896973,
          -2.2796053886413574,
          -2.3954544067382812,
          -2.2766964435577393,
          -1.9876195192337036,
          -2.7340774536132812,
          -2.57560396194458,
          -2.319483757019043,
          -2.3427865505218506,
          -2.191950798034668,
          -2.319483757019043,
          -2.5495240688323975,
          -2.3076369762420654,
          -2.4184319972991943,
          -2.668118953704834,
          -2.111691474914551,
          -2.2774760723114014,
          -2.2094368934631348,
          -2.5133979320526123,
          -2.3666086196899414,
          -2.3392276763916016,
          -2.1940314769744873,
          -2.0984792709350586,
          -2.517770528793335,
          -1.973026990890503,
          -2.2207963466644287,
          -2.4897379875183105,
          -2.4270448684692383,
          -2.5171196460723877,
          -2.22124981880188,
          -2.5655465126037598,
          -2.3670969009399414,
          -2.45879864692688,
          -2.319483757019043,
          -2.3071489334106445,
          -2.4545886516571045,
          -2.360304117202759,
          -2.742659091949463,
          -2.3414855003356934,
          -2.4022133350372314,
          -2.3469626903533936,
          -2.3275439739227295,
          -2.054391622543335,
          -2.4740078449249268,
          -2.0664005279541016,
          -2.351074457168579,
          -2.3438918590545654,
          -2.8806729316711426
         ],
         "xaxis": "x",
         "y": [
          -0.5399616360664368,
          -0.5848098397254944,
          -0.38050177693367004,
          0.23583601415157318,
          0.39529624581336975,
          -0.49114805459976196,
          -1.7882535457611084,
          -2.129321336746216,
          0.3655119240283966,
          0.11414007097482681,
          -0.7101768255233765,
          0.3655119240283966,
          0.7753258347511292,
          -0.3393247723579407,
          -0.5065065622329712,
          0.37038013339042664,
          -0.5461912751197815,
          -1.1793432235717773,
          0.5900470614433289,
          -1.1510512828826904,
          -1.0327683687210083,
          -0.09200355410575867,
          -0.32093310356140137,
          0.5117437243461609,
          0.28251948952674866,
          -0.1747008115053177,
          0.5584264397621155,
          0.24134239554405212,
          0.48315712809562683,
          -0.6994219422340393,
          -1.5071829557418823,
          -0.13381896913051605,
          -0.2963121831417084,
          0.9759629368782043,
          0.3655119240283966,
          -1.075780987739563,
          -0.2121225893497467,
          -0.2176290601491928,
          0.8334020376205444,
          -1.849743366241455,
          -2.644913673400879,
          -1.4998408555984497,
          -0.5513546466827393,
          -1.422355055809021,
          -1.1606085300445557,
          -0.4720335900783539,
          0.6128325462341309,
          -0.9695285558700562,
          -0.5200294256210327
         ],
         "yaxis": "y"
        },
        {
         "customdata": [
          [
           6.4
          ],
          [
           6.5
          ],
          [
           7.7
          ],
          [
           7.7
          ],
          [
           6.9
          ],
          [
           5.6
          ],
          [
           5.8
          ],
          [
           7.7
          ],
          [
           6.3
          ],
          [
           6.3
          ],
          [
           6.8
          ],
          [
           6.4
          ],
          [
           6.5
          ],
          [
           7.2
          ],
          [
           6.7
          ],
          [
           7.3
          ],
          [
           7.6
          ],
          [
           6.5
          ],
          [
           6.7
          ],
          [
           7.1
          ],
          [
           5.7
          ],
          [
           7.2
          ],
          [
           6.4
          ],
          [
           6.1
          ],
          [
           6.5
          ],
          [
           5.8
          ],
          [
           6.3
          ],
          [
           6.7
          ],
          [
           6.7
          ],
          [
           6.8
          ],
          [
           5.8
          ],
          [
           6.9
          ],
          [
           6.7
          ],
          [
           6.2
          ],
          [
           6.9
          ],
          [
           6.3
          ],
          [
           7.7
          ],
          [
           6.1
          ],
          [
           6.3
          ],
          [
           6.4
          ],
          [
           7.9
          ],
          [
           7.4
          ],
          [
           7.2
          ],
          [
           6.4
          ],
          [
           6
          ],
          [
           6.3
          ],
          [
           5.9
          ],
          [
           6.2
          ]
         ],
         "hovertemplate": "Cluster=Cluster 1<br>PCA1=%{x}<br>PCA2=%{y}<br>Feature=%{customdata[0]}<extra></extra>",
         "legendgroup": "Cluster 1",
         "marker": {
          "color": "#EF553B",
          "opacity": 0.5,
          "symbol": "circle"
         },
         "mode": "markers",
         "name": "Cluster 1",
         "orientation": "v",
         "showlegend": true,
         "textposition": "top center",
         "type": "scatter",
         "x": [
          1.6978334188461304,
          1.584650993347168,
          2.4842050075531006,
          2.9355411529541016,
          2.1208460330963135,
          1.1211737394332886,
          1.5862252712249756,
          3.3294479846954346,
          1.4550539255142212,
          1.5564566850662231,
          1.9754869937896729,
          1.7110453844070435,
          1.4819809198379517,
          2.3293867111206055,
          2.0943422317504883,
          2.371054172515869,
          2.796877384185791,
          1.9622104167938232,
          1.800991177558899,
          2.2795796394348145,
          1.3899539709091187,
          2.039417266845703,
          1.4658937454223633,
          1.1582417488098145,
          1.6320040225982666,
          1.2914289236068726,
          1.6758956909179688,
          1.9633797407150269,
          2.08426570892334,
          2.1242425441741943,
          1.2914289236068726,
          1.9915746450424194,
          2.100613832473755,
          1.304868221282959,
          1.9442216157913208,
          1.6848818063735962,
          2.8408336639404297,
          1.3321539163589478,
          1.2461570501327515,
          1.9584887027740479,
          2.3672034740448,
          2.497774124145508,
          1.953518271446228,
          1.8876699209213257,
          1.0673534870147705,
          1.9407106637954712,
          1.1021780967712402,
          1.4917466640472412
         ],
         "xaxis": "x",
         "y": [
          -0.8325029611587524,
          -0.4172772765159607,
          -2.620807647705078,
          -0.5732939839363098,
          -1.0549079179763794,
          0.3630094528198242,
          0.22774222493171692,
          -0.20619745552539825,
          0.2871791124343872,
          -0.1306149810552597,
          -0.5804932713508606,
          0.225431889295578,
          -0.837666392326355,
          -2.023963689804077,
          0.5035552382469177,
          -0.5735895037651062,
          -0.9447844624519348,
          -0.4683546721935272,
          -1.1485698223114014,
          -0.7168729305267334,
          0.9255797863006592,
          -1.1324883699417114,
          -0.5767372250556946,
          -0.23421375453472137,
          -0.4345562160015106,
          0.48717838525772095,
          0.6788968443870544,
          -0.5547595024108887,
          -1.1941406726837158,
          -1.0155664682388306,
          0.48717838525772095,
          -0.8414218425750732,
          -0.7759668231010437,
          0.12955480813980103,
          -0.8241428732872009,
          -1.211335301399231,
          -1.001404881477356,
          0.6083999872207642,
          0.11521371454000473,
          -0.01672535389661789,
          -2.6785409450531006,
          -0.42185062170028687,
          -0.7010863423347473,
          -0.00533260777592659,
          -0.1893657147884369,
          -1.0275969505310059,
          -0.15185970067977905,
          -1.1532589197158813
         ],
         "yaxis": "y"
        },
        {
         "customdata": [
          [
           6.6
          ],
          [
           5.7
          ],
          [
           6.1
          ],
          [
           6.3
          ],
          [
           6.1
          ],
          [
           5.9
          ],
          [
           5.6
          ],
          [
           6.7
          ],
          [
           6.8
          ],
          [
           5.6
          ],
          [
           5.9
          ],
          [
           6.6
          ],
          [
           6.3
          ],
          [
           5.7
          ],
          [
           6.5
          ],
          [
           6.9
          ],
          [
           6.4
          ],
          [
           7
          ],
          [
           6.1
          ],
          [
           6.7
          ],
          [
           5.7
          ],
          [
           6.4
          ],
          [
           6
          ],
          [
           5.6
          ],
          [
           6.1
          ],
          [
           6
          ],
          [
           5.4
          ],
          [
           6.7
          ],
          [
           5.7
          ],
          [
           6.2
          ],
          [
           6
          ]
         ],
         "hovertemplate": "Cluster=Cluster 2<br>PCA1=%{x}<br>PCA2=%{y}<br>Feature=%{customdata[0]}<extra></extra>",
         "legendgroup": "Cluster 2",
         "marker": {
          "color": "#00cc96",
          "opacity": 0.5,
          "symbol": "circle"
         },
         "mode": "markers",
         "name": "Cluster 2",
         "orientation": "v",
         "showlegend": true,
         "textposition": "top center",
         "type": "scatter",
         "x": [
          0.8804064393043518,
          0.14077243208885193,
          0.6543484330177307,
          1.2264732122421265,
          0.505169689655304,
          0.7545793652534485,
          0.388053297996521,
          0.8805690407752991,
          1.2436343431472778,
          0.022859295830130577,
          0.4721486568450928,
          0.9317414164543152,
          0.7600565552711487,
          0.42447054386138916,
          1.0732163190841675,
          1.2274490594863892,
          0.7451385855674744,
          1.0939362049102783,
          0.7366883754730225,
          1.340891718864441,
          0.27088844776153564,
          0.7185370326042175,
          0.6851906180381775,
          0.12070301920175552,
          0.6459627151489258,
          0.4595225155353546,
          0.2691332697868347,
          1.0456722974777222,
          0.29875773191452026,
          0.5996168255805969,
          1.0631731748580933
         ],
         "xaxis": "x",
         "y": [
          0.006585824768990278,
          0.42015570402145386,
          0.6438734531402588,
          1.1274173259735107,
          0.6453291773796082,
          -0.15018466114997864,
          0.42348358035087585,
          -0.23889926075935364,
          0.318164199590683,
          0.6652610898017883,
          0.2999521791934967,
          0.21678011119365692,
          -0.5000868439674377,
          0.8082022666931152,
          0.4394802749156952,
          -0.3454948663711548,
          -0.3255629539489746,
          -0.5759168267250061,
          0.41861492395401,
          -0.08161793649196625,
          0.6112355589866638,
          0.3083117604255676,
          0.45390573143959045,
          0.4536110758781433,
          0.21797780692577362,
          -0.5698509216308594,
          0.5095087289810181,
          -0.25579848885536194,
          0.8155441880226135,
          0.39433708786964417,
          0.8364458084106445
         ],
         "yaxis": "y"
        },
        {
         "customdata": [
          [
           5.1
          ],
          [
           5.5
          ],
          [
           5.6
          ],
          [
           5
          ],
          [
           5.8
          ],
          [
           4.9
          ],
          [
           4.5
          ],
          [
           5.2
          ],
          [
           5.7
          ],
          [
           5.5
          ],
          [
           6
          ],
          [
           4.9
          ],
          [
           6.3
          ],
          [
           5.8
          ],
          [
           6.2
          ],
          [
           5.6
          ],
          [
           5.8
          ],
          [
           5.5
          ],
          [
           5.5
          ],
          [
           6
          ],
          [
           5
          ],
          [
           5.5
          ]
         ],
         "hovertemplate": "Cluster=Cluster 3<br>PCA1=%{x}<br>PCA2=%{y}<br>Feature=%{customdata[0]}<extra></extra>",
         "legendgroup": "Cluster 3",
         "marker": {
          "color": "#ab63fa",
          "opacity": 0.5,
          "symbol": "circle"
         },
         "mode": "markers",
         "name": "Cluster 3",
         "orientation": "v",
         "showlegend": true,
         "textposition": "top center",
         "type": "scatter",
         "x": [
          -0.36745765805244446,
          0.44489651918411255,
          0.3300231993198395,
          -0.2848569452762604,
          0.37456589937210083,
          -0.4036144018173218,
          -2.0041637420654297,
          0.06871727108955383,
          0.01632722280919552,
          0.32189851999282837,
          0.5890377163887024,
          0.5446771383285522,
          1.0462895631790161,
          0.2050592601299286,
          1.2191921472549438,
          0.2126961648464203,
          0.2838402986526489,
          0.07885841280221939,
          0.18110528588294983,
          1.3921328783035278,
          -0.044108498841524124,
          0.326301634311676
         ],
         "xaxis": "x",
         "y": [
          1.7240139245986938,
          1.915769100189209,
          1.059193730354309,
          2.177858591079712,
          1.1907051801681519,
          2.0183980464935303,
          2.1382298469543457,
          1.225358009338379,
          1.2656810283660889,
          1.3124010562896729,
          1.9373563528060913,
          1.3130359649658203,
          1.5643259286880493,
          1.009182095527649,
          1.785190463066101,
          1.492431640625,
          0.990067720413208,
          1.7529804706573486,
          1.7397522926330566,
          1.460923671722412,
          2.7816057205200195,
          1.5108230113983154
         ],
         "yaxis": "y"
        }
       ],
       "layout": {
        "height": 600,
        "legend": {
         "title": {
          "text": "Cluster"
         },
         "tracegroupgap": 0
        },
        "margin": {
         "t": 60
        },
        "plot_bgcolor": "rgb(240,240,240)",
        "template": {
         "data": {
          "bar": [
           {
            "error_x": {
             "color": "#2a3f5f"
            },
            "error_y": {
             "color": "#2a3f5f"
            },
            "marker": {
             "line": {
              "color": "#E5ECF6",
              "width": 0.5
             }
            },
            "type": "bar"
           }
          ],
          "barpolar": [
           {
            "marker": {
             "line": {
              "color": "#E5ECF6",
              "width": 0.5
             }
            },
            "type": "barpolar"
           }
          ],
          "carpet": [
           {
            "aaxis": {
             "endlinecolor": "#2a3f5f",
             "gridcolor": "white",
             "linecolor": "white",
             "minorgridcolor": "white",
             "startlinecolor": "#2a3f5f"
            },
            "baxis": {
             "endlinecolor": "#2a3f5f",
             "gridcolor": "white",
             "linecolor": "white",
             "minorgridcolor": "white",
             "startlinecolor": "#2a3f5f"
            },
            "type": "carpet"
           }
          ],
          "choropleth": [
           {
            "colorbar": {
             "outlinewidth": 0,
             "ticks": ""
            },
            "type": "choropleth"
           }
          ],
          "contour": [
           {
            "colorbar": {
             "outlinewidth": 0,
             "ticks": ""
            },
            "colorscale": [
             [
              0,
              "#0d0887"
             ],
             [
              0.1111111111111111,
              "#46039f"
             ],
             [
              0.2222222222222222,
              "#7201a8"
             ],
             [
              0.3333333333333333,
              "#9c179e"
             ],
             [
              0.4444444444444444,
              "#bd3786"
             ],
             [
              0.5555555555555556,
              "#d8576b"
             ],
             [
              0.6666666666666666,
              "#ed7953"
             ],
             [
              0.7777777777777778,
              "#fb9f3a"
             ],
             [
              0.8888888888888888,
              "#fdca26"
             ],
             [
              1,
              "#f0f921"
             ]
            ],
            "type": "contour"
           }
          ],
          "contourcarpet": [
           {
            "colorbar": {
             "outlinewidth": 0,
             "ticks": ""
            },
            "type": "contourcarpet"
           }
          ],
          "heatmap": [
           {
            "colorbar": {
             "outlinewidth": 0,
             "ticks": ""
            },
            "colorscale": [
             [
              0,
              "#0d0887"
             ],
             [
              0.1111111111111111,
              "#46039f"
             ],
             [
              0.2222222222222222,
              "#7201a8"
             ],
             [
              0.3333333333333333,
              "#9c179e"
             ],
             [
              0.4444444444444444,
              "#bd3786"
             ],
             [
              0.5555555555555556,
              "#d8576b"
             ],
             [
              0.6666666666666666,
              "#ed7953"
             ],
             [
              0.7777777777777778,
              "#fb9f3a"
             ],
             [
              0.8888888888888888,
              "#fdca26"
             ],
             [
              1,
              "#f0f921"
             ]
            ],
            "type": "heatmap"
           }
          ],
          "heatmapgl": [
           {
            "colorbar": {
             "outlinewidth": 0,
             "ticks": ""
            },
            "colorscale": [
             [
              0,
              "#0d0887"
             ],
             [
              0.1111111111111111,
              "#46039f"
             ],
             [
              0.2222222222222222,
              "#7201a8"
             ],
             [
              0.3333333333333333,
              "#9c179e"
             ],
             [
              0.4444444444444444,
              "#bd3786"
             ],
             [
              0.5555555555555556,
              "#d8576b"
             ],
             [
              0.6666666666666666,
              "#ed7953"
             ],
             [
              0.7777777777777778,
              "#fb9f3a"
             ],
             [
              0.8888888888888888,
              "#fdca26"
             ],
             [
              1,
              "#f0f921"
             ]
            ],
            "type": "heatmapgl"
           }
          ],
          "histogram": [
           {
            "marker": {
             "colorbar": {
              "outlinewidth": 0,
              "ticks": ""
             }
            },
            "type": "histogram"
           }
          ],
          "histogram2d": [
           {
            "colorbar": {
             "outlinewidth": 0,
             "ticks": ""
            },
            "colorscale": [
             [
              0,
              "#0d0887"
             ],
             [
              0.1111111111111111,
              "#46039f"
             ],
             [
              0.2222222222222222,
              "#7201a8"
             ],
             [
              0.3333333333333333,
              "#9c179e"
             ],
             [
              0.4444444444444444,
              "#bd3786"
             ],
             [
              0.5555555555555556,
              "#d8576b"
             ],
             [
              0.6666666666666666,
              "#ed7953"
             ],
             [
              0.7777777777777778,
              "#fb9f3a"
             ],
             [
              0.8888888888888888,
              "#fdca26"
             ],
             [
              1,
              "#f0f921"
             ]
            ],
            "type": "histogram2d"
           }
          ],
          "histogram2dcontour": [
           {
            "colorbar": {
             "outlinewidth": 0,
             "ticks": ""
            },
            "colorscale": [
             [
              0,
              "#0d0887"
             ],
             [
              0.1111111111111111,
              "#46039f"
             ],
             [
              0.2222222222222222,
              "#7201a8"
             ],
             [
              0.3333333333333333,
              "#9c179e"
             ],
             [
              0.4444444444444444,
              "#bd3786"
             ],
             [
              0.5555555555555556,
              "#d8576b"
             ],
             [
              0.6666666666666666,
              "#ed7953"
             ],
             [
              0.7777777777777778,
              "#fb9f3a"
             ],
             [
              0.8888888888888888,
              "#fdca26"
             ],
             [
              1,
              "#f0f921"
             ]
            ],
            "type": "histogram2dcontour"
           }
          ],
          "mesh3d": [
           {
            "colorbar": {
             "outlinewidth": 0,
             "ticks": ""
            },
            "type": "mesh3d"
           }
          ],
          "parcoords": [
           {
            "line": {
             "colorbar": {
              "outlinewidth": 0,
              "ticks": ""
             }
            },
            "type": "parcoords"
           }
          ],
          "pie": [
           {
            "automargin": true,
            "type": "pie"
           }
          ],
          "scatter": [
           {
            "marker": {
             "colorbar": {
              "outlinewidth": 0,
              "ticks": ""
             }
            },
            "type": "scatter"
           }
          ],
          "scatter3d": [
           {
            "line": {
             "colorbar": {
              "outlinewidth": 0,
              "ticks": ""
             }
            },
            "marker": {
             "colorbar": {
              "outlinewidth": 0,
              "ticks": ""
             }
            },
            "type": "scatter3d"
           }
          ],
          "scattercarpet": [
           {
            "marker": {
             "colorbar": {
              "outlinewidth": 0,
              "ticks": ""
             }
            },
            "type": "scattercarpet"
           }
          ],
          "scattergeo": [
           {
            "marker": {
             "colorbar": {
              "outlinewidth": 0,
              "ticks": ""
             }
            },
            "type": "scattergeo"
           }
          ],
          "scattergl": [
           {
            "marker": {
             "colorbar": {
              "outlinewidth": 0,
              "ticks": ""
             }
            },
            "type": "scattergl"
           }
          ],
          "scattermapbox": [
           {
            "marker": {
             "colorbar": {
              "outlinewidth": 0,
              "ticks": ""
             }
            },
            "type": "scattermapbox"
           }
          ],
          "scatterpolar": [
           {
            "marker": {
             "colorbar": {
              "outlinewidth": 0,
              "ticks": ""
             }
            },
            "type": "scatterpolar"
           }
          ],
          "scatterpolargl": [
           {
            "marker": {
             "colorbar": {
              "outlinewidth": 0,
              "ticks": ""
             }
            },
            "type": "scatterpolargl"
           }
          ],
          "scatterternary": [
           {
            "marker": {
             "colorbar": {
              "outlinewidth": 0,
              "ticks": ""
             }
            },
            "type": "scatterternary"
           }
          ],
          "surface": [
           {
            "colorbar": {
             "outlinewidth": 0,
             "ticks": ""
            },
            "colorscale": [
             [
              0,
              "#0d0887"
             ],
             [
              0.1111111111111111,
              "#46039f"
             ],
             [
              0.2222222222222222,
              "#7201a8"
             ],
             [
              0.3333333333333333,
              "#9c179e"
             ],
             [
              0.4444444444444444,
              "#bd3786"
             ],
             [
              0.5555555555555556,
              "#d8576b"
             ],
             [
              0.6666666666666666,
              "#ed7953"
             ],
             [
              0.7777777777777778,
              "#fb9f3a"
             ],
             [
              0.8888888888888888,
              "#fdca26"
             ],
             [
              1,
              "#f0f921"
             ]
            ],
            "type": "surface"
           }
          ],
          "table": [
           {
            "cells": {
             "fill": {
              "color": "#EBF0F8"
             },
             "line": {
              "color": "white"
             }
            },
            "header": {
             "fill": {
              "color": "#C8D4E3"
             },
             "line": {
              "color": "white"
             }
            },
            "type": "table"
           }
          ]
         },
         "layout": {
          "annotationdefaults": {
           "arrowcolor": "#2a3f5f",
           "arrowhead": 0,
           "arrowwidth": 1
          },
          "autotypenumbers": "strict",
          "coloraxis": {
           "colorbar": {
            "outlinewidth": 0,
            "ticks": ""
           }
          },
          "colorscale": {
           "diverging": [
            [
             0,
             "#8e0152"
            ],
            [
             0.1,
             "#c51b7d"
            ],
            [
             0.2,
             "#de77ae"
            ],
            [
             0.3,
             "#f1b6da"
            ],
            [
             0.4,
             "#fde0ef"
            ],
            [
             0.5,
             "#f7f7f7"
            ],
            [
             0.6,
             "#e6f5d0"
            ],
            [
             0.7,
             "#b8e186"
            ],
            [
             0.8,
             "#7fbc41"
            ],
            [
             0.9,
             "#4d9221"
            ],
            [
             1,
             "#276419"
            ]
           ],
           "sequential": [
            [
             0,
             "#0d0887"
            ],
            [
             0.1111111111111111,
             "#46039f"
            ],
            [
             0.2222222222222222,
             "#7201a8"
            ],
            [
             0.3333333333333333,
             "#9c179e"
            ],
            [
             0.4444444444444444,
             "#bd3786"
            ],
            [
             0.5555555555555556,
             "#d8576b"
            ],
            [
             0.6666666666666666,
             "#ed7953"
            ],
            [
             0.7777777777777778,
             "#fb9f3a"
            ],
            [
             0.8888888888888888,
             "#fdca26"
            ],
            [
             1,
             "#f0f921"
            ]
           ],
           "sequentialminus": [
            [
             0,
             "#0d0887"
            ],
            [
             0.1111111111111111,
             "#46039f"
            ],
            [
             0.2222222222222222,
             "#7201a8"
            ],
            [
             0.3333333333333333,
             "#9c179e"
            ],
            [
             0.4444444444444444,
             "#bd3786"
            ],
            [
             0.5555555555555556,
             "#d8576b"
            ],
            [
             0.6666666666666666,
             "#ed7953"
            ],
            [
             0.7777777777777778,
             "#fb9f3a"
            ],
            [
             0.8888888888888888,
             "#fdca26"
            ],
            [
             1,
             "#f0f921"
            ]
           ]
          },
          "colorway": [
           "#636efa",
           "#EF553B",
           "#00cc96",
           "#ab63fa",
           "#FFA15A",
           "#19d3f3",
           "#FF6692",
           "#B6E880",
           "#FF97FF",
           "#FECB52"
          ],
          "font": {
           "color": "#2a3f5f"
          },
          "geo": {
           "bgcolor": "white",
           "lakecolor": "white",
           "landcolor": "#E5ECF6",
           "showlakes": true,
           "showland": true,
           "subunitcolor": "white"
          },
          "hoverlabel": {
           "align": "left"
          },
          "hovermode": "closest",
          "mapbox": {
           "style": "light"
          },
          "paper_bgcolor": "white",
          "plot_bgcolor": "#E5ECF6",
          "polar": {
           "angularaxis": {
            "gridcolor": "white",
            "linecolor": "white",
            "ticks": ""
           },
           "bgcolor": "#E5ECF6",
           "radialaxis": {
            "gridcolor": "white",
            "linecolor": "white",
            "ticks": ""
           }
          },
          "scene": {
           "xaxis": {
            "backgroundcolor": "#E5ECF6",
            "gridcolor": "white",
            "gridwidth": 2,
            "linecolor": "white",
            "showbackground": true,
            "ticks": "",
            "zerolinecolor": "white"
           },
           "yaxis": {
            "backgroundcolor": "#E5ECF6",
            "gridcolor": "white",
            "gridwidth": 2,
            "linecolor": "white",
            "showbackground": true,
            "ticks": "",
            "zerolinecolor": "white"
           },
           "zaxis": {
            "backgroundcolor": "#E5ECF6",
            "gridcolor": "white",
            "gridwidth": 2,
            "linecolor": "white",
            "showbackground": true,
            "ticks": "",
            "zerolinecolor": "white"
           }
          },
          "shapedefaults": {
           "line": {
            "color": "#2a3f5f"
           }
          },
          "ternary": {
           "aaxis": {
            "gridcolor": "white",
            "linecolor": "white",
            "ticks": ""
           },
           "baxis": {
            "gridcolor": "white",
            "linecolor": "white",
            "ticks": ""
           },
           "bgcolor": "#E5ECF6",
           "caxis": {
            "gridcolor": "white",
            "linecolor": "white",
            "ticks": ""
           }
          },
          "title": {
           "x": 0.05
          },
          "xaxis": {
           "automargin": true,
           "gridcolor": "white",
           "linecolor": "white",
           "ticks": "",
           "title": {
            "standoff": 15
           },
           "zerolinecolor": "white",
           "zerolinewidth": 2
          },
          "yaxis": {
           "automargin": true,
           "gridcolor": "white",
           "linecolor": "white",
           "ticks": "",
           "title": {
            "standoff": 15
           },
           "zerolinecolor": "white",
           "zerolinewidth": 2
          }
         }
        },
        "title": {
         "text": "2D Cluster PCA Plot"
        },
        "xaxis": {
         "anchor": "y",
         "domain": [
          0,
          1
         ],
         "title": {
          "text": "PCA1"
         }
        },
        "yaxis": {
         "anchor": "x",
         "domain": [
          0,
          1
         ],
         "title": {
          "text": "PCA2"
         }
        }
       }
      },
      "text/html": [
       "<div>                            <div id=\"a7640c2b-5618-4c30-8d32-e806a70cfcf8\" class=\"plotly-graph-div\" style=\"height:600px; width:100%;\"></div>            <script type=\"text/javascript\">                require([\"plotly\"], function(Plotly) {                    window.PLOTLYENV=window.PLOTLYENV || {};                                    if (document.getElementById(\"a7640c2b-5618-4c30-8d32-e806a70cfcf8\")) {                    Plotly.newPlot(                        \"a7640c2b-5618-4c30-8d32-e806a70cfcf8\",                        [{\"customdata\": [[5.1], [5.2], [5.2], [4.7], [4.8], [5.4], [5.2], [5.5], [4.9], [5.0], [5.5], [4.9], [4.4], [5.1], [5.0], [4.4], [5.0], [5.1], [4.8], [5.1], [5.3], [5.0], [5.0], [5.0], [4.6], [5.1], [4.9], [4.7], [4.6], [5.0], [5.4], [4.6], [5.0], [4.4], [4.9], [5.4], [4.8], [4.8], [4.3], [5.8], [5.7], [5.4], [5.1], [5.7], [5.1], [5.4], [4.8], [5.1], [4.6]], \"hovertemplate\": \"Cluster=Cluster 0<br>PCA1=%{x}<br>PCA2=%{y}<br>Feature=%{customdata[0]}<extra></extra>\", \"legendgroup\": \"Cluster 0\", \"marker\": {\"color\": \"#636efa\", \"opacity\": 0.5, \"symbol\": \"circle\"}, \"mode\": \"markers\", \"name\": \"Cluster 0\", \"orientation\": \"v\", \"showlegend\": true, \"textposition\": \"top center\", \"type\": \"scatter\", \"x\": [-2.398362636566162, -2.3074746131896973, -2.2796053886413574, -2.3954544067382812, -2.2766964435577393, -1.9876195192337036, -2.7340774536132812, -2.57560396194458, -2.319483757019043, -2.3427865505218506, -2.191950798034668, -2.319483757019043, -2.5495240688323975, -2.3076369762420654, -2.4184319972991943, -2.668118953704834, -2.111691474914551, -2.2774760723114014, -2.2094368934631348, -2.5133979320526123, -2.3666086196899414, -2.3392276763916016, -2.1940314769744873, -2.0984792709350586, -2.517770528793335, -1.973026990890503, -2.2207963466644287, -2.4897379875183105, -2.4270448684692383, -2.5171196460723877, -2.22124981880188, -2.5655465126037598, -2.3670969009399414, -2.45879864692688, -2.319483757019043, -2.3071489334106445, -2.4545886516571045, -2.360304117202759, -2.742659091949463, -2.3414855003356934, -2.4022133350372314, -2.3469626903533936, -2.3275439739227295, -2.054391622543335, -2.4740078449249268, -2.0664005279541016, -2.351074457168579, -2.3438918590545654, -2.8806729316711426], \"xaxis\": \"x\", \"y\": [-0.5399616360664368, -0.5848098397254944, -0.38050177693367004, 0.23583601415157318, 0.39529624581336975, -0.49114805459976196, -1.7882535457611084, -2.129321336746216, 0.3655119240283966, 0.11414007097482681, -0.7101768255233765, 0.3655119240283966, 0.7753258347511292, -0.3393247723579407, -0.5065065622329712, 0.37038013339042664, -0.5461912751197815, -1.1793432235717773, 0.5900470614433289, -1.1510512828826904, -1.0327683687210083, -0.09200355410575867, -0.32093310356140137, 0.5117437243461609, 0.28251948952674866, -0.1747008115053177, 0.5584264397621155, 0.24134239554405212, 0.48315712809562683, -0.6994219422340393, -1.5071829557418823, -0.13381896913051605, -0.2963121831417084, 0.9759629368782043, 0.3655119240283966, -1.075780987739563, -0.2121225893497467, -0.2176290601491928, 0.8334020376205444, -1.849743366241455, -2.644913673400879, -1.4998408555984497, -0.5513546466827393, -1.422355055809021, -1.1606085300445557, -0.4720335900783539, 0.6128325462341309, -0.9695285558700562, -0.5200294256210327], \"yaxis\": \"y\"}, {\"customdata\": [[6.4], [6.5], [7.7], [7.7], [6.9], [5.6], [5.8], [7.7], [6.3], [6.3], [6.8], [6.4], [6.5], [7.2], [6.7], [7.3], [7.6], [6.5], [6.7], [7.1], [5.7], [7.2], [6.4], [6.1], [6.5], [5.8], [6.3], [6.7], [6.7], [6.8], [5.8], [6.9], [6.7], [6.2], [6.9], [6.3], [7.7], [6.1], [6.3], [6.4], [7.9], [7.4], [7.2], [6.4], [6.0], [6.3], [5.9], [6.2]], \"hovertemplate\": \"Cluster=Cluster 1<br>PCA1=%{x}<br>PCA2=%{y}<br>Feature=%{customdata[0]}<extra></extra>\", \"legendgroup\": \"Cluster 1\", \"marker\": {\"color\": \"#EF553B\", \"opacity\": 0.5, \"symbol\": \"circle\"}, \"mode\": \"markers\", \"name\": \"Cluster 1\", \"orientation\": \"v\", \"showlegend\": true, \"textposition\": \"top center\", \"type\": \"scatter\", \"x\": [1.6978334188461304, 1.584650993347168, 2.4842050075531006, 2.9355411529541016, 2.1208460330963135, 1.1211737394332886, 1.5862252712249756, 3.3294479846954346, 1.4550539255142212, 1.5564566850662231, 1.9754869937896729, 1.7110453844070435, 1.4819809198379517, 2.3293867111206055, 2.0943422317504883, 2.371054172515869, 2.796877384185791, 1.9622104167938232, 1.800991177558899, 2.2795796394348145, 1.3899539709091187, 2.039417266845703, 1.4658937454223633, 1.1582417488098145, 1.6320040225982666, 1.2914289236068726, 1.6758956909179688, 1.9633797407150269, 2.08426570892334, 2.1242425441741943, 1.2914289236068726, 1.9915746450424194, 2.100613832473755, 1.304868221282959, 1.9442216157913208, 1.6848818063735962, 2.8408336639404297, 1.3321539163589478, 1.2461570501327515, 1.9584887027740479, 2.3672034740448, 2.497774124145508, 1.953518271446228, 1.8876699209213257, 1.0673534870147705, 1.9407106637954712, 1.1021780967712402, 1.4917466640472412], \"xaxis\": \"x\", \"y\": [-0.8325029611587524, -0.4172772765159607, -2.620807647705078, -0.5732939839363098, -1.0549079179763794, 0.3630094528198242, 0.22774222493171692, -0.20619745552539825, 0.2871791124343872, -0.1306149810552597, -0.5804932713508606, 0.225431889295578, -0.837666392326355, -2.023963689804077, 0.5035552382469177, -0.5735895037651062, -0.9447844624519348, -0.4683546721935272, -1.1485698223114014, -0.7168729305267334, 0.9255797863006592, -1.1324883699417114, -0.5767372250556946, -0.23421375453472137, -0.4345562160015106, 0.48717838525772095, 0.6788968443870544, -0.5547595024108887, -1.1941406726837158, -1.0155664682388306, 0.48717838525772095, -0.8414218425750732, -0.7759668231010437, 0.12955480813980103, -0.8241428732872009, -1.211335301399231, -1.001404881477356, 0.6083999872207642, 0.11521371454000473, -0.01672535389661789, -2.6785409450531006, -0.42185062170028687, -0.7010863423347473, -0.00533260777592659, -0.1893657147884369, -1.0275969505310059, -0.15185970067977905, -1.1532589197158813], \"yaxis\": \"y\"}, {\"customdata\": [[6.6], [5.7], [6.1], [6.3], [6.1], [5.9], [5.6], [6.7], [6.8], [5.6], [5.9], [6.6], [6.3], [5.7], [6.5], [6.9], [6.4], [7.0], [6.1], [6.7], [5.7], [6.4], [6.0], [5.6], [6.1], [6.0], [5.4], [6.7], [5.7], [6.2], [6.0]], \"hovertemplate\": \"Cluster=Cluster 2<br>PCA1=%{x}<br>PCA2=%{y}<br>Feature=%{customdata[0]}<extra></extra>\", \"legendgroup\": \"Cluster 2\", \"marker\": {\"color\": \"#00cc96\", \"opacity\": 0.5, \"symbol\": \"circle\"}, \"mode\": \"markers\", \"name\": \"Cluster 2\", \"orientation\": \"v\", \"showlegend\": true, \"textposition\": \"top center\", \"type\": \"scatter\", \"x\": [0.8804064393043518, 0.14077243208885193, 0.6543484330177307, 1.2264732122421265, 0.505169689655304, 0.7545793652534485, 0.388053297996521, 0.8805690407752991, 1.2436343431472778, 0.022859295830130577, 0.4721486568450928, 0.9317414164543152, 0.7600565552711487, 0.42447054386138916, 1.0732163190841675, 1.2274490594863892, 0.7451385855674744, 1.0939362049102783, 0.7366883754730225, 1.340891718864441, 0.27088844776153564, 0.7185370326042175, 0.6851906180381775, 0.12070301920175552, 0.6459627151489258, 0.4595225155353546, 0.2691332697868347, 1.0456722974777222, 0.29875773191452026, 0.5996168255805969, 1.0631731748580933], \"xaxis\": \"x\", \"y\": [0.006585824768990278, 0.42015570402145386, 0.6438734531402588, 1.1274173259735107, 0.6453291773796082, -0.15018466114997864, 0.42348358035087585, -0.23889926075935364, 0.318164199590683, 0.6652610898017883, 0.2999521791934967, 0.21678011119365692, -0.5000868439674377, 0.8082022666931152, 0.4394802749156952, -0.3454948663711548, -0.3255629539489746, -0.5759168267250061, 0.41861492395401, -0.08161793649196625, 0.6112355589866638, 0.3083117604255676, 0.45390573143959045, 0.4536110758781433, 0.21797780692577362, -0.5698509216308594, 0.5095087289810181, -0.25579848885536194, 0.8155441880226135, 0.39433708786964417, 0.8364458084106445], \"yaxis\": \"y\"}, {\"customdata\": [[5.1], [5.5], [5.6], [5.0], [5.8], [4.9], [4.5], [5.2], [5.7], [5.5], [6.0], [4.9], [6.3], [5.8], [6.2], [5.6], [5.8], [5.5], [5.5], [6.0], [5.0], [5.5]], \"hovertemplate\": \"Cluster=Cluster 3<br>PCA1=%{x}<br>PCA2=%{y}<br>Feature=%{customdata[0]}<extra></extra>\", \"legendgroup\": \"Cluster 3\", \"marker\": {\"color\": \"#ab63fa\", \"opacity\": 0.5, \"symbol\": \"circle\"}, \"mode\": \"markers\", \"name\": \"Cluster 3\", \"orientation\": \"v\", \"showlegend\": true, \"textposition\": \"top center\", \"type\": \"scatter\", \"x\": [-0.36745765805244446, 0.44489651918411255, 0.3300231993198395, -0.2848569452762604, 0.37456589937210083, -0.4036144018173218, -2.0041637420654297, 0.06871727108955383, 0.01632722280919552, 0.32189851999282837, 0.5890377163887024, 0.5446771383285522, 1.0462895631790161, 0.2050592601299286, 1.2191921472549438, 0.2126961648464203, 0.2838402986526489, 0.07885841280221939, 0.18110528588294983, 1.3921328783035278, -0.044108498841524124, 0.326301634311676], \"xaxis\": \"x\", \"y\": [1.7240139245986938, 1.915769100189209, 1.059193730354309, 2.177858591079712, 1.1907051801681519, 2.0183980464935303, 2.1382298469543457, 1.225358009338379, 1.2656810283660889, 1.3124010562896729, 1.9373563528060913, 1.3130359649658203, 1.5643259286880493, 1.009182095527649, 1.785190463066101, 1.492431640625, 0.990067720413208, 1.7529804706573486, 1.7397522926330566, 1.460923671722412, 2.7816057205200195, 1.5108230113983154], \"yaxis\": \"y\"}],                        {\"height\": 600, \"legend\": {\"title\": {\"text\": \"Cluster\"}, \"tracegroupgap\": 0}, \"margin\": {\"t\": 60}, \"plot_bgcolor\": \"rgb(240,240,240)\", \"template\": {\"data\": {\"bar\": [{\"error_x\": {\"color\": \"#2a3f5f\"}, \"error_y\": {\"color\": \"#2a3f5f\"}, \"marker\": {\"line\": {\"color\": \"#E5ECF6\", \"width\": 0.5}}, \"type\": \"bar\"}], \"barpolar\": [{\"marker\": {\"line\": {\"color\": \"#E5ECF6\", \"width\": 0.5}}, \"type\": \"barpolar\"}], \"carpet\": [{\"aaxis\": {\"endlinecolor\": \"#2a3f5f\", \"gridcolor\": \"white\", \"linecolor\": \"white\", \"minorgridcolor\": \"white\", \"startlinecolor\": \"#2a3f5f\"}, \"baxis\": {\"endlinecolor\": \"#2a3f5f\", \"gridcolor\": \"white\", \"linecolor\": \"white\", \"minorgridcolor\": \"white\", \"startlinecolor\": \"#2a3f5f\"}, \"type\": \"carpet\"}], \"choropleth\": [{\"colorbar\": {\"outlinewidth\": 0, \"ticks\": \"\"}, \"type\": \"choropleth\"}], \"contour\": [{\"colorbar\": {\"outlinewidth\": 0, \"ticks\": \"\"}, \"colorscale\": [[0.0, \"#0d0887\"], [0.1111111111111111, \"#46039f\"], [0.2222222222222222, \"#7201a8\"], [0.3333333333333333, \"#9c179e\"], [0.4444444444444444, \"#bd3786\"], [0.5555555555555556, \"#d8576b\"], [0.6666666666666666, \"#ed7953\"], [0.7777777777777778, \"#fb9f3a\"], [0.8888888888888888, \"#fdca26\"], [1.0, \"#f0f921\"]], \"type\": \"contour\"}], \"contourcarpet\": [{\"colorbar\": {\"outlinewidth\": 0, \"ticks\": \"\"}, \"type\": \"contourcarpet\"}], \"heatmap\": [{\"colorbar\": {\"outlinewidth\": 0, \"ticks\": \"\"}, \"colorscale\": [[0.0, \"#0d0887\"], [0.1111111111111111, \"#46039f\"], [0.2222222222222222, \"#7201a8\"], [0.3333333333333333, \"#9c179e\"], [0.4444444444444444, \"#bd3786\"], [0.5555555555555556, \"#d8576b\"], [0.6666666666666666, \"#ed7953\"], [0.7777777777777778, \"#fb9f3a\"], [0.8888888888888888, \"#fdca26\"], [1.0, \"#f0f921\"]], \"type\": \"heatmap\"}], \"heatmapgl\": [{\"colorbar\": {\"outlinewidth\": 0, \"ticks\": \"\"}, \"colorscale\": [[0.0, \"#0d0887\"], [0.1111111111111111, \"#46039f\"], [0.2222222222222222, \"#7201a8\"], [0.3333333333333333, \"#9c179e\"], [0.4444444444444444, \"#bd3786\"], [0.5555555555555556, \"#d8576b\"], [0.6666666666666666, \"#ed7953\"], [0.7777777777777778, \"#fb9f3a\"], [0.8888888888888888, \"#fdca26\"], [1.0, \"#f0f921\"]], \"type\": \"heatmapgl\"}], \"histogram\": [{\"marker\": {\"colorbar\": {\"outlinewidth\": 0, \"ticks\": \"\"}}, \"type\": \"histogram\"}], \"histogram2d\": [{\"colorbar\": {\"outlinewidth\": 0, \"ticks\": \"\"}, \"colorscale\": [[0.0, \"#0d0887\"], [0.1111111111111111, \"#46039f\"], [0.2222222222222222, \"#7201a8\"], [0.3333333333333333, \"#9c179e\"], [0.4444444444444444, \"#bd3786\"], [0.5555555555555556, \"#d8576b\"], [0.6666666666666666, \"#ed7953\"], [0.7777777777777778, \"#fb9f3a\"], [0.8888888888888888, \"#fdca26\"], [1.0, \"#f0f921\"]], \"type\": \"histogram2d\"}], \"histogram2dcontour\": [{\"colorbar\": {\"outlinewidth\": 0, \"ticks\": \"\"}, \"colorscale\": [[0.0, \"#0d0887\"], [0.1111111111111111, \"#46039f\"], [0.2222222222222222, \"#7201a8\"], [0.3333333333333333, \"#9c179e\"], [0.4444444444444444, \"#bd3786\"], [0.5555555555555556, \"#d8576b\"], [0.6666666666666666, \"#ed7953\"], [0.7777777777777778, \"#fb9f3a\"], [0.8888888888888888, \"#fdca26\"], [1.0, \"#f0f921\"]], \"type\": \"histogram2dcontour\"}], \"mesh3d\": [{\"colorbar\": {\"outlinewidth\": 0, \"ticks\": \"\"}, \"type\": \"mesh3d\"}], \"parcoords\": [{\"line\": {\"colorbar\": {\"outlinewidth\": 0, \"ticks\": \"\"}}, \"type\": \"parcoords\"}], \"pie\": [{\"automargin\": true, \"type\": \"pie\"}], \"scatter\": [{\"marker\": {\"colorbar\": {\"outlinewidth\": 0, \"ticks\": \"\"}}, \"type\": \"scatter\"}], \"scatter3d\": [{\"line\": {\"colorbar\": {\"outlinewidth\": 0, \"ticks\": \"\"}}, \"marker\": {\"colorbar\": {\"outlinewidth\": 0, \"ticks\": \"\"}}, \"type\": \"scatter3d\"}], \"scattercarpet\": [{\"marker\": {\"colorbar\": {\"outlinewidth\": 0, \"ticks\": \"\"}}, \"type\": \"scattercarpet\"}], \"scattergeo\": [{\"marker\": {\"colorbar\": {\"outlinewidth\": 0, \"ticks\": \"\"}}, \"type\": \"scattergeo\"}], \"scattergl\": [{\"marker\": {\"colorbar\": {\"outlinewidth\": 0, \"ticks\": \"\"}}, \"type\": \"scattergl\"}], \"scattermapbox\": [{\"marker\": {\"colorbar\": {\"outlinewidth\": 0, \"ticks\": \"\"}}, \"type\": \"scattermapbox\"}], \"scatterpolar\": [{\"marker\": {\"colorbar\": {\"outlinewidth\": 0, \"ticks\": \"\"}}, \"type\": \"scatterpolar\"}], \"scatterpolargl\": [{\"marker\": {\"colorbar\": {\"outlinewidth\": 0, \"ticks\": \"\"}}, \"type\": \"scatterpolargl\"}], \"scatterternary\": [{\"marker\": {\"colorbar\": {\"outlinewidth\": 0, \"ticks\": \"\"}}, \"type\": \"scatterternary\"}], \"surface\": [{\"colorbar\": {\"outlinewidth\": 0, \"ticks\": \"\"}, \"colorscale\": [[0.0, \"#0d0887\"], [0.1111111111111111, \"#46039f\"], [0.2222222222222222, \"#7201a8\"], [0.3333333333333333, \"#9c179e\"], [0.4444444444444444, \"#bd3786\"], [0.5555555555555556, \"#d8576b\"], [0.6666666666666666, \"#ed7953\"], [0.7777777777777778, \"#fb9f3a\"], [0.8888888888888888, \"#fdca26\"], [1.0, \"#f0f921\"]], \"type\": \"surface\"}], \"table\": [{\"cells\": {\"fill\": {\"color\": \"#EBF0F8\"}, \"line\": {\"color\": \"white\"}}, \"header\": {\"fill\": {\"color\": \"#C8D4E3\"}, \"line\": {\"color\": \"white\"}}, \"type\": \"table\"}]}, \"layout\": {\"annotationdefaults\": {\"arrowcolor\": \"#2a3f5f\", \"arrowhead\": 0, \"arrowwidth\": 1}, \"autotypenumbers\": \"strict\", \"coloraxis\": {\"colorbar\": {\"outlinewidth\": 0, \"ticks\": \"\"}}, \"colorscale\": {\"diverging\": [[0, \"#8e0152\"], [0.1, \"#c51b7d\"], [0.2, \"#de77ae\"], [0.3, \"#f1b6da\"], [0.4, \"#fde0ef\"], [0.5, \"#f7f7f7\"], [0.6, \"#e6f5d0\"], [0.7, \"#b8e186\"], [0.8, \"#7fbc41\"], [0.9, \"#4d9221\"], [1, \"#276419\"]], \"sequential\": [[0.0, \"#0d0887\"], [0.1111111111111111, \"#46039f\"], [0.2222222222222222, \"#7201a8\"], [0.3333333333333333, \"#9c179e\"], [0.4444444444444444, \"#bd3786\"], [0.5555555555555556, \"#d8576b\"], [0.6666666666666666, \"#ed7953\"], [0.7777777777777778, \"#fb9f3a\"], [0.8888888888888888, \"#fdca26\"], [1.0, \"#f0f921\"]], \"sequentialminus\": [[0.0, \"#0d0887\"], [0.1111111111111111, \"#46039f\"], [0.2222222222222222, \"#7201a8\"], [0.3333333333333333, \"#9c179e\"], [0.4444444444444444, \"#bd3786\"], [0.5555555555555556, \"#d8576b\"], [0.6666666666666666, \"#ed7953\"], [0.7777777777777778, \"#fb9f3a\"], [0.8888888888888888, \"#fdca26\"], [1.0, \"#f0f921\"]]}, \"colorway\": [\"#636efa\", \"#EF553B\", \"#00cc96\", \"#ab63fa\", \"#FFA15A\", \"#19d3f3\", \"#FF6692\", \"#B6E880\", \"#FF97FF\", \"#FECB52\"], \"font\": {\"color\": \"#2a3f5f\"}, \"geo\": {\"bgcolor\": \"white\", \"lakecolor\": \"white\", \"landcolor\": \"#E5ECF6\", \"showlakes\": true, \"showland\": true, \"subunitcolor\": \"white\"}, \"hoverlabel\": {\"align\": \"left\"}, \"hovermode\": \"closest\", \"mapbox\": {\"style\": \"light\"}, \"paper_bgcolor\": \"white\", \"plot_bgcolor\": \"#E5ECF6\", \"polar\": {\"angularaxis\": {\"gridcolor\": \"white\", \"linecolor\": \"white\", \"ticks\": \"\"}, \"bgcolor\": \"#E5ECF6\", \"radialaxis\": {\"gridcolor\": \"white\", \"linecolor\": \"white\", \"ticks\": \"\"}}, \"scene\": {\"xaxis\": {\"backgroundcolor\": \"#E5ECF6\", \"gridcolor\": \"white\", \"gridwidth\": 2, \"linecolor\": \"white\", \"showbackground\": true, \"ticks\": \"\", \"zerolinecolor\": \"white\"}, \"yaxis\": {\"backgroundcolor\": \"#E5ECF6\", \"gridcolor\": \"white\", \"gridwidth\": 2, \"linecolor\": \"white\", \"showbackground\": true, \"ticks\": \"\", \"zerolinecolor\": \"white\"}, \"zaxis\": {\"backgroundcolor\": \"#E5ECF6\", \"gridcolor\": \"white\", \"gridwidth\": 2, \"linecolor\": \"white\", \"showbackground\": true, \"ticks\": \"\", \"zerolinecolor\": \"white\"}}, \"shapedefaults\": {\"line\": {\"color\": \"#2a3f5f\"}}, \"ternary\": {\"aaxis\": {\"gridcolor\": \"white\", \"linecolor\": \"white\", \"ticks\": \"\"}, \"baxis\": {\"gridcolor\": \"white\", \"linecolor\": \"white\", \"ticks\": \"\"}, \"bgcolor\": \"#E5ECF6\", \"caxis\": {\"gridcolor\": \"white\", \"linecolor\": \"white\", \"ticks\": \"\"}}, \"title\": {\"x\": 0.05}, \"xaxis\": {\"automargin\": true, \"gridcolor\": \"white\", \"linecolor\": \"white\", \"ticks\": \"\", \"title\": {\"standoff\": 15}, \"zerolinecolor\": \"white\", \"zerolinewidth\": 2}, \"yaxis\": {\"automargin\": true, \"gridcolor\": \"white\", \"linecolor\": \"white\", \"ticks\": \"\", \"title\": {\"standoff\": 15}, \"zerolinecolor\": \"white\", \"zerolinewidth\": 2}}}, \"title\": {\"text\": \"2D Cluster PCA Plot\"}, \"xaxis\": {\"anchor\": \"y\", \"domain\": [0.0, 1.0], \"title\": {\"text\": \"PCA1\"}}, \"yaxis\": {\"anchor\": \"x\", \"domain\": [0.0, 1.0], \"title\": {\"text\": \"PCA2\"}}},                        {\"responsive\": true}                    ).then(function(){\n",
       "                            \n",
       "var gd = document.getElementById('a7640c2b-5618-4c30-8d32-e806a70cfcf8');\n",
       "var x = new MutationObserver(function (mutations, observer) {{\n",
       "        var display = window.getComputedStyle(gd).display;\n",
       "        if (!display || display === 'none') {{\n",
       "            console.log([gd, 'removed!']);\n",
       "            Plotly.purge(gd);\n",
       "            observer.disconnect();\n",
       "        }}\n",
       "}});\n",
       "\n",
       "// Listen for the removal of the full notebook cells\n",
       "var notebookContainer = gd.closest('#notebook-container');\n",
       "if (notebookContainer) {{\n",
       "    x.observe(notebookContainer, {childList: true});\n",
       "}}\n",
       "\n",
       "// Listen for the clearing of the current output cell\n",
       "var outputEl = gd.closest('.output');\n",
       "if (outputEl) {{\n",
       "    x.observe(outputEl, {childList: true});\n",
       "}}\n",
       "\n",
       "                        })                };                });            </script>        </div>"
      ]
     },
     "metadata": {},
     "output_type": "display_data"
    }
   ],
   "source": [
    "plot_model(kmeans)"
   ]
  },
  {
   "cell_type": "code",
   "execution_count": 40,
   "metadata": {},
   "outputs": [
    {
     "data": {
      "application/vnd.plotly.v1+json": {
       "config": {
        "plotlyServerURL": "https://plot.ly"
       },
       "data": [
        {
         "customdata": [
          [
           5.1
          ],
          [
           5.2
          ],
          [
           5.2
          ],
          [
           4.7
          ],
          [
           4.8
          ],
          [
           5.4
          ],
          [
           5.2
          ],
          [
           5.5
          ],
          [
           4.9
          ],
          [
           5
          ],
          [
           5.5
          ],
          [
           4.9
          ],
          [
           4.4
          ],
          [
           5.1
          ],
          [
           5
          ],
          [
           4.4
          ],
          [
           5
          ],
          [
           5.1
          ],
          [
           4.8
          ],
          [
           5.1
          ],
          [
           5.3
          ],
          [
           5
          ],
          [
           5
          ],
          [
           5
          ],
          [
           4.6
          ],
          [
           5.1
          ],
          [
           4.9
          ],
          [
           4.7
          ],
          [
           4.6
          ],
          [
           5
          ],
          [
           5.4
          ],
          [
           4.6
          ],
          [
           5
          ],
          [
           4.4
          ],
          [
           4.9
          ],
          [
           5.4
          ],
          [
           4.8
          ],
          [
           4.8
          ],
          [
           4.3
          ],
          [
           5.8
          ],
          [
           5.7
          ],
          [
           5.4
          ],
          [
           5.1
          ],
          [
           5.7
          ],
          [
           5.1
          ],
          [
           5.4
          ],
          [
           4.8
          ],
          [
           5.1
          ],
          [
           4.6
          ]
         ],
         "hovertemplate": "Cluster=Cluster 0<br>0=%{x}<br>1=%{y}<br>2=%{z}<br>Feature=%{customdata[0]}<extra></extra>",
         "legendgroup": "Cluster 0",
         "marker": {
          "color": "#636efa",
          "opacity": 0.7,
          "symbol": "circle"
         },
         "mode": "markers",
         "name": "Cluster 0",
         "scene": "scene",
         "showlegend": true,
         "type": "scatter3d",
         "x": [
          134.99192810058594,
          148.3928985595703,
          86.194091796875,
          120.82115173339844,
          64.2076187133789,
          46.485618591308594,
          186.15377807617188,
          74.34837341308594,
          74.59217071533203,
          70.91881561279297,
          153.56639099121094,
          48.11754608154297,
          98.4798812866211,
          107.54248046875,
          110.74642944335938,
          46.499759674072266,
          143.79620361328125,
          -21.96808624267578,
          -123.5833740234375,
          15.4214506149292,
          150.4734344482422,
          104.66600799560547,
          93.05272674560547,
          94.55349731445312,
          131.3808135986328,
          152.17384338378906,
          80.07721710205078,
          69.6594467163086,
          36.89206314086914,
          48.95441818237305,
          39.73685836791992,
          90.87853240966797,
          68.60742950439453,
          53.8289794921875,
          98.697265625,
          -3.4337282180786133,
          81.32520294189453,
          106.65586853027344,
          81.05867004394531,
          -5.966765880584717,
          196.7230987548828,
          -55.63111877441406,
          52.171756744384766,
          8.024463653564453,
          154.85659790039062,
          133.22055053710938,
          90.25524139404297,
          127.0670166015625,
          108.61656951904297
         ],
         "y": [
          -35.97568893432617,
          -69.5827407836914,
          -118.76339721679688,
          -19.480770111083984,
          -30.591203689575195,
          -104.04720306396484,
          -30.81477165222168,
          53.17436599731445,
          -43.96730422973633,
          -100.47056579589844,
          0.090397909283638,
          -68.3155746459961,
          -24.028221130371094,
          -85.8048324584961,
          -69.86943817138672,
          -2.08215069770813,
          -42.68407440185547,
          163.51515197753906,
          40.201908111572266,
          -30.564268112182617,
          6.402632236480713,
          -46.506526947021484,
          -85.97758483886719,
          -6.971801280975342,
          -52.6490592956543,
          -83.26956176757812,
          9.131747245788574,
          -14.190882682800293,
          -38.500091552734375,
          -12.782417297363281,
          -117.66759490966797,
          2.7095234394073486,
          -74.55951690673828,
          27.319042205810547,
          -38.66899871826172,
          -68.7774887084961,
          -43.77763366699219,
          12.388189315795898,
          -65.57671356201172,
          -119.24019622802734,
          -22.002227783203125,
          131.33506774902344,
          -65.63894653320312,
          -96.31851196289062,
          48.6213493347168,
          -104.73876190185547,
          55.54703903198242,
          -123.26494598388672,
          42.10363006591797
         ],
         "z": [
          17.575395584106445,
          41.12485885620117,
          55.12501525878906,
          75.1819839477539,
          -19.545143127441406,
          75.07106018066406,
          67.0226058959961,
          116.34029388427734,
          16.73583221435547,
          9.83031177520752,
          42.18244171142578,
          -5.414923191070557,
          -53.01374435424805,
          39.959720611572266,
          0.6622952818870544,
          13.28996753692627,
          -28.277284622192383,
          -73.6326904296875,
          13.256426811218262,
          83.97978973388672,
          -6.9653191566467285,
          46.40604782104492,
          87.36237335205078,
          12.390437126159668,
          94.64531707763672,
          -8.07393741607666,
          -23.744245529174805,
          52.32758712768555,
          36.73141860961914,
          109.26040649414062,
          -97.96084594726562,
          95.75770568847656,
          50.657569885253906,
          47.373695373535156,
          124.927001953125,
          91.92790985107422,
          79.5115966796875,
          55.08913040161133,
          -48.19675827026367,
          83.7013168334961,
          15.906391143798828,
          -94.39678192138672,
          102.0768051147461,
          126.53946685791016,
          17.769405364990234,
          69.04615783691406,
          55.430320739746094,
          11.945207595825195,
          4.8221564292907715
         ]
        },
        {
         "customdata": [
          [
           6.4
          ],
          [
           6.5
          ],
          [
           7.7
          ],
          [
           7.7
          ],
          [
           6.9
          ],
          [
           5.6
          ],
          [
           5.8
          ],
          [
           7.7
          ],
          [
           6.3
          ],
          [
           6.3
          ],
          [
           6.8
          ],
          [
           6.4
          ],
          [
           6.5
          ],
          [
           7.2
          ],
          [
           6.7
          ],
          [
           7.3
          ],
          [
           7.6
          ],
          [
           6.5
          ],
          [
           6.7
          ],
          [
           7.1
          ],
          [
           5.7
          ],
          [
           7.2
          ],
          [
           6.4
          ],
          [
           6.1
          ],
          [
           6.5
          ],
          [
           5.8
          ],
          [
           6.3
          ],
          [
           6.7
          ],
          [
           6.7
          ],
          [
           6.8
          ],
          [
           5.8
          ],
          [
           6.9
          ],
          [
           6.7
          ],
          [
           6.2
          ],
          [
           6.9
          ],
          [
           6.3
          ],
          [
           7.7
          ],
          [
           6.1
          ],
          [
           6.3
          ],
          [
           6.4
          ],
          [
           7.9
          ],
          [
           7.4
          ],
          [
           7.2
          ],
          [
           6.4
          ],
          [
           6
          ],
          [
           6.3
          ],
          [
           5.9
          ],
          [
           6.2
          ]
         ],
         "hovertemplate": "Cluster=Cluster 1<br>0=%{x}<br>1=%{y}<br>2=%{z}<br>Feature=%{customdata[0]}<extra></extra>",
         "legendgroup": "Cluster 1",
         "marker": {
          "color": "#EF553B",
          "opacity": 0.7,
          "symbol": "circle"
         },
         "mode": "markers",
         "name": "Cluster 1",
         "scene": "scene",
         "showlegend": true,
         "type": "scatter3d",
         "x": [
          -12.17033576965332,
          -167.1180877685547,
          5.661312103271484,
          -110.123779296875,
          -63.16501998901367,
          -66.03804779052734,
          -56.188499450683594,
          -47.321083068847656,
          8.904007911682129,
          21.768470764160156,
          -50.60898971557617,
          22.163410186767578,
          -18.837182998657227,
          -29.736026763916016,
          51.32108688354492,
          -77.1622314453125,
          -108.83505249023438,
          60.78092575073242,
          -51.94594192504883,
          -72.536376953125,
          76.21038818359375,
          -132.45492553710938,
          -1.4617083072662354,
          12.093413352966309,
          45.6321907043457,
          -41.87821960449219,
          -117.75968933105469,
          -18.04509162902832,
          4.9798784255981445,
          -136.0065155029297,
          -154.1328125,
          -95.21188354492188,
          -26.661296844482422,
          18.927276611328125,
          -57.22110366821289,
          -37.40766143798828,
          -72.0142822265625,
          23.845672607421875,
          -11.352998733520508,
          17.190109252929688,
          -41.968753814697266,
          5.677000999450684,
          -101.42172241210938,
          -14.419594764709473,
          -19.052799224853516,
          -76.2260971069336,
          -23.860877990722656,
          -12.11082649230957
         ],
         "y": [
          54.106632232666016,
          21.89186668395996,
          61.79047393798828,
          110.45245361328125,
          71.59442901611328,
          66.41680908203125,
          108.3626708984375,
          153.96951293945312,
          78.86097717285156,
          64.95245361328125,
          75.72071838378906,
          105.04905700683594,
          17.3953800201416,
          43.80995178222656,
          135.52267456054688,
          117.53992462158203,
          2.401374101638794,
          94.640380859375,
          33.2333869934082,
          41.15257263183594,
          -49.037322998046875,
          -24.853065490722656,
          30.844196319580078,
          -145.08700561523438,
          57.31303405761719,
          84.96231079101562,
          -101.85072326660156,
          98.23369598388672,
          55.7755241394043,
          18.210548400878906,
          -54.92045974731445,
          46.90256881713867,
          87.23258209228516,
          96.01856994628906,
          -6.315277099609375,
          40.64151382446289,
          117.20629119873047,
          122.89852142333984,
          116.40061950683594,
          139.0505828857422,
          3.9332432746887207,
          -154.825927734375,
          86.42819213867188,
          117.01752471923828,
          72.41325378417969,
          44.4071044921875,
          50.97756576538086,
          13.795208930969238
         ],
         "z": [
          68.29712677001953,
          3.527808666229248,
          158.8861083984375,
          79.74256134033203,
          86.5836181640625,
          -15.282914161682129,
          -5.366441249847412,
          50.13174819946289,
          -37.91899490356445,
          12.48816967010498,
          45.452354431152344,
          -8.196599006652832,
          51.02946853637695,
          154.64175415039062,
          -17.309274673461914,
          51.76184844970703,
          97.92019653320312,
          23.283370971679688,
          71.98846435546875,
          31.477651596069336,
          -121.91162109375,
          -93.52896118164062,
          16.984088897705078,
          14.908340454101562,
          -18.02767562866211,
          -43.29596710205078,
          -64.9479751586914,
          63.329498291015625,
          107.099609375,
          -44.827213287353516,
          -48.822418212890625,
          70.50918579101562,
          103.0197525024414,
          37.074825286865234,
          82.1775131225586,
          111.00629425048828,
          102.95348358154297,
          -54.378028869628906,
          -32.48174285888672,
          23.78667640686035,
          156.41969299316406,
          -49.26228713989258,
          35.52071762084961,
          14.530610084533691,
          12.62546157836914,
          122.3627700805664,
          -18.19220733642578,
          98.74817657470703
         ]
        },
        {
         "customdata": [
          [
           6.6
          ],
          [
           5.7
          ],
          [
           6.1
          ],
          [
           6.3
          ],
          [
           6.1
          ],
          [
           5.9
          ],
          [
           5.6
          ],
          [
           6.7
          ],
          [
           6.8
          ],
          [
           5.6
          ],
          [
           5.9
          ],
          [
           6.6
          ],
          [
           6.3
          ],
          [
           5.7
          ],
          [
           6.5
          ],
          [
           6.9
          ],
          [
           6.4
          ],
          [
           7
          ],
          [
           6.1
          ],
          [
           6.7
          ],
          [
           5.7
          ],
          [
           6.4
          ],
          [
           6
          ],
          [
           5.6
          ],
          [
           6.1
          ],
          [
           6
          ],
          [
           5.4
          ],
          [
           6.7
          ],
          [
           5.7
          ],
          [
           6.2
          ],
          [
           6
          ]
         ],
         "hovertemplate": "Cluster=Cluster 2<br>0=%{x}<br>1=%{y}<br>2=%{z}<br>Feature=%{customdata[0]}<extra></extra>",
         "legendgroup": "Cluster 2",
         "marker": {
          "color": "#00cc96",
          "opacity": 0.7,
          "symbol": "circle"
         },
         "mode": "markers",
         "name": "Cluster 2",
         "scene": "scene",
         "showlegend": true,
         "type": "scatter3d",
         "x": [
          -40.36363220214844,
          -48.703102111816406,
          -21.986099243164062,
          -53.52785873413086,
          -31.12869644165039,
          -93.0820083618164,
          -64.64400482177734,
          -68.36406707763672,
          -104.03804779052734,
          31.76203727722168,
          -70.15436553955078,
          -5.386022090911865,
          -118.55791473388672,
          -24.764442443847656,
          -4.745650291442871,
          -112.5683364868164,
          -83.58645629882812,
          -78.72920989990234,
          -6.43825101852417,
          -74.8613510131836,
          -8.073953628540039,
          -42.81137466430664,
          -36.91499710083008,
          -23.04564666748047,
          2.817662000656128,
          -87.11286163330078,
          -4.785477638244629,
          -108.27900695800781,
          15.391600608825684,
          -44.45635986328125,
          -41.030303955078125
         ],
         "y": [
          -22.78008460998535,
          -17.509889602661133,
          -87.29194641113281,
          -126.1386489868164,
          -0.9027543663978577,
          -34.51838684082031,
          -50.67185592651367,
          -40.395851135253906,
          -13.044827461242676,
          -28.773399353027344,
          -71.8046875,
          -22.094114303588867,
          -31.051862716674805,
          -19.79956817626953,
          -61.66542053222656,
          -83.22085571289062,
          -46.15495300292969,
          -70.14985656738281,
          -49.16716384887695,
          -88.42201232910156,
          -35.88882064819336,
          -63.76908493041992,
          -61.898834228515625,
          -65.88155364990234,
          -79.4051742553711,
          -4.201994895935059,
          6.188933372497559,
          -56.72218704223633,
          -37.72926712036133,
          -37.920806884765625,
          -105.83163452148438
         ],
         "z": [
          18.248271942138672,
          -69.72256469726562,
          -27.217933654785156,
          -29.693668365478516,
          -32.11369705200195,
          -50.3773193359375,
          -92.58148956298828,
          35.5439338684082,
          37.15959548950195,
          -68.6780776977539,
          -42.508113861083984,
          -0.9861011505126953,
          -11.521575927734375,
          -104.18997955322266,
          12.726767539978027,
          4.722746849060059,
          -3.0016002655029297,
          62.61472702026367,
          -33.49873733520508,
          22.124902725219727,
          -73.54112243652344,
          4.03624963760376,
          -60.42825698852539,
          -105.61003112792969,
          -61.34370422363281,
          -21.26271629333496,
          -65.76324462890625,
          34.463958740234375,
          -109.2916030883789,
          -26.32010269165039,
          -68.08251190185547
         ]
        },
        {
         "customdata": [
          [
           5.1
          ],
          [
           5.5
          ],
          [
           5.6
          ],
          [
           5
          ],
          [
           5.8
          ],
          [
           4.9
          ],
          [
           4.5
          ],
          [
           5.2
          ],
          [
           5.7
          ],
          [
           5.5
          ],
          [
           6
          ],
          [
           4.9
          ],
          [
           6.3
          ],
          [
           5.8
          ],
          [
           6.2
          ],
          [
           5.6
          ],
          [
           5.8
          ],
          [
           5.5
          ],
          [
           5.5
          ],
          [
           6
          ],
          [
           5
          ],
          [
           5.5
          ]
         ],
         "hovertemplate": "Cluster=Cluster 3<br>0=%{x}<br>1=%{y}<br>2=%{z}<br>Feature=%{customdata[0]}<extra></extra>",
         "legendgroup": "Cluster 3",
         "marker": {
          "color": "#ab63fa",
          "opacity": 0.7,
          "symbol": "circle"
         },
         "mode": "markers",
         "name": "Cluster 3",
         "scene": "scene",
         "showlegend": true,
         "type": "scatter3d",
         "x": [
          26.045589447021484,
          -21.4355525970459,
          28.647048950195312,
          1.2537575960159302,
          -5.227989196777344,
          20.72747802734375,
          81.15489196777344,
          39.02081298828125,
          -21.134841918945312,
          -1.3619239330291748,
          -64.97956085205078,
          -106.91613006591797,
          -70.68126678466797,
          -50.213619232177734,
          -90.06668853759766,
          -90.962158203125,
          -23.89735221862793,
          -59.58417510986328,
          -39.97172546386719,
          55.91288375854492,
          -107.89552307128906,
          -19.61623764038086
         ],
         "y": [
          55.660552978515625,
          61.651123046875,
          7.38826847076416,
          90.44590759277344,
          -23.664766311645508,
          59.13872146606445,
          -115.27507781982422,
          7.151400566101074,
          13.875130653381348,
          13.953081130981445,
          63.03139877319336,
          77.40814208984375,
          35.17156982421875,
          -17.322866439819336,
          21.841278076171875,
          126.41695404052734,
          -109.1794662475586,
          38.88982391357422,
          26.623279571533203,
          95.00899505615234,
          76.05099487304688,
          50.65150451660156
         ],
         "z": [
          -111.89579010009766,
          -94.67701721191406,
          -93.65140533447266,
          -127.45830535888672,
          -147.3588104248047,
          -154.7087860107422,
          -49.57048797607422,
          -136.92233276367188,
          -163.22471618652344,
          -121.24313354492188,
          -107.72445678710938,
          -35.33831787109375,
          -73.15303039550781,
          -138.6940155029297,
          -103.96975708007812,
          -51.587913513183594,
          13.413070678710938,
          -147.8345489501953,
          -110.46407318115234,
          -69.42870330810547,
          -101.34153747558594,
          -137.72389221191406
         ]
        }
       ],
       "layout": {
        "height": 800,
        "legend": {
         "title": {
          "text": "Cluster"
         },
         "tracegroupgap": 0
        },
        "scene": {
         "domain": {
          "x": [
           0,
           1
          ],
          "y": [
           0,
           1
          ]
         },
         "xaxis": {
          "title": {
           "text": "0"
          }
         },
         "yaxis": {
          "title": {
           "text": "1"
          }
         },
         "zaxis": {
          "title": {
           "text": "2"
          }
         }
        },
        "template": {
         "data": {
          "bar": [
           {
            "error_x": {
             "color": "#2a3f5f"
            },
            "error_y": {
             "color": "#2a3f5f"
            },
            "marker": {
             "line": {
              "color": "#E5ECF6",
              "width": 0.5
             }
            },
            "type": "bar"
           }
          ],
          "barpolar": [
           {
            "marker": {
             "line": {
              "color": "#E5ECF6",
              "width": 0.5
             }
            },
            "type": "barpolar"
           }
          ],
          "carpet": [
           {
            "aaxis": {
             "endlinecolor": "#2a3f5f",
             "gridcolor": "white",
             "linecolor": "white",
             "minorgridcolor": "white",
             "startlinecolor": "#2a3f5f"
            },
            "baxis": {
             "endlinecolor": "#2a3f5f",
             "gridcolor": "white",
             "linecolor": "white",
             "minorgridcolor": "white",
             "startlinecolor": "#2a3f5f"
            },
            "type": "carpet"
           }
          ],
          "choropleth": [
           {
            "colorbar": {
             "outlinewidth": 0,
             "ticks": ""
            },
            "type": "choropleth"
           }
          ],
          "contour": [
           {
            "colorbar": {
             "outlinewidth": 0,
             "ticks": ""
            },
            "colorscale": [
             [
              0,
              "#0d0887"
             ],
             [
              0.1111111111111111,
              "#46039f"
             ],
             [
              0.2222222222222222,
              "#7201a8"
             ],
             [
              0.3333333333333333,
              "#9c179e"
             ],
             [
              0.4444444444444444,
              "#bd3786"
             ],
             [
              0.5555555555555556,
              "#d8576b"
             ],
             [
              0.6666666666666666,
              "#ed7953"
             ],
             [
              0.7777777777777778,
              "#fb9f3a"
             ],
             [
              0.8888888888888888,
              "#fdca26"
             ],
             [
              1,
              "#f0f921"
             ]
            ],
            "type": "contour"
           }
          ],
          "contourcarpet": [
           {
            "colorbar": {
             "outlinewidth": 0,
             "ticks": ""
            },
            "type": "contourcarpet"
           }
          ],
          "heatmap": [
           {
            "colorbar": {
             "outlinewidth": 0,
             "ticks": ""
            },
            "colorscale": [
             [
              0,
              "#0d0887"
             ],
             [
              0.1111111111111111,
              "#46039f"
             ],
             [
              0.2222222222222222,
              "#7201a8"
             ],
             [
              0.3333333333333333,
              "#9c179e"
             ],
             [
              0.4444444444444444,
              "#bd3786"
             ],
             [
              0.5555555555555556,
              "#d8576b"
             ],
             [
              0.6666666666666666,
              "#ed7953"
             ],
             [
              0.7777777777777778,
              "#fb9f3a"
             ],
             [
              0.8888888888888888,
              "#fdca26"
             ],
             [
              1,
              "#f0f921"
             ]
            ],
            "type": "heatmap"
           }
          ],
          "heatmapgl": [
           {
            "colorbar": {
             "outlinewidth": 0,
             "ticks": ""
            },
            "colorscale": [
             [
              0,
              "#0d0887"
             ],
             [
              0.1111111111111111,
              "#46039f"
             ],
             [
              0.2222222222222222,
              "#7201a8"
             ],
             [
              0.3333333333333333,
              "#9c179e"
             ],
             [
              0.4444444444444444,
              "#bd3786"
             ],
             [
              0.5555555555555556,
              "#d8576b"
             ],
             [
              0.6666666666666666,
              "#ed7953"
             ],
             [
              0.7777777777777778,
              "#fb9f3a"
             ],
             [
              0.8888888888888888,
              "#fdca26"
             ],
             [
              1,
              "#f0f921"
             ]
            ],
            "type": "heatmapgl"
           }
          ],
          "histogram": [
           {
            "marker": {
             "colorbar": {
              "outlinewidth": 0,
              "ticks": ""
             }
            },
            "type": "histogram"
           }
          ],
          "histogram2d": [
           {
            "colorbar": {
             "outlinewidth": 0,
             "ticks": ""
            },
            "colorscale": [
             [
              0,
              "#0d0887"
             ],
             [
              0.1111111111111111,
              "#46039f"
             ],
             [
              0.2222222222222222,
              "#7201a8"
             ],
             [
              0.3333333333333333,
              "#9c179e"
             ],
             [
              0.4444444444444444,
              "#bd3786"
             ],
             [
              0.5555555555555556,
              "#d8576b"
             ],
             [
              0.6666666666666666,
              "#ed7953"
             ],
             [
              0.7777777777777778,
              "#fb9f3a"
             ],
             [
              0.8888888888888888,
              "#fdca26"
             ],
             [
              1,
              "#f0f921"
             ]
            ],
            "type": "histogram2d"
           }
          ],
          "histogram2dcontour": [
           {
            "colorbar": {
             "outlinewidth": 0,
             "ticks": ""
            },
            "colorscale": [
             [
              0,
              "#0d0887"
             ],
             [
              0.1111111111111111,
              "#46039f"
             ],
             [
              0.2222222222222222,
              "#7201a8"
             ],
             [
              0.3333333333333333,
              "#9c179e"
             ],
             [
              0.4444444444444444,
              "#bd3786"
             ],
             [
              0.5555555555555556,
              "#d8576b"
             ],
             [
              0.6666666666666666,
              "#ed7953"
             ],
             [
              0.7777777777777778,
              "#fb9f3a"
             ],
             [
              0.8888888888888888,
              "#fdca26"
             ],
             [
              1,
              "#f0f921"
             ]
            ],
            "type": "histogram2dcontour"
           }
          ],
          "mesh3d": [
           {
            "colorbar": {
             "outlinewidth": 0,
             "ticks": ""
            },
            "type": "mesh3d"
           }
          ],
          "parcoords": [
           {
            "line": {
             "colorbar": {
              "outlinewidth": 0,
              "ticks": ""
             }
            },
            "type": "parcoords"
           }
          ],
          "pie": [
           {
            "automargin": true,
            "type": "pie"
           }
          ],
          "scatter": [
           {
            "marker": {
             "colorbar": {
              "outlinewidth": 0,
              "ticks": ""
             }
            },
            "type": "scatter"
           }
          ],
          "scatter3d": [
           {
            "line": {
             "colorbar": {
              "outlinewidth": 0,
              "ticks": ""
             }
            },
            "marker": {
             "colorbar": {
              "outlinewidth": 0,
              "ticks": ""
             }
            },
            "type": "scatter3d"
           }
          ],
          "scattercarpet": [
           {
            "marker": {
             "colorbar": {
              "outlinewidth": 0,
              "ticks": ""
             }
            },
            "type": "scattercarpet"
           }
          ],
          "scattergeo": [
           {
            "marker": {
             "colorbar": {
              "outlinewidth": 0,
              "ticks": ""
             }
            },
            "type": "scattergeo"
           }
          ],
          "scattergl": [
           {
            "marker": {
             "colorbar": {
              "outlinewidth": 0,
              "ticks": ""
             }
            },
            "type": "scattergl"
           }
          ],
          "scattermapbox": [
           {
            "marker": {
             "colorbar": {
              "outlinewidth": 0,
              "ticks": ""
             }
            },
            "type": "scattermapbox"
           }
          ],
          "scatterpolar": [
           {
            "marker": {
             "colorbar": {
              "outlinewidth": 0,
              "ticks": ""
             }
            },
            "type": "scatterpolar"
           }
          ],
          "scatterpolargl": [
           {
            "marker": {
             "colorbar": {
              "outlinewidth": 0,
              "ticks": ""
             }
            },
            "type": "scatterpolargl"
           }
          ],
          "scatterternary": [
           {
            "marker": {
             "colorbar": {
              "outlinewidth": 0,
              "ticks": ""
             }
            },
            "type": "scatterternary"
           }
          ],
          "surface": [
           {
            "colorbar": {
             "outlinewidth": 0,
             "ticks": ""
            },
            "colorscale": [
             [
              0,
              "#0d0887"
             ],
             [
              0.1111111111111111,
              "#46039f"
             ],
             [
              0.2222222222222222,
              "#7201a8"
             ],
             [
              0.3333333333333333,
              "#9c179e"
             ],
             [
              0.4444444444444444,
              "#bd3786"
             ],
             [
              0.5555555555555556,
              "#d8576b"
             ],
             [
              0.6666666666666666,
              "#ed7953"
             ],
             [
              0.7777777777777778,
              "#fb9f3a"
             ],
             [
              0.8888888888888888,
              "#fdca26"
             ],
             [
              1,
              "#f0f921"
             ]
            ],
            "type": "surface"
           }
          ],
          "table": [
           {
            "cells": {
             "fill": {
              "color": "#EBF0F8"
             },
             "line": {
              "color": "white"
             }
            },
            "header": {
             "fill": {
              "color": "#C8D4E3"
             },
             "line": {
              "color": "white"
             }
            },
            "type": "table"
           }
          ]
         },
         "layout": {
          "annotationdefaults": {
           "arrowcolor": "#2a3f5f",
           "arrowhead": 0,
           "arrowwidth": 1
          },
          "autotypenumbers": "strict",
          "coloraxis": {
           "colorbar": {
            "outlinewidth": 0,
            "ticks": ""
           }
          },
          "colorscale": {
           "diverging": [
            [
             0,
             "#8e0152"
            ],
            [
             0.1,
             "#c51b7d"
            ],
            [
             0.2,
             "#de77ae"
            ],
            [
             0.3,
             "#f1b6da"
            ],
            [
             0.4,
             "#fde0ef"
            ],
            [
             0.5,
             "#f7f7f7"
            ],
            [
             0.6,
             "#e6f5d0"
            ],
            [
             0.7,
             "#b8e186"
            ],
            [
             0.8,
             "#7fbc41"
            ],
            [
             0.9,
             "#4d9221"
            ],
            [
             1,
             "#276419"
            ]
           ],
           "sequential": [
            [
             0,
             "#0d0887"
            ],
            [
             0.1111111111111111,
             "#46039f"
            ],
            [
             0.2222222222222222,
             "#7201a8"
            ],
            [
             0.3333333333333333,
             "#9c179e"
            ],
            [
             0.4444444444444444,
             "#bd3786"
            ],
            [
             0.5555555555555556,
             "#d8576b"
            ],
            [
             0.6666666666666666,
             "#ed7953"
            ],
            [
             0.7777777777777778,
             "#fb9f3a"
            ],
            [
             0.8888888888888888,
             "#fdca26"
            ],
            [
             1,
             "#f0f921"
            ]
           ],
           "sequentialminus": [
            [
             0,
             "#0d0887"
            ],
            [
             0.1111111111111111,
             "#46039f"
            ],
            [
             0.2222222222222222,
             "#7201a8"
            ],
            [
             0.3333333333333333,
             "#9c179e"
            ],
            [
             0.4444444444444444,
             "#bd3786"
            ],
            [
             0.5555555555555556,
             "#d8576b"
            ],
            [
             0.6666666666666666,
             "#ed7953"
            ],
            [
             0.7777777777777778,
             "#fb9f3a"
            ],
            [
             0.8888888888888888,
             "#fdca26"
            ],
            [
             1,
             "#f0f921"
            ]
           ]
          },
          "colorway": [
           "#636efa",
           "#EF553B",
           "#00cc96",
           "#ab63fa",
           "#FFA15A",
           "#19d3f3",
           "#FF6692",
           "#B6E880",
           "#FF97FF",
           "#FECB52"
          ],
          "font": {
           "color": "#2a3f5f"
          },
          "geo": {
           "bgcolor": "white",
           "lakecolor": "white",
           "landcolor": "#E5ECF6",
           "showlakes": true,
           "showland": true,
           "subunitcolor": "white"
          },
          "hoverlabel": {
           "align": "left"
          },
          "hovermode": "closest",
          "mapbox": {
           "style": "light"
          },
          "paper_bgcolor": "white",
          "plot_bgcolor": "#E5ECF6",
          "polar": {
           "angularaxis": {
            "gridcolor": "white",
            "linecolor": "white",
            "ticks": ""
           },
           "bgcolor": "#E5ECF6",
           "radialaxis": {
            "gridcolor": "white",
            "linecolor": "white",
            "ticks": ""
           }
          },
          "scene": {
           "xaxis": {
            "backgroundcolor": "#E5ECF6",
            "gridcolor": "white",
            "gridwidth": 2,
            "linecolor": "white",
            "showbackground": true,
            "ticks": "",
            "zerolinecolor": "white"
           },
           "yaxis": {
            "backgroundcolor": "#E5ECF6",
            "gridcolor": "white",
            "gridwidth": 2,
            "linecolor": "white",
            "showbackground": true,
            "ticks": "",
            "zerolinecolor": "white"
           },
           "zaxis": {
            "backgroundcolor": "#E5ECF6",
            "gridcolor": "white",
            "gridwidth": 2,
            "linecolor": "white",
            "showbackground": true,
            "ticks": "",
            "zerolinecolor": "white"
           }
          },
          "shapedefaults": {
           "line": {
            "color": "#2a3f5f"
           }
          },
          "ternary": {
           "aaxis": {
            "gridcolor": "white",
            "linecolor": "white",
            "ticks": ""
           },
           "baxis": {
            "gridcolor": "white",
            "linecolor": "white",
            "ticks": ""
           },
           "bgcolor": "#E5ECF6",
           "caxis": {
            "gridcolor": "white",
            "linecolor": "white",
            "ticks": ""
           }
          },
          "title": {
           "x": 0.05
          },
          "xaxis": {
           "automargin": true,
           "gridcolor": "white",
           "linecolor": "white",
           "ticks": "",
           "title": {
            "standoff": 15
           },
           "zerolinecolor": "white",
           "zerolinewidth": 2
          },
          "yaxis": {
           "automargin": true,
           "gridcolor": "white",
           "linecolor": "white",
           "ticks": "",
           "title": {
            "standoff": 15
           },
           "zerolinecolor": "white",
           "zerolinewidth": 2
          }
         }
        },
        "title": {
         "text": "3d TSNE Plot for Clusters"
        },
        "width": 900
       }
      },
      "text/html": [
       "<div>                            <div id=\"23bf3d3a-497c-4d2d-81ee-11d1eb58e24a\" class=\"plotly-graph-div\" style=\"height:800px; width:900px;\"></div>            <script type=\"text/javascript\">                require([\"plotly\"], function(Plotly) {                    window.PLOTLYENV=window.PLOTLYENV || {};                                    if (document.getElementById(\"23bf3d3a-497c-4d2d-81ee-11d1eb58e24a\")) {                    Plotly.newPlot(                        \"23bf3d3a-497c-4d2d-81ee-11d1eb58e24a\",                        [{\"customdata\": [[5.1], [5.2], [5.2], [4.7], [4.8], [5.4], [5.2], [5.5], [4.9], [5.0], [5.5], [4.9], [4.4], [5.1], [5.0], [4.4], [5.0], [5.1], [4.8], [5.1], [5.3], [5.0], [5.0], [5.0], [4.6], [5.1], [4.9], [4.7], [4.6], [5.0], [5.4], [4.6], [5.0], [4.4], [4.9], [5.4], [4.8], [4.8], [4.3], [5.8], [5.7], [5.4], [5.1], [5.7], [5.1], [5.4], [4.8], [5.1], [4.6]], \"hovertemplate\": \"Cluster=Cluster 0<br>0=%{x}<br>1=%{y}<br>2=%{z}<br>Feature=%{customdata[0]}<extra></extra>\", \"legendgroup\": \"Cluster 0\", \"marker\": {\"color\": \"#636efa\", \"opacity\": 0.7, \"symbol\": \"circle\"}, \"mode\": \"markers\", \"name\": \"Cluster 0\", \"scene\": \"scene\", \"showlegend\": true, \"type\": \"scatter3d\", \"x\": [134.99192810058594, 148.3928985595703, 86.194091796875, 120.82115173339844, 64.2076187133789, 46.485618591308594, 186.15377807617188, 74.34837341308594, 74.59217071533203, 70.91881561279297, 153.56639099121094, 48.11754608154297, 98.4798812866211, 107.54248046875, 110.74642944335938, 46.499759674072266, 143.79620361328125, -21.96808624267578, -123.5833740234375, 15.4214506149292, 150.4734344482422, 104.66600799560547, 93.05272674560547, 94.55349731445312, 131.3808135986328, 152.17384338378906, 80.07721710205078, 69.6594467163086, 36.89206314086914, 48.95441818237305, 39.73685836791992, 90.87853240966797, 68.60742950439453, 53.8289794921875, 98.697265625, -3.4337282180786133, 81.32520294189453, 106.65586853027344, 81.05867004394531, -5.966765880584717, 196.7230987548828, -55.63111877441406, 52.171756744384766, 8.024463653564453, 154.85659790039062, 133.22055053710938, 90.25524139404297, 127.0670166015625, 108.61656951904297], \"y\": [-35.97568893432617, -69.5827407836914, -118.76339721679688, -19.480770111083984, -30.591203689575195, -104.04720306396484, -30.81477165222168, 53.17436599731445, -43.96730422973633, -100.47056579589844, 0.090397909283638, -68.3155746459961, -24.028221130371094, -85.8048324584961, -69.86943817138672, -2.08215069770813, -42.68407440185547, 163.51515197753906, 40.201908111572266, -30.564268112182617, 6.402632236480713, -46.506526947021484, -85.97758483886719, -6.971801280975342, -52.6490592956543, -83.26956176757812, 9.131747245788574, -14.190882682800293, -38.500091552734375, -12.782417297363281, -117.66759490966797, 2.7095234394073486, -74.55951690673828, 27.319042205810547, -38.66899871826172, -68.7774887084961, -43.77763366699219, 12.388189315795898, -65.57671356201172, -119.24019622802734, -22.002227783203125, 131.33506774902344, -65.63894653320312, -96.31851196289062, 48.6213493347168, -104.73876190185547, 55.54703903198242, -123.26494598388672, 42.10363006591797], \"z\": [17.575395584106445, 41.12485885620117, 55.12501525878906, 75.1819839477539, -19.545143127441406, 75.07106018066406, 67.0226058959961, 116.34029388427734, 16.73583221435547, 9.83031177520752, 42.18244171142578, -5.414923191070557, -53.01374435424805, 39.959720611572266, 0.6622952818870544, 13.28996753692627, -28.277284622192383, -73.6326904296875, 13.256426811218262, 83.97978973388672, -6.9653191566467285, 46.40604782104492, 87.36237335205078, 12.390437126159668, 94.64531707763672, -8.07393741607666, -23.744245529174805, 52.32758712768555, 36.73141860961914, 109.26040649414062, -97.96084594726562, 95.75770568847656, 50.657569885253906, 47.373695373535156, 124.927001953125, 91.92790985107422, 79.5115966796875, 55.08913040161133, -48.19675827026367, 83.7013168334961, 15.906391143798828, -94.39678192138672, 102.0768051147461, 126.53946685791016, 17.769405364990234, 69.04615783691406, 55.430320739746094, 11.945207595825195, 4.8221564292907715]}, {\"customdata\": [[6.4], [6.5], [7.7], [7.7], [6.9], [5.6], [5.8], [7.7], [6.3], [6.3], [6.8], [6.4], [6.5], [7.2], [6.7], [7.3], [7.6], [6.5], [6.7], [7.1], [5.7], [7.2], [6.4], [6.1], [6.5], [5.8], [6.3], [6.7], [6.7], [6.8], [5.8], [6.9], [6.7], [6.2], [6.9], [6.3], [7.7], [6.1], [6.3], [6.4], [7.9], [7.4], [7.2], [6.4], [6.0], [6.3], [5.9], [6.2]], \"hovertemplate\": \"Cluster=Cluster 1<br>0=%{x}<br>1=%{y}<br>2=%{z}<br>Feature=%{customdata[0]}<extra></extra>\", \"legendgroup\": \"Cluster 1\", \"marker\": {\"color\": \"#EF553B\", \"opacity\": 0.7, \"symbol\": \"circle\"}, \"mode\": \"markers\", \"name\": \"Cluster 1\", \"scene\": \"scene\", \"showlegend\": true, \"type\": \"scatter3d\", \"x\": [-12.17033576965332, -167.1180877685547, 5.661312103271484, -110.123779296875, -63.16501998901367, -66.03804779052734, -56.188499450683594, -47.321083068847656, 8.904007911682129, 21.768470764160156, -50.60898971557617, 22.163410186767578, -18.837182998657227, -29.736026763916016, 51.32108688354492, -77.1622314453125, -108.83505249023438, 60.78092575073242, -51.94594192504883, -72.536376953125, 76.21038818359375, -132.45492553710938, -1.4617083072662354, 12.093413352966309, 45.6321907043457, -41.87821960449219, -117.75968933105469, -18.04509162902832, 4.9798784255981445, -136.0065155029297, -154.1328125, -95.21188354492188, -26.661296844482422, 18.927276611328125, -57.22110366821289, -37.40766143798828, -72.0142822265625, 23.845672607421875, -11.352998733520508, 17.190109252929688, -41.968753814697266, 5.677000999450684, -101.42172241210938, -14.419594764709473, -19.052799224853516, -76.2260971069336, -23.860877990722656, -12.11082649230957], \"y\": [54.106632232666016, 21.89186668395996, 61.79047393798828, 110.45245361328125, 71.59442901611328, 66.41680908203125, 108.3626708984375, 153.96951293945312, 78.86097717285156, 64.95245361328125, 75.72071838378906, 105.04905700683594, 17.3953800201416, 43.80995178222656, 135.52267456054688, 117.53992462158203, 2.401374101638794, 94.640380859375, 33.2333869934082, 41.15257263183594, -49.037322998046875, -24.853065490722656, 30.844196319580078, -145.08700561523438, 57.31303405761719, 84.96231079101562, -101.85072326660156, 98.23369598388672, 55.7755241394043, 18.210548400878906, -54.92045974731445, 46.90256881713867, 87.23258209228516, 96.01856994628906, -6.315277099609375, 40.64151382446289, 117.20629119873047, 122.89852142333984, 116.40061950683594, 139.0505828857422, 3.9332432746887207, -154.825927734375, 86.42819213867188, 117.01752471923828, 72.41325378417969, 44.4071044921875, 50.97756576538086, 13.795208930969238], \"z\": [68.29712677001953, 3.527808666229248, 158.8861083984375, 79.74256134033203, 86.5836181640625, -15.282914161682129, -5.366441249847412, 50.13174819946289, -37.91899490356445, 12.48816967010498, 45.452354431152344, -8.196599006652832, 51.02946853637695, 154.64175415039062, -17.309274673461914, 51.76184844970703, 97.92019653320312, 23.283370971679688, 71.98846435546875, 31.477651596069336, -121.91162109375, -93.52896118164062, 16.984088897705078, 14.908340454101562, -18.02767562866211, -43.29596710205078, -64.9479751586914, 63.329498291015625, 107.099609375, -44.827213287353516, -48.822418212890625, 70.50918579101562, 103.0197525024414, 37.074825286865234, 82.1775131225586, 111.00629425048828, 102.95348358154297, -54.378028869628906, -32.48174285888672, 23.78667640686035, 156.41969299316406, -49.26228713989258, 35.52071762084961, 14.530610084533691, 12.62546157836914, 122.3627700805664, -18.19220733642578, 98.74817657470703]}, {\"customdata\": [[6.6], [5.7], [6.1], [6.3], [6.1], [5.9], [5.6], [6.7], [6.8], [5.6], [5.9], [6.6], [6.3], [5.7], [6.5], [6.9], [6.4], [7.0], [6.1], [6.7], [5.7], [6.4], [6.0], [5.6], [6.1], [6.0], [5.4], [6.7], [5.7], [6.2], [6.0]], \"hovertemplate\": \"Cluster=Cluster 2<br>0=%{x}<br>1=%{y}<br>2=%{z}<br>Feature=%{customdata[0]}<extra></extra>\", \"legendgroup\": \"Cluster 2\", \"marker\": {\"color\": \"#00cc96\", \"opacity\": 0.7, \"symbol\": \"circle\"}, \"mode\": \"markers\", \"name\": \"Cluster 2\", \"scene\": \"scene\", \"showlegend\": true, \"type\": \"scatter3d\", \"x\": [-40.36363220214844, -48.703102111816406, -21.986099243164062, -53.52785873413086, -31.12869644165039, -93.0820083618164, -64.64400482177734, -68.36406707763672, -104.03804779052734, 31.76203727722168, -70.15436553955078, -5.386022090911865, -118.55791473388672, -24.764442443847656, -4.745650291442871, -112.5683364868164, -83.58645629882812, -78.72920989990234, -6.43825101852417, -74.8613510131836, -8.073953628540039, -42.81137466430664, -36.91499710083008, -23.04564666748047, 2.817662000656128, -87.11286163330078, -4.785477638244629, -108.27900695800781, 15.391600608825684, -44.45635986328125, -41.030303955078125], \"y\": [-22.78008460998535, -17.509889602661133, -87.29194641113281, -126.1386489868164, -0.9027543663978577, -34.51838684082031, -50.67185592651367, -40.395851135253906, -13.044827461242676, -28.773399353027344, -71.8046875, -22.094114303588867, -31.051862716674805, -19.79956817626953, -61.66542053222656, -83.22085571289062, -46.15495300292969, -70.14985656738281, -49.16716384887695, -88.42201232910156, -35.88882064819336, -63.76908493041992, -61.898834228515625, -65.88155364990234, -79.4051742553711, -4.201994895935059, 6.188933372497559, -56.72218704223633, -37.72926712036133, -37.920806884765625, -105.83163452148438], \"z\": [18.248271942138672, -69.72256469726562, -27.217933654785156, -29.693668365478516, -32.11369705200195, -50.3773193359375, -92.58148956298828, 35.5439338684082, 37.15959548950195, -68.6780776977539, -42.508113861083984, -0.9861011505126953, -11.521575927734375, -104.18997955322266, 12.726767539978027, 4.722746849060059, -3.0016002655029297, 62.61472702026367, -33.49873733520508, 22.124902725219727, -73.54112243652344, 4.03624963760376, -60.42825698852539, -105.61003112792969, -61.34370422363281, -21.26271629333496, -65.76324462890625, 34.463958740234375, -109.2916030883789, -26.32010269165039, -68.08251190185547]}, {\"customdata\": [[5.1], [5.5], [5.6], [5.0], [5.8], [4.9], [4.5], [5.2], [5.7], [5.5], [6.0], [4.9], [6.3], [5.8], [6.2], [5.6], [5.8], [5.5], [5.5], [6.0], [5.0], [5.5]], \"hovertemplate\": \"Cluster=Cluster 3<br>0=%{x}<br>1=%{y}<br>2=%{z}<br>Feature=%{customdata[0]}<extra></extra>\", \"legendgroup\": \"Cluster 3\", \"marker\": {\"color\": \"#ab63fa\", \"opacity\": 0.7, \"symbol\": \"circle\"}, \"mode\": \"markers\", \"name\": \"Cluster 3\", \"scene\": \"scene\", \"showlegend\": true, \"type\": \"scatter3d\", \"x\": [26.045589447021484, -21.4355525970459, 28.647048950195312, 1.2537575960159302, -5.227989196777344, 20.72747802734375, 81.15489196777344, 39.02081298828125, -21.134841918945312, -1.3619239330291748, -64.97956085205078, -106.91613006591797, -70.68126678466797, -50.213619232177734, -90.06668853759766, -90.962158203125, -23.89735221862793, -59.58417510986328, -39.97172546386719, 55.91288375854492, -107.89552307128906, -19.61623764038086], \"y\": [55.660552978515625, 61.651123046875, 7.38826847076416, 90.44590759277344, -23.664766311645508, 59.13872146606445, -115.27507781982422, 7.151400566101074, 13.875130653381348, 13.953081130981445, 63.03139877319336, 77.40814208984375, 35.17156982421875, -17.322866439819336, 21.841278076171875, 126.41695404052734, -109.1794662475586, 38.88982391357422, 26.623279571533203, 95.00899505615234, 76.05099487304688, 50.65150451660156], \"z\": [-111.89579010009766, -94.67701721191406, -93.65140533447266, -127.45830535888672, -147.3588104248047, -154.7087860107422, -49.57048797607422, -136.92233276367188, -163.22471618652344, -121.24313354492188, -107.72445678710938, -35.33831787109375, -73.15303039550781, -138.6940155029297, -103.96975708007812, -51.587913513183594, 13.413070678710938, -147.8345489501953, -110.46407318115234, -69.42870330810547, -101.34153747558594, -137.72389221191406]}],                        {\"height\": 800, \"legend\": {\"title\": {\"text\": \"Cluster\"}, \"tracegroupgap\": 0}, \"scene\": {\"domain\": {\"x\": [0.0, 1.0], \"y\": [0.0, 1.0]}, \"xaxis\": {\"title\": {\"text\": \"0\"}}, \"yaxis\": {\"title\": {\"text\": \"1\"}}, \"zaxis\": {\"title\": {\"text\": \"2\"}}}, \"template\": {\"data\": {\"bar\": [{\"error_x\": {\"color\": \"#2a3f5f\"}, \"error_y\": {\"color\": \"#2a3f5f\"}, \"marker\": {\"line\": {\"color\": \"#E5ECF6\", \"width\": 0.5}}, \"type\": \"bar\"}], \"barpolar\": [{\"marker\": {\"line\": {\"color\": \"#E5ECF6\", \"width\": 0.5}}, \"type\": \"barpolar\"}], \"carpet\": [{\"aaxis\": {\"endlinecolor\": \"#2a3f5f\", \"gridcolor\": \"white\", \"linecolor\": \"white\", \"minorgridcolor\": \"white\", \"startlinecolor\": \"#2a3f5f\"}, \"baxis\": {\"endlinecolor\": \"#2a3f5f\", \"gridcolor\": \"white\", \"linecolor\": \"white\", \"minorgridcolor\": \"white\", \"startlinecolor\": \"#2a3f5f\"}, \"type\": \"carpet\"}], \"choropleth\": [{\"colorbar\": {\"outlinewidth\": 0, \"ticks\": \"\"}, \"type\": \"choropleth\"}], \"contour\": [{\"colorbar\": {\"outlinewidth\": 0, \"ticks\": \"\"}, \"colorscale\": [[0.0, \"#0d0887\"], [0.1111111111111111, \"#46039f\"], [0.2222222222222222, \"#7201a8\"], [0.3333333333333333, \"#9c179e\"], [0.4444444444444444, \"#bd3786\"], [0.5555555555555556, \"#d8576b\"], [0.6666666666666666, \"#ed7953\"], [0.7777777777777778, \"#fb9f3a\"], [0.8888888888888888, \"#fdca26\"], [1.0, \"#f0f921\"]], \"type\": \"contour\"}], \"contourcarpet\": [{\"colorbar\": {\"outlinewidth\": 0, \"ticks\": \"\"}, \"type\": \"contourcarpet\"}], \"heatmap\": [{\"colorbar\": {\"outlinewidth\": 0, \"ticks\": \"\"}, \"colorscale\": [[0.0, \"#0d0887\"], [0.1111111111111111, \"#46039f\"], [0.2222222222222222, \"#7201a8\"], [0.3333333333333333, \"#9c179e\"], [0.4444444444444444, \"#bd3786\"], [0.5555555555555556, \"#d8576b\"], [0.6666666666666666, \"#ed7953\"], [0.7777777777777778, \"#fb9f3a\"], [0.8888888888888888, \"#fdca26\"], [1.0, \"#f0f921\"]], \"type\": \"heatmap\"}], \"heatmapgl\": [{\"colorbar\": {\"outlinewidth\": 0, \"ticks\": \"\"}, \"colorscale\": [[0.0, \"#0d0887\"], [0.1111111111111111, \"#46039f\"], [0.2222222222222222, \"#7201a8\"], [0.3333333333333333, \"#9c179e\"], [0.4444444444444444, \"#bd3786\"], [0.5555555555555556, \"#d8576b\"], [0.6666666666666666, \"#ed7953\"], [0.7777777777777778, \"#fb9f3a\"], [0.8888888888888888, \"#fdca26\"], [1.0, \"#f0f921\"]], \"type\": \"heatmapgl\"}], \"histogram\": [{\"marker\": {\"colorbar\": {\"outlinewidth\": 0, \"ticks\": \"\"}}, \"type\": \"histogram\"}], \"histogram2d\": [{\"colorbar\": {\"outlinewidth\": 0, \"ticks\": \"\"}, \"colorscale\": [[0.0, \"#0d0887\"], [0.1111111111111111, \"#46039f\"], [0.2222222222222222, \"#7201a8\"], [0.3333333333333333, \"#9c179e\"], [0.4444444444444444, \"#bd3786\"], [0.5555555555555556, \"#d8576b\"], [0.6666666666666666, \"#ed7953\"], [0.7777777777777778, \"#fb9f3a\"], [0.8888888888888888, \"#fdca26\"], [1.0, \"#f0f921\"]], \"type\": \"histogram2d\"}], \"histogram2dcontour\": [{\"colorbar\": {\"outlinewidth\": 0, \"ticks\": \"\"}, \"colorscale\": [[0.0, \"#0d0887\"], [0.1111111111111111, \"#46039f\"], [0.2222222222222222, \"#7201a8\"], [0.3333333333333333, \"#9c179e\"], [0.4444444444444444, \"#bd3786\"], [0.5555555555555556, \"#d8576b\"], [0.6666666666666666, \"#ed7953\"], [0.7777777777777778, \"#fb9f3a\"], [0.8888888888888888, \"#fdca26\"], [1.0, \"#f0f921\"]], \"type\": \"histogram2dcontour\"}], \"mesh3d\": [{\"colorbar\": {\"outlinewidth\": 0, \"ticks\": \"\"}, \"type\": \"mesh3d\"}], \"parcoords\": [{\"line\": {\"colorbar\": {\"outlinewidth\": 0, \"ticks\": \"\"}}, \"type\": \"parcoords\"}], \"pie\": [{\"automargin\": true, \"type\": \"pie\"}], \"scatter\": [{\"marker\": {\"colorbar\": {\"outlinewidth\": 0, \"ticks\": \"\"}}, \"type\": \"scatter\"}], \"scatter3d\": [{\"line\": {\"colorbar\": {\"outlinewidth\": 0, \"ticks\": \"\"}}, \"marker\": {\"colorbar\": {\"outlinewidth\": 0, \"ticks\": \"\"}}, \"type\": \"scatter3d\"}], \"scattercarpet\": [{\"marker\": {\"colorbar\": {\"outlinewidth\": 0, \"ticks\": \"\"}}, \"type\": \"scattercarpet\"}], \"scattergeo\": [{\"marker\": {\"colorbar\": {\"outlinewidth\": 0, \"ticks\": \"\"}}, \"type\": \"scattergeo\"}], \"scattergl\": [{\"marker\": {\"colorbar\": {\"outlinewidth\": 0, \"ticks\": \"\"}}, \"type\": \"scattergl\"}], \"scattermapbox\": [{\"marker\": {\"colorbar\": {\"outlinewidth\": 0, \"ticks\": \"\"}}, \"type\": \"scattermapbox\"}], \"scatterpolar\": [{\"marker\": {\"colorbar\": {\"outlinewidth\": 0, \"ticks\": \"\"}}, \"type\": \"scatterpolar\"}], \"scatterpolargl\": [{\"marker\": {\"colorbar\": {\"outlinewidth\": 0, \"ticks\": \"\"}}, \"type\": \"scatterpolargl\"}], \"scatterternary\": [{\"marker\": {\"colorbar\": {\"outlinewidth\": 0, \"ticks\": \"\"}}, \"type\": \"scatterternary\"}], \"surface\": [{\"colorbar\": {\"outlinewidth\": 0, \"ticks\": \"\"}, \"colorscale\": [[0.0, \"#0d0887\"], [0.1111111111111111, \"#46039f\"], [0.2222222222222222, \"#7201a8\"], [0.3333333333333333, \"#9c179e\"], [0.4444444444444444, \"#bd3786\"], [0.5555555555555556, \"#d8576b\"], [0.6666666666666666, \"#ed7953\"], [0.7777777777777778, \"#fb9f3a\"], [0.8888888888888888, \"#fdca26\"], [1.0, \"#f0f921\"]], \"type\": \"surface\"}], \"table\": [{\"cells\": {\"fill\": {\"color\": \"#EBF0F8\"}, \"line\": {\"color\": \"white\"}}, \"header\": {\"fill\": {\"color\": \"#C8D4E3\"}, \"line\": {\"color\": \"white\"}}, \"type\": \"table\"}]}, \"layout\": {\"annotationdefaults\": {\"arrowcolor\": \"#2a3f5f\", \"arrowhead\": 0, \"arrowwidth\": 1}, \"autotypenumbers\": \"strict\", \"coloraxis\": {\"colorbar\": {\"outlinewidth\": 0, \"ticks\": \"\"}}, \"colorscale\": {\"diverging\": [[0, \"#8e0152\"], [0.1, \"#c51b7d\"], [0.2, \"#de77ae\"], [0.3, \"#f1b6da\"], [0.4, \"#fde0ef\"], [0.5, \"#f7f7f7\"], [0.6, \"#e6f5d0\"], [0.7, \"#b8e186\"], [0.8, \"#7fbc41\"], [0.9, \"#4d9221\"], [1, \"#276419\"]], \"sequential\": [[0.0, \"#0d0887\"], [0.1111111111111111, \"#46039f\"], [0.2222222222222222, \"#7201a8\"], [0.3333333333333333, \"#9c179e\"], [0.4444444444444444, \"#bd3786\"], [0.5555555555555556, \"#d8576b\"], [0.6666666666666666, \"#ed7953\"], [0.7777777777777778, \"#fb9f3a\"], [0.8888888888888888, \"#fdca26\"], [1.0, \"#f0f921\"]], \"sequentialminus\": [[0.0, \"#0d0887\"], [0.1111111111111111, \"#46039f\"], [0.2222222222222222, \"#7201a8\"], [0.3333333333333333, \"#9c179e\"], [0.4444444444444444, \"#bd3786\"], [0.5555555555555556, \"#d8576b\"], [0.6666666666666666, \"#ed7953\"], [0.7777777777777778, \"#fb9f3a\"], [0.8888888888888888, \"#fdca26\"], [1.0, \"#f0f921\"]]}, \"colorway\": [\"#636efa\", \"#EF553B\", \"#00cc96\", \"#ab63fa\", \"#FFA15A\", \"#19d3f3\", \"#FF6692\", \"#B6E880\", \"#FF97FF\", \"#FECB52\"], \"font\": {\"color\": \"#2a3f5f\"}, \"geo\": {\"bgcolor\": \"white\", \"lakecolor\": \"white\", \"landcolor\": \"#E5ECF6\", \"showlakes\": true, \"showland\": true, \"subunitcolor\": \"white\"}, \"hoverlabel\": {\"align\": \"left\"}, \"hovermode\": \"closest\", \"mapbox\": {\"style\": \"light\"}, \"paper_bgcolor\": \"white\", \"plot_bgcolor\": \"#E5ECF6\", \"polar\": {\"angularaxis\": {\"gridcolor\": \"white\", \"linecolor\": \"white\", \"ticks\": \"\"}, \"bgcolor\": \"#E5ECF6\", \"radialaxis\": {\"gridcolor\": \"white\", \"linecolor\": \"white\", \"ticks\": \"\"}}, \"scene\": {\"xaxis\": {\"backgroundcolor\": \"#E5ECF6\", \"gridcolor\": \"white\", \"gridwidth\": 2, \"linecolor\": \"white\", \"showbackground\": true, \"ticks\": \"\", \"zerolinecolor\": \"white\"}, \"yaxis\": {\"backgroundcolor\": \"#E5ECF6\", \"gridcolor\": \"white\", \"gridwidth\": 2, \"linecolor\": \"white\", \"showbackground\": true, \"ticks\": \"\", \"zerolinecolor\": \"white\"}, \"zaxis\": {\"backgroundcolor\": \"#E5ECF6\", \"gridcolor\": \"white\", \"gridwidth\": 2, \"linecolor\": \"white\", \"showbackground\": true, \"ticks\": \"\", \"zerolinecolor\": \"white\"}}, \"shapedefaults\": {\"line\": {\"color\": \"#2a3f5f\"}}, \"ternary\": {\"aaxis\": {\"gridcolor\": \"white\", \"linecolor\": \"white\", \"ticks\": \"\"}, \"baxis\": {\"gridcolor\": \"white\", \"linecolor\": \"white\", \"ticks\": \"\"}, \"bgcolor\": \"#E5ECF6\", \"caxis\": {\"gridcolor\": \"white\", \"linecolor\": \"white\", \"ticks\": \"\"}}, \"title\": {\"x\": 0.05}, \"xaxis\": {\"automargin\": true, \"gridcolor\": \"white\", \"linecolor\": \"white\", \"ticks\": \"\", \"title\": {\"standoff\": 15}, \"zerolinecolor\": \"white\", \"zerolinewidth\": 2}, \"yaxis\": {\"automargin\": true, \"gridcolor\": \"white\", \"linecolor\": \"white\", \"ticks\": \"\", \"title\": {\"standoff\": 15}, \"zerolinecolor\": \"white\", \"zerolinewidth\": 2}}}, \"title\": {\"text\": \"3d TSNE Plot for Clusters\"}, \"width\": 900},                        {\"responsive\": true}                    ).then(function(){\n",
       "                            \n",
       "var gd = document.getElementById('23bf3d3a-497c-4d2d-81ee-11d1eb58e24a');\n",
       "var x = new MutationObserver(function (mutations, observer) {{\n",
       "        var display = window.getComputedStyle(gd).display;\n",
       "        if (!display || display === 'none') {{\n",
       "            console.log([gd, 'removed!']);\n",
       "            Plotly.purge(gd);\n",
       "            observer.disconnect();\n",
       "        }}\n",
       "}});\n",
       "\n",
       "// Listen for the removal of the full notebook cells\n",
       "var notebookContainer = gd.closest('#notebook-container');\n",
       "if (notebookContainer) {{\n",
       "    x.observe(notebookContainer, {childList: true});\n",
       "}}\n",
       "\n",
       "// Listen for the clearing of the current output cell\n",
       "var outputEl = gd.closest('.output');\n",
       "if (outputEl) {{\n",
       "    x.observe(outputEl, {childList: true});\n",
       "}}\n",
       "\n",
       "                        })                };                });            </script>        </div>"
      ]
     },
     "metadata": {},
     "output_type": "display_data"
    }
   ],
   "source": [
    "plot_model(kmeans,plot='tsne')"
   ]
  },
  {
   "cell_type": "code",
   "execution_count": 42,
   "metadata": {},
   "outputs": [
    {
     "data": {
      "image/png": "[encoded data removed]",
      "text/plain": [
       "<Figure size 576x396 with 1 Axes>"
      ]
     },
     "metadata": {},
     "output_type": "display_data"
    }
   ],
   "source": [
    "plot_model(kmeans,plot='silhouette')"
   ]
  },
  {
   "cell_type": "code",
   "execution_count": 43,
   "metadata": {
    "scrolled": false
   },
   "outputs": [
    {
     "data": {
      "application/vnd.plotly.v1+json": {
       "config": {
        "plotlyServerURL": "https://plot.ly"
       },
       "data": [
        {
         "alignmentgroup": "True",
         "bingroup": "x",
         "hovertemplate": "Cluster=Cluster 0<br>petallength=%{x}<br>count=%{y}<extra></extra>",
         "legendgroup": "Cluster 0",
         "marker": {
          "color": "#636efa",
          "opacity": 0.7
         },
         "name": "Cluster 0",
         "offsetgroup": "Cluster 0",
         "orientation": "v",
         "showlegend": true,
         "type": "histogram",
         "x": [
          1.4,
          1.5,
          1.4,
          1.6,
          1.6,
          1.5,
          1.5,
          1.4,
          1.5,
          1.2,
          1.3,
          1.5,
          1.3,
          1.5,
          1.3,
          1.3,
          1.6,
          1.9,
          1.4,
          1.6,
          1.5,
          1.4,
          1.6,
          1.6,
          1.4,
          1.7,
          1.4,
          1.3,
          1.5,
          1.4,
          1.7,
          1.4,
          1.5,
          1.4,
          1.5,
          1.5,
          1.6,
          1.9,
          1.1,
          1.2,
          1.5,
          1.3,
          1.4,
          1.7,
          1.5,
          1.7,
          1.4,
          1.5,
          1
         ],
         "xaxis": "x",
         "yaxis": "y"
        },
        {
         "alignmentgroup": "True",
         "customdata": [
          [
           5.1,
           3.5,
           0.2,
           "Iris-setosa",
           "Cluster 0"
          ],
          [
           5.2,
           3.5,
           0.2,
           "Iris-setosa",
           "Cluster 0"
          ],
          [
           5.2,
           3.4,
           0.2,
           "Iris-setosa",
           "Cluster 0"
          ],
          [
           4.7,
           3.2,
           0.2,
           "Iris-setosa",
           "Cluster 0"
          ],
          [
           4.8,
           3.1,
           0.2,
           "Iris-setosa",
           "Cluster 0"
          ],
          [
           5.4,
           3.4,
           0.4,
           "Iris-setosa",
           "Cluster 0"
          ],
          [
           5.2,
           4.1,
           0.1,
           "Iris-setosa",
           "Cluster 0"
          ],
          [
           5.5,
           4.2,
           0.2,
           "Iris-setosa",
           "Cluster 0"
          ],
          [
           4.9,
           3.1,
           0.1,
           "Iris-setosa",
           "Cluster 0"
          ],
          [
           5,
           3.2,
           0.2,
           "Iris-setosa",
           "Cluster 0"
          ],
          [
           5.5,
           3.5,
           0.2,
           "Iris-setosa",
           "Cluster 0"
          ],
          [
           4.9,
           3.1,
           0.1,
           "Iris-setosa",
           "Cluster 0"
          ],
          [
           4.4,
           3,
           0.2,
           "Iris-setosa",
           "Cluster 0"
          ],
          [
           5.1,
           3.4,
           0.2,
           "Iris-setosa",
           "Cluster 0"
          ],
          [
           5,
           3.5,
           0.3,
           "Iris-setosa",
           "Cluster 0"
          ],
          [
           4.4,
           3.2,
           0.2,
           "Iris-setosa",
           "Cluster 0"
          ],
          [
           5,
           3.5,
           0.6,
           "Iris-setosa",
           "Cluster 0"
          ],
          [
           5.1,
           3.8,
           0.4,
           "Iris-setosa",
           "Cluster 0"
          ],
          [
           4.8,
           3,
           0.3,
           "Iris-setosa",
           "Cluster 0"
          ],
          [
           5.1,
           3.8,
           0.2,
           "Iris-setosa",
           "Cluster 0"
          ],
          [
           5.3,
           3.7,
           0.2,
           "Iris-setosa",
           "Cluster 0"
          ],
          [
           5,
           3.3,
           0.2,
           "Iris-setosa",
           "Cluster 0"
          ],
          [
           5,
           3.4,
           0.4,
           "Iris-setosa",
           "Cluster 0"
          ],
          [
           5,
           3,
           0.2,
           "Iris-setosa",
           "Cluster 0"
          ],
          [
           4.6,
           3.2,
           0.2,
           "Iris-setosa",
           "Cluster 0"
          ],
          [
           5.1,
           3.3,
           0.5,
           "Iris-setosa",
           "Cluster 0"
          ],
          [
           4.9,
           3,
           0.2,
           "Iris-setosa",
           "Cluster 0"
          ],
          [
           4.7,
           3.2,
           0.2,
           "Iris-setosa",
           "Cluster 0"
          ],
          [
           4.6,
           3.1,
           0.2,
           "Iris-setosa",
           "Cluster 0"
          ],
          [
           5,
           3.6,
           0.2,
           "Iris-setosa",
           "Cluster 0"
          ],
          [
           5.4,
           3.9,
           0.4,
           "Iris-setosa",
           "Cluster 0"
          ],
          [
           4.6,
           3.4,
           0.3,
           "Iris-setosa",
           "Cluster 0"
          ],
          [
           5,
           3.4,
           0.2,
           "Iris-setosa",
           "Cluster 0"
          ],
          [
           4.4,
           2.9,
           0.2,
           "Iris-setosa",
           "Cluster 0"
          ],
          [
           4.9,
           3.1,
           0.1,
           "Iris-setosa",
           "Cluster 0"
          ],
          [
           5.4,
           3.7,
           0.2,
           "Iris-setosa",
           "Cluster 0"
          ],
          [
           4.8,
           3.4,
           0.2,
           "Iris-setosa",
           "Cluster 0"
          ],
          [
           4.8,
           3.4,
           0.2,
           "Iris-setosa",
           "Cluster 0"
          ],
          [
           4.3,
           3,
           0.1,
           "Iris-setosa",
           "Cluster 0"
          ],
          [
           5.8,
           4,
           0.2,
           "Iris-setosa",
           "Cluster 0"
          ],
          [
           5.7,
           4.4,
           0.4,
           "Iris-setosa",
           "Cluster 0"
          ],
          [
           5.4,
           3.9,
           0.4,
           "Iris-setosa",
           "Cluster 0"
          ],
          [
           5.1,
           3.5,
           0.3,
           "Iris-setosa",
           "Cluster 0"
          ],
          [
           5.7,
           3.8,
           0.3,
           "Iris-setosa",
           "Cluster 0"
          ],
          [
           5.1,
           3.8,
           0.3,
           "Iris-setosa",
           "Cluster 0"
          ],
          [
           5.4,
           3.4,
           0.2,
           "Iris-setosa",
           "Cluster 0"
          ],
          [
           4.8,
           3,
           0.1,
           "Iris-setosa",
           "Cluster 0"
          ],
          [
           5.1,
           3.7,
           0.4,
           "Iris-setosa",
           "Cluster 0"
          ],
          [
           4.6,
           3.6,
           0.2,
           "Iris-setosa",
           "Cluster 0"
          ]
         ],
         "hovertemplate": "Cluster=%{customdata[4]}<br>petallength=%{x}<br>sepallength=%{customdata[0]}<br>sepalwidth=%{customdata[1]}<br>petalwidth=%{customdata[2]}<br>class=%{customdata[3]}<extra></extra>",
         "legendgroup": "Cluster 0",
         "marker": {
          "color": "#636efa"
         },
         "name": "Cluster 0",
         "notched": true,
         "offsetgroup": "Cluster 0",
         "showlegend": false,
         "type": "box",
         "x": [
          1.4,
          1.5,
          1.4,
          1.6,
          1.6,
          1.5,
          1.5,
          1.4,
          1.5,
          1.2,
          1.3,
          1.5,
          1.3,
          1.5,
          1.3,
          1.3,
          1.6,
          1.9,
          1.4,
          1.6,
          1.5,
          1.4,
          1.6,
          1.6,
          1.4,
          1.7,
          1.4,
          1.3,
          1.5,
          1.4,
          1.7,
          1.4,
          1.5,
          1.4,
          1.5,
          1.5,
          1.6,
          1.9,
          1.1,
          1.2,
          1.5,
          1.3,
          1.4,
          1.7,
          1.5,
          1.7,
          1.4,
          1.5,
          1
         ],
         "xaxis": "x2",
         "yaxis": "y2"
        },
        {
         "alignmentgroup": "True",
         "bingroup": "x",
         "hovertemplate": "Cluster=Cluster 1<br>petallength=%{x}<br>count=%{y}<extra></extra>",
         "legendgroup": "Cluster 1",
         "marker": {
          "color": "#EF553B",
          "opacity": 0.7
         },
         "name": "Cluster 1",
         "offsetgroup": "Cluster 1",
         "orientation": "v",
         "showlegend": true,
         "type": "histogram",
         "x": [
          5.3,
          5.5,
          6.7,
          6.7,
          5.7,
          4.9,
          5.1,
          6.9,
          4.9,
          5.6,
          5.5,
          5.3,
          5.1,
          6.1,
          5.8,
          6.3,
          6.6,
          5.8,
          5.7,
          5.9,
          5,
          6,
          5.5,
          4.9,
          5.2,
          5.1,
          5,
          5.2,
          5.7,
          5.9,
          5.1,
          5.1,
          5.6,
          4.8,
          5.4,
          5.6,
          6.1,
          5.6,
          5.1,
          5.6,
          6.4,
          6.1,
          5.8,
          5.6,
          4.8,
          6,
          5.1,
          5.4
         ],
         "xaxis": "x",
         "yaxis": "y"
        },
        {
         "alignmentgroup": "True",
         "customdata": [
          [
           6.4,
           3.2,
           2.3,
           "Iris-virginica",
           "Cluster 1"
          ],
          [
           6.5,
           3,
           1.8,
           "Iris-virginica",
           "Cluster 1"
          ],
          [
           7.7,
           3.8,
           2.2,
           "Iris-virginica",
           "Cluster 1"
          ],
          [
           7.7,
           2.8,
           2,
           "Iris-virginica",
           "Cluster 1"
          ],
          [
           6.9,
           3.2,
           2.3,
           "Iris-virginica",
           "Cluster 1"
          ],
          [
           5.6,
           2.8,
           2,
           "Iris-virginica",
           "Cluster 1"
          ],
          [
           5.8,
           2.8,
           2.4,
           "Iris-virginica",
           "Cluster 1"
          ],
          [
           7.7,
           2.6,
           2.3,
           "Iris-virginica",
           "Cluster 1"
          ],
          [
           6.3,
           2.7,
           1.8,
           "Iris-virginica",
           "Cluster 1"
          ],
          [
           6.3,
           2.9,
           1.8,
           "Iris-virginica",
           "Cluster 1"
          ],
          [
           6.8,
           3,
           2.1,
           "Iris-virginica",
           "Cluster 1"
          ],
          [
           6.4,
           2.7,
           1.9,
           "Iris-virginica",
           "Cluster 1"
          ],
          [
           6.5,
           3.2,
           2,
           "Iris-virginica",
           "Cluster 1"
          ],
          [
           7.2,
           3.6,
           2.5,
           "Iris-virginica",
           "Cluster 1"
          ],
          [
           6.7,
           2.5,
           1.8,
           "Iris-virginica",
           "Cluster 1"
          ],
          [
           7.3,
           2.9,
           1.8,
           "Iris-virginica",
           "Cluster 1"
          ],
          [
           7.6,
           3,
           2.1,
           "Iris-virginica",
           "Cluster 1"
          ],
          [
           6.5,
           3,
           2.2,
           "Iris-virginica",
           "Cluster 1"
          ],
          [
           6.7,
           3.3,
           2.1,
           "Iris-virginica",
           "Cluster 1"
          ],
          [
           7.1,
           3,
           2.1,
           "Iris-virginica",
           "Cluster 1"
          ],
          [
           5.7,
           2.5,
           2,
           "Iris-virginica",
           "Cluster 1"
          ],
          [
           7.2,
           3.2,
           1.8,
           "Iris-virginica",
           "Cluster 1"
          ],
          [
           6.4,
           3.1,
           1.8,
           "Iris-virginica",
           "Cluster 1"
          ],
          [
           6.1,
           3,
           1.8,
           "Iris-virginica",
           "Cluster 1"
          ],
          [
           6.5,
           3,
           2,
           "Iris-virginica",
           "Cluster 1"
          ],
          [
           5.8,
           2.7,
           1.9,
           "Iris-virginica",
           "Cluster 1"
          ],
          [
           6.3,
           2.5,
           1.9,
           "Iris-virginica",
           "Cluster 1"
          ],
          [
           6.7,
           3,
           2.3,
           "Iris-virginica",
           "Cluster 1"
          ],
          [
           6.7,
           3.3,
           2.5,
           "Iris-virginica",
           "Cluster 1"
          ],
          [
           6.8,
           3.2,
           2.3,
           "Iris-virginica",
           "Cluster 1"
          ],
          [
           5.8,
           2.7,
           1.9,
           "Iris-virginica",
           "Cluster 1"
          ],
          [
           6.9,
           3.1,
           2.3,
           "Iris-virginica",
           "Cluster 1"
          ],
          [
           6.7,
           3.1,
           2.4,
           "Iris-virginica",
           "Cluster 1"
          ],
          [
           6.2,
           2.8,
           1.8,
           "Iris-virginica",
           "Cluster 1"
          ],
          [
           6.9,
           3.1,
           2.1,
           "Iris-virginica",
           "Cluster 1"
          ],
          [
           6.3,
           3.4,
           2.4,
           "Iris-virginica",
           "Cluster 1"
          ],
          [
           7.7,
           3,
           2.3,
           "Iris-virginica",
           "Cluster 1"
          ],
          [
           6.1,
           2.6,
           1.4,
           "Iris-virginica",
           "Cluster 1"
          ],
          [
           6.3,
           2.8,
           1.5,
           "Iris-virginica",
           "Cluster 1"
          ],
          [
           6.4,
           2.8,
           2.2,
           "Iris-virginica",
           "Cluster 1"
          ],
          [
           7.9,
           3.8,
           2,
           "Iris-virginica",
           "Cluster 1"
          ],
          [
           7.4,
           2.8,
           1.9,
           "Iris-virginica",
           "Cluster 1"
          ],
          [
           7.2,
           3,
           1.6,
           "Iris-virginica",
           "Cluster 1"
          ],
          [
           6.4,
           2.8,
           2.1,
           "Iris-virginica",
           "Cluster 1"
          ],
          [
           6,
           3,
           1.8,
           "Iris-virginica",
           "Cluster 1"
          ],
          [
           6.3,
           3.3,
           2.5,
           "Iris-virginica",
           "Cluster 1"
          ],
          [
           5.9,
           3,
           1.8,
           "Iris-virginica",
           "Cluster 1"
          ],
          [
           6.2,
           3.4,
           2.3,
           "Iris-virginica",
           "Cluster 1"
          ]
         ],
         "hovertemplate": "Cluster=%{customdata[4]}<br>petallength=%{x}<br>sepallength=%{customdata[0]}<br>sepalwidth=%{customdata[1]}<br>petalwidth=%{customdata[2]}<br>class=%{customdata[3]}<extra></extra>",
         "legendgroup": "Cluster 1",
         "marker": {
          "color": "#EF553B"
         },
         "name": "Cluster 1",
         "notched": true,
         "offsetgroup": "Cluster 1",
         "showlegend": false,
         "type": "box",
         "x": [
          5.3,
          5.5,
          6.7,
          6.7,
          5.7,
          4.9,
          5.1,
          6.9,
          4.9,
          5.6,
          5.5,
          5.3,
          5.1,
          6.1,
          5.8,
          6.3,
          6.6,
          5.8,
          5.7,
          5.9,
          5,
          6,
          5.5,
          4.9,
          5.2,
          5.1,
          5,
          5.2,
          5.7,
          5.9,
          5.1,
          5.1,
          5.6,
          4.8,
          5.4,
          5.6,
          6.1,
          5.6,
          5.1,
          5.6,
          6.4,
          6.1,
          5.8,
          5.6,
          4.8,
          6,
          5.1,
          5.4
         ],
         "xaxis": "x2",
         "yaxis": "y2"
        },
        {
         "alignmentgroup": "True",
         "bingroup": "x",
         "hovertemplate": "Cluster=Cluster 2<br>petallength=%{x}<br>count=%{y}<extra></extra>",
         "legendgroup": "Cluster 2",
         "marker": {
          "color": "#00cc96",
          "opacity": 0.7
         },
         "name": "Cluster 2",
         "offsetgroup": "Cluster 2",
         "orientation": "v",
         "showlegend": true,
         "type": "histogram",
         "x": [
          4.4,
          4.2,
          4.7,
          4.9,
          4,
          4.8,
          4.5,
          4.4,
          4.8,
          3.6,
          4.2,
          4.6,
          4.7,
          4.5,
          4.6,
          4.9,
          4.5,
          4.7,
          4.7,
          5,
          4.2,
          4.3,
          4.5,
          4.1,
          4.6,
          4.5,
          4.5,
          4.7,
          4.1,
          4.3,
          5.1
         ],
         "xaxis": "x",
         "yaxis": "y"
        },
        {
         "alignmentgroup": "True",
         "customdata": [
          [
           6.6,
           3,
           1.4,
           "Iris-versicolor",
           "Cluster 2"
          ],
          [
           5.7,
           3,
           1.2,
           "Iris-versicolor",
           "Cluster 2"
          ],
          [
           6.1,
           2.8,
           1.2,
           "Iris-versicolor",
           "Cluster 2"
          ],
          [
           6.3,
           2.5,
           1.5,
           "Iris-versicolor",
           "Cluster 2"
          ],
          [
           6.1,
           2.8,
           1.3,
           "Iris-versicolor",
           "Cluster 2"
          ],
          [
           5.9,
           3.2,
           1.8,
           "Iris-versicolor",
           "Cluster 2"
          ],
          [
           5.6,
           3,
           1.5,
           "Iris-versicolor",
           "Cluster 2"
          ],
          [
           6.7,
           3.1,
           1.4,
           "Iris-versicolor",
           "Cluster 2"
          ],
          [
           6.8,
           2.8,
           1.4,
           "Iris-versicolor",
           "Cluster 2"
          ],
          [
           5.6,
           2.9,
           1.3,
           "Iris-versicolor",
           "Cluster 2"
          ],
          [
           5.9,
           3,
           1.5,
           "Iris-versicolor",
           "Cluster 2"
          ],
          [
           6.6,
           2.9,
           1.3,
           "Iris-versicolor",
           "Cluster 2"
          ],
          [
           6.3,
           3.3,
           1.6,
           "Iris-versicolor",
           "Cluster 2"
          ],
          [
           5.7,
           2.8,
           1.3,
           "Iris-versicolor",
           "Cluster 2"
          ],
          [
           6.5,
           2.8,
           1.5,
           "Iris-versicolor",
           "Cluster 2"
          ],
          [
           6.9,
           3.1,
           1.5,
           "Iris-versicolor",
           "Cluster 2"
          ],
          [
           6.4,
           3.2,
           1.5,
           "Iris-versicolor",
           "Cluster 2"
          ],
          [
           7,
           3.2,
           1.4,
           "Iris-versicolor",
           "Cluster 2"
          ],
          [
           6.1,
           2.9,
           1.4,
           "Iris-versicolor",
           "Cluster 2"
          ],
          [
           6.7,
           3,
           1.7,
           "Iris-versicolor",
           "Cluster 2"
          ],
          [
           5.7,
           2.9,
           1.3,
           "Iris-versicolor",
           "Cluster 2"
          ],
          [
           6.4,
           2.9,
           1.3,
           "Iris-versicolor",
           "Cluster 2"
          ],
          [
           6,
           2.9,
           1.5,
           "Iris-versicolor",
           "Cluster 2"
          ],
          [
           5.6,
           3,
           1.3,
           "Iris-versicolor",
           "Cluster 2"
          ],
          [
           6.1,
           3,
           1.4,
           "Iris-versicolor",
           "Cluster 2"
          ],
          [
           6,
           3.4,
           1.6,
           "Iris-versicolor",
           "Cluster 2"
          ],
          [
           5.4,
           3,
           1.5,
           "Iris-versicolor",
           "Cluster 2"
          ],
          [
           6.7,
           3.1,
           1.5,
           "Iris-versicolor",
           "Cluster 2"
          ],
          [
           5.7,
           2.8,
           1.3,
           "Iris-versicolor",
           "Cluster 2"
          ],
          [
           6.2,
           2.9,
           1.3,
           "Iris-versicolor",
           "Cluster 2"
          ],
          [
           6,
           2.7,
           1.6,
           "Iris-versicolor",
           "Cluster 2"
          ]
         ],
         "hovertemplate": "Cluster=%{customdata[4]}<br>petallength=%{x}<br>sepallength=%{customdata[0]}<br>sepalwidth=%{customdata[1]}<br>petalwidth=%{customdata[2]}<br>class=%{customdata[3]}<extra></extra>",
         "legendgroup": "Cluster 2",
         "marker": {
          "color": "#00cc96"
         },
         "name": "Cluster 2",
         "notched": true,
         "offsetgroup": "Cluster 2",
         "showlegend": false,
         "type": "box",
         "x": [
          4.4,
          4.2,
          4.7,
          4.9,
          4,
          4.8,
          4.5,
          4.4,
          4.8,
          3.6,
          4.2,
          4.6,
          4.7,
          4.5,
          4.6,
          4.9,
          4.5,
          4.7,
          4.7,
          5,
          4.2,
          4.3,
          4.5,
          4.1,
          4.6,
          4.5,
          4.5,
          4.7,
          4.1,
          4.3,
          5.1
         ],
         "xaxis": "x2",
         "yaxis": "y2"
        },
        {
         "alignmentgroup": "True",
         "bingroup": "x",
         "hovertemplate": "Cluster=Cluster 3<br>petallength=%{x}<br>count=%{y}<extra></extra>",
         "legendgroup": "Cluster 3",
         "marker": {
          "color": "#ab63fa",
          "opacity": 0.7
         },
         "name": "Cluster 3",
         "offsetgroup": "Cluster 3",
         "orientation": "v",
         "showlegend": true,
         "type": "histogram",
         "x": [
          3,
          4,
          4.2,
          3.3,
          4,
          3.3,
          1.3,
          3.9,
          3.5,
          4.4,
          4,
          4.5,
          4.4,
          4.1,
          4.5,
          3.9,
          3.9,
          3.7,
          3.8,
          5,
          3.5,
          4
         ],
         "xaxis": "x",
         "yaxis": "y"
        },
        {
         "alignmentgroup": "True",
         "customdata": [
          [
           5.1,
           2.5,
           1.1,
           "Iris-versicolor",
           "Cluster 3"
          ],
          [
           5.5,
           2.3,
           1.3,
           "Iris-versicolor",
           "Cluster 3"
          ],
          [
           5.6,
           2.7,
           1.3,
           "Iris-versicolor",
           "Cluster 3"
          ],
          [
           5,
           2.3,
           1,
           "Iris-versicolor",
           "Cluster 3"
          ],
          [
           5.8,
           2.6,
           1.2,
           "Iris-versicolor",
           "Cluster 3"
          ],
          [
           4.9,
           2.4,
           1,
           "Iris-versicolor",
           "Cluster 3"
          ],
          [
           4.5,
           2.3,
           0.3,
           "Iris-setosa",
           "Cluster 3"
          ],
          [
           5.2,
           2.7,
           1.4,
           "Iris-versicolor",
           "Cluster 3"
          ],
          [
           5.7,
           2.6,
           1,
           "Iris-versicolor",
           "Cluster 3"
          ],
          [
           5.5,
           2.6,
           1.2,
           "Iris-versicolor",
           "Cluster 3"
          ],
          [
           6,
           2.2,
           1,
           "Iris-versicolor",
           "Cluster 3"
          ],
          [
           4.9,
           2.5,
           1.7,
           "Iris-virginica",
           "Cluster 3"
          ],
          [
           6.3,
           2.3,
           1.3,
           "Iris-versicolor",
           "Cluster 3"
          ],
          [
           5.8,
           2.7,
           1,
           "Iris-versicolor",
           "Cluster 3"
          ],
          [
           6.2,
           2.2,
           1.5,
           "Iris-versicolor",
           "Cluster 3"
          ],
          [
           5.6,
           2.5,
           1.1,
           "Iris-versicolor",
           "Cluster 3"
          ],
          [
           5.8,
           2.7,
           1.2,
           "Iris-versicolor",
           "Cluster 3"
          ],
          [
           5.5,
           2.4,
           1,
           "Iris-versicolor",
           "Cluster 3"
          ],
          [
           5.5,
           2.4,
           1.1,
           "Iris-versicolor",
           "Cluster 3"
          ],
          [
           6,
           2.2,
           1.5,
           "Iris-virginica",
           "Cluster 3"
          ],
          [
           5,
           2,
           1,
           "Iris-versicolor",
           "Cluster 3"
          ],
          [
           5.5,
           2.5,
           1.3,
           "Iris-versicolor",
           "Cluster 3"
          ]
         ],
         "hovertemplate": "Cluster=%{customdata[4]}<br>petallength=%{x}<br>sepallength=%{customdata[0]}<br>sepalwidth=%{customdata[1]}<br>petalwidth=%{customdata[2]}<br>class=%{customdata[3]}<extra></extra>",
         "legendgroup": "Cluster 3",
         "marker": {
          "color": "#ab63fa"
         },
         "name": "Cluster 3",
         "notched": true,
         "offsetgroup": "Cluster 3",
         "showlegend": false,
         "type": "box",
         "x": [
          3,
          4,
          4.2,
          3.3,
          4,
          3.3,
          1.3,
          3.9,
          3.5,
          4.4,
          4,
          4.5,
          4.4,
          4.1,
          4.5,
          3.9,
          3.9,
          3.7,
          3.8,
          5,
          3.5,
          4
         ],
         "xaxis": "x2",
         "yaxis": "y2"
        }
       ],
       "layout": {
        "barmode": "relative",
        "height": 600,
        "legend": {
         "title": {
          "text": "Cluster"
         },
         "tracegroupgap": 0
        },
        "margin": {
         "t": 60
        },
        "template": {
         "data": {
          "bar": [
           {
            "error_x": {
             "color": "#2a3f5f"
            },
            "error_y": {
             "color": "#2a3f5f"
            },
            "marker": {
             "line": {
              "color": "#E5ECF6",
              "width": 0.5
             }
            },
            "type": "bar"
           }
          ],
          "barpolar": [
           {
            "marker": {
             "line": {
              "color": "#E5ECF6",
              "width": 0.5
             }
            },
            "type": "barpolar"
           }
          ],
          "carpet": [
           {
            "aaxis": {
             "endlinecolor": "#2a3f5f",
             "gridcolor": "white",
             "linecolor": "white",
             "minorgridcolor": "white",
             "startlinecolor": "#2a3f5f"
            },
            "baxis": {
             "endlinecolor": "#2a3f5f",
             "gridcolor": "white",
             "linecolor": "white",
             "minorgridcolor": "white",
             "startlinecolor": "#2a3f5f"
            },
            "type": "carpet"
           }
          ],
          "choropleth": [
           {
            "colorbar": {
             "outlinewidth": 0,
             "ticks": ""
            },
            "type": "choropleth"
           }
          ],
          "contour": [
           {
            "colorbar": {
             "outlinewidth": 0,
             "ticks": ""
            },
            "colorscale": [
             [
              0,
              "#0d0887"
             ],
             [
              0.1111111111111111,
              "#46039f"
             ],
             [
              0.2222222222222222,
              "#7201a8"
             ],
             [
              0.3333333333333333,
              "#9c179e"
             ],
             [
              0.4444444444444444,
              "#bd3786"
             ],
             [
              0.5555555555555556,
              "#d8576b"
             ],
             [
              0.6666666666666666,
              "#ed7953"
             ],
             [
              0.7777777777777778,
              "#fb9f3a"
             ],
             [
              0.8888888888888888,
              "#fdca26"
             ],
             [
              1,
              "#f0f921"
             ]
            ],
            "type": "contour"
           }
          ],
          "contourcarpet": [
           {
            "colorbar": {
             "outlinewidth": 0,
             "ticks": ""
            },
            "type": "contourcarpet"
           }
          ],
          "heatmap": [
           {
            "colorbar": {
             "outlinewidth": 0,
             "ticks": ""
            },
            "colorscale": [
             [
              0,
              "#0d0887"
             ],
             [
              0.1111111111111111,
              "#46039f"
             ],
             [
              0.2222222222222222,
              "#7201a8"
             ],
             [
              0.3333333333333333,
              "#9c179e"
             ],
             [
              0.4444444444444444,
              "#bd3786"
             ],
             [
              0.5555555555555556,
              "#d8576b"
             ],
             [
              0.6666666666666666,
              "#ed7953"
             ],
             [
              0.7777777777777778,
              "#fb9f3a"
             ],
             [
              0.8888888888888888,
              "#fdca26"
             ],
             [
              1,
              "#f0f921"
             ]
            ],
            "type": "heatmap"
           }
          ],
          "heatmapgl": [
           {
            "colorbar": {
             "outlinewidth": 0,
             "ticks": ""
            },
            "colorscale": [
             [
              0,
              "#0d0887"
             ],
             [
              0.1111111111111111,
              "#46039f"
             ],
             [
              0.2222222222222222,
              "#7201a8"
             ],
             [
              0.3333333333333333,
              "#9c179e"
             ],
             [
              0.4444444444444444,
              "#bd3786"
             ],
             [
              0.5555555555555556,
              "#d8576b"
             ],
             [
              0.6666666666666666,
              "#ed7953"
             ],
             [
              0.7777777777777778,
              "#fb9f3a"
             ],
             [
              0.8888888888888888,
              "#fdca26"
             ],
             [
              1,
              "#f0f921"
             ]
            ],
            "type": "heatmapgl"
           }
          ],
          "histogram": [
           {
            "marker": {
             "colorbar": {
              "outlinewidth": 0,
              "ticks": ""
             }
            },
            "type": "histogram"
           }
          ],
          "histogram2d": [
           {
            "colorbar": {
             "outlinewidth": 0,
             "ticks": ""
            },
            "colorscale": [
             [
              0,
              "#0d0887"
             ],
             [
              0.1111111111111111,
              "#46039f"
             ],
             [
              0.2222222222222222,
              "#7201a8"
             ],
             [
              0.3333333333333333,
              "#9c179e"
             ],
             [
              0.4444444444444444,
              "#bd3786"
             ],
             [
              0.5555555555555556,
              "#d8576b"
             ],
             [
              0.6666666666666666,
              "#ed7953"
             ],
             [
              0.7777777777777778,
              "#fb9f3a"
             ],
             [
              0.8888888888888888,
              "#fdca26"
             ],
             [
              1,
              "#f0f921"
             ]
            ],
            "type": "histogram2d"
           }
          ],
          "histogram2dcontour": [
           {
            "colorbar": {
             "outlinewidth": 0,
             "ticks": ""
            },
            "colorscale": [
             [
              0,
              "#0d0887"
             ],
             [
              0.1111111111111111,
              "#46039f"
             ],
             [
              0.2222222222222222,
              "#7201a8"
             ],
             [
              0.3333333333333333,
              "#9c179e"
             ],
             [
              0.4444444444444444,
              "#bd3786"
             ],
             [
              0.5555555555555556,
              "#d8576b"
             ],
             [
              0.6666666666666666,
              "#ed7953"
             ],
             [
              0.7777777777777778,
              "#fb9f3a"
             ],
             [
              0.8888888888888888,
              "#fdca26"
             ],
             [
              1,
              "#f0f921"
             ]
            ],
            "type": "histogram2dcontour"
           }
          ],
          "mesh3d": [
           {
            "colorbar": {
             "outlinewidth": 0,
             "ticks": ""
            },
            "type": "mesh3d"
           }
          ],
          "parcoords": [
           {
            "line": {
             "colorbar": {
              "outlinewidth": 0,
              "ticks": ""
             }
            },
            "type": "parcoords"
           }
          ],
          "pie": [
           {
            "automargin": true,
            "type": "pie"
           }
          ],
          "scatter": [
           {
            "marker": {
             "colorbar": {
              "outlinewidth": 0,
              "ticks": ""
             }
            },
            "type": "scatter"
           }
          ],
          "scatter3d": [
           {
            "line": {
             "colorbar": {
              "outlinewidth": 0,
              "ticks": ""
             }
            },
            "marker": {
             "colorbar": {
              "outlinewidth": 0,
              "ticks": ""
             }
            },
            "type": "scatter3d"
           }
          ],
          "scattercarpet": [
           {
            "marker": {
             "colorbar": {
              "outlinewidth": 0,
              "ticks": ""
             }
            },
            "type": "scattercarpet"
           }
          ],
          "scattergeo": [
           {
            "marker": {
             "colorbar": {
              "outlinewidth": 0,
              "ticks": ""
             }
            },
            "type": "scattergeo"
           }
          ],
          "scattergl": [
           {
            "marker": {
             "colorbar": {
              "outlinewidth": 0,
              "ticks": ""
             }
            },
            "type": "scattergl"
           }
          ],
          "scattermapbox": [
           {
            "marker": {
             "colorbar": {
              "outlinewidth": 0,
              "ticks": ""
             }
            },
            "type": "scattermapbox"
           }
          ],
          "scatterpolar": [
           {
            "marker": {
             "colorbar": {
              "outlinewidth": 0,
              "ticks": ""
             }
            },
            "type": "scatterpolar"
           }
          ],
          "scatterpolargl": [
           {
            "marker": {
             "colorbar": {
              "outlinewidth": 0,
              "ticks": ""
             }
            },
            "type": "scatterpolargl"
           }
          ],
          "scatterternary": [
           {
            "marker": {
             "colorbar": {
              "outlinewidth": 0,
              "ticks": ""
             }
            },
            "type": "scatterternary"
           }
          ],
          "surface": [
           {
            "colorbar": {
             "outlinewidth": 0,
             "ticks": ""
            },
            "colorscale": [
             [
              0,
              "#0d0887"
             ],
             [
              0.1111111111111111,
              "#46039f"
             ],
             [
              0.2222222222222222,
              "#7201a8"
             ],
             [
              0.3333333333333333,
              "#9c179e"
             ],
             [
              0.4444444444444444,
              "#bd3786"
             ],
             [
              0.5555555555555556,
              "#d8576b"
             ],
             [
              0.6666666666666666,
              "#ed7953"
             ],
             [
              0.7777777777777778,
              "#fb9f3a"
             ],
             [
              0.8888888888888888,
              "#fdca26"
             ],
             [
              1,
              "#f0f921"
             ]
            ],
            "type": "surface"
           }
          ],
          "table": [
           {
            "cells": {
             "fill": {
              "color": "#EBF0F8"
             },
             "line": {
              "color": "white"
             }
            },
            "header": {
             "fill": {
              "color": "#C8D4E3"
             },
             "line": {
              "color": "white"
             }
            },
            "type": "table"
           }
          ]
         },
         "layout": {
          "annotationdefaults": {
           "arrowcolor": "#2a3f5f",
           "arrowhead": 0,
           "arrowwidth": 1
          },
          "autotypenumbers": "strict",
          "coloraxis": {
           "colorbar": {
            "outlinewidth": 0,
            "ticks": ""
           }
          },
          "colorscale": {
           "diverging": [
            [
             0,
             "#8e0152"
            ],
            [
             0.1,
             "#c51b7d"
            ],
            [
             0.2,
             "#de77ae"
            ],
            [
             0.3,
             "#f1b6da"
            ],
            [
             0.4,
             "#fde0ef"
            ],
            [
             0.5,
             "#f7f7f7"
            ],
            [
             0.6,
             "#e6f5d0"
            ],
            [
             0.7,
             "#b8e186"
            ],
            [
             0.8,
             "#7fbc41"
            ],
            [
             0.9,
             "#4d9221"
            ],
            [
             1,
             "#276419"
            ]
           ],
           "sequential": [
            [
             0,
             "#0d0887"
            ],
            [
             0.1111111111111111,
             "#46039f"
            ],
            [
             0.2222222222222222,
             "#7201a8"
            ],
            [
             0.3333333333333333,
             "#9c179e"
            ],
            [
             0.4444444444444444,
             "#bd3786"
            ],
            [
             0.5555555555555556,
             "#d8576b"
            ],
            [
             0.6666666666666666,
             "#ed7953"
            ],
            [
             0.7777777777777778,
             "#fb9f3a"
            ],
            [
             0.8888888888888888,
             "#fdca26"
            ],
            [
             1,
             "#f0f921"
            ]
           ],
           "sequentialminus": [
            [
             0,
             "#0d0887"
            ],
            [
             0.1111111111111111,
             "#46039f"
            ],
            [
             0.2222222222222222,
             "#7201a8"
            ],
            [
             0.3333333333333333,
             "#9c179e"
            ],
            [
             0.4444444444444444,
             "#bd3786"
            ],
            [
             0.5555555555555556,
             "#d8576b"
            ],
            [
             0.6666666666666666,
             "#ed7953"
            ],
            [
             0.7777777777777778,
             "#fb9f3a"
            ],
            [
             0.8888888888888888,
             "#fdca26"
            ],
            [
             1,
             "#f0f921"
            ]
           ]
          },
          "colorway": [
           "#636efa",
           "#EF553B",
           "#00cc96",
           "#ab63fa",
           "#FFA15A",
           "#19d3f3",
           "#FF6692",
           "#B6E880",
           "#FF97FF",
           "#FECB52"
          ],
          "font": {
           "color": "#2a3f5f"
          },
          "geo": {
           "bgcolor": "white",
           "lakecolor": "white",
           "landcolor": "#E5ECF6",
           "showlakes": true,
           "showland": true,
           "subunitcolor": "white"
          },
          "hoverlabel": {
           "align": "left"
          },
          "hovermode": "closest",
          "mapbox": {
           "style": "light"
          },
          "paper_bgcolor": "white",
          "plot_bgcolor": "#E5ECF6",
          "polar": {
           "angularaxis": {
            "gridcolor": "white",
            "linecolor": "white",
            "ticks": ""
           },
           "bgcolor": "#E5ECF6",
           "radialaxis": {
            "gridcolor": "white",
            "linecolor": "white",
            "ticks": ""
           }
          },
          "scene": {
           "xaxis": {
            "backgroundcolor": "#E5ECF6",
            "gridcolor": "white",
            "gridwidth": 2,
            "linecolor": "white",
            "showbackground": true,
            "ticks": "",
            "zerolinecolor": "white"
           },
           "yaxis": {
            "backgroundcolor": "#E5ECF6",
            "gridcolor": "white",
            "gridwidth": 2,
            "linecolor": "white",
            "showbackground": true,
            "ticks": "",
            "zerolinecolor": "white"
           },
           "zaxis": {
            "backgroundcolor": "#E5ECF6",
            "gridcolor": "white",
            "gridwidth": 2,
            "linecolor": "white",
            "showbackground": true,
            "ticks": "",
            "zerolinecolor": "white"
           }
          },
          "shapedefaults": {
           "line": {
            "color": "#2a3f5f"
           }
          },
          "ternary": {
           "aaxis": {
            "gridcolor": "white",
            "linecolor": "white",
            "ticks": ""
           },
           "baxis": {
            "gridcolor": "white",
            "linecolor": "white",
            "ticks": ""
           },
           "bgcolor": "#E5ECF6",
           "caxis": {
            "gridcolor": "white",
            "linecolor": "white",
            "ticks": ""
           }
          },
          "title": {
           "x": 0.05
          },
          "xaxis": {
           "automargin": true,
           "gridcolor": "white",
           "linecolor": "white",
           "ticks": "",
           "title": {
            "standoff": 15
           },
           "zerolinecolor": "white",
           "zerolinewidth": 2
          },
          "yaxis": {
           "automargin": true,
           "gridcolor": "white",
           "linecolor": "white",
           "ticks": "",
           "title": {
            "standoff": 15
           },
           "zerolinecolor": "white",
           "zerolinewidth": 2
          }
         }
        },
        "xaxis": {
         "anchor": "y",
         "domain": [
          0,
          1
         ],
         "title": {
          "text": "petallength"
         }
        },
        "xaxis2": {
         "anchor": "y2",
         "domain": [
          0,
          1
         ],
         "matches": "x",
         "showgrid": true,
         "showticklabels": false
        },
        "yaxis": {
         "anchor": "x",
         "domain": [
          0,
          0.7326
         ],
         "title": {
          "text": "count"
         }
        },
        "yaxis2": {
         "anchor": "x2",
         "domain": [
          0.7426,
          1
         ],
         "matches": "y2",
         "showgrid": false,
         "showline": false,
         "showticklabels": false,
         "ticks": ""
        }
       }
      },
      "text/html": [
       "<div>                            <div id=\"dbbde91d-92e5-4bdf-afb0-cdad3164ee7a\" class=\"plotly-graph-div\" style=\"height:600px; width:100%;\"></div>            <script type=\"text/javascript\">                require([\"plotly\"], function(Plotly) {                    window.PLOTLYENV=window.PLOTLYENV || {};                                    if (document.getElementById(\"dbbde91d-92e5-4bdf-afb0-cdad3164ee7a\")) {                    Plotly.newPlot(                        \"dbbde91d-92e5-4bdf-afb0-cdad3164ee7a\",                        [{\"alignmentgroup\": \"True\", \"bingroup\": \"x\", \"hovertemplate\": \"Cluster=Cluster 0<br>petallength=%{x}<br>count=%{y}<extra></extra>\", \"legendgroup\": \"Cluster 0\", \"marker\": {\"color\": \"#636efa\", \"opacity\": 0.7}, \"name\": \"Cluster 0\", \"offsetgroup\": \"Cluster 0\", \"orientation\": \"v\", \"showlegend\": true, \"type\": \"histogram\", \"x\": [1.4, 1.5, 1.4, 1.6, 1.6, 1.5, 1.5, 1.4, 1.5, 1.2, 1.3, 1.5, 1.3, 1.5, 1.3, 1.3, 1.6, 1.9, 1.4, 1.6, 1.5, 1.4, 1.6, 1.6, 1.4, 1.7, 1.4, 1.3, 1.5, 1.4, 1.7, 1.4, 1.5, 1.4, 1.5, 1.5, 1.6, 1.9, 1.1, 1.2, 1.5, 1.3, 1.4, 1.7, 1.5, 1.7, 1.4, 1.5, 1.0], \"xaxis\": \"x\", \"yaxis\": \"y\"}, {\"alignmentgroup\": \"True\", \"customdata\": [[5.1, 3.5, 0.2, \"Iris-setosa\", \"Cluster 0\"], [5.2, 3.5, 0.2, \"Iris-setosa\", \"Cluster 0\"], [5.2, 3.4, 0.2, \"Iris-setosa\", \"Cluster 0\"], [4.7, 3.2, 0.2, \"Iris-setosa\", \"Cluster 0\"], [4.8, 3.1, 0.2, \"Iris-setosa\", \"Cluster 0\"], [5.4, 3.4, 0.4, \"Iris-setosa\", \"Cluster 0\"], [5.2, 4.1, 0.1, \"Iris-setosa\", \"Cluster 0\"], [5.5, 4.2, 0.2, \"Iris-setosa\", \"Cluster 0\"], [4.9, 3.1, 0.1, \"Iris-setosa\", \"Cluster 0\"], [5.0, 3.2, 0.2, \"Iris-setosa\", \"Cluster 0\"], [5.5, 3.5, 0.2, \"Iris-setosa\", \"Cluster 0\"], [4.9, 3.1, 0.1, \"Iris-setosa\", \"Cluster 0\"], [4.4, 3.0, 0.2, \"Iris-setosa\", \"Cluster 0\"], [5.1, 3.4, 0.2, \"Iris-setosa\", \"Cluster 0\"], [5.0, 3.5, 0.3, \"Iris-setosa\", \"Cluster 0\"], [4.4, 3.2, 0.2, \"Iris-setosa\", \"Cluster 0\"], [5.0, 3.5, 0.6, \"Iris-setosa\", \"Cluster 0\"], [5.1, 3.8, 0.4, \"Iris-setosa\", \"Cluster 0\"], [4.8, 3.0, 0.3, \"Iris-setosa\", \"Cluster 0\"], [5.1, 3.8, 0.2, \"Iris-setosa\", \"Cluster 0\"], [5.3, 3.7, 0.2, \"Iris-setosa\", \"Cluster 0\"], [5.0, 3.3, 0.2, \"Iris-setosa\", \"Cluster 0\"], [5.0, 3.4, 0.4, \"Iris-setosa\", \"Cluster 0\"], [5.0, 3.0, 0.2, \"Iris-setosa\", \"Cluster 0\"], [4.6, 3.2, 0.2, \"Iris-setosa\", \"Cluster 0\"], [5.1, 3.3, 0.5, \"Iris-setosa\", \"Cluster 0\"], [4.9, 3.0, 0.2, \"Iris-setosa\", \"Cluster 0\"], [4.7, 3.2, 0.2, \"Iris-setosa\", \"Cluster 0\"], [4.6, 3.1, 0.2, \"Iris-setosa\", \"Cluster 0\"], [5.0, 3.6, 0.2, \"Iris-setosa\", \"Cluster 0\"], [5.4, 3.9, 0.4, \"Iris-setosa\", \"Cluster 0\"], [4.6, 3.4, 0.3, \"Iris-setosa\", \"Cluster 0\"], [5.0, 3.4, 0.2, \"Iris-setosa\", \"Cluster 0\"], [4.4, 2.9, 0.2, \"Iris-setosa\", \"Cluster 0\"], [4.9, 3.1, 0.1, \"Iris-setosa\", \"Cluster 0\"], [5.4, 3.7, 0.2, \"Iris-setosa\", \"Cluster 0\"], [4.8, 3.4, 0.2, \"Iris-setosa\", \"Cluster 0\"], [4.8, 3.4, 0.2, \"Iris-setosa\", \"Cluster 0\"], [4.3, 3.0, 0.1, \"Iris-setosa\", \"Cluster 0\"], [5.8, 4.0, 0.2, \"Iris-setosa\", \"Cluster 0\"], [5.7, 4.4, 0.4, \"Iris-setosa\", \"Cluster 0\"], [5.4, 3.9, 0.4, \"Iris-setosa\", \"Cluster 0\"], [5.1, 3.5, 0.3, \"Iris-setosa\", \"Cluster 0\"], [5.7, 3.8, 0.3, \"Iris-setosa\", \"Cluster 0\"], [5.1, 3.8, 0.3, \"Iris-setosa\", \"Cluster 0\"], [5.4, 3.4, 0.2, \"Iris-setosa\", \"Cluster 0\"], [4.8, 3.0, 0.1, \"Iris-setosa\", \"Cluster 0\"], [5.1, 3.7, 0.4, \"Iris-setosa\", \"Cluster 0\"], [4.6, 3.6, 0.2, \"Iris-setosa\", \"Cluster 0\"]], \"hovertemplate\": \"Cluster=%{customdata[4]}<br>petallength=%{x}<br>sepallength=%{customdata[0]}<br>sepalwidth=%{customdata[1]}<br>petalwidth=%{customdata[2]}<br>class=%{customdata[3]}<extra></extra>\", \"legendgroup\": \"Cluster 0\", \"marker\": {\"color\": \"#636efa\"}, \"name\": \"Cluster 0\", \"notched\": true, \"offsetgroup\": \"Cluster 0\", \"showlegend\": false, \"type\": \"box\", \"x\": [1.4, 1.5, 1.4, 1.6, 1.6, 1.5, 1.5, 1.4, 1.5, 1.2, 1.3, 1.5, 1.3, 1.5, 1.3, 1.3, 1.6, 1.9, 1.4, 1.6, 1.5, 1.4, 1.6, 1.6, 1.4, 1.7, 1.4, 1.3, 1.5, 1.4, 1.7, 1.4, 1.5, 1.4, 1.5, 1.5, 1.6, 1.9, 1.1, 1.2, 1.5, 1.3, 1.4, 1.7, 1.5, 1.7, 1.4, 1.5, 1.0], \"xaxis\": \"x2\", \"yaxis\": \"y2\"}, {\"alignmentgroup\": \"True\", \"bingroup\": \"x\", \"hovertemplate\": \"Cluster=Cluster 1<br>petallength=%{x}<br>count=%{y}<extra></extra>\", \"legendgroup\": \"Cluster 1\", \"marker\": {\"color\": \"#EF553B\", \"opacity\": 0.7}, \"name\": \"Cluster 1\", \"offsetgroup\": \"Cluster 1\", \"orientation\": \"v\", \"showlegend\": true, \"type\": \"histogram\", \"x\": [5.3, 5.5, 6.7, 6.7, 5.7, 4.9, 5.1, 6.9, 4.9, 5.6, 5.5, 5.3, 5.1, 6.1, 5.8, 6.3, 6.6, 5.8, 5.7, 5.9, 5.0, 6.0, 5.5, 4.9, 5.2, 5.1, 5.0, 5.2, 5.7, 5.9, 5.1, 5.1, 5.6, 4.8, 5.4, 5.6, 6.1, 5.6, 5.1, 5.6, 6.4, 6.1, 5.8, 5.6, 4.8, 6.0, 5.1, 5.4], \"xaxis\": \"x\", \"yaxis\": \"y\"}, {\"alignmentgroup\": \"True\", \"customdata\": [[6.4, 3.2, 2.3, \"Iris-virginica\", \"Cluster 1\"], [6.5, 3.0, 1.8, \"Iris-virginica\", \"Cluster 1\"], [7.7, 3.8, 2.2, \"Iris-virginica\", \"Cluster 1\"], [7.7, 2.8, 2.0, \"Iris-virginica\", \"Cluster 1\"], [6.9, 3.2, 2.3, \"Iris-virginica\", \"Cluster 1\"], [5.6, 2.8, 2.0, \"Iris-virginica\", \"Cluster 1\"], [5.8, 2.8, 2.4, \"Iris-virginica\", \"Cluster 1\"], [7.7, 2.6, 2.3, \"Iris-virginica\", \"Cluster 1\"], [6.3, 2.7, 1.8, \"Iris-virginica\", \"Cluster 1\"], [6.3, 2.9, 1.8, \"Iris-virginica\", \"Cluster 1\"], [6.8, 3.0, 2.1, \"Iris-virginica\", \"Cluster 1\"], [6.4, 2.7, 1.9, \"Iris-virginica\", \"Cluster 1\"], [6.5, 3.2, 2.0, \"Iris-virginica\", \"Cluster 1\"], [7.2, 3.6, 2.5, \"Iris-virginica\", \"Cluster 1\"], [6.7, 2.5, 1.8, \"Iris-virginica\", \"Cluster 1\"], [7.3, 2.9, 1.8, \"Iris-virginica\", \"Cluster 1\"], [7.6, 3.0, 2.1, \"Iris-virginica\", \"Cluster 1\"], [6.5, 3.0, 2.2, \"Iris-virginica\", \"Cluster 1\"], [6.7, 3.3, 2.1, \"Iris-virginica\", \"Cluster 1\"], [7.1, 3.0, 2.1, \"Iris-virginica\", \"Cluster 1\"], [5.7, 2.5, 2.0, \"Iris-virginica\", \"Cluster 1\"], [7.2, 3.2, 1.8, \"Iris-virginica\", \"Cluster 1\"], [6.4, 3.1, 1.8, \"Iris-virginica\", \"Cluster 1\"], [6.1, 3.0, 1.8, \"Iris-virginica\", \"Cluster 1\"], [6.5, 3.0, 2.0, \"Iris-virginica\", \"Cluster 1\"], [5.8, 2.7, 1.9, \"Iris-virginica\", \"Cluster 1\"], [6.3, 2.5, 1.9, \"Iris-virginica\", \"Cluster 1\"], [6.7, 3.0, 2.3, \"Iris-virginica\", \"Cluster 1\"], [6.7, 3.3, 2.5, \"Iris-virginica\", \"Cluster 1\"], [6.8, 3.2, 2.3, \"Iris-virginica\", \"Cluster 1\"], [5.8, 2.7, 1.9, \"Iris-virginica\", \"Cluster 1\"], [6.9, 3.1, 2.3, \"Iris-virginica\", \"Cluster 1\"], [6.7, 3.1, 2.4, \"Iris-virginica\", \"Cluster 1\"], [6.2, 2.8, 1.8, \"Iris-virginica\", \"Cluster 1\"], [6.9, 3.1, 2.1, \"Iris-virginica\", \"Cluster 1\"], [6.3, 3.4, 2.4, \"Iris-virginica\", \"Cluster 1\"], [7.7, 3.0, 2.3, \"Iris-virginica\", \"Cluster 1\"], [6.1, 2.6, 1.4, \"Iris-virginica\", \"Cluster 1\"], [6.3, 2.8, 1.5, \"Iris-virginica\", \"Cluster 1\"], [6.4, 2.8, 2.2, \"Iris-virginica\", \"Cluster 1\"], [7.9, 3.8, 2.0, \"Iris-virginica\", \"Cluster 1\"], [7.4, 2.8, 1.9, \"Iris-virginica\", \"Cluster 1\"], [7.2, 3.0, 1.6, \"Iris-virginica\", \"Cluster 1\"], [6.4, 2.8, 2.1, \"Iris-virginica\", \"Cluster 1\"], [6.0, 3.0, 1.8, \"Iris-virginica\", \"Cluster 1\"], [6.3, 3.3, 2.5, \"Iris-virginica\", \"Cluster 1\"], [5.9, 3.0, 1.8, \"Iris-virginica\", \"Cluster 1\"], [6.2, 3.4, 2.3, \"Iris-virginica\", \"Cluster 1\"]], \"hovertemplate\": \"Cluster=%{customdata[4]}<br>petallength=%{x}<br>sepallength=%{customdata[0]}<br>sepalwidth=%{customdata[1]}<br>petalwidth=%{customdata[2]}<br>class=%{customdata[3]}<extra></extra>\", \"legendgroup\": \"Cluster 1\", \"marker\": {\"color\": \"#EF553B\"}, \"name\": \"Cluster 1\", \"notched\": true, \"offsetgroup\": \"Cluster 1\", \"showlegend\": false, \"type\": \"box\", \"x\": [5.3, 5.5, 6.7, 6.7, 5.7, 4.9, 5.1, 6.9, 4.9, 5.6, 5.5, 5.3, 5.1, 6.1, 5.8, 6.3, 6.6, 5.8, 5.7, 5.9, 5.0, 6.0, 5.5, 4.9, 5.2, 5.1, 5.0, 5.2, 5.7, 5.9, 5.1, 5.1, 5.6, 4.8, 5.4, 5.6, 6.1, 5.6, 5.1, 5.6, 6.4, 6.1, 5.8, 5.6, 4.8, 6.0, 5.1, 5.4], \"xaxis\": \"x2\", \"yaxis\": \"y2\"}, {\"alignmentgroup\": \"True\", \"bingroup\": \"x\", \"hovertemplate\": \"Cluster=Cluster 2<br>petallength=%{x}<br>count=%{y}<extra></extra>\", \"legendgroup\": \"Cluster 2\", \"marker\": {\"color\": \"#00cc96\", \"opacity\": 0.7}, \"name\": \"Cluster 2\", \"offsetgroup\": \"Cluster 2\", \"orientation\": \"v\", \"showlegend\": true, \"type\": \"histogram\", \"x\": [4.4, 4.2, 4.7, 4.9, 4.0, 4.8, 4.5, 4.4, 4.8, 3.6, 4.2, 4.6, 4.7, 4.5, 4.6, 4.9, 4.5, 4.7, 4.7, 5.0, 4.2, 4.3, 4.5, 4.1, 4.6, 4.5, 4.5, 4.7, 4.1, 4.3, 5.1], \"xaxis\": \"x\", \"yaxis\": \"y\"}, {\"alignmentgroup\": \"True\", \"customdata\": [[6.6, 3.0, 1.4, \"Iris-versicolor\", \"Cluster 2\"], [5.7, 3.0, 1.2, \"Iris-versicolor\", \"Cluster 2\"], [6.1, 2.8, 1.2, \"Iris-versicolor\", \"Cluster 2\"], [6.3, 2.5, 1.5, \"Iris-versicolor\", \"Cluster 2\"], [6.1, 2.8, 1.3, \"Iris-versicolor\", \"Cluster 2\"], [5.9, 3.2, 1.8, \"Iris-versicolor\", \"Cluster 2\"], [5.6, 3.0, 1.5, \"Iris-versicolor\", \"Cluster 2\"], [6.7, 3.1, 1.4, \"Iris-versicolor\", \"Cluster 2\"], [6.8, 2.8, 1.4, \"Iris-versicolor\", \"Cluster 2\"], [5.6, 2.9, 1.3, \"Iris-versicolor\", \"Cluster 2\"], [5.9, 3.0, 1.5, \"Iris-versicolor\", \"Cluster 2\"], [6.6, 2.9, 1.3, \"Iris-versicolor\", \"Cluster 2\"], [6.3, 3.3, 1.6, \"Iris-versicolor\", \"Cluster 2\"], [5.7, 2.8, 1.3, \"Iris-versicolor\", \"Cluster 2\"], [6.5, 2.8, 1.5, \"Iris-versicolor\", \"Cluster 2\"], [6.9, 3.1, 1.5, \"Iris-versicolor\", \"Cluster 2\"], [6.4, 3.2, 1.5, \"Iris-versicolor\", \"Cluster 2\"], [7.0, 3.2, 1.4, \"Iris-versicolor\", \"Cluster 2\"], [6.1, 2.9, 1.4, \"Iris-versicolor\", \"Cluster 2\"], [6.7, 3.0, 1.7, \"Iris-versicolor\", \"Cluster 2\"], [5.7, 2.9, 1.3, \"Iris-versicolor\", \"Cluster 2\"], [6.4, 2.9, 1.3, \"Iris-versicolor\", \"Cluster 2\"], [6.0, 2.9, 1.5, \"Iris-versicolor\", \"Cluster 2\"], [5.6, 3.0, 1.3, \"Iris-versicolor\", \"Cluster 2\"], [6.1, 3.0, 1.4, \"Iris-versicolor\", \"Cluster 2\"], [6.0, 3.4, 1.6, \"Iris-versicolor\", \"Cluster 2\"], [5.4, 3.0, 1.5, \"Iris-versicolor\", \"Cluster 2\"], [6.7, 3.1, 1.5, \"Iris-versicolor\", \"Cluster 2\"], [5.7, 2.8, 1.3, \"Iris-versicolor\", \"Cluster 2\"], [6.2, 2.9, 1.3, \"Iris-versicolor\", \"Cluster 2\"], [6.0, 2.7, 1.6, \"Iris-versicolor\", \"Cluster 2\"]], \"hovertemplate\": \"Cluster=%{customdata[4]}<br>petallength=%{x}<br>sepallength=%{customdata[0]}<br>sepalwidth=%{customdata[1]}<br>petalwidth=%{customdata[2]}<br>class=%{customdata[3]}<extra></extra>\", \"legendgroup\": \"Cluster 2\", \"marker\": {\"color\": \"#00cc96\"}, \"name\": \"Cluster 2\", \"notched\": true, \"offsetgroup\": \"Cluster 2\", \"showlegend\": false, \"type\": \"box\", \"x\": [4.4, 4.2, 4.7, 4.9, 4.0, 4.8, 4.5, 4.4, 4.8, 3.6, 4.2, 4.6, 4.7, 4.5, 4.6, 4.9, 4.5, 4.7, 4.7, 5.0, 4.2, 4.3, 4.5, 4.1, 4.6, 4.5, 4.5, 4.7, 4.1, 4.3, 5.1], \"xaxis\": \"x2\", \"yaxis\": \"y2\"}, {\"alignmentgroup\": \"True\", \"bingroup\": \"x\", \"hovertemplate\": \"Cluster=Cluster 3<br>petallength=%{x}<br>count=%{y}<extra></extra>\", \"legendgroup\": \"Cluster 3\", \"marker\": {\"color\": \"#ab63fa\", \"opacity\": 0.7}, \"name\": \"Cluster 3\", \"offsetgroup\": \"Cluster 3\", \"orientation\": \"v\", \"showlegend\": true, \"type\": \"histogram\", \"x\": [3.0, 4.0, 4.2, 3.3, 4.0, 3.3, 1.3, 3.9, 3.5, 4.4, 4.0, 4.5, 4.4, 4.1, 4.5, 3.9, 3.9, 3.7, 3.8, 5.0, 3.5, 4.0], \"xaxis\": \"x\", \"yaxis\": \"y\"}, {\"alignmentgroup\": \"True\", \"customdata\": [[5.1, 2.5, 1.1, \"Iris-versicolor\", \"Cluster 3\"], [5.5, 2.3, 1.3, \"Iris-versicolor\", \"Cluster 3\"], [5.6, 2.7, 1.3, \"Iris-versicolor\", \"Cluster 3\"], [5.0, 2.3, 1.0, \"Iris-versicolor\", \"Cluster 3\"], [5.8, 2.6, 1.2, \"Iris-versicolor\", \"Cluster 3\"], [4.9, 2.4, 1.0, \"Iris-versicolor\", \"Cluster 3\"], [4.5, 2.3, 0.3, \"Iris-setosa\", \"Cluster 3\"], [5.2, 2.7, 1.4, \"Iris-versicolor\", \"Cluster 3\"], [5.7, 2.6, 1.0, \"Iris-versicolor\", \"Cluster 3\"], [5.5, 2.6, 1.2, \"Iris-versicolor\", \"Cluster 3\"], [6.0, 2.2, 1.0, \"Iris-versicolor\", \"Cluster 3\"], [4.9, 2.5, 1.7, \"Iris-virginica\", \"Cluster 3\"], [6.3, 2.3, 1.3, \"Iris-versicolor\", \"Cluster 3\"], [5.8, 2.7, 1.0, \"Iris-versicolor\", \"Cluster 3\"], [6.2, 2.2, 1.5, \"Iris-versicolor\", \"Cluster 3\"], [5.6, 2.5, 1.1, \"Iris-versicolor\", \"Cluster 3\"], [5.8, 2.7, 1.2, \"Iris-versicolor\", \"Cluster 3\"], [5.5, 2.4, 1.0, \"Iris-versicolor\", \"Cluster 3\"], [5.5, 2.4, 1.1, \"Iris-versicolor\", \"Cluster 3\"], [6.0, 2.2, 1.5, \"Iris-virginica\", \"Cluster 3\"], [5.0, 2.0, 1.0, \"Iris-versicolor\", \"Cluster 3\"], [5.5, 2.5, 1.3, \"Iris-versicolor\", \"Cluster 3\"]], \"hovertemplate\": \"Cluster=%{customdata[4]}<br>petallength=%{x}<br>sepallength=%{customdata[0]}<br>sepalwidth=%{customdata[1]}<br>petalwidth=%{customdata[2]}<br>class=%{customdata[3]}<extra></extra>\", \"legendgroup\": \"Cluster 3\", \"marker\": {\"color\": \"#ab63fa\"}, \"name\": \"Cluster 3\", \"notched\": true, \"offsetgroup\": \"Cluster 3\", \"showlegend\": false, \"type\": \"box\", \"x\": [3.0, 4.0, 4.2, 3.3, 4.0, 3.3, 1.3, 3.9, 3.5, 4.4, 4.0, 4.5, 4.4, 4.1, 4.5, 3.9, 3.9, 3.7, 3.8, 5.0, 3.5, 4.0], \"xaxis\": \"x2\", \"yaxis\": \"y2\"}],                        {\"barmode\": \"relative\", \"height\": 600, \"legend\": {\"title\": {\"text\": \"Cluster\"}, \"tracegroupgap\": 0}, \"margin\": {\"t\": 60}, \"template\": {\"data\": {\"bar\": [{\"error_x\": {\"color\": \"#2a3f5f\"}, \"error_y\": {\"color\": \"#2a3f5f\"}, \"marker\": {\"line\": {\"color\": \"#E5ECF6\", \"width\": 0.5}}, \"type\": \"bar\"}], \"barpolar\": [{\"marker\": {\"line\": {\"color\": \"#E5ECF6\", \"width\": 0.5}}, \"type\": \"barpolar\"}], \"carpet\": [{\"aaxis\": {\"endlinecolor\": \"#2a3f5f\", \"gridcolor\": \"white\", \"linecolor\": \"white\", \"minorgridcolor\": \"white\", \"startlinecolor\": \"#2a3f5f\"}, \"baxis\": {\"endlinecolor\": \"#2a3f5f\", \"gridcolor\": \"white\", \"linecolor\": \"white\", \"minorgridcolor\": \"white\", \"startlinecolor\": \"#2a3f5f\"}, \"type\": \"carpet\"}], \"choropleth\": [{\"colorbar\": {\"outlinewidth\": 0, \"ticks\": \"\"}, \"type\": \"choropleth\"}], \"contour\": [{\"colorbar\": {\"outlinewidth\": 0, \"ticks\": \"\"}, \"colorscale\": [[0.0, \"#0d0887\"], [0.1111111111111111, \"#46039f\"], [0.2222222222222222, \"#7201a8\"], [0.3333333333333333, \"#9c179e\"], [0.4444444444444444, \"#bd3786\"], [0.5555555555555556, \"#d8576b\"], [0.6666666666666666, \"#ed7953\"], [0.7777777777777778, \"#fb9f3a\"], [0.8888888888888888, \"#fdca26\"], [1.0, \"#f0f921\"]], \"type\": \"contour\"}], \"contourcarpet\": [{\"colorbar\": {\"outlinewidth\": 0, \"ticks\": \"\"}, \"type\": \"contourcarpet\"}], \"heatmap\": [{\"colorbar\": {\"outlinewidth\": 0, \"ticks\": \"\"}, \"colorscale\": [[0.0, \"#0d0887\"], [0.1111111111111111, \"#46039f\"], [0.2222222222222222, \"#7201a8\"], [0.3333333333333333, \"#9c179e\"], [0.4444444444444444, \"#bd3786\"], [0.5555555555555556, \"#d8576b\"], [0.6666666666666666, \"#ed7953\"], [0.7777777777777778, \"#fb9f3a\"], [0.8888888888888888, \"#fdca26\"], [1.0, \"#f0f921\"]], \"type\": \"heatmap\"}], \"heatmapgl\": [{\"colorbar\": {\"outlinewidth\": 0, \"ticks\": \"\"}, \"colorscale\": [[0.0, \"#0d0887\"], [0.1111111111111111, \"#46039f\"], [0.2222222222222222, \"#7201a8\"], [0.3333333333333333, \"#9c179e\"], [0.4444444444444444, \"#bd3786\"], [0.5555555555555556, \"#d8576b\"], [0.6666666666666666, \"#ed7953\"], [0.7777777777777778, \"#fb9f3a\"], [0.8888888888888888, \"#fdca26\"], [1.0, \"#f0f921\"]], \"type\": \"heatmapgl\"}], \"histogram\": [{\"marker\": {\"colorbar\": {\"outlinewidth\": 0, \"ticks\": \"\"}}, \"type\": \"histogram\"}], \"histogram2d\": [{\"colorbar\": {\"outlinewidth\": 0, \"ticks\": \"\"}, \"colorscale\": [[0.0, \"#0d0887\"], [0.1111111111111111, \"#46039f\"], [0.2222222222222222, \"#7201a8\"], [0.3333333333333333, \"#9c179e\"], [0.4444444444444444, \"#bd3786\"], [0.5555555555555556, \"#d8576b\"], [0.6666666666666666, \"#ed7953\"], [0.7777777777777778, \"#fb9f3a\"], [0.8888888888888888, \"#fdca26\"], [1.0, \"#f0f921\"]], \"type\": \"histogram2d\"}], \"histogram2dcontour\": [{\"colorbar\": {\"outlinewidth\": 0, \"ticks\": \"\"}, \"colorscale\": [[0.0, \"#0d0887\"], [0.1111111111111111, \"#46039f\"], [0.2222222222222222, \"#7201a8\"], [0.3333333333333333, \"#9c179e\"], [0.4444444444444444, \"#bd3786\"], [0.5555555555555556, \"#d8576b\"], [0.6666666666666666, \"#ed7953\"], [0.7777777777777778, \"#fb9f3a\"], [0.8888888888888888, \"#fdca26\"], [1.0, \"#f0f921\"]], \"type\": \"histogram2dcontour\"}], \"mesh3d\": [{\"colorbar\": {\"outlinewidth\": 0, \"ticks\": \"\"}, \"type\": \"mesh3d\"}], \"parcoords\": [{\"line\": {\"colorbar\": {\"outlinewidth\": 0, \"ticks\": \"\"}}, \"type\": \"parcoords\"}], \"pie\": [{\"automargin\": true, \"type\": \"pie\"}], \"scatter\": [{\"marker\": {\"colorbar\": {\"outlinewidth\": 0, \"ticks\": \"\"}}, \"type\": \"scatter\"}], \"scatter3d\": [{\"line\": {\"colorbar\": {\"outlinewidth\": 0, \"ticks\": \"\"}}, \"marker\": {\"colorbar\": {\"outlinewidth\": 0, \"ticks\": \"\"}}, \"type\": \"scatter3d\"}], \"scattercarpet\": [{\"marker\": {\"colorbar\": {\"outlinewidth\": 0, \"ticks\": \"\"}}, \"type\": \"scattercarpet\"}], \"scattergeo\": [{\"marker\": {\"colorbar\": {\"outlinewidth\": 0, \"ticks\": \"\"}}, \"type\": \"scattergeo\"}], \"scattergl\": [{\"marker\": {\"colorbar\": {\"outlinewidth\": 0, \"ticks\": \"\"}}, \"type\": \"scattergl\"}], \"scattermapbox\": [{\"marker\": {\"colorbar\": {\"outlinewidth\": 0, \"ticks\": \"\"}}, \"type\": \"scattermapbox\"}], \"scatterpolar\": [{\"marker\": {\"colorbar\": {\"outlinewidth\": 0, \"ticks\": \"\"}}, \"type\": \"scatterpolar\"}], \"scatterpolargl\": [{\"marker\": {\"colorbar\": {\"outlinewidth\": 0, \"ticks\": \"\"}}, \"type\": \"scatterpolargl\"}], \"scatterternary\": [{\"marker\": {\"colorbar\": {\"outlinewidth\": 0, \"ticks\": \"\"}}, \"type\": \"scatterternary\"}], \"surface\": [{\"colorbar\": {\"outlinewidth\": 0, \"ticks\": \"\"}, \"colorscale\": [[0.0, \"#0d0887\"], [0.1111111111111111, \"#46039f\"], [0.2222222222222222, \"#7201a8\"], [0.3333333333333333, \"#9c179e\"], [0.4444444444444444, \"#bd3786\"], [0.5555555555555556, \"#d8576b\"], [0.6666666666666666, \"#ed7953\"], [0.7777777777777778, \"#fb9f3a\"], [0.8888888888888888, \"#fdca26\"], [1.0, \"#f0f921\"]], \"type\": \"surface\"}], \"table\": [{\"cells\": {\"fill\": {\"color\": \"#EBF0F8\"}, \"line\": {\"color\": \"white\"}}, \"header\": {\"fill\": {\"color\": \"#C8D4E3\"}, \"line\": {\"color\": \"white\"}}, \"type\": \"table\"}]}, \"layout\": {\"annotationdefaults\": {\"arrowcolor\": \"#2a3f5f\", \"arrowhead\": 0, \"arrowwidth\": 1}, \"autotypenumbers\": \"strict\", \"coloraxis\": {\"colorbar\": {\"outlinewidth\": 0, \"ticks\": \"\"}}, \"colorscale\": {\"diverging\": [[0, \"#8e0152\"], [0.1, \"#c51b7d\"], [0.2, \"#de77ae\"], [0.3, \"#f1b6da\"], [0.4, \"#fde0ef\"], [0.5, \"#f7f7f7\"], [0.6, \"#e6f5d0\"], [0.7, \"#b8e186\"], [0.8, \"#7fbc41\"], [0.9, \"#4d9221\"], [1, \"#276419\"]], \"sequential\": [[0.0, \"#0d0887\"], [0.1111111111111111, \"#46039f\"], [0.2222222222222222, \"#7201a8\"], [0.3333333333333333, \"#9c179e\"], [0.4444444444444444, \"#bd3786\"], [0.5555555555555556, \"#d8576b\"], [0.6666666666666666, \"#ed7953\"], [0.7777777777777778, \"#fb9f3a\"], [0.8888888888888888, \"#fdca26\"], [1.0, \"#f0f921\"]], \"sequentialminus\": [[0.0, \"#0d0887\"], [0.1111111111111111, \"#46039f\"], [0.2222222222222222, \"#7201a8\"], [0.3333333333333333, \"#9c179e\"], [0.4444444444444444, \"#bd3786\"], [0.5555555555555556, \"#d8576b\"], [0.6666666666666666, \"#ed7953\"], [0.7777777777777778, \"#fb9f3a\"], [0.8888888888888888, \"#fdca26\"], [1.0, \"#f0f921\"]]}, \"colorway\": [\"#636efa\", \"#EF553B\", \"#00cc96\", \"#ab63fa\", \"#FFA15A\", \"#19d3f3\", \"#FF6692\", \"#B6E880\", \"#FF97FF\", \"#FECB52\"], \"font\": {\"color\": \"#2a3f5f\"}, \"geo\": {\"bgcolor\": \"white\", \"lakecolor\": \"white\", \"landcolor\": \"#E5ECF6\", \"showlakes\": true, \"showland\": true, \"subunitcolor\": \"white\"}, \"hoverlabel\": {\"align\": \"left\"}, \"hovermode\": \"closest\", \"mapbox\": {\"style\": \"light\"}, \"paper_bgcolor\": \"white\", \"plot_bgcolor\": \"#E5ECF6\", \"polar\": {\"angularaxis\": {\"gridcolor\": \"white\", \"linecolor\": \"white\", \"ticks\": \"\"}, \"bgcolor\": \"#E5ECF6\", \"radialaxis\": {\"gridcolor\": \"white\", \"linecolor\": \"white\", \"ticks\": \"\"}}, \"scene\": {\"xaxis\": {\"backgroundcolor\": \"#E5ECF6\", \"gridcolor\": \"white\", \"gridwidth\": 2, \"linecolor\": \"white\", \"showbackground\": true, \"ticks\": \"\", \"zerolinecolor\": \"white\"}, \"yaxis\": {\"backgroundcolor\": \"#E5ECF6\", \"gridcolor\": \"white\", \"gridwidth\": 2, \"linecolor\": \"white\", \"showbackground\": true, \"ticks\": \"\", \"zerolinecolor\": \"white\"}, \"zaxis\": {\"backgroundcolor\": \"#E5ECF6\", \"gridcolor\": \"white\", \"gridwidth\": 2, \"linecolor\": \"white\", \"showbackground\": true, \"ticks\": \"\", \"zerolinecolor\": \"white\"}}, \"shapedefaults\": {\"line\": {\"color\": \"#2a3f5f\"}}, \"ternary\": {\"aaxis\": {\"gridcolor\": \"white\", \"linecolor\": \"white\", \"ticks\": \"\"}, \"baxis\": {\"gridcolor\": \"white\", \"linecolor\": \"white\", \"ticks\": \"\"}, \"bgcolor\": \"#E5ECF6\", \"caxis\": {\"gridcolor\": \"white\", \"linecolor\": \"white\", \"ticks\": \"\"}}, \"title\": {\"x\": 0.05}, \"xaxis\": {\"automargin\": true, \"gridcolor\": \"white\", \"linecolor\": \"white\", \"ticks\": \"\", \"title\": {\"standoff\": 15}, \"zerolinecolor\": \"white\", \"zerolinewidth\": 2}, \"yaxis\": {\"automargin\": true, \"gridcolor\": \"white\", \"linecolor\": \"white\", \"ticks\": \"\", \"title\": {\"standoff\": 15}, \"zerolinecolor\": \"white\", \"zerolinewidth\": 2}}}, \"xaxis\": {\"anchor\": \"y\", \"domain\": [0.0, 1.0], \"title\": {\"text\": \"petallength\"}}, \"xaxis2\": {\"anchor\": \"y2\", \"domain\": [0.0, 1.0], \"matches\": \"x\", \"showgrid\": true, \"showticklabels\": false}, \"yaxis\": {\"anchor\": \"x\", \"domain\": [0.0, 0.7326], \"title\": {\"text\": \"count\"}}, \"yaxis2\": {\"anchor\": \"x2\", \"domain\": [0.7426, 1.0], \"matches\": \"y2\", \"showgrid\": false, \"showline\": false, \"showticklabels\": false, \"ticks\": \"\"}},                        {\"responsive\": true}                    ).then(function(){\n",
       "                            \n",
       "var gd = document.getElementById('dbbde91d-92e5-4bdf-afb0-cdad3164ee7a');\n",
       "var x = new MutationObserver(function (mutations, observer) {{\n",
       "        var display = window.getComputedStyle(gd).display;\n",
       "        if (!display || display === 'none') {{\n",
       "            console.log([gd, 'removed!']);\n",
       "            Plotly.purge(gd);\n",
       "            observer.disconnect();\n",
       "        }}\n",
       "}});\n",
       "\n",
       "// Listen for the removal of the full notebook cells\n",
       "var notebookContainer = gd.closest('#notebook-container');\n",
       "if (notebookContainer) {{\n",
       "    x.observe(notebookContainer, {childList: true});\n",
       "}}\n",
       "\n",
       "// Listen for the clearing of the current output cell\n",
       "var outputEl = gd.closest('.output');\n",
       "if (outputEl) {{\n",
       "    x.observe(outputEl, {childList: true});\n",
       "}}\n",
       "\n",
       "                        })                };                });            </script>        </div>"
      ]
     },
     "metadata": {},
     "output_type": "display_data"
    }
   ],
   "source": [
    "plot_model(kmeans,plot='distribution',feature='petallength')"
   ]
  },
  {
   "cell_type": "code",
   "execution_count": 44,
   "metadata": {},
   "outputs": [
    {
     "data": {
      "application/vnd.plotly.v1+json": {
       "config": {
        "plotlyServerURL": "https://plot.ly"
       },
       "data": [
        {
         "alignmentgroup": "True",
         "bingroup": "x",
         "hovertemplate": "Cluster=Cluster 0<br>sepallength=%{x}<br>count=%{y}<extra></extra>",
         "legendgroup": "Cluster 0",
         "marker": {
          "color": "#636efa",
          "opacity": 0.7
         },
         "name": "Cluster 0",
         "offsetgroup": "Cluster 0",
         "orientation": "v",
         "showlegend": true,
         "type": "histogram",
         "x": [
          5.1,
          5.2,
          5.2,
          4.7,
          4.8,
          5.4,
          5.2,
          5.5,
          4.9,
          5,
          5.5,
          4.9,
          4.4,
          5.1,
          5,
          4.4,
          5,
          5.1,
          4.8,
          5.1,
          5.3,
          5,
          5,
          5,
          4.6,
          5.1,
          4.9,
          4.7,
          4.6,
          5,
          5.4,
          4.6,
          5,
          4.4,
          4.9,
          5.4,
          4.8,
          4.8,
          4.3,
          5.8,
          5.7,
          5.4,
          5.1,
          5.7,
          5.1,
          5.4,
          4.8,
          5.1,
          4.6
         ],
         "xaxis": "x",
         "yaxis": "y"
        },
        {
         "alignmentgroup": "True",
         "customdata": [
          [
           3.5,
           1.4,
           0.2,
           "Iris-setosa",
           "Cluster 0"
          ],
          [
           3.5,
           1.5,
           0.2,
           "Iris-setosa",
           "Cluster 0"
          ],
          [
           3.4,
           1.4,
           0.2,
           "Iris-setosa",
           "Cluster 0"
          ],
          [
           3.2,
           1.6,
           0.2,
           "Iris-setosa",
           "Cluster 0"
          ],
          [
           3.1,
           1.6,
           0.2,
           "Iris-setosa",
           "Cluster 0"
          ],
          [
           3.4,
           1.5,
           0.4,
           "Iris-setosa",
           "Cluster 0"
          ],
          [
           4.1,
           1.5,
           0.1,
           "Iris-setosa",
           "Cluster 0"
          ],
          [
           4.2,
           1.4,
           0.2,
           "Iris-setosa",
           "Cluster 0"
          ],
          [
           3.1,
           1.5,
           0.1,
           "Iris-setosa",
           "Cluster 0"
          ],
          [
           3.2,
           1.2,
           0.2,
           "Iris-setosa",
           "Cluster 0"
          ],
          [
           3.5,
           1.3,
           0.2,
           "Iris-setosa",
           "Cluster 0"
          ],
          [
           3.1,
           1.5,
           0.1,
           "Iris-setosa",
           "Cluster 0"
          ],
          [
           3,
           1.3,
           0.2,
           "Iris-setosa",
           "Cluster 0"
          ],
          [
           3.4,
           1.5,
           0.2,
           "Iris-setosa",
           "Cluster 0"
          ],
          [
           3.5,
           1.3,
           0.3,
           "Iris-setosa",
           "Cluster 0"
          ],
          [
           3.2,
           1.3,
           0.2,
           "Iris-setosa",
           "Cluster 0"
          ],
          [
           3.5,
           1.6,
           0.6,
           "Iris-setosa",
           "Cluster 0"
          ],
          [
           3.8,
           1.9,
           0.4,
           "Iris-setosa",
           "Cluster 0"
          ],
          [
           3,
           1.4,
           0.3,
           "Iris-setosa",
           "Cluster 0"
          ],
          [
           3.8,
           1.6,
           0.2,
           "Iris-setosa",
           "Cluster 0"
          ],
          [
           3.7,
           1.5,
           0.2,
           "Iris-setosa",
           "Cluster 0"
          ],
          [
           3.3,
           1.4,
           0.2,
           "Iris-setosa",
           "Cluster 0"
          ],
          [
           3.4,
           1.6,
           0.4,
           "Iris-setosa",
           "Cluster 0"
          ],
          [
           3,
           1.6,
           0.2,
           "Iris-setosa",
           "Cluster 0"
          ],
          [
           3.2,
           1.4,
           0.2,
           "Iris-setosa",
           "Cluster 0"
          ],
          [
           3.3,
           1.7,
           0.5,
           "Iris-setosa",
           "Cluster 0"
          ],
          [
           3,
           1.4,
           0.2,
           "Iris-setosa",
           "Cluster 0"
          ],
          [
           3.2,
           1.3,
           0.2,
           "Iris-setosa",
           "Cluster 0"
          ],
          [
           3.1,
           1.5,
           0.2,
           "Iris-setosa",
           "Cluster 0"
          ],
          [
           3.6,
           1.4,
           0.2,
           "Iris-setosa",
           "Cluster 0"
          ],
          [
           3.9,
           1.7,
           0.4,
           "Iris-setosa",
           "Cluster 0"
          ],
          [
           3.4,
           1.4,
           0.3,
           "Iris-setosa",
           "Cluster 0"
          ],
          [
           3.4,
           1.5,
           0.2,
           "Iris-setosa",
           "Cluster 0"
          ],
          [
           2.9,
           1.4,
           0.2,
           "Iris-setosa",
           "Cluster 0"
          ],
          [
           3.1,
           1.5,
           0.1,
           "Iris-setosa",
           "Cluster 0"
          ],
          [
           3.7,
           1.5,
           0.2,
           "Iris-setosa",
           "Cluster 0"
          ],
          [
           3.4,
           1.6,
           0.2,
           "Iris-setosa",
           "Cluster 0"
          ],
          [
           3.4,
           1.9,
           0.2,
           "Iris-setosa",
           "Cluster 0"
          ],
          [
           3,
           1.1,
           0.1,
           "Iris-setosa",
           "Cluster 0"
          ],
          [
           4,
           1.2,
           0.2,
           "Iris-setosa",
           "Cluster 0"
          ],
          [
           4.4,
           1.5,
           0.4,
           "Iris-setosa",
           "Cluster 0"
          ],
          [
           3.9,
           1.3,
           0.4,
           "Iris-setosa",
           "Cluster 0"
          ],
          [
           3.5,
           1.4,
           0.3,
           "Iris-setosa",
           "Cluster 0"
          ],
          [
           3.8,
           1.7,
           0.3,
           "Iris-setosa",
           "Cluster 0"
          ],
          [
           3.8,
           1.5,
           0.3,
           "Iris-setosa",
           "Cluster 0"
          ],
          [
           3.4,
           1.7,
           0.2,
           "Iris-setosa",
           "Cluster 0"
          ],
          [
           3,
           1.4,
           0.1,
           "Iris-setosa",
           "Cluster 0"
          ],
          [
           3.7,
           1.5,
           0.4,
           "Iris-setosa",
           "Cluster 0"
          ],
          [
           3.6,
           1,
           0.2,
           "Iris-setosa",
           "Cluster 0"
          ]
         ],
         "hovertemplate": "Cluster=%{customdata[4]}<br>sepallength=%{x}<br>sepalwidth=%{customdata[0]}<br>petallength=%{customdata[1]}<br>petalwidth=%{customdata[2]}<br>class=%{customdata[3]}<extra></extra>",
         "legendgroup": "Cluster 0",
         "marker": {
          "color": "#636efa"
         },
         "name": "Cluster 0",
         "notched": true,
         "offsetgroup": "Cluster 0",
         "showlegend": false,
         "type": "box",
         "x": [
          5.1,
          5.2,
          5.2,
          4.7,
          4.8,
          5.4,
          5.2,
          5.5,
          4.9,
          5,
          5.5,
          4.9,
          4.4,
          5.1,
          5,
          4.4,
          5,
          5.1,
          4.8,
          5.1,
          5.3,
          5,
          5,
          5,
          4.6,
          5.1,
          4.9,
          4.7,
          4.6,
          5,
          5.4,
          4.6,
          5,
          4.4,
          4.9,
          5.4,
          4.8,
          4.8,
          4.3,
          5.8,
          5.7,
          5.4,
          5.1,
          5.7,
          5.1,
          5.4,
          4.8,
          5.1,
          4.6
         ],
         "xaxis": "x2",
         "yaxis": "y2"
        },
        {
         "alignmentgroup": "True",
         "bingroup": "x",
         "hovertemplate": "Cluster=Cluster 1<br>sepallength=%{x}<br>count=%{y}<extra></extra>",
         "legendgroup": "Cluster 1",
         "marker": {
          "color": "#EF553B",
          "opacity": 0.7
         },
         "name": "Cluster 1",
         "offsetgroup": "Cluster 1",
         "orientation": "v",
         "showlegend": true,
         "type": "histogram",
         "x": [
          6.4,
          6.5,
          7.7,
          7.7,
          6.9,
          5.6,
          5.8,
          7.7,
          6.3,
          6.3,
          6.8,
          6.4,
          6.5,
          7.2,
          6.7,
          7.3,
          7.6,
          6.5,
          6.7,
          7.1,
          5.7,
          7.2,
          6.4,
          6.1,
          6.5,
          5.8,
          6.3,
          6.7,
          6.7,
          6.8,
          5.8,
          6.9,
          6.7,
          6.2,
          6.9,
          6.3,
          7.7,
          6.1,
          6.3,
          6.4,
          7.9,
          7.4,
          7.2,
          6.4,
          6,
          6.3,
          5.9,
          6.2
         ],
         "xaxis": "x",
         "yaxis": "y"
        },
        {
         "alignmentgroup": "True",
         "customdata": [
          [
           3.2,
           5.3,
           2.3,
           "Iris-virginica",
           "Cluster 1"
          ],
          [
           3,
           5.5,
           1.8,
           "Iris-virginica",
           "Cluster 1"
          ],
          [
           3.8,
           6.7,
           2.2,
           "Iris-virginica",
           "Cluster 1"
          ],
          [
           2.8,
           6.7,
           2,
           "Iris-virginica",
           "Cluster 1"
          ],
          [
           3.2,
           5.7,
           2.3,
           "Iris-virginica",
           "Cluster 1"
          ],
          [
           2.8,
           4.9,
           2,
           "Iris-virginica",
           "Cluster 1"
          ],
          [
           2.8,
           5.1,
           2.4,
           "Iris-virginica",
           "Cluster 1"
          ],
          [
           2.6,
           6.9,
           2.3,
           "Iris-virginica",
           "Cluster 1"
          ],
          [
           2.7,
           4.9,
           1.8,
           "Iris-virginica",
           "Cluster 1"
          ],
          [
           2.9,
           5.6,
           1.8,
           "Iris-virginica",
           "Cluster 1"
          ],
          [
           3,
           5.5,
           2.1,
           "Iris-virginica",
           "Cluster 1"
          ],
          [
           2.7,
           5.3,
           1.9,
           "Iris-virginica",
           "Cluster 1"
          ],
          [
           3.2,
           5.1,
           2,
           "Iris-virginica",
           "Cluster 1"
          ],
          [
           3.6,
           6.1,
           2.5,
           "Iris-virginica",
           "Cluster 1"
          ],
          [
           2.5,
           5.8,
           1.8,
           "Iris-virginica",
           "Cluster 1"
          ],
          [
           2.9,
           6.3,
           1.8,
           "Iris-virginica",
           "Cluster 1"
          ],
          [
           3,
           6.6,
           2.1,
           "Iris-virginica",
           "Cluster 1"
          ],
          [
           3,
           5.8,
           2.2,
           "Iris-virginica",
           "Cluster 1"
          ],
          [
           3.3,
           5.7,
           2.1,
           "Iris-virginica",
           "Cluster 1"
          ],
          [
           3,
           5.9,
           2.1,
           "Iris-virginica",
           "Cluster 1"
          ],
          [
           2.5,
           5,
           2,
           "Iris-virginica",
           "Cluster 1"
          ],
          [
           3.2,
           6,
           1.8,
           "Iris-virginica",
           "Cluster 1"
          ],
          [
           3.1,
           5.5,
           1.8,
           "Iris-virginica",
           "Cluster 1"
          ],
          [
           3,
           4.9,
           1.8,
           "Iris-virginica",
           "Cluster 1"
          ],
          [
           3,
           5.2,
           2,
           "Iris-virginica",
           "Cluster 1"
          ],
          [
           2.7,
           5.1,
           1.9,
           "Iris-virginica",
           "Cluster 1"
          ],
          [
           2.5,
           5,
           1.9,
           "Iris-virginica",
           "Cluster 1"
          ],
          [
           3,
           5.2,
           2.3,
           "Iris-virginica",
           "Cluster 1"
          ],
          [
           3.3,
           5.7,
           2.5,
           "Iris-virginica",
           "Cluster 1"
          ],
          [
           3.2,
           5.9,
           2.3,
           "Iris-virginica",
           "Cluster 1"
          ],
          [
           2.7,
           5.1,
           1.9,
           "Iris-virginica",
           "Cluster 1"
          ],
          [
           3.1,
           5.1,
           2.3,
           "Iris-virginica",
           "Cluster 1"
          ],
          [
           3.1,
           5.6,
           2.4,
           "Iris-virginica",
           "Cluster 1"
          ],
          [
           2.8,
           4.8,
           1.8,
           "Iris-virginica",
           "Cluster 1"
          ],
          [
           3.1,
           5.4,
           2.1,
           "Iris-virginica",
           "Cluster 1"
          ],
          [
           3.4,
           5.6,
           2.4,
           "Iris-virginica",
           "Cluster 1"
          ],
          [
           3,
           6.1,
           2.3,
           "Iris-virginica",
           "Cluster 1"
          ],
          [
           2.6,
           5.6,
           1.4,
           "Iris-virginica",
           "Cluster 1"
          ],
          [
           2.8,
           5.1,
           1.5,
           "Iris-virginica",
           "Cluster 1"
          ],
          [
           2.8,
           5.6,
           2.2,
           "Iris-virginica",
           "Cluster 1"
          ],
          [
           3.8,
           6.4,
           2,
           "Iris-virginica",
           "Cluster 1"
          ],
          [
           2.8,
           6.1,
           1.9,
           "Iris-virginica",
           "Cluster 1"
          ],
          [
           3,
           5.8,
           1.6,
           "Iris-virginica",
           "Cluster 1"
          ],
          [
           2.8,
           5.6,
           2.1,
           "Iris-virginica",
           "Cluster 1"
          ],
          [
           3,
           4.8,
           1.8,
           "Iris-virginica",
           "Cluster 1"
          ],
          [
           3.3,
           6,
           2.5,
           "Iris-virginica",
           "Cluster 1"
          ],
          [
           3,
           5.1,
           1.8,
           "Iris-virginica",
           "Cluster 1"
          ],
          [
           3.4,
           5.4,
           2.3,
           "Iris-virginica",
           "Cluster 1"
          ]
         ],
         "hovertemplate": "Cluster=%{customdata[4]}<br>sepallength=%{x}<br>sepalwidth=%{customdata[0]}<br>petallength=%{customdata[1]}<br>petalwidth=%{customdata[2]}<br>class=%{customdata[3]}<extra></extra>",
         "legendgroup": "Cluster 1",
         "marker": {
          "color": "#EF553B"
         },
         "name": "Cluster 1",
         "notched": true,
         "offsetgroup": "Cluster 1",
         "showlegend": false,
         "type": "box",
         "x": [
          6.4,
          6.5,
          7.7,
          7.7,
          6.9,
          5.6,
          5.8,
          7.7,
          6.3,
          6.3,
          6.8,
          6.4,
          6.5,
          7.2,
          6.7,
          7.3,
          7.6,
          6.5,
          6.7,
          7.1,
          5.7,
          7.2,
          6.4,
          6.1,
          6.5,
          5.8,
          6.3,
          6.7,
          6.7,
          6.8,
          5.8,
          6.9,
          6.7,
          6.2,
          6.9,
          6.3,
          7.7,
          6.1,
          6.3,
          6.4,
          7.9,
          7.4,
          7.2,
          6.4,
          6,
          6.3,
          5.9,
          6.2
         ],
         "xaxis": "x2",
         "yaxis": "y2"
        },
        {
         "alignmentgroup": "True",
         "bingroup": "x",
         "hovertemplate": "Cluster=Cluster 2<br>sepallength=%{x}<br>count=%{y}<extra></extra>",
         "legendgroup": "Cluster 2",
         "marker": {
          "color": "#00cc96",
          "opacity": 0.7
         },
         "name": "Cluster 2",
         "offsetgroup": "Cluster 2",
         "orientation": "v",
         "showlegend": true,
         "type": "histogram",
         "x": [
          6.6,
          5.7,
          6.1,
          6.3,
          6.1,
          5.9,
          5.6,
          6.7,
          6.8,
          5.6,
          5.9,
          6.6,
          6.3,
          5.7,
          6.5,
          6.9,
          6.4,
          7,
          6.1,
          6.7,
          5.7,
          6.4,
          6,
          5.6,
          6.1,
          6,
          5.4,
          6.7,
          5.7,
          6.2,
          6
         ],
         "xaxis": "x",
         "yaxis": "y"
        },
        {
         "alignmentgroup": "True",
         "customdata": [
          [
           3,
           4.4,
           1.4,
           "Iris-versicolor",
           "Cluster 2"
          ],
          [
           3,
           4.2,
           1.2,
           "Iris-versicolor",
           "Cluster 2"
          ],
          [
           2.8,
           4.7,
           1.2,
           "Iris-versicolor",
           "Cluster 2"
          ],
          [
           2.5,
           4.9,
           1.5,
           "Iris-versicolor",
           "Cluster 2"
          ],
          [
           2.8,
           4,
           1.3,
           "Iris-versicolor",
           "Cluster 2"
          ],
          [
           3.2,
           4.8,
           1.8,
           "Iris-versicolor",
           "Cluster 2"
          ],
          [
           3,
           4.5,
           1.5,
           "Iris-versicolor",
           "Cluster 2"
          ],
          [
           3.1,
           4.4,
           1.4,
           "Iris-versicolor",
           "Cluster 2"
          ],
          [
           2.8,
           4.8,
           1.4,
           "Iris-versicolor",
           "Cluster 2"
          ],
          [
           2.9,
           3.6,
           1.3,
           "Iris-versicolor",
           "Cluster 2"
          ],
          [
           3,
           4.2,
           1.5,
           "Iris-versicolor",
           "Cluster 2"
          ],
          [
           2.9,
           4.6,
           1.3,
           "Iris-versicolor",
           "Cluster 2"
          ],
          [
           3.3,
           4.7,
           1.6,
           "Iris-versicolor",
           "Cluster 2"
          ],
          [
           2.8,
           4.5,
           1.3,
           "Iris-versicolor",
           "Cluster 2"
          ],
          [
           2.8,
           4.6,
           1.5,
           "Iris-versicolor",
           "Cluster 2"
          ],
          [
           3.1,
           4.9,
           1.5,
           "Iris-versicolor",
           "Cluster 2"
          ],
          [
           3.2,
           4.5,
           1.5,
           "Iris-versicolor",
           "Cluster 2"
          ],
          [
           3.2,
           4.7,
           1.4,
           "Iris-versicolor",
           "Cluster 2"
          ],
          [
           2.9,
           4.7,
           1.4,
           "Iris-versicolor",
           "Cluster 2"
          ],
          [
           3,
           5,
           1.7,
           "Iris-versicolor",
           "Cluster 2"
          ],
          [
           2.9,
           4.2,
           1.3,
           "Iris-versicolor",
           "Cluster 2"
          ],
          [
           2.9,
           4.3,
           1.3,
           "Iris-versicolor",
           "Cluster 2"
          ],
          [
           2.9,
           4.5,
           1.5,
           "Iris-versicolor",
           "Cluster 2"
          ],
          [
           3,
           4.1,
           1.3,
           "Iris-versicolor",
           "Cluster 2"
          ],
          [
           3,
           4.6,
           1.4,
           "Iris-versicolor",
           "Cluster 2"
          ],
          [
           3.4,
           4.5,
           1.6,
           "Iris-versicolor",
           "Cluster 2"
          ],
          [
           3,
           4.5,
           1.5,
           "Iris-versicolor",
           "Cluster 2"
          ],
          [
           3.1,
           4.7,
           1.5,
           "Iris-versicolor",
           "Cluster 2"
          ],
          [
           2.8,
           4.1,
           1.3,
           "Iris-versicolor",
           "Cluster 2"
          ],
          [
           2.9,
           4.3,
           1.3,
           "Iris-versicolor",
           "Cluster 2"
          ],
          [
           2.7,
           5.1,
           1.6,
           "Iris-versicolor",
           "Cluster 2"
          ]
         ],
         "hovertemplate": "Cluster=%{customdata[4]}<br>sepallength=%{x}<br>sepalwidth=%{customdata[0]}<br>petallength=%{customdata[1]}<br>petalwidth=%{customdata[2]}<br>class=%{customdata[3]}<extra></extra>",
         "legendgroup": "Cluster 2",
         "marker": {
          "color": "#00cc96"
         },
         "name": "Cluster 2",
         "notched": true,
         "offsetgroup": "Cluster 2",
         "showlegend": false,
         "type": "box",
         "x": [
          6.6,
          5.7,
          6.1,
          6.3,
          6.1,
          5.9,
          5.6,
          6.7,
          6.8,
          5.6,
          5.9,
          6.6,
          6.3,
          5.7,
          6.5,
          6.9,
          6.4,
          7,
          6.1,
          6.7,
          5.7,
          6.4,
          6,
          5.6,
          6.1,
          6,
          5.4,
          6.7,
          5.7,
          6.2,
          6
         ],
         "xaxis": "x2",
         "yaxis": "y2"
        },
        {
         "alignmentgroup": "True",
         "bingroup": "x",
         "hovertemplate": "Cluster=Cluster 3<br>sepallength=%{x}<br>count=%{y}<extra></extra>",
         "legendgroup": "Cluster 3",
         "marker": {
          "color": "#ab63fa",
          "opacity": 0.7
         },
         "name": "Cluster 3",
         "offsetgroup": "Cluster 3",
         "orientation": "v",
         "showlegend": true,
         "type": "histogram",
         "x": [
          5.1,
          5.5,
          5.6,
          5,
          5.8,
          4.9,
          4.5,
          5.2,
          5.7,
          5.5,
          6,
          4.9,
          6.3,
          5.8,
          6.2,
          5.6,
          5.8,
          5.5,
          5.5,
          6,
          5,
          5.5
         ],
         "xaxis": "x",
         "yaxis": "y"
        },
        {
         "alignmentgroup": "True",
         "customdata": [
          [
           2.5,
           3,
           1.1,
           "Iris-versicolor",
           "Cluster 3"
          ],
          [
           2.3,
           4,
           1.3,
           "Iris-versicolor",
           "Cluster 3"
          ],
          [
           2.7,
           4.2,
           1.3,
           "Iris-versicolor",
           "Cluster 3"
          ],
          [
           2.3,
           3.3,
           1,
           "Iris-versicolor",
           "Cluster 3"
          ],
          [
           2.6,
           4,
           1.2,
           "Iris-versicolor",
           "Cluster 3"
          ],
          [
           2.4,
           3.3,
           1,
           "Iris-versicolor",
           "Cluster 3"
          ],
          [
           2.3,
           1.3,
           0.3,
           "Iris-setosa",
           "Cluster 3"
          ],
          [
           2.7,
           3.9,
           1.4,
           "Iris-versicolor",
           "Cluster 3"
          ],
          [
           2.6,
           3.5,
           1,
           "Iris-versicolor",
           "Cluster 3"
          ],
          [
           2.6,
           4.4,
           1.2,
           "Iris-versicolor",
           "Cluster 3"
          ],
          [
           2.2,
           4,
           1,
           "Iris-versicolor",
           "Cluster 3"
          ],
          [
           2.5,
           4.5,
           1.7,
           "Iris-virginica",
           "Cluster 3"
          ],
          [
           2.3,
           4.4,
           1.3,
           "Iris-versicolor",
           "Cluster 3"
          ],
          [
           2.7,
           4.1,
           1,
           "Iris-versicolor",
           "Cluster 3"
          ],
          [
           2.2,
           4.5,
           1.5,
           "Iris-versicolor",
           "Cluster 3"
          ],
          [
           2.5,
           3.9,
           1.1,
           "Iris-versicolor",
           "Cluster 3"
          ],
          [
           2.7,
           3.9,
           1.2,
           "Iris-versicolor",
           "Cluster 3"
          ],
          [
           2.4,
           3.7,
           1,
           "Iris-versicolor",
           "Cluster 3"
          ],
          [
           2.4,
           3.8,
           1.1,
           "Iris-versicolor",
           "Cluster 3"
          ],
          [
           2.2,
           5,
           1.5,
           "Iris-virginica",
           "Cluster 3"
          ],
          [
           2,
           3.5,
           1,
           "Iris-versicolor",
           "Cluster 3"
          ],
          [
           2.5,
           4,
           1.3,
           "Iris-versicolor",
           "Cluster 3"
          ]
         ],
         "hovertemplate": "Cluster=%{customdata[4]}<br>sepallength=%{x}<br>sepalwidth=%{customdata[0]}<br>petallength=%{customdata[1]}<br>petalwidth=%{customdata[2]}<br>class=%{customdata[3]}<extra></extra>",
         "legendgroup": "Cluster 3",
         "marker": {
          "color": "#ab63fa"
         },
         "name": "Cluster 3",
         "notched": true,
         "offsetgroup": "Cluster 3",
         "showlegend": false,
         "type": "box",
         "x": [
          5.1,
          5.5,
          5.6,
          5,
          5.8,
          4.9,
          4.5,
          5.2,
          5.7,
          5.5,
          6,
          4.9,
          6.3,
          5.8,
          6.2,
          5.6,
          5.8,
          5.5,
          5.5,
          6,
          5,
          5.5
         ],
         "xaxis": "x2",
         "yaxis": "y2"
        }
       ],
       "layout": {
        "barmode": "relative",
        "height": 600,
        "legend": {
         "title": {
          "text": "Cluster"
         },
         "tracegroupgap": 0
        },
        "margin": {
         "t": 60
        },
        "template": {
         "data": {
          "bar": [
           {
            "error_x": {
             "color": "#2a3f5f"
            },
            "error_y": {
             "color": "#2a3f5f"
            },
            "marker": {
             "line": {
              "color": "#E5ECF6",
              "width": 0.5
             }
            },
            "type": "bar"
           }
          ],
          "barpolar": [
           {
            "marker": {
             "line": {
              "color": "#E5ECF6",
              "width": 0.5
             }
            },
            "type": "barpolar"
           }
          ],
          "carpet": [
           {
            "aaxis": {
             "endlinecolor": "#2a3f5f",
             "gridcolor": "white",
             "linecolor": "white",
             "minorgridcolor": "white",
             "startlinecolor": "#2a3f5f"
            },
            "baxis": {
             "endlinecolor": "#2a3f5f",
             "gridcolor": "white",
             "linecolor": "white",
             "minorgridcolor": "white",
             "startlinecolor": "#2a3f5f"
            },
            "type": "carpet"
           }
          ],
          "choropleth": [
           {
            "colorbar": {
             "outlinewidth": 0,
             "ticks": ""
            },
            "type": "choropleth"
           }
          ],
          "contour": [
           {
            "colorbar": {
             "outlinewidth": 0,
             "ticks": ""
            },
            "colorscale": [
             [
              0,
              "#0d0887"
             ],
             [
              0.1111111111111111,
              "#46039f"
             ],
             [
              0.2222222222222222,
              "#7201a8"
             ],
             [
              0.3333333333333333,
              "#9c179e"
             ],
             [
              0.4444444444444444,
              "#bd3786"
             ],
             [
              0.5555555555555556,
              "#d8576b"
             ],
             [
              0.6666666666666666,
              "#ed7953"
             ],
             [
              0.7777777777777778,
              "#fb9f3a"
             ],
             [
              0.8888888888888888,
              "#fdca26"
             ],
             [
              1,
              "#f0f921"
             ]
            ],
            "type": "contour"
           }
          ],
          "contourcarpet": [
           {
            "colorbar": {
             "outlinewidth": 0,
             "ticks": ""
            },
            "type": "contourcarpet"
           }
          ],
          "heatmap": [
           {
            "colorbar": {
             "outlinewidth": 0,
             "ticks": ""
            },
            "colorscale": [
             [
              0,
              "#0d0887"
             ],
             [
              0.1111111111111111,
              "#46039f"
             ],
             [
              0.2222222222222222,
              "#7201a8"
             ],
             [
              0.3333333333333333,
              "#9c179e"
             ],
             [
              0.4444444444444444,
              "#bd3786"
             ],
             [
              0.5555555555555556,
              "#d8576b"
             ],
             [
              0.6666666666666666,
              "#ed7953"
             ],
             [
              0.7777777777777778,
              "#fb9f3a"
             ],
             [
              0.8888888888888888,
              "#fdca26"
             ],
             [
              1,
              "#f0f921"
             ]
            ],
            "type": "heatmap"
           }
          ],
          "heatmapgl": [
           {
            "colorbar": {
             "outlinewidth": 0,
             "ticks": ""
            },
            "colorscale": [
             [
              0,
              "#0d0887"
             ],
             [
              0.1111111111111111,
              "#46039f"
             ],
             [
              0.2222222222222222,
              "#7201a8"
             ],
             [
              0.3333333333333333,
              "#9c179e"
             ],
             [
              0.4444444444444444,
              "#bd3786"
             ],
             [
              0.5555555555555556,
              "#d8576b"
             ],
             [
              0.6666666666666666,
              "#ed7953"
             ],
             [
              0.7777777777777778,
              "#fb9f3a"
             ],
             [
              0.8888888888888888,
              "#fdca26"
             ],
             [
              1,
              "#f0f921"
             ]
            ],
            "type": "heatmapgl"
           }
          ],
          "histogram": [
           {
            "marker": {
             "colorbar": {
              "outlinewidth": 0,
              "ticks": ""
             }
            },
            "type": "histogram"
           }
          ],
          "histogram2d": [
           {
            "colorbar": {
             "outlinewidth": 0,
             "ticks": ""
            },
            "colorscale": [
             [
              0,
              "#0d0887"
             ],
             [
              0.1111111111111111,
              "#46039f"
             ],
             [
              0.2222222222222222,
              "#7201a8"
             ],
             [
              0.3333333333333333,
              "#9c179e"
             ],
             [
              0.4444444444444444,
              "#bd3786"
             ],
             [
              0.5555555555555556,
              "#d8576b"
             ],
             [
              0.6666666666666666,
              "#ed7953"
             ],
             [
              0.7777777777777778,
              "#fb9f3a"
             ],
             [
              0.8888888888888888,
              "#fdca26"
             ],
             [
              1,
              "#f0f921"
             ]
            ],
            "type": "histogram2d"
           }
          ],
          "histogram2dcontour": [
           {
            "colorbar": {
             "outlinewidth": 0,
             "ticks": ""
            },
            "colorscale": [
             [
              0,
              "#0d0887"
             ],
             [
              0.1111111111111111,
              "#46039f"
             ],
             [
              0.2222222222222222,
              "#7201a8"
             ],
             [
              0.3333333333333333,
              "#9c179e"
             ],
             [
              0.4444444444444444,
              "#bd3786"
             ],
             [
              0.5555555555555556,
              "#d8576b"
             ],
             [
              0.6666666666666666,
              "#ed7953"
             ],
             [
              0.7777777777777778,
              "#fb9f3a"
             ],
             [
              0.8888888888888888,
              "#fdca26"
             ],
             [
              1,
              "#f0f921"
             ]
            ],
            "type": "histogram2dcontour"
           }
          ],
          "mesh3d": [
           {
            "colorbar": {
             "outlinewidth": 0,
             "ticks": ""
            },
            "type": "mesh3d"
           }
          ],
          "parcoords": [
           {
            "line": {
             "colorbar": {
              "outlinewidth": 0,
              "ticks": ""
             }
            },
            "type": "parcoords"
           }
          ],
          "pie": [
           {
            "automargin": true,
            "type": "pie"
           }
          ],
          "scatter": [
           {
            "marker": {
             "colorbar": {
              "outlinewidth": 0,
              "ticks": ""
             }
            },
            "type": "scatter"
           }
          ],
          "scatter3d": [
           {
            "line": {
             "colorbar": {
              "outlinewidth": 0,
              "ticks": ""
             }
            },
            "marker": {
             "colorbar": {
              "outlinewidth": 0,
              "ticks": ""
             }
            },
            "type": "scatter3d"
           }
          ],
          "scattercarpet": [
           {
            "marker": {
             "colorbar": {
              "outlinewidth": 0,
              "ticks": ""
             }
            },
            "type": "scattercarpet"
           }
          ],
          "scattergeo": [
           {
            "marker": {
             "colorbar": {
              "outlinewidth": 0,
              "ticks": ""
             }
            },
            "type": "scattergeo"
           }
          ],
          "scattergl": [
           {
            "marker": {
             "colorbar": {
              "outlinewidth": 0,
              "ticks": ""
             }
            },
            "type": "scattergl"
           }
          ],
          "scattermapbox": [
           {
            "marker": {
             "colorbar": {
              "outlinewidth": 0,
              "ticks": ""
             }
            },
            "type": "scattermapbox"
           }
          ],
          "scatterpolar": [
           {
            "marker": {
             "colorbar": {
              "outlinewidth": 0,
              "ticks": ""
             }
            },
            "type": "scatterpolar"
           }
          ],
          "scatterpolargl": [
           {
            "marker": {
             "colorbar": {
              "outlinewidth": 0,
              "ticks": ""
             }
            },
            "type": "scatterpolargl"
           }
          ],
          "scatterternary": [
           {
            "marker": {
             "colorbar": {
              "outlinewidth": 0,
              "ticks": ""
             }
            },
            "type": "scatterternary"
           }
          ],
          "surface": [
           {
            "colorbar": {
             "outlinewidth": 0,
             "ticks": ""
            },
            "colorscale": [
             [
              0,
              "#0d0887"
             ],
             [
              0.1111111111111111,
              "#46039f"
             ],
             [
              0.2222222222222222,
              "#7201a8"
             ],
             [
              0.3333333333333333,
              "#9c179e"
             ],
             [
              0.4444444444444444,
              "#bd3786"
             ],
             [
              0.5555555555555556,
              "#d8576b"
             ],
             [
              0.6666666666666666,
              "#ed7953"
             ],
             [
              0.7777777777777778,
              "#fb9f3a"
             ],
             [
              0.8888888888888888,
              "#fdca26"
             ],
             [
              1,
              "#f0f921"
             ]
            ],
            "type": "surface"
           }
          ],
          "table": [
           {
            "cells": {
             "fill": {
              "color": "#EBF0F8"
             },
             "line": {
              "color": "white"
             }
            },
            "header": {
             "fill": {
              "color": "#C8D4E3"
             },
             "line": {
              "color": "white"
             }
            },
            "type": "table"
           }
          ]
         },
         "layout": {
          "annotationdefaults": {
           "arrowcolor": "#2a3f5f",
           "arrowhead": 0,
           "arrowwidth": 1
          },
          "autotypenumbers": "strict",
          "coloraxis": {
           "colorbar": {
            "outlinewidth": 0,
            "ticks": ""
           }
          },
          "colorscale": {
           "diverging": [
            [
             0,
             "#8e0152"
            ],
            [
             0.1,
             "#c51b7d"
            ],
            [
             0.2,
             "#de77ae"
            ],
            [
             0.3,
             "#f1b6da"
            ],
            [
             0.4,
             "#fde0ef"
            ],
            [
             0.5,
             "#f7f7f7"
            ],
            [
             0.6,
             "#e6f5d0"
            ],
            [
             0.7,
             "#b8e186"
            ],
            [
             0.8,
             "#7fbc41"
            ],
            [
             0.9,
             "#4d9221"
            ],
            [
             1,
             "#276419"
            ]
           ],
           "sequential": [
            [
             0,
             "#0d0887"
            ],
            [
             0.1111111111111111,
             "#46039f"
            ],
            [
             0.2222222222222222,
             "#7201a8"
            ],
            [
             0.3333333333333333,
             "#9c179e"
            ],
            [
             0.4444444444444444,
             "#bd3786"
            ],
            [
             0.5555555555555556,
             "#d8576b"
            ],
            [
             0.6666666666666666,
             "#ed7953"
            ],
            [
             0.7777777777777778,
             "#fb9f3a"
            ],
            [
             0.8888888888888888,
             "#fdca26"
            ],
            [
             1,
             "#f0f921"
            ]
           ],
           "sequentialminus": [
            [
             0,
             "#0d0887"
            ],
            [
             0.1111111111111111,
             "#46039f"
            ],
            [
             0.2222222222222222,
             "#7201a8"
            ],
            [
             0.3333333333333333,
             "#9c179e"
            ],
            [
             0.4444444444444444,
             "#bd3786"
            ],
            [
             0.5555555555555556,
             "#d8576b"
            ],
            [
             0.6666666666666666,
             "#ed7953"
            ],
            [
             0.7777777777777778,
             "#fb9f3a"
            ],
            [
             0.8888888888888888,
             "#fdca26"
            ],
            [
             1,
             "#f0f921"
            ]
           ]
          },
          "colorway": [
           "#636efa",
           "#EF553B",
           "#00cc96",
           "#ab63fa",
           "#FFA15A",
           "#19d3f3",
           "#FF6692",
           "#B6E880",
           "#FF97FF",
           "#FECB52"
          ],
          "font": {
           "color": "#2a3f5f"
          },
          "geo": {
           "bgcolor": "white",
           "lakecolor": "white",
           "landcolor": "#E5ECF6",
           "showlakes": true,
           "showland": true,
           "subunitcolor": "white"
          },
          "hoverlabel": {
           "align": "left"
          },
          "hovermode": "closest",
          "mapbox": {
           "style": "light"
          },
          "paper_bgcolor": "white",
          "plot_bgcolor": "#E5ECF6",
          "polar": {
           "angularaxis": {
            "gridcolor": "white",
            "linecolor": "white",
            "ticks": ""
           },
           "bgcolor": "#E5ECF6",
           "radialaxis": {
            "gridcolor": "white",
            "linecolor": "white",
            "ticks": ""
           }
          },
          "scene": {
           "xaxis": {
            "backgroundcolor": "#E5ECF6",
            "gridcolor": "white",
            "gridwidth": 2,
            "linecolor": "white",
            "showbackground": true,
            "ticks": "",
            "zerolinecolor": "white"
           },
           "yaxis": {
            "backgroundcolor": "#E5ECF6",
            "gridcolor": "white",
            "gridwidth": 2,
            "linecolor": "white",
            "showbackground": true,
            "ticks": "",
            "zerolinecolor": "white"
           },
           "zaxis": {
            "backgroundcolor": "#E5ECF6",
            "gridcolor": "white",
            "gridwidth": 2,
            "linecolor": "white",
            "showbackground": true,
            "ticks": "",
            "zerolinecolor": "white"
           }
          },
          "shapedefaults": {
           "line": {
            "color": "#2a3f5f"
           }
          },
          "ternary": {
           "aaxis": {
            "gridcolor": "white",
            "linecolor": "white",
            "ticks": ""
           },
           "baxis": {
            "gridcolor": "white",
            "linecolor": "white",
            "ticks": ""
           },
           "bgcolor": "#E5ECF6",
           "caxis": {
            "gridcolor": "white",
            "linecolor": "white",
            "ticks": ""
           }
          },
          "title": {
           "x": 0.05
          },
          "xaxis": {
           "automargin": true,
           "gridcolor": "white",
           "linecolor": "white",
           "ticks": "",
           "title": {
            "standoff": 15
           },
           "zerolinecolor": "white",
           "zerolinewidth": 2
          },
          "yaxis": {
           "automargin": true,
           "gridcolor": "white",
           "linecolor": "white",
           "ticks": "",
           "title": {
            "standoff": 15
           },
           "zerolinecolor": "white",
           "zerolinewidth": 2
          }
         }
        },
        "xaxis": {
         "anchor": "y",
         "domain": [
          0,
          1
         ],
         "title": {
          "text": "sepallength"
         }
        },
        "xaxis2": {
         "anchor": "y2",
         "domain": [
          0,
          1
         ],
         "matches": "x",
         "showgrid": true,
         "showticklabels": false
        },
        "yaxis": {
         "anchor": "x",
         "domain": [
          0,
          0.7326
         ],
         "title": {
          "text": "count"
         }
        },
        "yaxis2": {
         "anchor": "x2",
         "domain": [
          0.7426,
          1
         ],
         "matches": "y2",
         "showgrid": false,
         "showline": false,
         "showticklabels": false,
         "ticks": ""
        }
       }
      },
      "text/html": [
       "<div>                            <div id=\"84b3987e-f51f-4c53-80f4-b9bcc40f66c3\" class=\"plotly-graph-div\" style=\"height:600px; width:100%;\"></div>            <script type=\"text/javascript\">                require([\"plotly\"], function(Plotly) {                    window.PLOTLYENV=window.PLOTLYENV || {};                                    if (document.getElementById(\"84b3987e-f51f-4c53-80f4-b9bcc40f66c3\")) {                    Plotly.newPlot(                        \"84b3987e-f51f-4c53-80f4-b9bcc40f66c3\",                        [{\"alignmentgroup\": \"True\", \"bingroup\": \"x\", \"hovertemplate\": \"Cluster=Cluster 0<br>sepallength=%{x}<br>count=%{y}<extra></extra>\", \"legendgroup\": \"Cluster 0\", \"marker\": {\"color\": \"#636efa\", \"opacity\": 0.7}, \"name\": \"Cluster 0\", \"offsetgroup\": \"Cluster 0\", \"orientation\": \"v\", \"showlegend\": true, \"type\": \"histogram\", \"x\": [5.1, 5.2, 5.2, 4.7, 4.8, 5.4, 5.2, 5.5, 4.9, 5.0, 5.5, 4.9, 4.4, 5.1, 5.0, 4.4, 5.0, 5.1, 4.8, 5.1, 5.3, 5.0, 5.0, 5.0, 4.6, 5.1, 4.9, 4.7, 4.6, 5.0, 5.4, 4.6, 5.0, 4.4, 4.9, 5.4, 4.8, 4.8, 4.3, 5.8, 5.7, 5.4, 5.1, 5.7, 5.1, 5.4, 4.8, 5.1, 4.6], \"xaxis\": \"x\", \"yaxis\": \"y\"}, {\"alignmentgroup\": \"True\", \"customdata\": [[3.5, 1.4, 0.2, \"Iris-setosa\", \"Cluster 0\"], [3.5, 1.5, 0.2, \"Iris-setosa\", \"Cluster 0\"], [3.4, 1.4, 0.2, \"Iris-setosa\", \"Cluster 0\"], [3.2, 1.6, 0.2, \"Iris-setosa\", \"Cluster 0\"], [3.1, 1.6, 0.2, \"Iris-setosa\", \"Cluster 0\"], [3.4, 1.5, 0.4, \"Iris-setosa\", \"Cluster 0\"], [4.1, 1.5, 0.1, \"Iris-setosa\", \"Cluster 0\"], [4.2, 1.4, 0.2, \"Iris-setosa\", \"Cluster 0\"], [3.1, 1.5, 0.1, \"Iris-setosa\", \"Cluster 0\"], [3.2, 1.2, 0.2, \"Iris-setosa\", \"Cluster 0\"], [3.5, 1.3, 0.2, \"Iris-setosa\", \"Cluster 0\"], [3.1, 1.5, 0.1, \"Iris-setosa\", \"Cluster 0\"], [3.0, 1.3, 0.2, \"Iris-setosa\", \"Cluster 0\"], [3.4, 1.5, 0.2, \"Iris-setosa\", \"Cluster 0\"], [3.5, 1.3, 0.3, \"Iris-setosa\", \"Cluster 0\"], [3.2, 1.3, 0.2, \"Iris-setosa\", \"Cluster 0\"], [3.5, 1.6, 0.6, \"Iris-setosa\", \"Cluster 0\"], [3.8, 1.9, 0.4, \"Iris-setosa\", \"Cluster 0\"], [3.0, 1.4, 0.3, \"Iris-setosa\", \"Cluster 0\"], [3.8, 1.6, 0.2, \"Iris-setosa\", \"Cluster 0\"], [3.7, 1.5, 0.2, \"Iris-setosa\", \"Cluster 0\"], [3.3, 1.4, 0.2, \"Iris-setosa\", \"Cluster 0\"], [3.4, 1.6, 0.4, \"Iris-setosa\", \"Cluster 0\"], [3.0, 1.6, 0.2, \"Iris-setosa\", \"Cluster 0\"], [3.2, 1.4, 0.2, \"Iris-setosa\", \"Cluster 0\"], [3.3, 1.7, 0.5, \"Iris-setosa\", \"Cluster 0\"], [3.0, 1.4, 0.2, \"Iris-setosa\", \"Cluster 0\"], [3.2, 1.3, 0.2, \"Iris-setosa\", \"Cluster 0\"], [3.1, 1.5, 0.2, \"Iris-setosa\", \"Cluster 0\"], [3.6, 1.4, 0.2, \"Iris-setosa\", \"Cluster 0\"], [3.9, 1.7, 0.4, \"Iris-setosa\", \"Cluster 0\"], [3.4, 1.4, 0.3, \"Iris-setosa\", \"Cluster 0\"], [3.4, 1.5, 0.2, \"Iris-setosa\", \"Cluster 0\"], [2.9, 1.4, 0.2, \"Iris-setosa\", \"Cluster 0\"], [3.1, 1.5, 0.1, \"Iris-setosa\", \"Cluster 0\"], [3.7, 1.5, 0.2, \"Iris-setosa\", \"Cluster 0\"], [3.4, 1.6, 0.2, \"Iris-setosa\", \"Cluster 0\"], [3.4, 1.9, 0.2, \"Iris-setosa\", \"Cluster 0\"], [3.0, 1.1, 0.1, \"Iris-setosa\", \"Cluster 0\"], [4.0, 1.2, 0.2, \"Iris-setosa\", \"Cluster 0\"], [4.4, 1.5, 0.4, \"Iris-setosa\", \"Cluster 0\"], [3.9, 1.3, 0.4, \"Iris-setosa\", \"Cluster 0\"], [3.5, 1.4, 0.3, \"Iris-setosa\", \"Cluster 0\"], [3.8, 1.7, 0.3, \"Iris-setosa\", \"Cluster 0\"], [3.8, 1.5, 0.3, \"Iris-setosa\", \"Cluster 0\"], [3.4, 1.7, 0.2, \"Iris-setosa\", \"Cluster 0\"], [3.0, 1.4, 0.1, \"Iris-setosa\", \"Cluster 0\"], [3.7, 1.5, 0.4, \"Iris-setosa\", \"Cluster 0\"], [3.6, 1.0, 0.2, \"Iris-setosa\", \"Cluster 0\"]], \"hovertemplate\": \"Cluster=%{customdata[4]}<br>sepallength=%{x}<br>sepalwidth=%{customdata[0]}<br>petallength=%{customdata[1]}<br>petalwidth=%{customdata[2]}<br>class=%{customdata[3]}<extra></extra>\", \"legendgroup\": \"Cluster 0\", \"marker\": {\"color\": \"#636efa\"}, \"name\": \"Cluster 0\", \"notched\": true, \"offsetgroup\": \"Cluster 0\", \"showlegend\": false, \"type\": \"box\", \"x\": [5.1, 5.2, 5.2, 4.7, 4.8, 5.4, 5.2, 5.5, 4.9, 5.0, 5.5, 4.9, 4.4, 5.1, 5.0, 4.4, 5.0, 5.1, 4.8, 5.1, 5.3, 5.0, 5.0, 5.0, 4.6, 5.1, 4.9, 4.7, 4.6, 5.0, 5.4, 4.6, 5.0, 4.4, 4.9, 5.4, 4.8, 4.8, 4.3, 5.8, 5.7, 5.4, 5.1, 5.7, 5.1, 5.4, 4.8, 5.1, 4.6], \"xaxis\": \"x2\", \"yaxis\": \"y2\"}, {\"alignmentgroup\": \"True\", \"bingroup\": \"x\", \"hovertemplate\": \"Cluster=Cluster 1<br>sepallength=%{x}<br>count=%{y}<extra></extra>\", \"legendgroup\": \"Cluster 1\", \"marker\": {\"color\": \"#EF553B\", \"opacity\": 0.7}, \"name\": \"Cluster 1\", \"offsetgroup\": \"Cluster 1\", \"orientation\": \"v\", \"showlegend\": true, \"type\": \"histogram\", \"x\": [6.4, 6.5, 7.7, 7.7, 6.9, 5.6, 5.8, 7.7, 6.3, 6.3, 6.8, 6.4, 6.5, 7.2, 6.7, 7.3, 7.6, 6.5, 6.7, 7.1, 5.7, 7.2, 6.4, 6.1, 6.5, 5.8, 6.3, 6.7, 6.7, 6.8, 5.8, 6.9, 6.7, 6.2, 6.9, 6.3, 7.7, 6.1, 6.3, 6.4, 7.9, 7.4, 7.2, 6.4, 6.0, 6.3, 5.9, 6.2], \"xaxis\": \"x\", \"yaxis\": \"y\"}, {\"alignmentgroup\": \"True\", \"customdata\": [[3.2, 5.3, 2.3, \"Iris-virginica\", \"Cluster 1\"], [3.0, 5.5, 1.8, \"Iris-virginica\", \"Cluster 1\"], [3.8, 6.7, 2.2, \"Iris-virginica\", \"Cluster 1\"], [2.8, 6.7, 2.0, \"Iris-virginica\", \"Cluster 1\"], [3.2, 5.7, 2.3, \"Iris-virginica\", \"Cluster 1\"], [2.8, 4.9, 2.0, \"Iris-virginica\", \"Cluster 1\"], [2.8, 5.1, 2.4, \"Iris-virginica\", \"Cluster 1\"], [2.6, 6.9, 2.3, \"Iris-virginica\", \"Cluster 1\"], [2.7, 4.9, 1.8, \"Iris-virginica\", \"Cluster 1\"], [2.9, 5.6, 1.8, \"Iris-virginica\", \"Cluster 1\"], [3.0, 5.5, 2.1, \"Iris-virginica\", \"Cluster 1\"], [2.7, 5.3, 1.9, \"Iris-virginica\", \"Cluster 1\"], [3.2, 5.1, 2.0, \"Iris-virginica\", \"Cluster 1\"], [3.6, 6.1, 2.5, \"Iris-virginica\", \"Cluster 1\"], [2.5, 5.8, 1.8, \"Iris-virginica\", \"Cluster 1\"], [2.9, 6.3, 1.8, \"Iris-virginica\", \"Cluster 1\"], [3.0, 6.6, 2.1, \"Iris-virginica\", \"Cluster 1\"], [3.0, 5.8, 2.2, \"Iris-virginica\", \"Cluster 1\"], [3.3, 5.7, 2.1, \"Iris-virginica\", \"Cluster 1\"], [3.0, 5.9, 2.1, \"Iris-virginica\", \"Cluster 1\"], [2.5, 5.0, 2.0, \"Iris-virginica\", \"Cluster 1\"], [3.2, 6.0, 1.8, \"Iris-virginica\", \"Cluster 1\"], [3.1, 5.5, 1.8, \"Iris-virginica\", \"Cluster 1\"], [3.0, 4.9, 1.8, \"Iris-virginica\", \"Cluster 1\"], [3.0, 5.2, 2.0, \"Iris-virginica\", \"Cluster 1\"], [2.7, 5.1, 1.9, \"Iris-virginica\", \"Cluster 1\"], [2.5, 5.0, 1.9, \"Iris-virginica\", \"Cluster 1\"], [3.0, 5.2, 2.3, \"Iris-virginica\", \"Cluster 1\"], [3.3, 5.7, 2.5, \"Iris-virginica\", \"Cluster 1\"], [3.2, 5.9, 2.3, \"Iris-virginica\", \"Cluster 1\"], [2.7, 5.1, 1.9, \"Iris-virginica\", \"Cluster 1\"], [3.1, 5.1, 2.3, \"Iris-virginica\", \"Cluster 1\"], [3.1, 5.6, 2.4, \"Iris-virginica\", \"Cluster 1\"], [2.8, 4.8, 1.8, \"Iris-virginica\", \"Cluster 1\"], [3.1, 5.4, 2.1, \"Iris-virginica\", \"Cluster 1\"], [3.4, 5.6, 2.4, \"Iris-virginica\", \"Cluster 1\"], [3.0, 6.1, 2.3, \"Iris-virginica\", \"Cluster 1\"], [2.6, 5.6, 1.4, \"Iris-virginica\", \"Cluster 1\"], [2.8, 5.1, 1.5, \"Iris-virginica\", \"Cluster 1\"], [2.8, 5.6, 2.2, \"Iris-virginica\", \"Cluster 1\"], [3.8, 6.4, 2.0, \"Iris-virginica\", \"Cluster 1\"], [2.8, 6.1, 1.9, \"Iris-virginica\", \"Cluster 1\"], [3.0, 5.8, 1.6, \"Iris-virginica\", \"Cluster 1\"], [2.8, 5.6, 2.1, \"Iris-virginica\", \"Cluster 1\"], [3.0, 4.8, 1.8, \"Iris-virginica\", \"Cluster 1\"], [3.3, 6.0, 2.5, \"Iris-virginica\", \"Cluster 1\"], [3.0, 5.1, 1.8, \"Iris-virginica\", \"Cluster 1\"], [3.4, 5.4, 2.3, \"Iris-virginica\", \"Cluster 1\"]], \"hovertemplate\": \"Cluster=%{customdata[4]}<br>sepallength=%{x}<br>sepalwidth=%{customdata[0]}<br>petallength=%{customdata[1]}<br>petalwidth=%{customdata[2]}<br>class=%{customdata[3]}<extra></extra>\", \"legendgroup\": \"Cluster 1\", \"marker\": {\"color\": \"#EF553B\"}, \"name\": \"Cluster 1\", \"notched\": true, \"offsetgroup\": \"Cluster 1\", \"showlegend\": false, \"type\": \"box\", \"x\": [6.4, 6.5, 7.7, 7.7, 6.9, 5.6, 5.8, 7.7, 6.3, 6.3, 6.8, 6.4, 6.5, 7.2, 6.7, 7.3, 7.6, 6.5, 6.7, 7.1, 5.7, 7.2, 6.4, 6.1, 6.5, 5.8, 6.3, 6.7, 6.7, 6.8, 5.8, 6.9, 6.7, 6.2, 6.9, 6.3, 7.7, 6.1, 6.3, 6.4, 7.9, 7.4, 7.2, 6.4, 6.0, 6.3, 5.9, 6.2], \"xaxis\": \"x2\", \"yaxis\": \"y2\"}, {\"alignmentgroup\": \"True\", \"bingroup\": \"x\", \"hovertemplate\": \"Cluster=Cluster 2<br>sepallength=%{x}<br>count=%{y}<extra></extra>\", \"legendgroup\": \"Cluster 2\", \"marker\": {\"color\": \"#00cc96\", \"opacity\": 0.7}, \"name\": \"Cluster 2\", \"offsetgroup\": \"Cluster 2\", \"orientation\": \"v\", \"showlegend\": true, \"type\": \"histogram\", \"x\": [6.6, 5.7, 6.1, 6.3, 6.1, 5.9, 5.6, 6.7, 6.8, 5.6, 5.9, 6.6, 6.3, 5.7, 6.5, 6.9, 6.4, 7.0, 6.1, 6.7, 5.7, 6.4, 6.0, 5.6, 6.1, 6.0, 5.4, 6.7, 5.7, 6.2, 6.0], \"xaxis\": \"x\", \"yaxis\": \"y\"}, {\"alignmentgroup\": \"True\", \"customdata\": [[3.0, 4.4, 1.4, \"Iris-versicolor\", \"Cluster 2\"], [3.0, 4.2, 1.2, \"Iris-versicolor\", \"Cluster 2\"], [2.8, 4.7, 1.2, \"Iris-versicolor\", \"Cluster 2\"], [2.5, 4.9, 1.5, \"Iris-versicolor\", \"Cluster 2\"], [2.8, 4.0, 1.3, \"Iris-versicolor\", \"Cluster 2\"], [3.2, 4.8, 1.8, \"Iris-versicolor\", \"Cluster 2\"], [3.0, 4.5, 1.5, \"Iris-versicolor\", \"Cluster 2\"], [3.1, 4.4, 1.4, \"Iris-versicolor\", \"Cluster 2\"], [2.8, 4.8, 1.4, \"Iris-versicolor\", \"Cluster 2\"], [2.9, 3.6, 1.3, \"Iris-versicolor\", \"Cluster 2\"], [3.0, 4.2, 1.5, \"Iris-versicolor\", \"Cluster 2\"], [2.9, 4.6, 1.3, \"Iris-versicolor\", \"Cluster 2\"], [3.3, 4.7, 1.6, \"Iris-versicolor\", \"Cluster 2\"], [2.8, 4.5, 1.3, \"Iris-versicolor\", \"Cluster 2\"], [2.8, 4.6, 1.5, \"Iris-versicolor\", \"Cluster 2\"], [3.1, 4.9, 1.5, \"Iris-versicolor\", \"Cluster 2\"], [3.2, 4.5, 1.5, \"Iris-versicolor\", \"Cluster 2\"], [3.2, 4.7, 1.4, \"Iris-versicolor\", \"Cluster 2\"], [2.9, 4.7, 1.4, \"Iris-versicolor\", \"Cluster 2\"], [3.0, 5.0, 1.7, \"Iris-versicolor\", \"Cluster 2\"], [2.9, 4.2, 1.3, \"Iris-versicolor\", \"Cluster 2\"], [2.9, 4.3, 1.3, \"Iris-versicolor\", \"Cluster 2\"], [2.9, 4.5, 1.5, \"Iris-versicolor\", \"Cluster 2\"], [3.0, 4.1, 1.3, \"Iris-versicolor\", \"Cluster 2\"], [3.0, 4.6, 1.4, \"Iris-versicolor\", \"Cluster 2\"], [3.4, 4.5, 1.6, \"Iris-versicolor\", \"Cluster 2\"], [3.0, 4.5, 1.5, \"Iris-versicolor\", \"Cluster 2\"], [3.1, 4.7, 1.5, \"Iris-versicolor\", \"Cluster 2\"], [2.8, 4.1, 1.3, \"Iris-versicolor\", \"Cluster 2\"], [2.9, 4.3, 1.3, \"Iris-versicolor\", \"Cluster 2\"], [2.7, 5.1, 1.6, \"Iris-versicolor\", \"Cluster 2\"]], \"hovertemplate\": \"Cluster=%{customdata[4]}<br>sepallength=%{x}<br>sepalwidth=%{customdata[0]}<br>petallength=%{customdata[1]}<br>petalwidth=%{customdata[2]}<br>class=%{customdata[3]}<extra></extra>\", \"legendgroup\": \"Cluster 2\", \"marker\": {\"color\": \"#00cc96\"}, \"name\": \"Cluster 2\", \"notched\": true, \"offsetgroup\": \"Cluster 2\", \"showlegend\": false, \"type\": \"box\", \"x\": [6.6, 5.7, 6.1, 6.3, 6.1, 5.9, 5.6, 6.7, 6.8, 5.6, 5.9, 6.6, 6.3, 5.7, 6.5, 6.9, 6.4, 7.0, 6.1, 6.7, 5.7, 6.4, 6.0, 5.6, 6.1, 6.0, 5.4, 6.7, 5.7, 6.2, 6.0], \"xaxis\": \"x2\", \"yaxis\": \"y2\"}, {\"alignmentgroup\": \"True\", \"bingroup\": \"x\", \"hovertemplate\": \"Cluster=Cluster 3<br>sepallength=%{x}<br>count=%{y}<extra></extra>\", \"legendgroup\": \"Cluster 3\", \"marker\": {\"color\": \"#ab63fa\", \"opacity\": 0.7}, \"name\": \"Cluster 3\", \"offsetgroup\": \"Cluster 3\", \"orientation\": \"v\", \"showlegend\": true, \"type\": \"histogram\", \"x\": [5.1, 5.5, 5.6, 5.0, 5.8, 4.9, 4.5, 5.2, 5.7, 5.5, 6.0, 4.9, 6.3, 5.8, 6.2, 5.6, 5.8, 5.5, 5.5, 6.0, 5.0, 5.5], \"xaxis\": \"x\", \"yaxis\": \"y\"}, {\"alignmentgroup\": \"True\", \"customdata\": [[2.5, 3.0, 1.1, \"Iris-versicolor\", \"Cluster 3\"], [2.3, 4.0, 1.3, \"Iris-versicolor\", \"Cluster 3\"], [2.7, 4.2, 1.3, \"Iris-versicolor\", \"Cluster 3\"], [2.3, 3.3, 1.0, \"Iris-versicolor\", \"Cluster 3\"], [2.6, 4.0, 1.2, \"Iris-versicolor\", \"Cluster 3\"], [2.4, 3.3, 1.0, \"Iris-versicolor\", \"Cluster 3\"], [2.3, 1.3, 0.3, \"Iris-setosa\", \"Cluster 3\"], [2.7, 3.9, 1.4, \"Iris-versicolor\", \"Cluster 3\"], [2.6, 3.5, 1.0, \"Iris-versicolor\", \"Cluster 3\"], [2.6, 4.4, 1.2, \"Iris-versicolor\", \"Cluster 3\"], [2.2, 4.0, 1.0, \"Iris-versicolor\", \"Cluster 3\"], [2.5, 4.5, 1.7, \"Iris-virginica\", \"Cluster 3\"], [2.3, 4.4, 1.3, \"Iris-versicolor\", \"Cluster 3\"], [2.7, 4.1, 1.0, \"Iris-versicolor\", \"Cluster 3\"], [2.2, 4.5, 1.5, \"Iris-versicolor\", \"Cluster 3\"], [2.5, 3.9, 1.1, \"Iris-versicolor\", \"Cluster 3\"], [2.7, 3.9, 1.2, \"Iris-versicolor\", \"Cluster 3\"], [2.4, 3.7, 1.0, \"Iris-versicolor\", \"Cluster 3\"], [2.4, 3.8, 1.1, \"Iris-versicolor\", \"Cluster 3\"], [2.2, 5.0, 1.5, \"Iris-virginica\", \"Cluster 3\"], [2.0, 3.5, 1.0, \"Iris-versicolor\", \"Cluster 3\"], [2.5, 4.0, 1.3, \"Iris-versicolor\", \"Cluster 3\"]], \"hovertemplate\": \"Cluster=%{customdata[4]}<br>sepallength=%{x}<br>sepalwidth=%{customdata[0]}<br>petallength=%{customdata[1]}<br>petalwidth=%{customdata[2]}<br>class=%{customdata[3]}<extra></extra>\", \"legendgroup\": \"Cluster 3\", \"marker\": {\"color\": \"#ab63fa\"}, \"name\": \"Cluster 3\", \"notched\": true, \"offsetgroup\": \"Cluster 3\", \"showlegend\": false, \"type\": \"box\", \"x\": [5.1, 5.5, 5.6, 5.0, 5.8, 4.9, 4.5, 5.2, 5.7, 5.5, 6.0, 4.9, 6.3, 5.8, 6.2, 5.6, 5.8, 5.5, 5.5, 6.0, 5.0, 5.5], \"xaxis\": \"x2\", \"yaxis\": \"y2\"}],                        {\"barmode\": \"relative\", \"height\": 600, \"legend\": {\"title\": {\"text\": \"Cluster\"}, \"tracegroupgap\": 0}, \"margin\": {\"t\": 60}, \"template\": {\"data\": {\"bar\": [{\"error_x\": {\"color\": \"#2a3f5f\"}, \"error_y\": {\"color\": \"#2a3f5f\"}, \"marker\": {\"line\": {\"color\": \"#E5ECF6\", \"width\": 0.5}}, \"type\": \"bar\"}], \"barpolar\": [{\"marker\": {\"line\": {\"color\": \"#E5ECF6\", \"width\": 0.5}}, \"type\": \"barpolar\"}], \"carpet\": [{\"aaxis\": {\"endlinecolor\": \"#2a3f5f\", \"gridcolor\": \"white\", \"linecolor\": \"white\", \"minorgridcolor\": \"white\", \"startlinecolor\": \"#2a3f5f\"}, \"baxis\": {\"endlinecolor\": \"#2a3f5f\", \"gridcolor\": \"white\", \"linecolor\": \"white\", \"minorgridcolor\": \"white\", \"startlinecolor\": \"#2a3f5f\"}, \"type\": \"carpet\"}], \"choropleth\": [{\"colorbar\": {\"outlinewidth\": 0, \"ticks\": \"\"}, \"type\": \"choropleth\"}], \"contour\": [{\"colorbar\": {\"outlinewidth\": 0, \"ticks\": \"\"}, \"colorscale\": [[0.0, \"#0d0887\"], [0.1111111111111111, \"#46039f\"], [0.2222222222222222, \"#7201a8\"], [0.3333333333333333, \"#9c179e\"], [0.4444444444444444, \"#bd3786\"], [0.5555555555555556, \"#d8576b\"], [0.6666666666666666, \"#ed7953\"], [0.7777777777777778, \"#fb9f3a\"], [0.8888888888888888, \"#fdca26\"], [1.0, \"#f0f921\"]], \"type\": \"contour\"}], \"contourcarpet\": [{\"colorbar\": {\"outlinewidth\": 0, \"ticks\": \"\"}, \"type\": \"contourcarpet\"}], \"heatmap\": [{\"colorbar\": {\"outlinewidth\": 0, \"ticks\": \"\"}, \"colorscale\": [[0.0, \"#0d0887\"], [0.1111111111111111, \"#46039f\"], [0.2222222222222222, \"#7201a8\"], [0.3333333333333333, \"#9c179e\"], [0.4444444444444444, \"#bd3786\"], [0.5555555555555556, \"#d8576b\"], [0.6666666666666666, \"#ed7953\"], [0.7777777777777778, \"#fb9f3a\"], [0.8888888888888888, \"#fdca26\"], [1.0, \"#f0f921\"]], \"type\": \"heatmap\"}], \"heatmapgl\": [{\"colorbar\": {\"outlinewidth\": 0, \"ticks\": \"\"}, \"colorscale\": [[0.0, \"#0d0887\"], [0.1111111111111111, \"#46039f\"], [0.2222222222222222, \"#7201a8\"], [0.3333333333333333, \"#9c179e\"], [0.4444444444444444, \"#bd3786\"], [0.5555555555555556, \"#d8576b\"], [0.6666666666666666, \"#ed7953\"], [0.7777777777777778, \"#fb9f3a\"], [0.8888888888888888, \"#fdca26\"], [1.0, \"#f0f921\"]], \"type\": \"heatmapgl\"}], \"histogram\": [{\"marker\": {\"colorbar\": {\"outlinewidth\": 0, \"ticks\": \"\"}}, \"type\": \"histogram\"}], \"histogram2d\": [{\"colorbar\": {\"outlinewidth\": 0, \"ticks\": \"\"}, \"colorscale\": [[0.0, \"#0d0887\"], [0.1111111111111111, \"#46039f\"], [0.2222222222222222, \"#7201a8\"], [0.3333333333333333, \"#9c179e\"], [0.4444444444444444, \"#bd3786\"], [0.5555555555555556, \"#d8576b\"], [0.6666666666666666, \"#ed7953\"], [0.7777777777777778, \"#fb9f3a\"], [0.8888888888888888, \"#fdca26\"], [1.0, \"#f0f921\"]], \"type\": \"histogram2d\"}], \"histogram2dcontour\": [{\"colorbar\": {\"outlinewidth\": 0, \"ticks\": \"\"}, \"colorscale\": [[0.0, \"#0d0887\"], [0.1111111111111111, \"#46039f\"], [0.2222222222222222, \"#7201a8\"], [0.3333333333333333, \"#9c179e\"], [0.4444444444444444, \"#bd3786\"], [0.5555555555555556, \"#d8576b\"], [0.6666666666666666, \"#ed7953\"], [0.7777777777777778, \"#fb9f3a\"], [0.8888888888888888, \"#fdca26\"], [1.0, \"#f0f921\"]], \"type\": \"histogram2dcontour\"}], \"mesh3d\": [{\"colorbar\": {\"outlinewidth\": 0, \"ticks\": \"\"}, \"type\": \"mesh3d\"}], \"parcoords\": [{\"line\": {\"colorbar\": {\"outlinewidth\": 0, \"ticks\": \"\"}}, \"type\": \"parcoords\"}], \"pie\": [{\"automargin\": true, \"type\": \"pie\"}], \"scatter\": [{\"marker\": {\"colorbar\": {\"outlinewidth\": 0, \"ticks\": \"\"}}, \"type\": \"scatter\"}], \"scatter3d\": [{\"line\": {\"colorbar\": {\"outlinewidth\": 0, \"ticks\": \"\"}}, \"marker\": {\"colorbar\": {\"outlinewidth\": 0, \"ticks\": \"\"}}, \"type\": \"scatter3d\"}], \"scattercarpet\": [{\"marker\": {\"colorbar\": {\"outlinewidth\": 0, \"ticks\": \"\"}}, \"type\": \"scattercarpet\"}], \"scattergeo\": [{\"marker\": {\"colorbar\": {\"outlinewidth\": 0, \"ticks\": \"\"}}, \"type\": \"scattergeo\"}], \"scattergl\": [{\"marker\": {\"colorbar\": {\"outlinewidth\": 0, \"ticks\": \"\"}}, \"type\": \"scattergl\"}], \"scattermapbox\": [{\"marker\": {\"colorbar\": {\"outlinewidth\": 0, \"ticks\": \"\"}}, \"type\": \"scattermapbox\"}], \"scatterpolar\": [{\"marker\": {\"colorbar\": {\"outlinewidth\": 0, \"ticks\": \"\"}}, \"type\": \"scatterpolar\"}], \"scatterpolargl\": [{\"marker\": {\"colorbar\": {\"outlinewidth\": 0, \"ticks\": \"\"}}, \"type\": \"scatterpolargl\"}], \"scatterternary\": [{\"marker\": {\"colorbar\": {\"outlinewidth\": 0, \"ticks\": \"\"}}, \"type\": \"scatterternary\"}], \"surface\": [{\"colorbar\": {\"outlinewidth\": 0, \"ticks\": \"\"}, \"colorscale\": [[0.0, \"#0d0887\"], [0.1111111111111111, \"#46039f\"], [0.2222222222222222, \"#7201a8\"], [0.3333333333333333, \"#9c179e\"], [0.4444444444444444, \"#bd3786\"], [0.5555555555555556, \"#d8576b\"], [0.6666666666666666, \"#ed7953\"], [0.7777777777777778, \"#fb9f3a\"], [0.8888888888888888, \"#fdca26\"], [1.0, \"#f0f921\"]], \"type\": \"surface\"}], \"table\": [{\"cells\": {\"fill\": {\"color\": \"#EBF0F8\"}, \"line\": {\"color\": \"white\"}}, \"header\": {\"fill\": {\"color\": \"#C8D4E3\"}, \"line\": {\"color\": \"white\"}}, \"type\": \"table\"}]}, \"layout\": {\"annotationdefaults\": {\"arrowcolor\": \"#2a3f5f\", \"arrowhead\": 0, \"arrowwidth\": 1}, \"autotypenumbers\": \"strict\", \"coloraxis\": {\"colorbar\": {\"outlinewidth\": 0, \"ticks\": \"\"}}, \"colorscale\": {\"diverging\": [[0, \"#8e0152\"], [0.1, \"#c51b7d\"], [0.2, \"#de77ae\"], [0.3, \"#f1b6da\"], [0.4, \"#fde0ef\"], [0.5, \"#f7f7f7\"], [0.6, \"#e6f5d0\"], [0.7, \"#b8e186\"], [0.8, \"#7fbc41\"], [0.9, \"#4d9221\"], [1, \"#276419\"]], \"sequential\": [[0.0, \"#0d0887\"], [0.1111111111111111, \"#46039f\"], [0.2222222222222222, \"#7201a8\"], [0.3333333333333333, \"#9c179e\"], [0.4444444444444444, \"#bd3786\"], [0.5555555555555556, \"#d8576b\"], [0.6666666666666666, \"#ed7953\"], [0.7777777777777778, \"#fb9f3a\"], [0.8888888888888888, \"#fdca26\"], [1.0, \"#f0f921\"]], \"sequentialminus\": [[0.0, \"#0d0887\"], [0.1111111111111111, \"#46039f\"], [0.2222222222222222, \"#7201a8\"], [0.3333333333333333, \"#9c179e\"], [0.4444444444444444, \"#bd3786\"], [0.5555555555555556, \"#d8576b\"], [0.6666666666666666, \"#ed7953\"], [0.7777777777777778, \"#fb9f3a\"], [0.8888888888888888, \"#fdca26\"], [1.0, \"#f0f921\"]]}, \"colorway\": [\"#636efa\", \"#EF553B\", \"#00cc96\", \"#ab63fa\", \"#FFA15A\", \"#19d3f3\", \"#FF6692\", \"#B6E880\", \"#FF97FF\", \"#FECB52\"], \"font\": {\"color\": \"#2a3f5f\"}, \"geo\": {\"bgcolor\": \"white\", \"lakecolor\": \"white\", \"landcolor\": \"#E5ECF6\", \"showlakes\": true, \"showland\": true, \"subunitcolor\": \"white\"}, \"hoverlabel\": {\"align\": \"left\"}, \"hovermode\": \"closest\", \"mapbox\": {\"style\": \"light\"}, \"paper_bgcolor\": \"white\", \"plot_bgcolor\": \"#E5ECF6\", \"polar\": {\"angularaxis\": {\"gridcolor\": \"white\", \"linecolor\": \"white\", \"ticks\": \"\"}, \"bgcolor\": \"#E5ECF6\", \"radialaxis\": {\"gridcolor\": \"white\", \"linecolor\": \"white\", \"ticks\": \"\"}}, \"scene\": {\"xaxis\": {\"backgroundcolor\": \"#E5ECF6\", \"gridcolor\": \"white\", \"gridwidth\": 2, \"linecolor\": \"white\", \"showbackground\": true, \"ticks\": \"\", \"zerolinecolor\": \"white\"}, \"yaxis\": {\"backgroundcolor\": \"#E5ECF6\", \"gridcolor\": \"white\", \"gridwidth\": 2, \"linecolor\": \"white\", \"showbackground\": true, \"ticks\": \"\", \"zerolinecolor\": \"white\"}, \"zaxis\": {\"backgroundcolor\": \"#E5ECF6\", \"gridcolor\": \"white\", \"gridwidth\": 2, \"linecolor\": \"white\", \"showbackground\": true, \"ticks\": \"\", \"zerolinecolor\": \"white\"}}, \"shapedefaults\": {\"line\": {\"color\": \"#2a3f5f\"}}, \"ternary\": {\"aaxis\": {\"gridcolor\": \"white\", \"linecolor\": \"white\", \"ticks\": \"\"}, \"baxis\": {\"gridcolor\": \"white\", \"linecolor\": \"white\", \"ticks\": \"\"}, \"bgcolor\": \"#E5ECF6\", \"caxis\": {\"gridcolor\": \"white\", \"linecolor\": \"white\", \"ticks\": \"\"}}, \"title\": {\"x\": 0.05}, \"xaxis\": {\"automargin\": true, \"gridcolor\": \"white\", \"linecolor\": \"white\", \"ticks\": \"\", \"title\": {\"standoff\": 15}, \"zerolinecolor\": \"white\", \"zerolinewidth\": 2}, \"yaxis\": {\"automargin\": true, \"gridcolor\": \"white\", \"linecolor\": \"white\", \"ticks\": \"\", \"title\": {\"standoff\": 15}, \"zerolinecolor\": \"white\", \"zerolinewidth\": 2}}}, \"xaxis\": {\"anchor\": \"y\", \"domain\": [0.0, 1.0], \"title\": {\"text\": \"sepallength\"}}, \"xaxis2\": {\"anchor\": \"y2\", \"domain\": [0.0, 1.0], \"matches\": \"x\", \"showgrid\": true, \"showticklabels\": false}, \"yaxis\": {\"anchor\": \"x\", \"domain\": [0.0, 0.7326], \"title\": {\"text\": \"count\"}}, \"yaxis2\": {\"anchor\": \"x2\", \"domain\": [0.7426, 1.0], \"matches\": \"y2\", \"showgrid\": false, \"showline\": false, \"showticklabels\": false, \"ticks\": \"\"}},                        {\"responsive\": true}                    ).then(function(){\n",
       "                            \n",
       "var gd = document.getElementById('84b3987e-f51f-4c53-80f4-b9bcc40f66c3');\n",
       "var x = new MutationObserver(function (mutations, observer) {{\n",
       "        var display = window.getComputedStyle(gd).display;\n",
       "        if (!display || display === 'none') {{\n",
       "            console.log([gd, 'removed!']);\n",
       "            Plotly.purge(gd);\n",
       "            observer.disconnect();\n",
       "        }}\n",
       "}});\n",
       "\n",
       "// Listen for the removal of the full notebook cells\n",
       "var notebookContainer = gd.closest('#notebook-container');\n",
       "if (notebookContainer) {{\n",
       "    x.observe(notebookContainer, {childList: true});\n",
       "}}\n",
       "\n",
       "// Listen for the clearing of the current output cell\n",
       "var outputEl = gd.closest('.output');\n",
       "if (outputEl) {{\n",
       "    x.observe(outputEl, {childList: true});\n",
       "}}\n",
       "\n",
       "                        })                };                });            </script>        </div>"
      ]
     },
     "metadata": {},
     "output_type": "display_data"
    }
   ],
   "source": [
    "plot_model(kmeans,plot='distribution',feature='sepallength')"
   ]
  },
  {
   "cell_type": "code",
   "execution_count": 54,
   "metadata": {},
   "outputs": [
    {
     "data": {
      "application/vnd.plotly.v1+json": {
       "config": {
        "plotlyServerURL": "https://plot.ly"
       },
       "data": [
        {
         "alignmentgroup": "True",
         "bingroup": "x",
         "hovertemplate": "Cluster=Cluster 0<br>petalwidth=%{x}<br>count=%{y}<extra></extra>",
         "legendgroup": "Cluster 0",
         "marker": {
          "color": "#636efa",
          "opacity": 0.7
         },
         "name": "Cluster 0",
         "offsetgroup": "Cluster 0",
         "orientation": "v",
         "showlegend": true,
         "type": "histogram",
         "x": [
          0.2,
          0.2,
          0.2,
          0.2,
          0.2,
          0.4,
          0.1,
          0.2,
          0.1,
          0.2,
          0.2,
          0.1,
          0.2,
          0.2,
          0.3,
          0.2,
          0.6,
          0.4,
          0.3,
          0.2,
          0.2,
          0.2,
          0.4,
          0.2,
          0.2,
          0.5,
          0.2,
          0.2,
          0.2,
          0.2,
          0.4,
          0.3,
          0.2,
          0.2,
          0.1,
          0.2,
          0.2,
          0.2,
          0.1,
          0.2,
          0.4,
          0.4,
          0.3,
          0.3,
          0.3,
          0.2,
          0.1,
          0.4,
          0.2
         ],
         "xaxis": "x",
         "yaxis": "y"
        },
        {
         "alignmentgroup": "True",
         "customdata": [
          [
           5.1,
           3.5,
           1.4,
           "Iris-setosa",
           "Cluster 0"
          ],
          [
           5.2,
           3.5,
           1.5,
           "Iris-setosa",
           "Cluster 0"
          ],
          [
           5.2,
           3.4,
           1.4,
           "Iris-setosa",
           "Cluster 0"
          ],
          [
           4.7,
           3.2,
           1.6,
           "Iris-setosa",
           "Cluster 0"
          ],
          [
           4.8,
           3.1,
           1.6,
           "Iris-setosa",
           "Cluster 0"
          ],
          [
           5.4,
           3.4,
           1.5,
           "Iris-setosa",
           "Cluster 0"
          ],
          [
           5.2,
           4.1,
           1.5,
           "Iris-setosa",
           "Cluster 0"
          ],
          [
           5.5,
           4.2,
           1.4,
           "Iris-setosa",
           "Cluster 0"
          ],
          [
           4.9,
           3.1,
           1.5,
           "Iris-setosa",
           "Cluster 0"
          ],
          [
           5,
           3.2,
           1.2,
           "Iris-setosa",
           "Cluster 0"
          ],
          [
           5.5,
           3.5,
           1.3,
           "Iris-setosa",
           "Cluster 0"
          ],
          [
           4.9,
           3.1,
           1.5,
           "Iris-setosa",
           "Cluster 0"
          ],
          [
           4.4,
           3,
           1.3,
           "Iris-setosa",
           "Cluster 0"
          ],
          [
           5.1,
           3.4,
           1.5,
           "Iris-setosa",
           "Cluster 0"
          ],
          [
           5,
           3.5,
           1.3,
           "Iris-setosa",
           "Cluster 0"
          ],
          [
           4.4,
           3.2,
           1.3,
           "Iris-setosa",
           "Cluster 0"
          ],
          [
           5,
           3.5,
           1.6,
           "Iris-setosa",
           "Cluster 0"
          ],
          [
           5.1,
           3.8,
           1.9,
           "Iris-setosa",
           "Cluster 0"
          ],
          [
           4.8,
           3,
           1.4,
           "Iris-setosa",
           "Cluster 0"
          ],
          [
           5.1,
           3.8,
           1.6,
           "Iris-setosa",
           "Cluster 0"
          ],
          [
           5.3,
           3.7,
           1.5,
           "Iris-setosa",
           "Cluster 0"
          ],
          [
           5,
           3.3,
           1.4,
           "Iris-setosa",
           "Cluster 0"
          ],
          [
           5,
           3.4,
           1.6,
           "Iris-setosa",
           "Cluster 0"
          ],
          [
           5,
           3,
           1.6,
           "Iris-setosa",
           "Cluster 0"
          ],
          [
           4.6,
           3.2,
           1.4,
           "Iris-setosa",
           "Cluster 0"
          ],
          [
           5.1,
           3.3,
           1.7,
           "Iris-setosa",
           "Cluster 0"
          ],
          [
           4.9,
           3,
           1.4,
           "Iris-setosa",
           "Cluster 0"
          ],
          [
           4.7,
           3.2,
           1.3,
           "Iris-setosa",
           "Cluster 0"
          ],
          [
           4.6,
           3.1,
           1.5,
           "Iris-setosa",
           "Cluster 0"
          ],
          [
           5,
           3.6,
           1.4,
           "Iris-setosa",
           "Cluster 0"
          ],
          [
           5.4,
           3.9,
           1.7,
           "Iris-setosa",
           "Cluster 0"
          ],
          [
           4.6,
           3.4,
           1.4,
           "Iris-setosa",
           "Cluster 0"
          ],
          [
           5,
           3.4,
           1.5,
           "Iris-setosa",
           "Cluster 0"
          ],
          [
           4.4,
           2.9,
           1.4,
           "Iris-setosa",
           "Cluster 0"
          ],
          [
           4.9,
           3.1,
           1.5,
           "Iris-setosa",
           "Cluster 0"
          ],
          [
           5.4,
           3.7,
           1.5,
           "Iris-setosa",
           "Cluster 0"
          ],
          [
           4.8,
           3.4,
           1.6,
           "Iris-setosa",
           "Cluster 0"
          ],
          [
           4.8,
           3.4,
           1.9,
           "Iris-setosa",
           "Cluster 0"
          ],
          [
           4.3,
           3,
           1.1,
           "Iris-setosa",
           "Cluster 0"
          ],
          [
           5.8,
           4,
           1.2,
           "Iris-setosa",
           "Cluster 0"
          ],
          [
           5.7,
           4.4,
           1.5,
           "Iris-setosa",
           "Cluster 0"
          ],
          [
           5.4,
           3.9,
           1.3,
           "Iris-setosa",
           "Cluster 0"
          ],
          [
           5.1,
           3.5,
           1.4,
           "Iris-setosa",
           "Cluster 0"
          ],
          [
           5.7,
           3.8,
           1.7,
           "Iris-setosa",
           "Cluster 0"
          ],
          [
           5.1,
           3.8,
           1.5,
           "Iris-setosa",
           "Cluster 0"
          ],
          [
           5.4,
           3.4,
           1.7,
           "Iris-setosa",
           "Cluster 0"
          ],
          [
           4.8,
           3,
           1.4,
           "Iris-setosa",
           "Cluster 0"
          ],
          [
           5.1,
           3.7,
           1.5,
           "Iris-setosa",
           "Cluster 0"
          ],
          [
           4.6,
           3.6,
           1,
           "Iris-setosa",
           "Cluster 0"
          ]
         ],
         "hovertemplate": "Cluster=%{customdata[4]}<br>petalwidth=%{x}<br>sepallength=%{customdata[0]}<br>sepalwidth=%{customdata[1]}<br>petallength=%{customdata[2]}<br>class=%{customdata[3]}<extra></extra>",
         "legendgroup": "Cluster 0",
         "marker": {
          "color": "#636efa"
         },
         "name": "Cluster 0",
         "notched": true,
         "offsetgroup": "Cluster 0",
         "showlegend": false,
         "type": "box",
         "x": [
          0.2,
          0.2,
          0.2,
          0.2,
          0.2,
          0.4,
          0.1,
          0.2,
          0.1,
          0.2,
          0.2,
          0.1,
          0.2,
          0.2,
          0.3,
          0.2,
          0.6,
          0.4,
          0.3,
          0.2,
          0.2,
          0.2,
          0.4,
          0.2,
          0.2,
          0.5,
          0.2,
          0.2,
          0.2,
          0.2,
          0.4,
          0.3,
          0.2,
          0.2,
          0.1,
          0.2,
          0.2,
          0.2,
          0.1,
          0.2,
          0.4,
          0.4,
          0.3,
          0.3,
          0.3,
          0.2,
          0.1,
          0.4,
          0.2
         ],
         "xaxis": "x2",
         "yaxis": "y2"
        },
        {
         "alignmentgroup": "True",
         "bingroup": "x",
         "hovertemplate": "Cluster=Cluster 1<br>petalwidth=%{x}<br>count=%{y}<extra></extra>",
         "legendgroup": "Cluster 1",
         "marker": {
          "color": "#EF553B",
          "opacity": 0.7
         },
         "name": "Cluster 1",
         "offsetgroup": "Cluster 1",
         "orientation": "v",
         "showlegend": true,
         "type": "histogram",
         "x": [
          2.3,
          1.8,
          2.2,
          2,
          2.3,
          2,
          2.4,
          2.3,
          1.8,
          1.8,
          2.1,
          1.9,
          2,
          2.5,
          1.8,
          1.8,
          2.1,
          2.2,
          2.1,
          2.1,
          2,
          1.8,
          1.8,
          1.8,
          2,
          1.9,
          1.9,
          2.3,
          2.5,
          2.3,
          1.9,
          2.3,
          2.4,
          1.8,
          2.1,
          2.4,
          2.3,
          1.4,
          1.5,
          2.2,
          2,
          1.9,
          1.6,
          2.1,
          1.8,
          2.5,
          1.8,
          2.3
         ],
         "xaxis": "x",
         "yaxis": "y"
        },
        {
         "alignmentgroup": "True",
         "customdata": [
          [
           6.4,
           3.2,
           5.3,
           "Iris-virginica",
           "Cluster 1"
          ],
          [
           6.5,
           3,
           5.5,
           "Iris-virginica",
           "Cluster 1"
          ],
          [
           7.7,
           3.8,
           6.7,
           "Iris-virginica",
           "Cluster 1"
          ],
          [
           7.7,
           2.8,
           6.7,
           "Iris-virginica",
           "Cluster 1"
          ],
          [
           6.9,
           3.2,
           5.7,
           "Iris-virginica",
           "Cluster 1"
          ],
          [
           5.6,
           2.8,
           4.9,
           "Iris-virginica",
           "Cluster 1"
          ],
          [
           5.8,
           2.8,
           5.1,
           "Iris-virginica",
           "Cluster 1"
          ],
          [
           7.7,
           2.6,
           6.9,
           "Iris-virginica",
           "Cluster 1"
          ],
          [
           6.3,
           2.7,
           4.9,
           "Iris-virginica",
           "Cluster 1"
          ],
          [
           6.3,
           2.9,
           5.6,
           "Iris-virginica",
           "Cluster 1"
          ],
          [
           6.8,
           3,
           5.5,
           "Iris-virginica",
           "Cluster 1"
          ],
          [
           6.4,
           2.7,
           5.3,
           "Iris-virginica",
           "Cluster 1"
          ],
          [
           6.5,
           3.2,
           5.1,
           "Iris-virginica",
           "Cluster 1"
          ],
          [
           7.2,
           3.6,
           6.1,
           "Iris-virginica",
           "Cluster 1"
          ],
          [
           6.7,
           2.5,
           5.8,
           "Iris-virginica",
           "Cluster 1"
          ],
          [
           7.3,
           2.9,
           6.3,
           "Iris-virginica",
           "Cluster 1"
          ],
          [
           7.6,
           3,
           6.6,
           "Iris-virginica",
           "Cluster 1"
          ],
          [
           6.5,
           3,
           5.8,
           "Iris-virginica",
           "Cluster 1"
          ],
          [
           6.7,
           3.3,
           5.7,
           "Iris-virginica",
           "Cluster 1"
          ],
          [
           7.1,
           3,
           5.9,
           "Iris-virginica",
           "Cluster 1"
          ],
          [
           5.7,
           2.5,
           5,
           "Iris-virginica",
           "Cluster 1"
          ],
          [
           7.2,
           3.2,
           6,
           "Iris-virginica",
           "Cluster 1"
          ],
          [
           6.4,
           3.1,
           5.5,
           "Iris-virginica",
           "Cluster 1"
          ],
          [
           6.1,
           3,
           4.9,
           "Iris-virginica",
           "Cluster 1"
          ],
          [
           6.5,
           3,
           5.2,
           "Iris-virginica",
           "Cluster 1"
          ],
          [
           5.8,
           2.7,
           5.1,
           "Iris-virginica",
           "Cluster 1"
          ],
          [
           6.3,
           2.5,
           5,
           "Iris-virginica",
           "Cluster 1"
          ],
          [
           6.7,
           3,
           5.2,
           "Iris-virginica",
           "Cluster 1"
          ],
          [
           6.7,
           3.3,
           5.7,
           "Iris-virginica",
           "Cluster 1"
          ],
          [
           6.8,
           3.2,
           5.9,
           "Iris-virginica",
           "Cluster 1"
          ],
          [
           5.8,
           2.7,
           5.1,
           "Iris-virginica",
           "Cluster 1"
          ],
          [
           6.9,
           3.1,
           5.1,
           "Iris-virginica",
           "Cluster 1"
          ],
          [
           6.7,
           3.1,
           5.6,
           "Iris-virginica",
           "Cluster 1"
          ],
          [
           6.2,
           2.8,
           4.8,
           "Iris-virginica",
           "Cluster 1"
          ],
          [
           6.9,
           3.1,
           5.4,
           "Iris-virginica",
           "Cluster 1"
          ],
          [
           6.3,
           3.4,
           5.6,
           "Iris-virginica",
           "Cluster 1"
          ],
          [
           7.7,
           3,
           6.1,
           "Iris-virginica",
           "Cluster 1"
          ],
          [
           6.1,
           2.6,
           5.6,
           "Iris-virginica",
           "Cluster 1"
          ],
          [
           6.3,
           2.8,
           5.1,
           "Iris-virginica",
           "Cluster 1"
          ],
          [
           6.4,
           2.8,
           5.6,
           "Iris-virginica",
           "Cluster 1"
          ],
          [
           7.9,
           3.8,
           6.4,
           "Iris-virginica",
           "Cluster 1"
          ],
          [
           7.4,
           2.8,
           6.1,
           "Iris-virginica",
           "Cluster 1"
          ],
          [
           7.2,
           3,
           5.8,
           "Iris-virginica",
           "Cluster 1"
          ],
          [
           6.4,
           2.8,
           5.6,
           "Iris-virginica",
           "Cluster 1"
          ],
          [
           6,
           3,
           4.8,
           "Iris-virginica",
           "Cluster 1"
          ],
          [
           6.3,
           3.3,
           6,
           "Iris-virginica",
           "Cluster 1"
          ],
          [
           5.9,
           3,
           5.1,
           "Iris-virginica",
           "Cluster 1"
          ],
          [
           6.2,
           3.4,
           5.4,
           "Iris-virginica",
           "Cluster 1"
          ]
         ],
         "hovertemplate": "Cluster=%{customdata[4]}<br>petalwidth=%{x}<br>sepallength=%{customdata[0]}<br>sepalwidth=%{customdata[1]}<br>petallength=%{customdata[2]}<br>class=%{customdata[3]}<extra></extra>",
         "legendgroup": "Cluster 1",
         "marker": {
          "color": "#EF553B"
         },
         "name": "Cluster 1",
         "notched": true,
         "offsetgroup": "Cluster 1",
         "showlegend": false,
         "type": "box",
         "x": [
          2.3,
          1.8,
          2.2,
          2,
          2.3,
          2,
          2.4,
          2.3,
          1.8,
          1.8,
          2.1,
          1.9,
          2,
          2.5,
          1.8,
          1.8,
          2.1,
          2.2,
          2.1,
          2.1,
          2,
          1.8,
          1.8,
          1.8,
          2,
          1.9,
          1.9,
          2.3,
          2.5,
          2.3,
          1.9,
          2.3,
          2.4,
          1.8,
          2.1,
          2.4,
          2.3,
          1.4,
          1.5,
          2.2,
          2,
          1.9,
          1.6,
          2.1,
          1.8,
          2.5,
          1.8,
          2.3
         ],
         "xaxis": "x2",
         "yaxis": "y2"
        },
        {
         "alignmentgroup": "True",
         "bingroup": "x",
         "hovertemplate": "Cluster=Cluster 2<br>petalwidth=%{x}<br>count=%{y}<extra></extra>",
         "legendgroup": "Cluster 2",
         "marker": {
          "color": "#00cc96",
          "opacity": 0.7
         },
         "name": "Cluster 2",
         "offsetgroup": "Cluster 2",
         "orientation": "v",
         "showlegend": true,
         "type": "histogram",
         "x": [
          1.4,
          1.2,
          1.2,
          1.5,
          1.3,
          1.8,
          1.5,
          1.4,
          1.4,
          1.3,
          1.5,
          1.3,
          1.6,
          1.3,
          1.5,
          1.5,
          1.5,
          1.4,
          1.4,
          1.7,
          1.3,
          1.3,
          1.5,
          1.3,
          1.4,
          1.6,
          1.5,
          1.5,
          1.3,
          1.3,
          1.6
         ],
         "xaxis": "x",
         "yaxis": "y"
        },
        {
         "alignmentgroup": "True",
         "customdata": [
          [
           6.6,
           3,
           4.4,
           "Iris-versicolor",
           "Cluster 2"
          ],
          [
           5.7,
           3,
           4.2,
           "Iris-versicolor",
           "Cluster 2"
          ],
          [
           6.1,
           2.8,
           4.7,
           "Iris-versicolor",
           "Cluster 2"
          ],
          [
           6.3,
           2.5,
           4.9,
           "Iris-versicolor",
           "Cluster 2"
          ],
          [
           6.1,
           2.8,
           4,
           "Iris-versicolor",
           "Cluster 2"
          ],
          [
           5.9,
           3.2,
           4.8,
           "Iris-versicolor",
           "Cluster 2"
          ],
          [
           5.6,
           3,
           4.5,
           "Iris-versicolor",
           "Cluster 2"
          ],
          [
           6.7,
           3.1,
           4.4,
           "Iris-versicolor",
           "Cluster 2"
          ],
          [
           6.8,
           2.8,
           4.8,
           "Iris-versicolor",
           "Cluster 2"
          ],
          [
           5.6,
           2.9,
           3.6,
           "Iris-versicolor",
           "Cluster 2"
          ],
          [
           5.9,
           3,
           4.2,
           "Iris-versicolor",
           "Cluster 2"
          ],
          [
           6.6,
           2.9,
           4.6,
           "Iris-versicolor",
           "Cluster 2"
          ],
          [
           6.3,
           3.3,
           4.7,
           "Iris-versicolor",
           "Cluster 2"
          ],
          [
           5.7,
           2.8,
           4.5,
           "Iris-versicolor",
           "Cluster 2"
          ],
          [
           6.5,
           2.8,
           4.6,
           "Iris-versicolor",
           "Cluster 2"
          ],
          [
           6.9,
           3.1,
           4.9,
           "Iris-versicolor",
           "Cluster 2"
          ],
          [
           6.4,
           3.2,
           4.5,
           "Iris-versicolor",
           "Cluster 2"
          ],
          [
           7,
           3.2,
           4.7,
           "Iris-versicolor",
           "Cluster 2"
          ],
          [
           6.1,
           2.9,
           4.7,
           "Iris-versicolor",
           "Cluster 2"
          ],
          [
           6.7,
           3,
           5,
           "Iris-versicolor",
           "Cluster 2"
          ],
          [
           5.7,
           2.9,
           4.2,
           "Iris-versicolor",
           "Cluster 2"
          ],
          [
           6.4,
           2.9,
           4.3,
           "Iris-versicolor",
           "Cluster 2"
          ],
          [
           6,
           2.9,
           4.5,
           "Iris-versicolor",
           "Cluster 2"
          ],
          [
           5.6,
           3,
           4.1,
           "Iris-versicolor",
           "Cluster 2"
          ],
          [
           6.1,
           3,
           4.6,
           "Iris-versicolor",
           "Cluster 2"
          ],
          [
           6,
           3.4,
           4.5,
           "Iris-versicolor",
           "Cluster 2"
          ],
          [
           5.4,
           3,
           4.5,
           "Iris-versicolor",
           "Cluster 2"
          ],
          [
           6.7,
           3.1,
           4.7,
           "Iris-versicolor",
           "Cluster 2"
          ],
          [
           5.7,
           2.8,
           4.1,
           "Iris-versicolor",
           "Cluster 2"
          ],
          [
           6.2,
           2.9,
           4.3,
           "Iris-versicolor",
           "Cluster 2"
          ],
          [
           6,
           2.7,
           5.1,
           "Iris-versicolor",
           "Cluster 2"
          ]
         ],
         "hovertemplate": "Cluster=%{customdata[4]}<br>petalwidth=%{x}<br>sepallength=%{customdata[0]}<br>sepalwidth=%{customdata[1]}<br>petallength=%{customdata[2]}<br>class=%{customdata[3]}<extra></extra>",
         "legendgroup": "Cluster 2",
         "marker": {
          "color": "#00cc96"
         },
         "name": "Cluster 2",
         "notched": true,
         "offsetgroup": "Cluster 2",
         "showlegend": false,
         "type": "box",
         "x": [
          1.4,
          1.2,
          1.2,
          1.5,
          1.3,
          1.8,
          1.5,
          1.4,
          1.4,
          1.3,
          1.5,
          1.3,
          1.6,
          1.3,
          1.5,
          1.5,
          1.5,
          1.4,
          1.4,
          1.7,
          1.3,
          1.3,
          1.5,
          1.3,
          1.4,
          1.6,
          1.5,
          1.5,
          1.3,
          1.3,
          1.6
         ],
         "xaxis": "x2",
         "yaxis": "y2"
        },
        {
         "alignmentgroup": "True",
         "bingroup": "x",
         "hovertemplate": "Cluster=Cluster 3<br>petalwidth=%{x}<br>count=%{y}<extra></extra>",
         "legendgroup": "Cluster 3",
         "marker": {
          "color": "#ab63fa",
          "opacity": 0.7
         },
         "name": "Cluster 3",
         "offsetgroup": "Cluster 3",
         "orientation": "v",
         "showlegend": true,
         "type": "histogram",
         "x": [
          1.1,
          1.3,
          1.3,
          1,
          1.2,
          1,
          0.3,
          1.4,
          1,
          1.2,
          1,
          1.7,
          1.3,
          1,
          1.5,
          1.1,
          1.2,
          1,
          1.1,
          1.5,
          1,
          1.3
         ],
         "xaxis": "x",
         "yaxis": "y"
        },
        {
         "alignmentgroup": "True",
         "customdata": [
          [
           5.1,
           2.5,
           3,
           "Iris-versicolor",
           "Cluster 3"
          ],
          [
           5.5,
           2.3,
           4,
           "Iris-versicolor",
           "Cluster 3"
          ],
          [
           5.6,
           2.7,
           4.2,
           "Iris-versicolor",
           "Cluster 3"
          ],
          [
           5,
           2.3,
           3.3,
           "Iris-versicolor",
           "Cluster 3"
          ],
          [
           5.8,
           2.6,
           4,
           "Iris-versicolor",
           "Cluster 3"
          ],
          [
           4.9,
           2.4,
           3.3,
           "Iris-versicolor",
           "Cluster 3"
          ],
          [
           4.5,
           2.3,
           1.3,
           "Iris-setosa",
           "Cluster 3"
          ],
          [
           5.2,
           2.7,
           3.9,
           "Iris-versicolor",
           "Cluster 3"
          ],
          [
           5.7,
           2.6,
           3.5,
           "Iris-versicolor",
           "Cluster 3"
          ],
          [
           5.5,
           2.6,
           4.4,
           "Iris-versicolor",
           "Cluster 3"
          ],
          [
           6,
           2.2,
           4,
           "Iris-versicolor",
           "Cluster 3"
          ],
          [
           4.9,
           2.5,
           4.5,
           "Iris-virginica",
           "Cluster 3"
          ],
          [
           6.3,
           2.3,
           4.4,
           "Iris-versicolor",
           "Cluster 3"
          ],
          [
           5.8,
           2.7,
           4.1,
           "Iris-versicolor",
           "Cluster 3"
          ],
          [
           6.2,
           2.2,
           4.5,
           "Iris-versicolor",
           "Cluster 3"
          ],
          [
           5.6,
           2.5,
           3.9,
           "Iris-versicolor",
           "Cluster 3"
          ],
          [
           5.8,
           2.7,
           3.9,
           "Iris-versicolor",
           "Cluster 3"
          ],
          [
           5.5,
           2.4,
           3.7,
           "Iris-versicolor",
           "Cluster 3"
          ],
          [
           5.5,
           2.4,
           3.8,
           "Iris-versicolor",
           "Cluster 3"
          ],
          [
           6,
           2.2,
           5,
           "Iris-virginica",
           "Cluster 3"
          ],
          [
           5,
           2,
           3.5,
           "Iris-versicolor",
           "Cluster 3"
          ],
          [
           5.5,
           2.5,
           4,
           "Iris-versicolor",
           "Cluster 3"
          ]
         ],
         "hovertemplate": "Cluster=%{customdata[4]}<br>petalwidth=%{x}<br>sepallength=%{customdata[0]}<br>sepalwidth=%{customdata[1]}<br>petallength=%{customdata[2]}<br>class=%{customdata[3]}<extra></extra>",
         "legendgroup": "Cluster 3",
         "marker": {
          "color": "#ab63fa"
         },
         "name": "Cluster 3",
         "notched": true,
         "offsetgroup": "Cluster 3",
         "showlegend": false,
         "type": "box",
         "x": [
          1.1,
          1.3,
          1.3,
          1,
          1.2,
          1,
          0.3,
          1.4,
          1,
          1.2,
          1,
          1.7,
          1.3,
          1,
          1.5,
          1.1,
          1.2,
          1,
          1.1,
          1.5,
          1,
          1.3
         ],
         "xaxis": "x2",
         "yaxis": "y2"
        }
       ],
       "layout": {
        "barmode": "relative",
        "height": 600,
        "legend": {
         "title": {
          "text": "Cluster"
         },
         "tracegroupgap": 0
        },
        "margin": {
         "t": 60
        },
        "template": {
         "data": {
          "bar": [
           {
            "error_x": {
             "color": "#2a3f5f"
            },
            "error_y": {
             "color": "#2a3f5f"
            },
            "marker": {
             "line": {
              "color": "#E5ECF6",
              "width": 0.5
             }
            },
            "type": "bar"
           }
          ],
          "barpolar": [
           {
            "marker": {
             "line": {
              "color": "#E5ECF6",
              "width": 0.5
             }
            },
            "type": "barpolar"
           }
          ],
          "carpet": [
           {
            "aaxis": {
             "endlinecolor": "#2a3f5f",
             "gridcolor": "white",
             "linecolor": "white",
             "minorgridcolor": "white",
             "startlinecolor": "#2a3f5f"
            },
            "baxis": {
             "endlinecolor": "#2a3f5f",
             "gridcolor": "white",
             "linecolor": "white",
             "minorgridcolor": "white",
             "startlinecolor": "#2a3f5f"
            },
            "type": "carpet"
           }
          ],
          "choropleth": [
           {
            "colorbar": {
             "outlinewidth": 0,
             "ticks": ""
            },
            "type": "choropleth"
           }
          ],
          "contour": [
           {
            "colorbar": {
             "outlinewidth": 0,
             "ticks": ""
            },
            "colorscale": [
             [
              0,
              "#0d0887"
             ],
             [
              0.1111111111111111,
              "#46039f"
             ],
             [
              0.2222222222222222,
              "#7201a8"
             ],
             [
              0.3333333333333333,
              "#9c179e"
             ],
             [
              0.4444444444444444,
              "#bd3786"
             ],
             [
              0.5555555555555556,
              "#d8576b"
             ],
             [
              0.6666666666666666,
              "#ed7953"
             ],
             [
              0.7777777777777778,
              "#fb9f3a"
             ],
             [
              0.8888888888888888,
              "#fdca26"
             ],
             [
              1,
              "#f0f921"
             ]
            ],
            "type": "contour"
           }
          ],
          "contourcarpet": [
           {
            "colorbar": {
             "outlinewidth": 0,
             "ticks": ""
            },
            "type": "contourcarpet"
           }
          ],
          "heatmap": [
           {
            "colorbar": {
             "outlinewidth": 0,
             "ticks": ""
            },
            "colorscale": [
             [
              0,
              "#0d0887"
             ],
             [
              0.1111111111111111,
              "#46039f"
             ],
             [
              0.2222222222222222,
              "#7201a8"
             ],
             [
              0.3333333333333333,
              "#9c179e"
             ],
             [
              0.4444444444444444,
              "#bd3786"
             ],
             [
              0.5555555555555556,
              "#d8576b"
             ],
             [
              0.6666666666666666,
              "#ed7953"
             ],
             [
              0.7777777777777778,
              "#fb9f3a"
             ],
             [
              0.8888888888888888,
              "#fdca26"
             ],
             [
              1,
              "#f0f921"
             ]
            ],
            "type": "heatmap"
           }
          ],
          "heatmapgl": [
           {
            "colorbar": {
             "outlinewidth": 0,
             "ticks": ""
            },
            "colorscale": [
             [
              0,
              "#0d0887"
             ],
             [
              0.1111111111111111,
              "#46039f"
             ],
             [
              0.2222222222222222,
              "#7201a8"
             ],
             [
              0.3333333333333333,
              "#9c179e"
             ],
             [
              0.4444444444444444,
              "#bd3786"
             ],
             [
              0.5555555555555556,
              "#d8576b"
             ],
             [
              0.6666666666666666,
              "#ed7953"
             ],
             [
              0.7777777777777778,
              "#fb9f3a"
             ],
             [
              0.8888888888888888,
              "#fdca26"
             ],
             [
              1,
              "#f0f921"
             ]
            ],
            "type": "heatmapgl"
           }
          ],
          "histogram": [
           {
            "marker": {
             "colorbar": {
              "outlinewidth": 0,
              "ticks": ""
             }
            },
            "type": "histogram"
           }
          ],
          "histogram2d": [
           {
            "colorbar": {
             "outlinewidth": 0,
             "ticks": ""
            },
            "colorscale": [
             [
              0,
              "#0d0887"
             ],
             [
              0.1111111111111111,
              "#46039f"
             ],
             [
              0.2222222222222222,
              "#7201a8"
             ],
             [
              0.3333333333333333,
              "#9c179e"
             ],
             [
              0.4444444444444444,
              "#bd3786"
             ],
             [
              0.5555555555555556,
              "#d8576b"
             ],
             [
              0.6666666666666666,
              "#ed7953"
             ],
             [
              0.7777777777777778,
              "#fb9f3a"
             ],
             [
              0.8888888888888888,
              "#fdca26"
             ],
             [
              1,
              "#f0f921"
             ]
            ],
            "type": "histogram2d"
           }
          ],
          "histogram2dcontour": [
           {
            "colorbar": {
             "outlinewidth": 0,
             "ticks": ""
            },
            "colorscale": [
             [
              0,
              "#0d0887"
             ],
             [
              0.1111111111111111,
              "#46039f"
             ],
             [
              0.2222222222222222,
              "#7201a8"
             ],
             [
              0.3333333333333333,
              "#9c179e"
             ],
             [
              0.4444444444444444,
              "#bd3786"
             ],
             [
              0.5555555555555556,
              "#d8576b"
             ],
             [
              0.6666666666666666,
              "#ed7953"
             ],
             [
              0.7777777777777778,
              "#fb9f3a"
             ],
             [
              0.8888888888888888,
              "#fdca26"
             ],
             [
              1,
              "#f0f921"
             ]
            ],
            "type": "histogram2dcontour"
           }
          ],
          "mesh3d": [
           {
            "colorbar": {
             "outlinewidth": 0,
             "ticks": ""
            },
            "type": "mesh3d"
           }
          ],
          "parcoords": [
           {
            "line": {
             "colorbar": {
              "outlinewidth": 0,
              "ticks": ""
             }
            },
            "type": "parcoords"
           }
          ],
          "pie": [
           {
            "automargin": true,
            "type": "pie"
           }
          ],
          "scatter": [
           {
            "marker": {
             "colorbar": {
              "outlinewidth": 0,
              "ticks": ""
             }
            },
            "type": "scatter"
           }
          ],
          "scatter3d": [
           {
            "line": {
             "colorbar": {
              "outlinewidth": 0,
              "ticks": ""
             }
            },
            "marker": {
             "colorbar": {
              "outlinewidth": 0,
              "ticks": ""
             }
            },
            "type": "scatter3d"
           }
          ],
          "scattercarpet": [
           {
            "marker": {
             "colorbar": {
              "outlinewidth": 0,
              "ticks": ""
             }
            },
            "type": "scattercarpet"
           }
          ],
          "scattergeo": [
           {
            "marker": {
             "colorbar": {
              "outlinewidth": 0,
              "ticks": ""
             }
            },
            "type": "scattergeo"
           }
          ],
          "scattergl": [
           {
            "marker": {
             "colorbar": {
              "outlinewidth": 0,
              "ticks": ""
             }
            },
            "type": "scattergl"
           }
          ],
          "scattermapbox": [
           {
            "marker": {
             "colorbar": {
              "outlinewidth": 0,
              "ticks": ""
             }
            },
            "type": "scattermapbox"
           }
          ],
          "scatterpolar": [
           {
            "marker": {
             "colorbar": {
              "outlinewidth": 0,
              "ticks": ""
             }
            },
            "type": "scatterpolar"
           }
          ],
          "scatterpolargl": [
           {
            "marker": {
             "colorbar": {
              "outlinewidth": 0,
              "ticks": ""
             }
            },
            "type": "scatterpolargl"
           }
          ],
          "scatterternary": [
           {
            "marker": {
             "colorbar": {
              "outlinewidth": 0,
              "ticks": ""
             }
            },
            "type": "scatterternary"
           }
          ],
          "surface": [
           {
            "colorbar": {
             "outlinewidth": 0,
             "ticks": ""
            },
            "colorscale": [
             [
              0,
              "#0d0887"
             ],
             [
              0.1111111111111111,
              "#46039f"
             ],
             [
              0.2222222222222222,
              "#7201a8"
             ],
             [
              0.3333333333333333,
              "#9c179e"
             ],
             [
              0.4444444444444444,
              "#bd3786"
             ],
             [
              0.5555555555555556,
              "#d8576b"
             ],
             [
              0.6666666666666666,
              "#ed7953"
             ],
             [
              0.7777777777777778,
              "#fb9f3a"
             ],
             [
              0.8888888888888888,
              "#fdca26"
             ],
             [
              1,
              "#f0f921"
             ]
            ],
            "type": "surface"
           }
          ],
          "table": [
           {
            "cells": {
             "fill": {
              "color": "#EBF0F8"
             },
             "line": {
              "color": "white"
             }
            },
            "header": {
             "fill": {
              "color": "#C8D4E3"
             },
             "line": {
              "color": "white"
             }
            },
            "type": "table"
           }
          ]
         },
         "layout": {
          "annotationdefaults": {
           "arrowcolor": "#2a3f5f",
           "arrowhead": 0,
           "arrowwidth": 1
          },
          "autotypenumbers": "strict",
          "coloraxis": {
           "colorbar": {
            "outlinewidth": 0,
            "ticks": ""
           }
          },
          "colorscale": {
           "diverging": [
            [
             0,
             "#8e0152"
            ],
            [
             0.1,
             "#c51b7d"
            ],
            [
             0.2,
             "#de77ae"
            ],
            [
             0.3,
             "#f1b6da"
            ],
            [
             0.4,
             "#fde0ef"
            ],
            [
             0.5,
             "#f7f7f7"
            ],
            [
             0.6,
             "#e6f5d0"
            ],
            [
             0.7,
             "#b8e186"
            ],
            [
             0.8,
             "#7fbc41"
            ],
            [
             0.9,
             "#4d9221"
            ],
            [
             1,
             "#276419"
            ]
           ],
           "sequential": [
            [
             0,
             "#0d0887"
            ],
            [
             0.1111111111111111,
             "#46039f"
            ],
            [
             0.2222222222222222,
             "#7201a8"
            ],
            [
             0.3333333333333333,
             "#9c179e"
            ],
            [
             0.4444444444444444,
             "#bd3786"
            ],
            [
             0.5555555555555556,
             "#d8576b"
            ],
            [
             0.6666666666666666,
             "#ed7953"
            ],
            [
             0.7777777777777778,
             "#fb9f3a"
            ],
            [
             0.8888888888888888,
             "#fdca26"
            ],
            [
             1,
             "#f0f921"
            ]
           ],
           "sequentialminus": [
            [
             0,
             "#0d0887"
            ],
            [
             0.1111111111111111,
             "#46039f"
            ],
            [
             0.2222222222222222,
             "#7201a8"
            ],
            [
             0.3333333333333333,
             "#9c179e"
            ],
            [
             0.4444444444444444,
             "#bd3786"
            ],
            [
             0.5555555555555556,
             "#d8576b"
            ],
            [
             0.6666666666666666,
             "#ed7953"
            ],
            [
             0.7777777777777778,
             "#fb9f3a"
            ],
            [
             0.8888888888888888,
             "#fdca26"
            ],
            [
             1,
             "#f0f921"
            ]
           ]
          },
          "colorway": [
           "#636efa",
           "#EF553B",
           "#00cc96",
           "#ab63fa",
           "#FFA15A",
           "#19d3f3",
           "#FF6692",
           "#B6E880",
           "#FF97FF",
           "#FECB52"
          ],
          "font": {
           "color": "#2a3f5f"
          },
          "geo": {
           "bgcolor": "white",
           "lakecolor": "white",
           "landcolor": "#E5ECF6",
           "showlakes": true,
           "showland": true,
           "subunitcolor": "white"
          },
          "hoverlabel": {
           "align": "left"
          },
          "hovermode": "closest",
          "mapbox": {
           "style": "light"
          },
          "paper_bgcolor": "white",
          "plot_bgcolor": "#E5ECF6",
          "polar": {
           "angularaxis": {
            "gridcolor": "white",
            "linecolor": "white",
            "ticks": ""
           },
           "bgcolor": "#E5ECF6",
           "radialaxis": {
            "gridcolor": "white",
            "linecolor": "white",
            "ticks": ""
           }
          },
          "scene": {
           "xaxis": {
            "backgroundcolor": "#E5ECF6",
            "gridcolor": "white",
            "gridwidth": 2,
            "linecolor": "white",
            "showbackground": true,
            "ticks": "",
            "zerolinecolor": "white"
           },
           "yaxis": {
            "backgroundcolor": "#E5ECF6",
            "gridcolor": "white",
            "gridwidth": 2,
            "linecolor": "white",
            "showbackground": true,
            "ticks": "",
            "zerolinecolor": "white"
           },
           "zaxis": {
            "backgroundcolor": "#E5ECF6",
            "gridcolor": "white",
            "gridwidth": 2,
            "linecolor": "white",
            "showbackground": true,
            "ticks": "",
            "zerolinecolor": "white"
           }
          },
          "shapedefaults": {
           "line": {
            "color": "#2a3f5f"
           }
          },
          "ternary": {
           "aaxis": {
            "gridcolor": "white",
            "linecolor": "white",
            "ticks": ""
           },
           "baxis": {
            "gridcolor": "white",
            "linecolor": "white",
            "ticks": ""
           },
           "bgcolor": "#E5ECF6",
           "caxis": {
            "gridcolor": "white",
            "linecolor": "white",
            "ticks": ""
           }
          },
          "title": {
           "x": 0.05
          },
          "xaxis": {
           "automargin": true,
           "gridcolor": "white",
           "linecolor": "white",
           "ticks": "",
           "title": {
            "standoff": 15
           },
           "zerolinecolor": "white",
           "zerolinewidth": 2
          },
          "yaxis": {
           "automargin": true,
           "gridcolor": "white",
           "linecolor": "white",
           "ticks": "",
           "title": {
            "standoff": 15
           },
           "zerolinecolor": "white",
           "zerolinewidth": 2
          }
         }
        },
        "xaxis": {
         "anchor": "y",
         "domain": [
          0,
          1
         ],
         "title": {
          "text": "petalwidth"
         }
        },
        "xaxis2": {
         "anchor": "y2",
         "domain": [
          0,
          1
         ],
         "matches": "x",
         "showgrid": true,
         "showticklabels": false
        },
        "yaxis": {
         "anchor": "x",
         "domain": [
          0,
          0.7326
         ],
         "title": {
          "text": "count"
         }
        },
        "yaxis2": {
         "anchor": "x2",
         "domain": [
          0.7426,
          1
         ],
         "matches": "y2",
         "showgrid": false,
         "showline": false,
         "showticklabels": false,
         "ticks": ""
        }
       }
      },
      "text/html": [
       "<div>                            <div id=\"695fbc6f-233f-40b1-876a-2816559c083c\" class=\"plotly-graph-div\" style=\"height:600px; width:100%;\"></div>            <script type=\"text/javascript\">                require([\"plotly\"], function(Plotly) {                    window.PLOTLYENV=window.PLOTLYENV || {};                                    if (document.getElementById(\"695fbc6f-233f-40b1-876a-2816559c083c\")) {                    Plotly.newPlot(                        \"695fbc6f-233f-40b1-876a-2816559c083c\",                        [{\"alignmentgroup\": \"True\", \"bingroup\": \"x\", \"hovertemplate\": \"Cluster=Cluster 0<br>petalwidth=%{x}<br>count=%{y}<extra></extra>\", \"legendgroup\": \"Cluster 0\", \"marker\": {\"color\": \"#636efa\", \"opacity\": 0.7}, \"name\": \"Cluster 0\", \"offsetgroup\": \"Cluster 0\", \"orientation\": \"v\", \"showlegend\": true, \"type\": \"histogram\", \"x\": [0.2, 0.2, 0.2, 0.2, 0.2, 0.4, 0.1, 0.2, 0.1, 0.2, 0.2, 0.1, 0.2, 0.2, 0.3, 0.2, 0.6, 0.4, 0.3, 0.2, 0.2, 0.2, 0.4, 0.2, 0.2, 0.5, 0.2, 0.2, 0.2, 0.2, 0.4, 0.3, 0.2, 0.2, 0.1, 0.2, 0.2, 0.2, 0.1, 0.2, 0.4, 0.4, 0.3, 0.3, 0.3, 0.2, 0.1, 0.4, 0.2], \"xaxis\": \"x\", \"yaxis\": \"y\"}, {\"alignmentgroup\": \"True\", \"customdata\": [[5.1, 3.5, 1.4, \"Iris-setosa\", \"Cluster 0\"], [5.2, 3.5, 1.5, \"Iris-setosa\", \"Cluster 0\"], [5.2, 3.4, 1.4, \"Iris-setosa\", \"Cluster 0\"], [4.7, 3.2, 1.6, \"Iris-setosa\", \"Cluster 0\"], [4.8, 3.1, 1.6, \"Iris-setosa\", \"Cluster 0\"], [5.4, 3.4, 1.5, \"Iris-setosa\", \"Cluster 0\"], [5.2, 4.1, 1.5, \"Iris-setosa\", \"Cluster 0\"], [5.5, 4.2, 1.4, \"Iris-setosa\", \"Cluster 0\"], [4.9, 3.1, 1.5, \"Iris-setosa\", \"Cluster 0\"], [5.0, 3.2, 1.2, \"Iris-setosa\", \"Cluster 0\"], [5.5, 3.5, 1.3, \"Iris-setosa\", \"Cluster 0\"], [4.9, 3.1, 1.5, \"Iris-setosa\", \"Cluster 0\"], [4.4, 3.0, 1.3, \"Iris-setosa\", \"Cluster 0\"], [5.1, 3.4, 1.5, \"Iris-setosa\", \"Cluster 0\"], [5.0, 3.5, 1.3, \"Iris-setosa\", \"Cluster 0\"], [4.4, 3.2, 1.3, \"Iris-setosa\", \"Cluster 0\"], [5.0, 3.5, 1.6, \"Iris-setosa\", \"Cluster 0\"], [5.1, 3.8, 1.9, \"Iris-setosa\", \"Cluster 0\"], [4.8, 3.0, 1.4, \"Iris-setosa\", \"Cluster 0\"], [5.1, 3.8, 1.6, \"Iris-setosa\", \"Cluster 0\"], [5.3, 3.7, 1.5, \"Iris-setosa\", \"Cluster 0\"], [5.0, 3.3, 1.4, \"Iris-setosa\", \"Cluster 0\"], [5.0, 3.4, 1.6, \"Iris-setosa\", \"Cluster 0\"], [5.0, 3.0, 1.6, \"Iris-setosa\", \"Cluster 0\"], [4.6, 3.2, 1.4, \"Iris-setosa\", \"Cluster 0\"], [5.1, 3.3, 1.7, \"Iris-setosa\", \"Cluster 0\"], [4.9, 3.0, 1.4, \"Iris-setosa\", \"Cluster 0\"], [4.7, 3.2, 1.3, \"Iris-setosa\", \"Cluster 0\"], [4.6, 3.1, 1.5, \"Iris-setosa\", \"Cluster 0\"], [5.0, 3.6, 1.4, \"Iris-setosa\", \"Cluster 0\"], [5.4, 3.9, 1.7, \"Iris-setosa\", \"Cluster 0\"], [4.6, 3.4, 1.4, \"Iris-setosa\", \"Cluster 0\"], [5.0, 3.4, 1.5, \"Iris-setosa\", \"Cluster 0\"], [4.4, 2.9, 1.4, \"Iris-setosa\", \"Cluster 0\"], [4.9, 3.1, 1.5, \"Iris-setosa\", \"Cluster 0\"], [5.4, 3.7, 1.5, \"Iris-setosa\", \"Cluster 0\"], [4.8, 3.4, 1.6, \"Iris-setosa\", \"Cluster 0\"], [4.8, 3.4, 1.9, \"Iris-setosa\", \"Cluster 0\"], [4.3, 3.0, 1.1, \"Iris-setosa\", \"Cluster 0\"], [5.8, 4.0, 1.2, \"Iris-setosa\", \"Cluster 0\"], [5.7, 4.4, 1.5, \"Iris-setosa\", \"Cluster 0\"], [5.4, 3.9, 1.3, \"Iris-setosa\", \"Cluster 0\"], [5.1, 3.5, 1.4, \"Iris-setosa\", \"Cluster 0\"], [5.7, 3.8, 1.7, \"Iris-setosa\", \"Cluster 0\"], [5.1, 3.8, 1.5, \"Iris-setosa\", \"Cluster 0\"], [5.4, 3.4, 1.7, \"Iris-setosa\", \"Cluster 0\"], [4.8, 3.0, 1.4, \"Iris-setosa\", \"Cluster 0\"], [5.1, 3.7, 1.5, \"Iris-setosa\", \"Cluster 0\"], [4.6, 3.6, 1.0, \"Iris-setosa\", \"Cluster 0\"]], \"hovertemplate\": \"Cluster=%{customdata[4]}<br>petalwidth=%{x}<br>sepallength=%{customdata[0]}<br>sepalwidth=%{customdata[1]}<br>petallength=%{customdata[2]}<br>class=%{customdata[3]}<extra></extra>\", \"legendgroup\": \"Cluster 0\", \"marker\": {\"color\": \"#636efa\"}, \"name\": \"Cluster 0\", \"notched\": true, \"offsetgroup\": \"Cluster 0\", \"showlegend\": false, \"type\": \"box\", \"x\": [0.2, 0.2, 0.2, 0.2, 0.2, 0.4, 0.1, 0.2, 0.1, 0.2, 0.2, 0.1, 0.2, 0.2, 0.3, 0.2, 0.6, 0.4, 0.3, 0.2, 0.2, 0.2, 0.4, 0.2, 0.2, 0.5, 0.2, 0.2, 0.2, 0.2, 0.4, 0.3, 0.2, 0.2, 0.1, 0.2, 0.2, 0.2, 0.1, 0.2, 0.4, 0.4, 0.3, 0.3, 0.3, 0.2, 0.1, 0.4, 0.2], \"xaxis\": \"x2\", \"yaxis\": \"y2\"}, {\"alignmentgroup\": \"True\", \"bingroup\": \"x\", \"hovertemplate\": \"Cluster=Cluster 1<br>petalwidth=%{x}<br>count=%{y}<extra></extra>\", \"legendgroup\": \"Cluster 1\", \"marker\": {\"color\": \"#EF553B\", \"opacity\": 0.7}, \"name\": \"Cluster 1\", \"offsetgroup\": \"Cluster 1\", \"orientation\": \"v\", \"showlegend\": true, \"type\": \"histogram\", \"x\": [2.3, 1.8, 2.2, 2.0, 2.3, 2.0, 2.4, 2.3, 1.8, 1.8, 2.1, 1.9, 2.0, 2.5, 1.8, 1.8, 2.1, 2.2, 2.1, 2.1, 2.0, 1.8, 1.8, 1.8, 2.0, 1.9, 1.9, 2.3, 2.5, 2.3, 1.9, 2.3, 2.4, 1.8, 2.1, 2.4, 2.3, 1.4, 1.5, 2.2, 2.0, 1.9, 1.6, 2.1, 1.8, 2.5, 1.8, 2.3], \"xaxis\": \"x\", \"yaxis\": \"y\"}, {\"alignmentgroup\": \"True\", \"customdata\": [[6.4, 3.2, 5.3, \"Iris-virginica\", \"Cluster 1\"], [6.5, 3.0, 5.5, \"Iris-virginica\", \"Cluster 1\"], [7.7, 3.8, 6.7, \"Iris-virginica\", \"Cluster 1\"], [7.7, 2.8, 6.7, \"Iris-virginica\", \"Cluster 1\"], [6.9, 3.2, 5.7, \"Iris-virginica\", \"Cluster 1\"], [5.6, 2.8, 4.9, \"Iris-virginica\", \"Cluster 1\"], [5.8, 2.8, 5.1, \"Iris-virginica\", \"Cluster 1\"], [7.7, 2.6, 6.9, \"Iris-virginica\", \"Cluster 1\"], [6.3, 2.7, 4.9, \"Iris-virginica\", \"Cluster 1\"], [6.3, 2.9, 5.6, \"Iris-virginica\", \"Cluster 1\"], [6.8, 3.0, 5.5, \"Iris-virginica\", \"Cluster 1\"], [6.4, 2.7, 5.3, \"Iris-virginica\", \"Cluster 1\"], [6.5, 3.2, 5.1, \"Iris-virginica\", \"Cluster 1\"], [7.2, 3.6, 6.1, \"Iris-virginica\", \"Cluster 1\"], [6.7, 2.5, 5.8, \"Iris-virginica\", \"Cluster 1\"], [7.3, 2.9, 6.3, \"Iris-virginica\", \"Cluster 1\"], [7.6, 3.0, 6.6, \"Iris-virginica\", \"Cluster 1\"], [6.5, 3.0, 5.8, \"Iris-virginica\", \"Cluster 1\"], [6.7, 3.3, 5.7, \"Iris-virginica\", \"Cluster 1\"], [7.1, 3.0, 5.9, \"Iris-virginica\", \"Cluster 1\"], [5.7, 2.5, 5.0, \"Iris-virginica\", \"Cluster 1\"], [7.2, 3.2, 6.0, \"Iris-virginica\", \"Cluster 1\"], [6.4, 3.1, 5.5, \"Iris-virginica\", \"Cluster 1\"], [6.1, 3.0, 4.9, \"Iris-virginica\", \"Cluster 1\"], [6.5, 3.0, 5.2, \"Iris-virginica\", \"Cluster 1\"], [5.8, 2.7, 5.1, \"Iris-virginica\", \"Cluster 1\"], [6.3, 2.5, 5.0, \"Iris-virginica\", \"Cluster 1\"], [6.7, 3.0, 5.2, \"Iris-virginica\", \"Cluster 1\"], [6.7, 3.3, 5.7, \"Iris-virginica\", \"Cluster 1\"], [6.8, 3.2, 5.9, \"Iris-virginica\", \"Cluster 1\"], [5.8, 2.7, 5.1, \"Iris-virginica\", \"Cluster 1\"], [6.9, 3.1, 5.1, \"Iris-virginica\", \"Cluster 1\"], [6.7, 3.1, 5.6, \"Iris-virginica\", \"Cluster 1\"], [6.2, 2.8, 4.8, \"Iris-virginica\", \"Cluster 1\"], [6.9, 3.1, 5.4, \"Iris-virginica\", \"Cluster 1\"], [6.3, 3.4, 5.6, \"Iris-virginica\", \"Cluster 1\"], [7.7, 3.0, 6.1, \"Iris-virginica\", \"Cluster 1\"], [6.1, 2.6, 5.6, \"Iris-virginica\", \"Cluster 1\"], [6.3, 2.8, 5.1, \"Iris-virginica\", \"Cluster 1\"], [6.4, 2.8, 5.6, \"Iris-virginica\", \"Cluster 1\"], [7.9, 3.8, 6.4, \"Iris-virginica\", \"Cluster 1\"], [7.4, 2.8, 6.1, \"Iris-virginica\", \"Cluster 1\"], [7.2, 3.0, 5.8, \"Iris-virginica\", \"Cluster 1\"], [6.4, 2.8, 5.6, \"Iris-virginica\", \"Cluster 1\"], [6.0, 3.0, 4.8, \"Iris-virginica\", \"Cluster 1\"], [6.3, 3.3, 6.0, \"Iris-virginica\", \"Cluster 1\"], [5.9, 3.0, 5.1, \"Iris-virginica\", \"Cluster 1\"], [6.2, 3.4, 5.4, \"Iris-virginica\", \"Cluster 1\"]], \"hovertemplate\": \"Cluster=%{customdata[4]}<br>petalwidth=%{x}<br>sepallength=%{customdata[0]}<br>sepalwidth=%{customdata[1]}<br>petallength=%{customdata[2]}<br>class=%{customdata[3]}<extra></extra>\", \"legendgroup\": \"Cluster 1\", \"marker\": {\"color\": \"#EF553B\"}, \"name\": \"Cluster 1\", \"notched\": true, \"offsetgroup\": \"Cluster 1\", \"showlegend\": false, \"type\": \"box\", \"x\": [2.3, 1.8, 2.2, 2.0, 2.3, 2.0, 2.4, 2.3, 1.8, 1.8, 2.1, 1.9, 2.0, 2.5, 1.8, 1.8, 2.1, 2.2, 2.1, 2.1, 2.0, 1.8, 1.8, 1.8, 2.0, 1.9, 1.9, 2.3, 2.5, 2.3, 1.9, 2.3, 2.4, 1.8, 2.1, 2.4, 2.3, 1.4, 1.5, 2.2, 2.0, 1.9, 1.6, 2.1, 1.8, 2.5, 1.8, 2.3], \"xaxis\": \"x2\", \"yaxis\": \"y2\"}, {\"alignmentgroup\": \"True\", \"bingroup\": \"x\", \"hovertemplate\": \"Cluster=Cluster 2<br>petalwidth=%{x}<br>count=%{y}<extra></extra>\", \"legendgroup\": \"Cluster 2\", \"marker\": {\"color\": \"#00cc96\", \"opacity\": 0.7}, \"name\": \"Cluster 2\", \"offsetgroup\": \"Cluster 2\", \"orientation\": \"v\", \"showlegend\": true, \"type\": \"histogram\", \"x\": [1.4, 1.2, 1.2, 1.5, 1.3, 1.8, 1.5, 1.4, 1.4, 1.3, 1.5, 1.3, 1.6, 1.3, 1.5, 1.5, 1.5, 1.4, 1.4, 1.7, 1.3, 1.3, 1.5, 1.3, 1.4, 1.6, 1.5, 1.5, 1.3, 1.3, 1.6], \"xaxis\": \"x\", \"yaxis\": \"y\"}, {\"alignmentgroup\": \"True\", \"customdata\": [[6.6, 3.0, 4.4, \"Iris-versicolor\", \"Cluster 2\"], [5.7, 3.0, 4.2, \"Iris-versicolor\", \"Cluster 2\"], [6.1, 2.8, 4.7, \"Iris-versicolor\", \"Cluster 2\"], [6.3, 2.5, 4.9, \"Iris-versicolor\", \"Cluster 2\"], [6.1, 2.8, 4.0, \"Iris-versicolor\", \"Cluster 2\"], [5.9, 3.2, 4.8, \"Iris-versicolor\", \"Cluster 2\"], [5.6, 3.0, 4.5, \"Iris-versicolor\", \"Cluster 2\"], [6.7, 3.1, 4.4, \"Iris-versicolor\", \"Cluster 2\"], [6.8, 2.8, 4.8, \"Iris-versicolor\", \"Cluster 2\"], [5.6, 2.9, 3.6, \"Iris-versicolor\", \"Cluster 2\"], [5.9, 3.0, 4.2, \"Iris-versicolor\", \"Cluster 2\"], [6.6, 2.9, 4.6, \"Iris-versicolor\", \"Cluster 2\"], [6.3, 3.3, 4.7, \"Iris-versicolor\", \"Cluster 2\"], [5.7, 2.8, 4.5, \"Iris-versicolor\", \"Cluster 2\"], [6.5, 2.8, 4.6, \"Iris-versicolor\", \"Cluster 2\"], [6.9, 3.1, 4.9, \"Iris-versicolor\", \"Cluster 2\"], [6.4, 3.2, 4.5, \"Iris-versicolor\", \"Cluster 2\"], [7.0, 3.2, 4.7, \"Iris-versicolor\", \"Cluster 2\"], [6.1, 2.9, 4.7, \"Iris-versicolor\", \"Cluster 2\"], [6.7, 3.0, 5.0, \"Iris-versicolor\", \"Cluster 2\"], [5.7, 2.9, 4.2, \"Iris-versicolor\", \"Cluster 2\"], [6.4, 2.9, 4.3, \"Iris-versicolor\", \"Cluster 2\"], [6.0, 2.9, 4.5, \"Iris-versicolor\", \"Cluster 2\"], [5.6, 3.0, 4.1, \"Iris-versicolor\", \"Cluster 2\"], [6.1, 3.0, 4.6, \"Iris-versicolor\", \"Cluster 2\"], [6.0, 3.4, 4.5, \"Iris-versicolor\", \"Cluster 2\"], [5.4, 3.0, 4.5, \"Iris-versicolor\", \"Cluster 2\"], [6.7, 3.1, 4.7, \"Iris-versicolor\", \"Cluster 2\"], [5.7, 2.8, 4.1, \"Iris-versicolor\", \"Cluster 2\"], [6.2, 2.9, 4.3, \"Iris-versicolor\", \"Cluster 2\"], [6.0, 2.7, 5.1, \"Iris-versicolor\", \"Cluster 2\"]], \"hovertemplate\": \"Cluster=%{customdata[4]}<br>petalwidth=%{x}<br>sepallength=%{customdata[0]}<br>sepalwidth=%{customdata[1]}<br>petallength=%{customdata[2]}<br>class=%{customdata[3]}<extra></extra>\", \"legendgroup\": \"Cluster 2\", \"marker\": {\"color\": \"#00cc96\"}, \"name\": \"Cluster 2\", \"notched\": true, \"offsetgroup\": \"Cluster 2\", \"showlegend\": false, \"type\": \"box\", \"x\": [1.4, 1.2, 1.2, 1.5, 1.3, 1.8, 1.5, 1.4, 1.4, 1.3, 1.5, 1.3, 1.6, 1.3, 1.5, 1.5, 1.5, 1.4, 1.4, 1.7, 1.3, 1.3, 1.5, 1.3, 1.4, 1.6, 1.5, 1.5, 1.3, 1.3, 1.6], \"xaxis\": \"x2\", \"yaxis\": \"y2\"}, {\"alignmentgroup\": \"True\", \"bingroup\": \"x\", \"hovertemplate\": \"Cluster=Cluster 3<br>petalwidth=%{x}<br>count=%{y}<extra></extra>\", \"legendgroup\": \"Cluster 3\", \"marker\": {\"color\": \"#ab63fa\", \"opacity\": 0.7}, \"name\": \"Cluster 3\", \"offsetgroup\": \"Cluster 3\", \"orientation\": \"v\", \"showlegend\": true, \"type\": \"histogram\", \"x\": [1.1, 1.3, 1.3, 1.0, 1.2, 1.0, 0.3, 1.4, 1.0, 1.2, 1.0, 1.7, 1.3, 1.0, 1.5, 1.1, 1.2, 1.0, 1.1, 1.5, 1.0, 1.3], \"xaxis\": \"x\", \"yaxis\": \"y\"}, {\"alignmentgroup\": \"True\", \"customdata\": [[5.1, 2.5, 3.0, \"Iris-versicolor\", \"Cluster 3\"], [5.5, 2.3, 4.0, \"Iris-versicolor\", \"Cluster 3\"], [5.6, 2.7, 4.2, \"Iris-versicolor\", \"Cluster 3\"], [5.0, 2.3, 3.3, \"Iris-versicolor\", \"Cluster 3\"], [5.8, 2.6, 4.0, \"Iris-versicolor\", \"Cluster 3\"], [4.9, 2.4, 3.3, \"Iris-versicolor\", \"Cluster 3\"], [4.5, 2.3, 1.3, \"Iris-setosa\", \"Cluster 3\"], [5.2, 2.7, 3.9, \"Iris-versicolor\", \"Cluster 3\"], [5.7, 2.6, 3.5, \"Iris-versicolor\", \"Cluster 3\"], [5.5, 2.6, 4.4, \"Iris-versicolor\", \"Cluster 3\"], [6.0, 2.2, 4.0, \"Iris-versicolor\", \"Cluster 3\"], [4.9, 2.5, 4.5, \"Iris-virginica\", \"Cluster 3\"], [6.3, 2.3, 4.4, \"Iris-versicolor\", \"Cluster 3\"], [5.8, 2.7, 4.1, \"Iris-versicolor\", \"Cluster 3\"], [6.2, 2.2, 4.5, \"Iris-versicolor\", \"Cluster 3\"], [5.6, 2.5, 3.9, \"Iris-versicolor\", \"Cluster 3\"], [5.8, 2.7, 3.9, \"Iris-versicolor\", \"Cluster 3\"], [5.5, 2.4, 3.7, \"Iris-versicolor\", \"Cluster 3\"], [5.5, 2.4, 3.8, \"Iris-versicolor\", \"Cluster 3\"], [6.0, 2.2, 5.0, \"Iris-virginica\", \"Cluster 3\"], [5.0, 2.0, 3.5, \"Iris-versicolor\", \"Cluster 3\"], [5.5, 2.5, 4.0, \"Iris-versicolor\", \"Cluster 3\"]], \"hovertemplate\": \"Cluster=%{customdata[4]}<br>petalwidth=%{x}<br>sepallength=%{customdata[0]}<br>sepalwidth=%{customdata[1]}<br>petallength=%{customdata[2]}<br>class=%{customdata[3]}<extra></extra>\", \"legendgroup\": \"Cluster 3\", \"marker\": {\"color\": \"#ab63fa\"}, \"name\": \"Cluster 3\", \"notched\": true, \"offsetgroup\": \"Cluster 3\", \"showlegend\": false, \"type\": \"box\", \"x\": [1.1, 1.3, 1.3, 1.0, 1.2, 1.0, 0.3, 1.4, 1.0, 1.2, 1.0, 1.7, 1.3, 1.0, 1.5, 1.1, 1.2, 1.0, 1.1, 1.5, 1.0, 1.3], \"xaxis\": \"x2\", \"yaxis\": \"y2\"}],                        {\"barmode\": \"relative\", \"height\": 600, \"legend\": {\"title\": {\"text\": \"Cluster\"}, \"tracegroupgap\": 0}, \"margin\": {\"t\": 60}, \"template\": {\"data\": {\"bar\": [{\"error_x\": {\"color\": \"#2a3f5f\"}, \"error_y\": {\"color\": \"#2a3f5f\"}, \"marker\": {\"line\": {\"color\": \"#E5ECF6\", \"width\": 0.5}}, \"type\": \"bar\"}], \"barpolar\": [{\"marker\": {\"line\": {\"color\": \"#E5ECF6\", \"width\": 0.5}}, \"type\": \"barpolar\"}], \"carpet\": [{\"aaxis\": {\"endlinecolor\": \"#2a3f5f\", \"gridcolor\": \"white\", \"linecolor\": \"white\", \"minorgridcolor\": \"white\", \"startlinecolor\": \"#2a3f5f\"}, \"baxis\": {\"endlinecolor\": \"#2a3f5f\", \"gridcolor\": \"white\", \"linecolor\": \"white\", \"minorgridcolor\": \"white\", \"startlinecolor\": \"#2a3f5f\"}, \"type\": \"carpet\"}], \"choropleth\": [{\"colorbar\": {\"outlinewidth\": 0, \"ticks\": \"\"}, \"type\": \"choropleth\"}], \"contour\": [{\"colorbar\": {\"outlinewidth\": 0, \"ticks\": \"\"}, \"colorscale\": [[0.0, \"#0d0887\"], [0.1111111111111111, \"#46039f\"], [0.2222222222222222, \"#7201a8\"], [0.3333333333333333, \"#9c179e\"], [0.4444444444444444, \"#bd3786\"], [0.5555555555555556, \"#d8576b\"], [0.6666666666666666, \"#ed7953\"], [0.7777777777777778, \"#fb9f3a\"], [0.8888888888888888, \"#fdca26\"], [1.0, \"#f0f921\"]], \"type\": \"contour\"}], \"contourcarpet\": [{\"colorbar\": {\"outlinewidth\": 0, \"ticks\": \"\"}, \"type\": \"contourcarpet\"}], \"heatmap\": [{\"colorbar\": {\"outlinewidth\": 0, \"ticks\": \"\"}, \"colorscale\": [[0.0, \"#0d0887\"], [0.1111111111111111, \"#46039f\"], [0.2222222222222222, \"#7201a8\"], [0.3333333333333333, \"#9c179e\"], [0.4444444444444444, \"#bd3786\"], [0.5555555555555556, \"#d8576b\"], [0.6666666666666666, \"#ed7953\"], [0.7777777777777778, \"#fb9f3a\"], [0.8888888888888888, \"#fdca26\"], [1.0, \"#f0f921\"]], \"type\": \"heatmap\"}], \"heatmapgl\": [{\"colorbar\": {\"outlinewidth\": 0, \"ticks\": \"\"}, \"colorscale\": [[0.0, \"#0d0887\"], [0.1111111111111111, \"#46039f\"], [0.2222222222222222, \"#7201a8\"], [0.3333333333333333, \"#9c179e\"], [0.4444444444444444, \"#bd3786\"], [0.5555555555555556, \"#d8576b\"], [0.6666666666666666, \"#ed7953\"], [0.7777777777777778, \"#fb9f3a\"], [0.8888888888888888, \"#fdca26\"], [1.0, \"#f0f921\"]], \"type\": \"heatmapgl\"}], \"histogram\": [{\"marker\": {\"colorbar\": {\"outlinewidth\": 0, \"ticks\": \"\"}}, \"type\": \"histogram\"}], \"histogram2d\": [{\"colorbar\": {\"outlinewidth\": 0, \"ticks\": \"\"}, \"colorscale\": [[0.0, \"#0d0887\"], [0.1111111111111111, \"#46039f\"], [0.2222222222222222, \"#7201a8\"], [0.3333333333333333, \"#9c179e\"], [0.4444444444444444, \"#bd3786\"], [0.5555555555555556, \"#d8576b\"], [0.6666666666666666, \"#ed7953\"], [0.7777777777777778, \"#fb9f3a\"], [0.8888888888888888, \"#fdca26\"], [1.0, \"#f0f921\"]], \"type\": \"histogram2d\"}], \"histogram2dcontour\": [{\"colorbar\": {\"outlinewidth\": 0, \"ticks\": \"\"}, \"colorscale\": [[0.0, \"#0d0887\"], [0.1111111111111111, \"#46039f\"], [0.2222222222222222, \"#7201a8\"], [0.3333333333333333, \"#9c179e\"], [0.4444444444444444, \"#bd3786\"], [0.5555555555555556, \"#d8576b\"], [0.6666666666666666, \"#ed7953\"], [0.7777777777777778, \"#fb9f3a\"], [0.8888888888888888, \"#fdca26\"], [1.0, \"#f0f921\"]], \"type\": \"histogram2dcontour\"}], \"mesh3d\": [{\"colorbar\": {\"outlinewidth\": 0, \"ticks\": \"\"}, \"type\": \"mesh3d\"}], \"parcoords\": [{\"line\": {\"colorbar\": {\"outlinewidth\": 0, \"ticks\": \"\"}}, \"type\": \"parcoords\"}], \"pie\": [{\"automargin\": true, \"type\": \"pie\"}], \"scatter\": [{\"marker\": {\"colorbar\": {\"outlinewidth\": 0, \"ticks\": \"\"}}, \"type\": \"scatter\"}], \"scatter3d\": [{\"line\": {\"colorbar\": {\"outlinewidth\": 0, \"ticks\": \"\"}}, \"marker\": {\"colorbar\": {\"outlinewidth\": 0, \"ticks\": \"\"}}, \"type\": \"scatter3d\"}], \"scattercarpet\": [{\"marker\": {\"colorbar\": {\"outlinewidth\": 0, \"ticks\": \"\"}}, \"type\": \"scattercarpet\"}], \"scattergeo\": [{\"marker\": {\"colorbar\": {\"outlinewidth\": 0, \"ticks\": \"\"}}, \"type\": \"scattergeo\"}], \"scattergl\": [{\"marker\": {\"colorbar\": {\"outlinewidth\": 0, \"ticks\": \"\"}}, \"type\": \"scattergl\"}], \"scattermapbox\": [{\"marker\": {\"colorbar\": {\"outlinewidth\": 0, \"ticks\": \"\"}}, \"type\": \"scattermapbox\"}], \"scatterpolar\": [{\"marker\": {\"colorbar\": {\"outlinewidth\": 0, \"ticks\": \"\"}}, \"type\": \"scatterpolar\"}], \"scatterpolargl\": [{\"marker\": {\"colorbar\": {\"outlinewidth\": 0, \"ticks\": \"\"}}, \"type\": \"scatterpolargl\"}], \"scatterternary\": [{\"marker\": {\"colorbar\": {\"outlinewidth\": 0, \"ticks\": \"\"}}, \"type\": \"scatterternary\"}], \"surface\": [{\"colorbar\": {\"outlinewidth\": 0, \"ticks\": \"\"}, \"colorscale\": [[0.0, \"#0d0887\"], [0.1111111111111111, \"#46039f\"], [0.2222222222222222, \"#7201a8\"], [0.3333333333333333, \"#9c179e\"], [0.4444444444444444, \"#bd3786\"], [0.5555555555555556, \"#d8576b\"], [0.6666666666666666, \"#ed7953\"], [0.7777777777777778, \"#fb9f3a\"], [0.8888888888888888, \"#fdca26\"], [1.0, \"#f0f921\"]], \"type\": \"surface\"}], \"table\": [{\"cells\": {\"fill\": {\"color\": \"#EBF0F8\"}, \"line\": {\"color\": \"white\"}}, \"header\": {\"fill\": {\"color\": \"#C8D4E3\"}, \"line\": {\"color\": \"white\"}}, \"type\": \"table\"}]}, \"layout\": {\"annotationdefaults\": {\"arrowcolor\": \"#2a3f5f\", \"arrowhead\": 0, \"arrowwidth\": 1}, \"autotypenumbers\": \"strict\", \"coloraxis\": {\"colorbar\": {\"outlinewidth\": 0, \"ticks\": \"\"}}, \"colorscale\": {\"diverging\": [[0, \"#8e0152\"], [0.1, \"#c51b7d\"], [0.2, \"#de77ae\"], [0.3, \"#f1b6da\"], [0.4, \"#fde0ef\"], [0.5, \"#f7f7f7\"], [0.6, \"#e6f5d0\"], [0.7, \"#b8e186\"], [0.8, \"#7fbc41\"], [0.9, \"#4d9221\"], [1, \"#276419\"]], \"sequential\": [[0.0, \"#0d0887\"], [0.1111111111111111, \"#46039f\"], [0.2222222222222222, \"#7201a8\"], [0.3333333333333333, \"#9c179e\"], [0.4444444444444444, \"#bd3786\"], [0.5555555555555556, \"#d8576b\"], [0.6666666666666666, \"#ed7953\"], [0.7777777777777778, \"#fb9f3a\"], [0.8888888888888888, \"#fdca26\"], [1.0, \"#f0f921\"]], \"sequentialminus\": [[0.0, \"#0d0887\"], [0.1111111111111111, \"#46039f\"], [0.2222222222222222, \"#7201a8\"], [0.3333333333333333, \"#9c179e\"], [0.4444444444444444, \"#bd3786\"], [0.5555555555555556, \"#d8576b\"], [0.6666666666666666, \"#ed7953\"], [0.7777777777777778, \"#fb9f3a\"], [0.8888888888888888, \"#fdca26\"], [1.0, \"#f0f921\"]]}, \"colorway\": [\"#636efa\", \"#EF553B\", \"#00cc96\", \"#ab63fa\", \"#FFA15A\", \"#19d3f3\", \"#FF6692\", \"#B6E880\", \"#FF97FF\", \"#FECB52\"], \"font\": {\"color\": \"#2a3f5f\"}, \"geo\": {\"bgcolor\": \"white\", \"lakecolor\": \"white\", \"landcolor\": \"#E5ECF6\", \"showlakes\": true, \"showland\": true, \"subunitcolor\": \"white\"}, \"hoverlabel\": {\"align\": \"left\"}, \"hovermode\": \"closest\", \"mapbox\": {\"style\": \"light\"}, \"paper_bgcolor\": \"white\", \"plot_bgcolor\": \"#E5ECF6\", \"polar\": {\"angularaxis\": {\"gridcolor\": \"white\", \"linecolor\": \"white\", \"ticks\": \"\"}, \"bgcolor\": \"#E5ECF6\", \"radialaxis\": {\"gridcolor\": \"white\", \"linecolor\": \"white\", \"ticks\": \"\"}}, \"scene\": {\"xaxis\": {\"backgroundcolor\": \"#E5ECF6\", \"gridcolor\": \"white\", \"gridwidth\": 2, \"linecolor\": \"white\", \"showbackground\": true, \"ticks\": \"\", \"zerolinecolor\": \"white\"}, \"yaxis\": {\"backgroundcolor\": \"#E5ECF6\", \"gridcolor\": \"white\", \"gridwidth\": 2, \"linecolor\": \"white\", \"showbackground\": true, \"ticks\": \"\", \"zerolinecolor\": \"white\"}, \"zaxis\": {\"backgroundcolor\": \"#E5ECF6\", \"gridcolor\": \"white\", \"gridwidth\": 2, \"linecolor\": \"white\", \"showbackground\": true, \"ticks\": \"\", \"zerolinecolor\": \"white\"}}, \"shapedefaults\": {\"line\": {\"color\": \"#2a3f5f\"}}, \"ternary\": {\"aaxis\": {\"gridcolor\": \"white\", \"linecolor\": \"white\", \"ticks\": \"\"}, \"baxis\": {\"gridcolor\": \"white\", \"linecolor\": \"white\", \"ticks\": \"\"}, \"bgcolor\": \"#E5ECF6\", \"caxis\": {\"gridcolor\": \"white\", \"linecolor\": \"white\", \"ticks\": \"\"}}, \"title\": {\"x\": 0.05}, \"xaxis\": {\"automargin\": true, \"gridcolor\": \"white\", \"linecolor\": \"white\", \"ticks\": \"\", \"title\": {\"standoff\": 15}, \"zerolinecolor\": \"white\", \"zerolinewidth\": 2}, \"yaxis\": {\"automargin\": true, \"gridcolor\": \"white\", \"linecolor\": \"white\", \"ticks\": \"\", \"title\": {\"standoff\": 15}, \"zerolinecolor\": \"white\", \"zerolinewidth\": 2}}}, \"xaxis\": {\"anchor\": \"y\", \"domain\": [0.0, 1.0], \"title\": {\"text\": \"petalwidth\"}}, \"xaxis2\": {\"anchor\": \"y2\", \"domain\": [0.0, 1.0], \"matches\": \"x\", \"showgrid\": true, \"showticklabels\": false}, \"yaxis\": {\"anchor\": \"x\", \"domain\": [0.0, 0.7326], \"title\": {\"text\": \"count\"}}, \"yaxis2\": {\"anchor\": \"x2\", \"domain\": [0.7426, 1.0], \"matches\": \"y2\", \"showgrid\": false, \"showline\": false, \"showticklabels\": false, \"ticks\": \"\"}},                        {\"responsive\": true}                    ).then(function(){\n",
       "                            \n",
       "var gd = document.getElementById('695fbc6f-233f-40b1-876a-2816559c083c');\n",
       "var x = new MutationObserver(function (mutations, observer) {{\n",
       "        var display = window.getComputedStyle(gd).display;\n",
       "        if (!display || display === 'none') {{\n",
       "            console.log([gd, 'removed!']);\n",
       "            Plotly.purge(gd);\n",
       "            observer.disconnect();\n",
       "        }}\n",
       "}});\n",
       "\n",
       "// Listen for the removal of the full notebook cells\n",
       "var notebookContainer = gd.closest('#notebook-container');\n",
       "if (notebookContainer) {{\n",
       "    x.observe(notebookContainer, {childList: true});\n",
       "}}\n",
       "\n",
       "// Listen for the clearing of the current output cell\n",
       "var outputEl = gd.closest('.output');\n",
       "if (outputEl) {{\n",
       "    x.observe(outputEl, {childList: true});\n",
       "}}\n",
       "\n",
       "                        })                };                });            </script>        </div>"
      ]
     },
     "metadata": {},
     "output_type": "display_data"
    }
   ],
   "source": [
    "plot_model(kmeans,plot='distribution',feature='petalwidth')"
   ]
  },
  {
   "cell_type": "code",
   "execution_count": 45,
   "metadata": {
    "scrolled": true
   },
   "outputs": [
    {
     "data": {
      "application/vnd.plotly.v1+json": {
       "config": {
        "plotlyServerURL": "https://plot.ly"
       },
       "data": [
        {
         "alignmentgroup": "True",
         "bingroup": "x",
         "hovertemplate": "Cluster=Cluster 0<br>sepalwidth=%{x}<br>count=%{y}<extra></extra>",
         "legendgroup": "Cluster 0",
         "marker": {
          "color": "#636efa",
          "opacity": 0.7
         },
         "name": "Cluster 0",
         "offsetgroup": "Cluster 0",
         "orientation": "v",
         "showlegend": true,
         "type": "histogram",
         "x": [
          3.5,
          3.5,
          3.4,
          3.2,
          3.1,
          3.4,
          4.1,
          4.2,
          3.1,
          3.2,
          3.5,
          3.1,
          3,
          3.4,
          3.5,
          3.2,
          3.5,
          3.8,
          3,
          3.8,
          3.7,
          3.3,
          3.4,
          3,
          3.2,
          3.3,
          3,
          3.2,
          3.1,
          3.6,
          3.9,
          3.4,
          3.4,
          2.9,
          3.1,
          3.7,
          3.4,
          3.4,
          3,
          4,
          4.4,
          3.9,
          3.5,
          3.8,
          3.8,
          3.4,
          3,
          3.7,
          3.6
         ],
         "xaxis": "x",
         "yaxis": "y"
        },
        {
         "alignmentgroup": "True",
         "customdata": [
          [
           5.1,
           1.4,
           0.2,
           "Iris-setosa",
           "Cluster 0"
          ],
          [
           5.2,
           1.5,
           0.2,
           "Iris-setosa",
           "Cluster 0"
          ],
          [
           5.2,
           1.4,
           0.2,
           "Iris-setosa",
           "Cluster 0"
          ],
          [
           4.7,
           1.6,
           0.2,
           "Iris-setosa",
           "Cluster 0"
          ],
          [
           4.8,
           1.6,
           0.2,
           "Iris-setosa",
           "Cluster 0"
          ],
          [
           5.4,
           1.5,
           0.4,
           "Iris-setosa",
           "Cluster 0"
          ],
          [
           5.2,
           1.5,
           0.1,
           "Iris-setosa",
           "Cluster 0"
          ],
          [
           5.5,
           1.4,
           0.2,
           "Iris-setosa",
           "Cluster 0"
          ],
          [
           4.9,
           1.5,
           0.1,
           "Iris-setosa",
           "Cluster 0"
          ],
          [
           5,
           1.2,
           0.2,
           "Iris-setosa",
           "Cluster 0"
          ],
          [
           5.5,
           1.3,
           0.2,
           "Iris-setosa",
           "Cluster 0"
          ],
          [
           4.9,
           1.5,
           0.1,
           "Iris-setosa",
           "Cluster 0"
          ],
          [
           4.4,
           1.3,
           0.2,
           "Iris-setosa",
           "Cluster 0"
          ],
          [
           5.1,
           1.5,
           0.2,
           "Iris-setosa",
           "Cluster 0"
          ],
          [
           5,
           1.3,
           0.3,
           "Iris-setosa",
           "Cluster 0"
          ],
          [
           4.4,
           1.3,
           0.2,
           "Iris-setosa",
           "Cluster 0"
          ],
          [
           5,
           1.6,
           0.6,
           "Iris-setosa",
           "Cluster 0"
          ],
          [
           5.1,
           1.9,
           0.4,
           "Iris-setosa",
           "Cluster 0"
          ],
          [
           4.8,
           1.4,
           0.3,
           "Iris-setosa",
           "Cluster 0"
          ],
          [
           5.1,
           1.6,
           0.2,
           "Iris-setosa",
           "Cluster 0"
          ],
          [
           5.3,
           1.5,
           0.2,
           "Iris-setosa",
           "Cluster 0"
          ],
          [
           5,
           1.4,
           0.2,
           "Iris-setosa",
           "Cluster 0"
          ],
          [
           5,
           1.6,
           0.4,
           "Iris-setosa",
           "Cluster 0"
          ],
          [
           5,
           1.6,
           0.2,
           "Iris-setosa",
           "Cluster 0"
          ],
          [
           4.6,
           1.4,
           0.2,
           "Iris-setosa",
           "Cluster 0"
          ],
          [
           5.1,
           1.7,
           0.5,
           "Iris-setosa",
           "Cluster 0"
          ],
          [
           4.9,
           1.4,
           0.2,
           "Iris-setosa",
           "Cluster 0"
          ],
          [
           4.7,
           1.3,
           0.2,
           "Iris-setosa",
           "Cluster 0"
          ],
          [
           4.6,
           1.5,
           0.2,
           "Iris-setosa",
           "Cluster 0"
          ],
          [
           5,
           1.4,
           0.2,
           "Iris-setosa",
           "Cluster 0"
          ],
          [
           5.4,
           1.7,
           0.4,
           "Iris-setosa",
           "Cluster 0"
          ],
          [
           4.6,
           1.4,
           0.3,
           "Iris-setosa",
           "Cluster 0"
          ],
          [
           5,
           1.5,
           0.2,
           "Iris-setosa",
           "Cluster 0"
          ],
          [
           4.4,
           1.4,
           0.2,
           "Iris-setosa",
           "Cluster 0"
          ],
          [
           4.9,
           1.5,
           0.1,
           "Iris-setosa",
           "Cluster 0"
          ],
          [
           5.4,
           1.5,
           0.2,
           "Iris-setosa",
           "Cluster 0"
          ],
          [
           4.8,
           1.6,
           0.2,
           "Iris-setosa",
           "Cluster 0"
          ],
          [
           4.8,
           1.9,
           0.2,
           "Iris-setosa",
           "Cluster 0"
          ],
          [
           4.3,
           1.1,
           0.1,
           "Iris-setosa",
           "Cluster 0"
          ],
          [
           5.8,
           1.2,
           0.2,
           "Iris-setosa",
           "Cluster 0"
          ],
          [
           5.7,
           1.5,
           0.4,
           "Iris-setosa",
           "Cluster 0"
          ],
          [
           5.4,
           1.3,
           0.4,
           "Iris-setosa",
           "Cluster 0"
          ],
          [
           5.1,
           1.4,
           0.3,
           "Iris-setosa",
           "Cluster 0"
          ],
          [
           5.7,
           1.7,
           0.3,
           "Iris-setosa",
           "Cluster 0"
          ],
          [
           5.1,
           1.5,
           0.3,
           "Iris-setosa",
           "Cluster 0"
          ],
          [
           5.4,
           1.7,
           0.2,
           "Iris-setosa",
           "Cluster 0"
          ],
          [
           4.8,
           1.4,
           0.1,
           "Iris-setosa",
           "Cluster 0"
          ],
          [
           5.1,
           1.5,
           0.4,
           "Iris-setosa",
           "Cluster 0"
          ],
          [
           4.6,
           1,
           0.2,
           "Iris-setosa",
           "Cluster 0"
          ]
         ],
         "hovertemplate": "Cluster=%{customdata[4]}<br>sepalwidth=%{x}<br>sepallength=%{customdata[0]}<br>petallength=%{customdata[1]}<br>petalwidth=%{customdata[2]}<br>class=%{customdata[3]}<extra></extra>",
         "legendgroup": "Cluster 0",
         "marker": {
          "color": "#636efa"
         },
         "name": "Cluster 0",
         "notched": true,
         "offsetgroup": "Cluster 0",
         "showlegend": false,
         "type": "box",
         "x": [
          3.5,
          3.5,
          3.4,
          3.2,
          3.1,
          3.4,
          4.1,
          4.2,
          3.1,
          3.2,
          3.5,
          3.1,
          3,
          3.4,
          3.5,
          3.2,
          3.5,
          3.8,
          3,
          3.8,
          3.7,
          3.3,
          3.4,
          3,
          3.2,
          3.3,
          3,
          3.2,
          3.1,
          3.6,
          3.9,
          3.4,
          3.4,
          2.9,
          3.1,
          3.7,
          3.4,
          3.4,
          3,
          4,
          4.4,
          3.9,
          3.5,
          3.8,
          3.8,
          3.4,
          3,
          3.7,
          3.6
         ],
         "xaxis": "x2",
         "yaxis": "y2"
        },
        {
         "alignmentgroup": "True",
         "bingroup": "x",
         "hovertemplate": "Cluster=Cluster 1<br>sepalwidth=%{x}<br>count=%{y}<extra></extra>",
         "legendgroup": "Cluster 1",
         "marker": {
          "color": "#EF553B",
          "opacity": 0.7
         },
         "name": "Cluster 1",
         "offsetgroup": "Cluster 1",
         "orientation": "v",
         "showlegend": true,
         "type": "histogram",
         "x": [
          3.2,
          3,
          3.8,
          2.8,
          3.2,
          2.8,
          2.8,
          2.6,
          2.7,
          2.9,
          3,
          2.7,
          3.2,
          3.6,
          2.5,
          2.9,
          3,
          3,
          3.3,
          3,
          2.5,
          3.2,
          3.1,
          3,
          3,
          2.7,
          2.5,
          3,
          3.3,
          3.2,
          2.7,
          3.1,
          3.1,
          2.8,
          3.1,
          3.4,
          3,
          2.6,
          2.8,
          2.8,
          3.8,
          2.8,
          3,
          2.8,
          3,
          3.3,
          3,
          3.4
         ],
         "xaxis": "x",
         "yaxis": "y"
        },
        {
         "alignmentgroup": "True",
         "customdata": [
          [
           6.4,
           5.3,
           2.3,
           "Iris-virginica",
           "Cluster 1"
          ],
          [
           6.5,
           5.5,
           1.8,
           "Iris-virginica",
           "Cluster 1"
          ],
          [
           7.7,
           6.7,
           2.2,
           "Iris-virginica",
           "Cluster 1"
          ],
          [
           7.7,
           6.7,
           2,
           "Iris-virginica",
           "Cluster 1"
          ],
          [
           6.9,
           5.7,
           2.3,
           "Iris-virginica",
           "Cluster 1"
          ],
          [
           5.6,
           4.9,
           2,
           "Iris-virginica",
           "Cluster 1"
          ],
          [
           5.8,
           5.1,
           2.4,
           "Iris-virginica",
           "Cluster 1"
          ],
          [
           7.7,
           6.9,
           2.3,
           "Iris-virginica",
           "Cluster 1"
          ],
          [
           6.3,
           4.9,
           1.8,
           "Iris-virginica",
           "Cluster 1"
          ],
          [
           6.3,
           5.6,
           1.8,
           "Iris-virginica",
           "Cluster 1"
          ],
          [
           6.8,
           5.5,
           2.1,
           "Iris-virginica",
           "Cluster 1"
          ],
          [
           6.4,
           5.3,
           1.9,
           "Iris-virginica",
           "Cluster 1"
          ],
          [
           6.5,
           5.1,
           2,
           "Iris-virginica",
           "Cluster 1"
          ],
          [
           7.2,
           6.1,
           2.5,
           "Iris-virginica",
           "Cluster 1"
          ],
          [
           6.7,
           5.8,
           1.8,
           "Iris-virginica",
           "Cluster 1"
          ],
          [
           7.3,
           6.3,
           1.8,
           "Iris-virginica",
           "Cluster 1"
          ],
          [
           7.6,
           6.6,
           2.1,
           "Iris-virginica",
           "Cluster 1"
          ],
          [
           6.5,
           5.8,
           2.2,
           "Iris-virginica",
           "Cluster 1"
          ],
          [
           6.7,
           5.7,
           2.1,
           "Iris-virginica",
           "Cluster 1"
          ],
          [
           7.1,
           5.9,
           2.1,
           "Iris-virginica",
           "Cluster 1"
          ],
          [
           5.7,
           5,
           2,
           "Iris-virginica",
           "Cluster 1"
          ],
          [
           7.2,
           6,
           1.8,
           "Iris-virginica",
           "Cluster 1"
          ],
          [
           6.4,
           5.5,
           1.8,
           "Iris-virginica",
           "Cluster 1"
          ],
          [
           6.1,
           4.9,
           1.8,
           "Iris-virginica",
           "Cluster 1"
          ],
          [
           6.5,
           5.2,
           2,
           "Iris-virginica",
           "Cluster 1"
          ],
          [
           5.8,
           5.1,
           1.9,
           "Iris-virginica",
           "Cluster 1"
          ],
          [
           6.3,
           5,
           1.9,
           "Iris-virginica",
           "Cluster 1"
          ],
          [
           6.7,
           5.2,
           2.3,
           "Iris-virginica",
           "Cluster 1"
          ],
          [
           6.7,
           5.7,
           2.5,
           "Iris-virginica",
           "Cluster 1"
          ],
          [
           6.8,
           5.9,
           2.3,
           "Iris-virginica",
           "Cluster 1"
          ],
          [
           5.8,
           5.1,
           1.9,
           "Iris-virginica",
           "Cluster 1"
          ],
          [
           6.9,
           5.1,
           2.3,
           "Iris-virginica",
           "Cluster 1"
          ],
          [
           6.7,
           5.6,
           2.4,
           "Iris-virginica",
           "Cluster 1"
          ],
          [
           6.2,
           4.8,
           1.8,
           "Iris-virginica",
           "Cluster 1"
          ],
          [
           6.9,
           5.4,
           2.1,
           "Iris-virginica",
           "Cluster 1"
          ],
          [
           6.3,
           5.6,
           2.4,
           "Iris-virginica",
           "Cluster 1"
          ],
          [
           7.7,
           6.1,
           2.3,
           "Iris-virginica",
           "Cluster 1"
          ],
          [
           6.1,
           5.6,
           1.4,
           "Iris-virginica",
           "Cluster 1"
          ],
          [
           6.3,
           5.1,
           1.5,
           "Iris-virginica",
           "Cluster 1"
          ],
          [
           6.4,
           5.6,
           2.2,
           "Iris-virginica",
           "Cluster 1"
          ],
          [
           7.9,
           6.4,
           2,
           "Iris-virginica",
           "Cluster 1"
          ],
          [
           7.4,
           6.1,
           1.9,
           "Iris-virginica",
           "Cluster 1"
          ],
          [
           7.2,
           5.8,
           1.6,
           "Iris-virginica",
           "Cluster 1"
          ],
          [
           6.4,
           5.6,
           2.1,
           "Iris-virginica",
           "Cluster 1"
          ],
          [
           6,
           4.8,
           1.8,
           "Iris-virginica",
           "Cluster 1"
          ],
          [
           6.3,
           6,
           2.5,
           "Iris-virginica",
           "Cluster 1"
          ],
          [
           5.9,
           5.1,
           1.8,
           "Iris-virginica",
           "Cluster 1"
          ],
          [
           6.2,
           5.4,
           2.3,
           "Iris-virginica",
           "Cluster 1"
          ]
         ],
         "hovertemplate": "Cluster=%{customdata[4]}<br>sepalwidth=%{x}<br>sepallength=%{customdata[0]}<br>petallength=%{customdata[1]}<br>petalwidth=%{customdata[2]}<br>class=%{customdata[3]}<extra></extra>",
         "legendgroup": "Cluster 1",
         "marker": {
          "color": "#EF553B"
         },
         "name": "Cluster 1",
         "notched": true,
         "offsetgroup": "Cluster 1",
         "showlegend": false,
         "type": "box",
         "x": [
          3.2,
          3,
          3.8,
          2.8,
          3.2,
          2.8,
          2.8,
          2.6,
          2.7,
          2.9,
          3,
          2.7,
          3.2,
          3.6,
          2.5,
          2.9,
          3,
          3,
          3.3,
          3,
          2.5,
          3.2,
          3.1,
          3,
          3,
          2.7,
          2.5,
          3,
          3.3,
          3.2,
          2.7,
          3.1,
          3.1,
          2.8,
          3.1,
          3.4,
          3,
          2.6,
          2.8,
          2.8,
          3.8,
          2.8,
          3,
          2.8,
          3,
          3.3,
          3,
          3.4
         ],
         "xaxis": "x2",
         "yaxis": "y2"
        },
        {
         "alignmentgroup": "True",
         "bingroup": "x",
         "hovertemplate": "Cluster=Cluster 2<br>sepalwidth=%{x}<br>count=%{y}<extra></extra>",
         "legendgroup": "Cluster 2",
         "marker": {
          "color": "#00cc96",
          "opacity": 0.7
         },
         "name": "Cluster 2",
         "offsetgroup": "Cluster 2",
         "orientation": "v",
         "showlegend": true,
         "type": "histogram",
         "x": [
          3,
          3,
          2.8,
          2.5,
          2.8,
          3.2,
          3,
          3.1,
          2.8,
          2.9,
          3,
          2.9,
          3.3,
          2.8,
          2.8,
          3.1,
          3.2,
          3.2,
          2.9,
          3,
          2.9,
          2.9,
          2.9,
          3,
          3,
          3.4,
          3,
          3.1,
          2.8,
          2.9,
          2.7
         ],
         "xaxis": "x",
         "yaxis": "y"
        },
        {
         "alignmentgroup": "True",
         "customdata": [
          [
           6.6,
           4.4,
           1.4,
           "Iris-versicolor",
           "Cluster 2"
          ],
          [
           5.7,
           4.2,
           1.2,
           "Iris-versicolor",
           "Cluster 2"
          ],
          [
           6.1,
           4.7,
           1.2,
           "Iris-versicolor",
           "Cluster 2"
          ],
          [
           6.3,
           4.9,
           1.5,
           "Iris-versicolor",
           "Cluster 2"
          ],
          [
           6.1,
           4,
           1.3,
           "Iris-versicolor",
           "Cluster 2"
          ],
          [
           5.9,
           4.8,
           1.8,
           "Iris-versicolor",
           "Cluster 2"
          ],
          [
           5.6,
           4.5,
           1.5,
           "Iris-versicolor",
           "Cluster 2"
          ],
          [
           6.7,
           4.4,
           1.4,
           "Iris-versicolor",
           "Cluster 2"
          ],
          [
           6.8,
           4.8,
           1.4,
           "Iris-versicolor",
           "Cluster 2"
          ],
          [
           5.6,
           3.6,
           1.3,
           "Iris-versicolor",
           "Cluster 2"
          ],
          [
           5.9,
           4.2,
           1.5,
           "Iris-versicolor",
           "Cluster 2"
          ],
          [
           6.6,
           4.6,
           1.3,
           "Iris-versicolor",
           "Cluster 2"
          ],
          [
           6.3,
           4.7,
           1.6,
           "Iris-versicolor",
           "Cluster 2"
          ],
          [
           5.7,
           4.5,
           1.3,
           "Iris-versicolor",
           "Cluster 2"
          ],
          [
           6.5,
           4.6,
           1.5,
           "Iris-versicolor",
           "Cluster 2"
          ],
          [
           6.9,
           4.9,
           1.5,
           "Iris-versicolor",
           "Cluster 2"
          ],
          [
           6.4,
           4.5,
           1.5,
           "Iris-versicolor",
           "Cluster 2"
          ],
          [
           7,
           4.7,
           1.4,
           "Iris-versicolor",
           "Cluster 2"
          ],
          [
           6.1,
           4.7,
           1.4,
           "Iris-versicolor",
           "Cluster 2"
          ],
          [
           6.7,
           5,
           1.7,
           "Iris-versicolor",
           "Cluster 2"
          ],
          [
           5.7,
           4.2,
           1.3,
           "Iris-versicolor",
           "Cluster 2"
          ],
          [
           6.4,
           4.3,
           1.3,
           "Iris-versicolor",
           "Cluster 2"
          ],
          [
           6,
           4.5,
           1.5,
           "Iris-versicolor",
           "Cluster 2"
          ],
          [
           5.6,
           4.1,
           1.3,
           "Iris-versicolor",
           "Cluster 2"
          ],
          [
           6.1,
           4.6,
           1.4,
           "Iris-versicolor",
           "Cluster 2"
          ],
          [
           6,
           4.5,
           1.6,
           "Iris-versicolor",
           "Cluster 2"
          ],
          [
           5.4,
           4.5,
           1.5,
           "Iris-versicolor",
           "Cluster 2"
          ],
          [
           6.7,
           4.7,
           1.5,
           "Iris-versicolor",
           "Cluster 2"
          ],
          [
           5.7,
           4.1,
           1.3,
           "Iris-versicolor",
           "Cluster 2"
          ],
          [
           6.2,
           4.3,
           1.3,
           "Iris-versicolor",
           "Cluster 2"
          ],
          [
           6,
           5.1,
           1.6,
           "Iris-versicolor",
           "Cluster 2"
          ]
         ],
         "hovertemplate": "Cluster=%{customdata[4]}<br>sepalwidth=%{x}<br>sepallength=%{customdata[0]}<br>petallength=%{customdata[1]}<br>petalwidth=%{customdata[2]}<br>class=%{customdata[3]}<extra></extra>",
         "legendgroup": "Cluster 2",
         "marker": {
          "color": "#00cc96"
         },
         "name": "Cluster 2",
         "notched": true,
         "offsetgroup": "Cluster 2",
         "showlegend": false,
         "type": "box",
         "x": [
          3,
          3,
          2.8,
          2.5,
          2.8,
          3.2,
          3,
          3.1,
          2.8,
          2.9,
          3,
          2.9,
          3.3,
          2.8,
          2.8,
          3.1,
          3.2,
          3.2,
          2.9,
          3,
          2.9,
          2.9,
          2.9,
          3,
          3,
          3.4,
          3,
          3.1,
          2.8,
          2.9,
          2.7
         ],
         "xaxis": "x2",
         "yaxis": "y2"
        },
        {
         "alignmentgroup": "True",
         "bingroup": "x",
         "hovertemplate": "Cluster=Cluster 3<br>sepalwidth=%{x}<br>count=%{y}<extra></extra>",
         "legendgroup": "Cluster 3",
         "marker": {
          "color": "#ab63fa",
          "opacity": 0.7
         },
         "name": "Cluster 3",
         "offsetgroup": "Cluster 3",
         "orientation": "v",
         "showlegend": true,
         "type": "histogram",
         "x": [
          2.5,
          2.3,
          2.7,
          2.3,
          2.6,
          2.4,
          2.3,
          2.7,
          2.6,
          2.6,
          2.2,
          2.5,
          2.3,
          2.7,
          2.2,
          2.5,
          2.7,
          2.4,
          2.4,
          2.2,
          2,
          2.5
         ],
         "xaxis": "x",
         "yaxis": "y"
        },
        {
         "alignmentgroup": "True",
         "customdata": [
          [
           5.1,
           3,
           1.1,
           "Iris-versicolor",
           "Cluster 3"
          ],
          [
           5.5,
           4,
           1.3,
           "Iris-versicolor",
           "Cluster 3"
          ],
          [
           5.6,
           4.2,
           1.3,
           "Iris-versicolor",
           "Cluster 3"
          ],
          [
           5,
           3.3,
           1,
           "Iris-versicolor",
           "Cluster 3"
          ],
          [
           5.8,
           4,
           1.2,
           "Iris-versicolor",
           "Cluster 3"
          ],
          [
           4.9,
           3.3,
           1,
           "Iris-versicolor",
           "Cluster 3"
          ],
          [
           4.5,
           1.3,
           0.3,
           "Iris-setosa",
           "Cluster 3"
          ],
          [
           5.2,
           3.9,
           1.4,
           "Iris-versicolor",
           "Cluster 3"
          ],
          [
           5.7,
           3.5,
           1,
           "Iris-versicolor",
           "Cluster 3"
          ],
          [
           5.5,
           4.4,
           1.2,
           "Iris-versicolor",
           "Cluster 3"
          ],
          [
           6,
           4,
           1,
           "Iris-versicolor",
           "Cluster 3"
          ],
          [
           4.9,
           4.5,
           1.7,
           "Iris-virginica",
           "Cluster 3"
          ],
          [
           6.3,
           4.4,
           1.3,
           "Iris-versicolor",
           "Cluster 3"
          ],
          [
           5.8,
           4.1,
           1,
           "Iris-versicolor",
           "Cluster 3"
          ],
          [
           6.2,
           4.5,
           1.5,
           "Iris-versicolor",
           "Cluster 3"
          ],
          [
           5.6,
           3.9,
           1.1,
           "Iris-versicolor",
           "Cluster 3"
          ],
          [
           5.8,
           3.9,
           1.2,
           "Iris-versicolor",
           "Cluster 3"
          ],
          [
           5.5,
           3.7,
           1,
           "Iris-versicolor",
           "Cluster 3"
          ],
          [
           5.5,
           3.8,
           1.1,
           "Iris-versicolor",
           "Cluster 3"
          ],
          [
           6,
           5,
           1.5,
           "Iris-virginica",
           "Cluster 3"
          ],
          [
           5,
           3.5,
           1,
           "Iris-versicolor",
           "Cluster 3"
          ],
          [
           5.5,
           4,
           1.3,
           "Iris-versicolor",
           "Cluster 3"
          ]
         ],
         "hovertemplate": "Cluster=%{customdata[4]}<br>sepalwidth=%{x}<br>sepallength=%{customdata[0]}<br>petallength=%{customdata[1]}<br>petalwidth=%{customdata[2]}<br>class=%{customdata[3]}<extra></extra>",
         "legendgroup": "Cluster 3",
         "marker": {
          "color": "#ab63fa"
         },
         "name": "Cluster 3",
         "notched": true,
         "offsetgroup": "Cluster 3",
         "showlegend": false,
         "type": "box",
         "x": [
          2.5,
          2.3,
          2.7,
          2.3,
          2.6,
          2.4,
          2.3,
          2.7,
          2.6,
          2.6,
          2.2,
          2.5,
          2.3,
          2.7,
          2.2,
          2.5,
          2.7,
          2.4,
          2.4,
          2.2,
          2,
          2.5
         ],
         "xaxis": "x2",
         "yaxis": "y2"
        }
       ],
       "layout": {
        "barmode": "relative",
        "height": 600,
        "legend": {
         "title": {
          "text": "Cluster"
         },
         "tracegroupgap": 0
        },
        "margin": {
         "t": 60
        },
        "template": {
         "data": {
          "bar": [
           {
            "error_x": {
             "color": "#2a3f5f"
            },
            "error_y": {
             "color": "#2a3f5f"
            },
            "marker": {
             "line": {
              "color": "#E5ECF6",
              "width": 0.5
             }
            },
            "type": "bar"
           }
          ],
          "barpolar": [
           {
            "marker": {
             "line": {
              "color": "#E5ECF6",
              "width": 0.5
             }
            },
            "type": "barpolar"
           }
          ],
          "carpet": [
           {
            "aaxis": {
             "endlinecolor": "#2a3f5f",
             "gridcolor": "white",
             "linecolor": "white",
             "minorgridcolor": "white",
             "startlinecolor": "#2a3f5f"
            },
            "baxis": {
             "endlinecolor": "#2a3f5f",
             "gridcolor": "white",
             "linecolor": "white",
             "minorgridcolor": "white",
             "startlinecolor": "#2a3f5f"
            },
            "type": "carpet"
           }
          ],
          "choropleth": [
           {
            "colorbar": {
             "outlinewidth": 0,
             "ticks": ""
            },
            "type": "choropleth"
           }
          ],
          "contour": [
           {
            "colorbar": {
             "outlinewidth": 0,
             "ticks": ""
            },
            "colorscale": [
             [
              0,
              "#0d0887"
             ],
             [
              0.1111111111111111,
              "#46039f"
             ],
             [
              0.2222222222222222,
              "#7201a8"
             ],
             [
              0.3333333333333333,
              "#9c179e"
             ],
             [
              0.4444444444444444,
              "#bd3786"
             ],
             [
              0.5555555555555556,
              "#d8576b"
             ],
             [
              0.6666666666666666,
              "#ed7953"
             ],
             [
              0.7777777777777778,
              "#fb9f3a"
             ],
             [
              0.8888888888888888,
              "#fdca26"
             ],
             [
              1,
              "#f0f921"
             ]
            ],
            "type": "contour"
           }
          ],
          "contourcarpet": [
           {
            "colorbar": {
             "outlinewidth": 0,
             "ticks": ""
            },
            "type": "contourcarpet"
           }
          ],
          "heatmap": [
           {
            "colorbar": {
             "outlinewidth": 0,
             "ticks": ""
            },
            "colorscale": [
             [
              0,
              "#0d0887"
             ],
             [
              0.1111111111111111,
              "#46039f"
             ],
             [
              0.2222222222222222,
              "#7201a8"
             ],
             [
              0.3333333333333333,
              "#9c179e"
             ],
             [
              0.4444444444444444,
              "#bd3786"
             ],
             [
              0.5555555555555556,
              "#d8576b"
             ],
             [
              0.6666666666666666,
              "#ed7953"
             ],
             [
              0.7777777777777778,
              "#fb9f3a"
             ],
             [
              0.8888888888888888,
              "#fdca26"
             ],
             [
              1,
              "#f0f921"
             ]
            ],
            "type": "heatmap"
           }
          ],
          "heatmapgl": [
           {
            "colorbar": {
             "outlinewidth": 0,
             "ticks": ""
            },
            "colorscale": [
             [
              0,
              "#0d0887"
             ],
             [
              0.1111111111111111,
              "#46039f"
             ],
             [
              0.2222222222222222,
              "#7201a8"
             ],
             [
              0.3333333333333333,
              "#9c179e"
             ],
             [
              0.4444444444444444,
              "#bd3786"
             ],
             [
              0.5555555555555556,
              "#d8576b"
             ],
             [
              0.6666666666666666,
              "#ed7953"
             ],
             [
              0.7777777777777778,
              "#fb9f3a"
             ],
             [
              0.8888888888888888,
              "#fdca26"
             ],
             [
              1,
              "#f0f921"
             ]
            ],
            "type": "heatmapgl"
           }
          ],
          "histogram": [
           {
            "marker": {
             "colorbar": {
              "outlinewidth": 0,
              "ticks": ""
             }
            },
            "type": "histogram"
           }
          ],
          "histogram2d": [
           {
            "colorbar": {
             "outlinewidth": 0,
             "ticks": ""
            },
            "colorscale": [
             [
              0,
              "#0d0887"
             ],
             [
              0.1111111111111111,
              "#46039f"
             ],
             [
              0.2222222222222222,
              "#7201a8"
             ],
             [
              0.3333333333333333,
              "#9c179e"
             ],
             [
              0.4444444444444444,
              "#bd3786"
             ],
             [
              0.5555555555555556,
              "#d8576b"
             ],
             [
              0.6666666666666666,
              "#ed7953"
             ],
             [
              0.7777777777777778,
              "#fb9f3a"
             ],
             [
              0.8888888888888888,
              "#fdca26"
             ],
             [
              1,
              "#f0f921"
             ]
            ],
            "type": "histogram2d"
           }
          ],
          "histogram2dcontour": [
           {
            "colorbar": {
             "outlinewidth": 0,
             "ticks": ""
            },
            "colorscale": [
             [
              0,
              "#0d0887"
             ],
             [
              0.1111111111111111,
              "#46039f"
             ],
             [
              0.2222222222222222,
              "#7201a8"
             ],
             [
              0.3333333333333333,
              "#9c179e"
             ],
             [
              0.4444444444444444,
              "#bd3786"
             ],
             [
              0.5555555555555556,
              "#d8576b"
             ],
             [
              0.6666666666666666,
              "#ed7953"
             ],
             [
              0.7777777777777778,
              "#fb9f3a"
             ],
             [
              0.8888888888888888,
              "#fdca26"
             ],
             [
              1,
              "#f0f921"
             ]
            ],
            "type": "histogram2dcontour"
           }
          ],
          "mesh3d": [
           {
            "colorbar": {
             "outlinewidth": 0,
             "ticks": ""
            },
            "type": "mesh3d"
           }
          ],
          "parcoords": [
           {
            "line": {
             "colorbar": {
              "outlinewidth": 0,
              "ticks": ""
             }
            },
            "type": "parcoords"
           }
          ],
          "pie": [
           {
            "automargin": true,
            "type": "pie"
           }
          ],
          "scatter": [
           {
            "marker": {
             "colorbar": {
              "outlinewidth": 0,
              "ticks": ""
             }
            },
            "type": "scatter"
           }
          ],
          "scatter3d": [
           {
            "line": {
             "colorbar": {
              "outlinewidth": 0,
              "ticks": ""
             }
            },
            "marker": {
             "colorbar": {
              "outlinewidth": 0,
              "ticks": ""
             }
            },
            "type": "scatter3d"
           }
          ],
          "scattercarpet": [
           {
            "marker": {
             "colorbar": {
              "outlinewidth": 0,
              "ticks": ""
             }
            },
            "type": "scattercarpet"
           }
          ],
          "scattergeo": [
           {
            "marker": {
             "colorbar": {
              "outlinewidth": 0,
              "ticks": ""
             }
            },
            "type": "scattergeo"
           }
          ],
          "scattergl": [
           {
            "marker": {
             "colorbar": {
              "outlinewidth": 0,
              "ticks": ""
             }
            },
            "type": "scattergl"
           }
          ],
          "scattermapbox": [
           {
            "marker": {
             "colorbar": {
              "outlinewidth": 0,
              "ticks": ""
             }
            },
            "type": "scattermapbox"
           }
          ],
          "scatterpolar": [
           {
            "marker": {
             "colorbar": {
              "outlinewidth": 0,
              "ticks": ""
             }
            },
            "type": "scatterpolar"
           }
          ],
          "scatterpolargl": [
           {
            "marker": {
             "colorbar": {
              "outlinewidth": 0,
              "ticks": ""
             }
            },
            "type": "scatterpolargl"
           }
          ],
          "scatterternary": [
           {
            "marker": {
             "colorbar": {
              "outlinewidth": 0,
              "ticks": ""
             }
            },
            "type": "scatterternary"
           }
          ],
          "surface": [
           {
            "colorbar": {
             "outlinewidth": 0,
             "ticks": ""
            },
            "colorscale": [
             [
              0,
              "#0d0887"
             ],
             [
              0.1111111111111111,
              "#46039f"
             ],
             [
              0.2222222222222222,
              "#7201a8"
             ],
             [
              0.3333333333333333,
              "#9c179e"
             ],
             [
              0.4444444444444444,
              "#bd3786"
             ],
             [
              0.5555555555555556,
              "#d8576b"
             ],
             [
              0.6666666666666666,
              "#ed7953"
             ],
             [
              0.7777777777777778,
              "#fb9f3a"
             ],
             [
              0.8888888888888888,
              "#fdca26"
             ],
             [
              1,
              "#f0f921"
             ]
            ],
            "type": "surface"
           }
          ],
          "table": [
           {
            "cells": {
             "fill": {
              "color": "#EBF0F8"
             },
             "line": {
              "color": "white"
             }
            },
            "header": {
             "fill": {
              "color": "#C8D4E3"
             },
             "line": {
              "color": "white"
             }
            },
            "type": "table"
           }
          ]
         },
         "layout": {
          "annotationdefaults": {
           "arrowcolor": "#2a3f5f",
           "arrowhead": 0,
           "arrowwidth": 1
          },
          "autotypenumbers": "strict",
          "coloraxis": {
           "colorbar": {
            "outlinewidth": 0,
            "ticks": ""
           }
          },
          "colorscale": {
           "diverging": [
            [
             0,
             "#8e0152"
            ],
            [
             0.1,
             "#c51b7d"
            ],
            [
             0.2,
             "#de77ae"
            ],
            [
             0.3,
             "#f1b6da"
            ],
            [
             0.4,
             "#fde0ef"
            ],
            [
             0.5,
             "#f7f7f7"
            ],
            [
             0.6,
             "#e6f5d0"
            ],
            [
             0.7,
             "#b8e186"
            ],
            [
             0.8,
             "#7fbc41"
            ],
            [
             0.9,
             "#4d9221"
            ],
            [
             1,
             "#276419"
            ]
           ],
           "sequential": [
            [
             0,
             "#0d0887"
            ],
            [
             0.1111111111111111,
             "#46039f"
            ],
            [
             0.2222222222222222,
             "#7201a8"
            ],
            [
             0.3333333333333333,
             "#9c179e"
            ],
            [
             0.4444444444444444,
             "#bd3786"
            ],
            [
             0.5555555555555556,
             "#d8576b"
            ],
            [
             0.6666666666666666,
             "#ed7953"
            ],
            [
             0.7777777777777778,
             "#fb9f3a"
            ],
            [
             0.8888888888888888,
             "#fdca26"
            ],
            [
             1,
             "#f0f921"
            ]
           ],
           "sequentialminus": [
            [
             0,
             "#0d0887"
            ],
            [
             0.1111111111111111,
             "#46039f"
            ],
            [
             0.2222222222222222,
             "#7201a8"
            ],
            [
             0.3333333333333333,
             "#9c179e"
            ],
            [
             0.4444444444444444,
             "#bd3786"
            ],
            [
             0.5555555555555556,
             "#d8576b"
            ],
            [
             0.6666666666666666,
             "#ed7953"
            ],
            [
             0.7777777777777778,
             "#fb9f3a"
            ],
            [
             0.8888888888888888,
             "#fdca26"
            ],
            [
             1,
             "#f0f921"
            ]
           ]
          },
          "colorway": [
           "#636efa",
           "#EF553B",
           "#00cc96",
           "#ab63fa",
           "#FFA15A",
           "#19d3f3",
           "#FF6692",
           "#B6E880",
           "#FF97FF",
           "#FECB52"
          ],
          "font": {
           "color": "#2a3f5f"
          },
          "geo": {
           "bgcolor": "white",
           "lakecolor": "white",
           "landcolor": "#E5ECF6",
           "showlakes": true,
           "showland": true,
           "subunitcolor": "white"
          },
          "hoverlabel": {
           "align": "left"
          },
          "hovermode": "closest",
          "mapbox": {
           "style": "light"
          },
          "paper_bgcolor": "white",
          "plot_bgcolor": "#E5ECF6",
          "polar": {
           "angularaxis": {
            "gridcolor": "white",
            "linecolor": "white",
            "ticks": ""
           },
           "bgcolor": "#E5ECF6",
           "radialaxis": {
            "gridcolor": "white",
            "linecolor": "white",
            "ticks": ""
           }
          },
          "scene": {
           "xaxis": {
            "backgroundcolor": "#E5ECF6",
            "gridcolor": "white",
            "gridwidth": 2,
            "linecolor": "white",
            "showbackground": true,
            "ticks": "",
            "zerolinecolor": "white"
           },
           "yaxis": {
            "backgroundcolor": "#E5ECF6",
            "gridcolor": "white",
            "gridwidth": 2,
            "linecolor": "white",
            "showbackground": true,
            "ticks": "",
            "zerolinecolor": "white"
           },
           "zaxis": {
            "backgroundcolor": "#E5ECF6",
            "gridcolor": "white",
            "gridwidth": 2,
            "linecolor": "white",
            "showbackground": true,
            "ticks": "",
            "zerolinecolor": "white"
           }
          },
          "shapedefaults": {
           "line": {
            "color": "#2a3f5f"
           }
          },
          "ternary": {
           "aaxis": {
            "gridcolor": "white",
            "linecolor": "white",
            "ticks": ""
           },
           "baxis": {
            "gridcolor": "white",
            "linecolor": "white",
            "ticks": ""
           },
           "bgcolor": "#E5ECF6",
           "caxis": {
            "gridcolor": "white",
            "linecolor": "white",
            "ticks": ""
           }
          },
          "title": {
           "x": 0.05
          },
          "xaxis": {
           "automargin": true,
           "gridcolor": "white",
           "linecolor": "white",
           "ticks": "",
           "title": {
            "standoff": 15
           },
           "zerolinecolor": "white",
           "zerolinewidth": 2
          },
          "yaxis": {
           "automargin": true,
           "gridcolor": "white",
           "linecolor": "white",
           "ticks": "",
           "title": {
            "standoff": 15
           },
           "zerolinecolor": "white",
           "zerolinewidth": 2
          }
         }
        },
        "xaxis": {
         "anchor": "y",
         "domain": [
          0,
          1
         ],
         "title": {
          "text": "sepalwidth"
         }
        },
        "xaxis2": {
         "anchor": "y2",
         "domain": [
          0,
          1
         ],
         "matches": "x",
         "showgrid": true,
         "showticklabels": false
        },
        "yaxis": {
         "anchor": "x",
         "domain": [
          0,
          0.7326
         ],
         "title": {
          "text": "count"
         }
        },
        "yaxis2": {
         "anchor": "x2",
         "domain": [
          0.7426,
          1
         ],
         "matches": "y2",
         "showgrid": false,
         "showline": false,
         "showticklabels": false,
         "ticks": ""
        }
       }
      },
      "text/html": [
       "<div>                            <div id=\"360d78db-fc30-41f0-9758-7e4860df8c3c\" class=\"plotly-graph-div\" style=\"height:600px; width:100%;\"></div>            <script type=\"text/javascript\">                require([\"plotly\"], function(Plotly) {                    window.PLOTLYENV=window.PLOTLYENV || {};                                    if (document.getElementById(\"360d78db-fc30-41f0-9758-7e4860df8c3c\")) {                    Plotly.newPlot(                        \"360d78db-fc30-41f0-9758-7e4860df8c3c\",                        [{\"alignmentgroup\": \"True\", \"bingroup\": \"x\", \"hovertemplate\": \"Cluster=Cluster 0<br>sepalwidth=%{x}<br>count=%{y}<extra></extra>\", \"legendgroup\": \"Cluster 0\", \"marker\": {\"color\": \"#636efa\", \"opacity\": 0.7}, \"name\": \"Cluster 0\", \"offsetgroup\": \"Cluster 0\", \"orientation\": \"v\", \"showlegend\": true, \"type\": \"histogram\", \"x\": [3.5, 3.5, 3.4, 3.2, 3.1, 3.4, 4.1, 4.2, 3.1, 3.2, 3.5, 3.1, 3.0, 3.4, 3.5, 3.2, 3.5, 3.8, 3.0, 3.8, 3.7, 3.3, 3.4, 3.0, 3.2, 3.3, 3.0, 3.2, 3.1, 3.6, 3.9, 3.4, 3.4, 2.9, 3.1, 3.7, 3.4, 3.4, 3.0, 4.0, 4.4, 3.9, 3.5, 3.8, 3.8, 3.4, 3.0, 3.7, 3.6], \"xaxis\": \"x\", \"yaxis\": \"y\"}, {\"alignmentgroup\": \"True\", \"customdata\": [[5.1, 1.4, 0.2, \"Iris-setosa\", \"Cluster 0\"], [5.2, 1.5, 0.2, \"Iris-setosa\", \"Cluster 0\"], [5.2, 1.4, 0.2, \"Iris-setosa\", \"Cluster 0\"], [4.7, 1.6, 0.2, \"Iris-setosa\", \"Cluster 0\"], [4.8, 1.6, 0.2, \"Iris-setosa\", \"Cluster 0\"], [5.4, 1.5, 0.4, \"Iris-setosa\", \"Cluster 0\"], [5.2, 1.5, 0.1, \"Iris-setosa\", \"Cluster 0\"], [5.5, 1.4, 0.2, \"Iris-setosa\", \"Cluster 0\"], [4.9, 1.5, 0.1, \"Iris-setosa\", \"Cluster 0\"], [5.0, 1.2, 0.2, \"Iris-setosa\", \"Cluster 0\"], [5.5, 1.3, 0.2, \"Iris-setosa\", \"Cluster 0\"], [4.9, 1.5, 0.1, \"Iris-setosa\", \"Cluster 0\"], [4.4, 1.3, 0.2, \"Iris-setosa\", \"Cluster 0\"], [5.1, 1.5, 0.2, \"Iris-setosa\", \"Cluster 0\"], [5.0, 1.3, 0.3, \"Iris-setosa\", \"Cluster 0\"], [4.4, 1.3, 0.2, \"Iris-setosa\", \"Cluster 0\"], [5.0, 1.6, 0.6, \"Iris-setosa\", \"Cluster 0\"], [5.1, 1.9, 0.4, \"Iris-setosa\", \"Cluster 0\"], [4.8, 1.4, 0.3, \"Iris-setosa\", \"Cluster 0\"], [5.1, 1.6, 0.2, \"Iris-setosa\", \"Cluster 0\"], [5.3, 1.5, 0.2, \"Iris-setosa\", \"Cluster 0\"], [5.0, 1.4, 0.2, \"Iris-setosa\", \"Cluster 0\"], [5.0, 1.6, 0.4, \"Iris-setosa\", \"Cluster 0\"], [5.0, 1.6, 0.2, \"Iris-setosa\", \"Cluster 0\"], [4.6, 1.4, 0.2, \"Iris-setosa\", \"Cluster 0\"], [5.1, 1.7, 0.5, \"Iris-setosa\", \"Cluster 0\"], [4.9, 1.4, 0.2, \"Iris-setosa\", \"Cluster 0\"], [4.7, 1.3, 0.2, \"Iris-setosa\", \"Cluster 0\"], [4.6, 1.5, 0.2, \"Iris-setosa\", \"Cluster 0\"], [5.0, 1.4, 0.2, \"Iris-setosa\", \"Cluster 0\"], [5.4, 1.7, 0.4, \"Iris-setosa\", \"Cluster 0\"], [4.6, 1.4, 0.3, \"Iris-setosa\", \"Cluster 0\"], [5.0, 1.5, 0.2, \"Iris-setosa\", \"Cluster 0\"], [4.4, 1.4, 0.2, \"Iris-setosa\", \"Cluster 0\"], [4.9, 1.5, 0.1, \"Iris-setosa\", \"Cluster 0\"], [5.4, 1.5, 0.2, \"Iris-setosa\", \"Cluster 0\"], [4.8, 1.6, 0.2, \"Iris-setosa\", \"Cluster 0\"], [4.8, 1.9, 0.2, \"Iris-setosa\", \"Cluster 0\"], [4.3, 1.1, 0.1, \"Iris-setosa\", \"Cluster 0\"], [5.8, 1.2, 0.2, \"Iris-setosa\", \"Cluster 0\"], [5.7, 1.5, 0.4, \"Iris-setosa\", \"Cluster 0\"], [5.4, 1.3, 0.4, \"Iris-setosa\", \"Cluster 0\"], [5.1, 1.4, 0.3, \"Iris-setosa\", \"Cluster 0\"], [5.7, 1.7, 0.3, \"Iris-setosa\", \"Cluster 0\"], [5.1, 1.5, 0.3, \"Iris-setosa\", \"Cluster 0\"], [5.4, 1.7, 0.2, \"Iris-setosa\", \"Cluster 0\"], [4.8, 1.4, 0.1, \"Iris-setosa\", \"Cluster 0\"], [5.1, 1.5, 0.4, \"Iris-setosa\", \"Cluster 0\"], [4.6, 1.0, 0.2, \"Iris-setosa\", \"Cluster 0\"]], \"hovertemplate\": \"Cluster=%{customdata[4]}<br>sepalwidth=%{x}<br>sepallength=%{customdata[0]}<br>petallength=%{customdata[1]}<br>petalwidth=%{customdata[2]}<br>class=%{customdata[3]}<extra></extra>\", \"legendgroup\": \"Cluster 0\", \"marker\": {\"color\": \"#636efa\"}, \"name\": \"Cluster 0\", \"notched\": true, \"offsetgroup\": \"Cluster 0\", \"showlegend\": false, \"type\": \"box\", \"x\": [3.5, 3.5, 3.4, 3.2, 3.1, 3.4, 4.1, 4.2, 3.1, 3.2, 3.5, 3.1, 3.0, 3.4, 3.5, 3.2, 3.5, 3.8, 3.0, 3.8, 3.7, 3.3, 3.4, 3.0, 3.2, 3.3, 3.0, 3.2, 3.1, 3.6, 3.9, 3.4, 3.4, 2.9, 3.1, 3.7, 3.4, 3.4, 3.0, 4.0, 4.4, 3.9, 3.5, 3.8, 3.8, 3.4, 3.0, 3.7, 3.6], \"xaxis\": \"x2\", \"yaxis\": \"y2\"}, {\"alignmentgroup\": \"True\", \"bingroup\": \"x\", \"hovertemplate\": \"Cluster=Cluster 1<br>sepalwidth=%{x}<br>count=%{y}<extra></extra>\", \"legendgroup\": \"Cluster 1\", \"marker\": {\"color\": \"#EF553B\", \"opacity\": 0.7}, \"name\": \"Cluster 1\", \"offsetgroup\": \"Cluster 1\", \"orientation\": \"v\", \"showlegend\": true, \"type\": \"histogram\", \"x\": [3.2, 3.0, 3.8, 2.8, 3.2, 2.8, 2.8, 2.6, 2.7, 2.9, 3.0, 2.7, 3.2, 3.6, 2.5, 2.9, 3.0, 3.0, 3.3, 3.0, 2.5, 3.2, 3.1, 3.0, 3.0, 2.7, 2.5, 3.0, 3.3, 3.2, 2.7, 3.1, 3.1, 2.8, 3.1, 3.4, 3.0, 2.6, 2.8, 2.8, 3.8, 2.8, 3.0, 2.8, 3.0, 3.3, 3.0, 3.4], \"xaxis\": \"x\", \"yaxis\": \"y\"}, {\"alignmentgroup\": \"True\", \"customdata\": [[6.4, 5.3, 2.3, \"Iris-virginica\", \"Cluster 1\"], [6.5, 5.5, 1.8, \"Iris-virginica\", \"Cluster 1\"], [7.7, 6.7, 2.2, \"Iris-virginica\", \"Cluster 1\"], [7.7, 6.7, 2.0, \"Iris-virginica\", \"Cluster 1\"], [6.9, 5.7, 2.3, \"Iris-virginica\", \"Cluster 1\"], [5.6, 4.9, 2.0, \"Iris-virginica\", \"Cluster 1\"], [5.8, 5.1, 2.4, \"Iris-virginica\", \"Cluster 1\"], [7.7, 6.9, 2.3, \"Iris-virginica\", \"Cluster 1\"], [6.3, 4.9, 1.8, \"Iris-virginica\", \"Cluster 1\"], [6.3, 5.6, 1.8, \"Iris-virginica\", \"Cluster 1\"], [6.8, 5.5, 2.1, \"Iris-virginica\", \"Cluster 1\"], [6.4, 5.3, 1.9, \"Iris-virginica\", \"Cluster 1\"], [6.5, 5.1, 2.0, \"Iris-virginica\", \"Cluster 1\"], [7.2, 6.1, 2.5, \"Iris-virginica\", \"Cluster 1\"], [6.7, 5.8, 1.8, \"Iris-virginica\", \"Cluster 1\"], [7.3, 6.3, 1.8, \"Iris-virginica\", \"Cluster 1\"], [7.6, 6.6, 2.1, \"Iris-virginica\", \"Cluster 1\"], [6.5, 5.8, 2.2, \"Iris-virginica\", \"Cluster 1\"], [6.7, 5.7, 2.1, \"Iris-virginica\", \"Cluster 1\"], [7.1, 5.9, 2.1, \"Iris-virginica\", \"Cluster 1\"], [5.7, 5.0, 2.0, \"Iris-virginica\", \"Cluster 1\"], [7.2, 6.0, 1.8, \"Iris-virginica\", \"Cluster 1\"], [6.4, 5.5, 1.8, \"Iris-virginica\", \"Cluster 1\"], [6.1, 4.9, 1.8, \"Iris-virginica\", \"Cluster 1\"], [6.5, 5.2, 2.0, \"Iris-virginica\", \"Cluster 1\"], [5.8, 5.1, 1.9, \"Iris-virginica\", \"Cluster 1\"], [6.3, 5.0, 1.9, \"Iris-virginica\", \"Cluster 1\"], [6.7, 5.2, 2.3, \"Iris-virginica\", \"Cluster 1\"], [6.7, 5.7, 2.5, \"Iris-virginica\", \"Cluster 1\"], [6.8, 5.9, 2.3, \"Iris-virginica\", \"Cluster 1\"], [5.8, 5.1, 1.9, \"Iris-virginica\", \"Cluster 1\"], [6.9, 5.1, 2.3, \"Iris-virginica\", \"Cluster 1\"], [6.7, 5.6, 2.4, \"Iris-virginica\", \"Cluster 1\"], [6.2, 4.8, 1.8, \"Iris-virginica\", \"Cluster 1\"], [6.9, 5.4, 2.1, \"Iris-virginica\", \"Cluster 1\"], [6.3, 5.6, 2.4, \"Iris-virginica\", \"Cluster 1\"], [7.7, 6.1, 2.3, \"Iris-virginica\", \"Cluster 1\"], [6.1, 5.6, 1.4, \"Iris-virginica\", \"Cluster 1\"], [6.3, 5.1, 1.5, \"Iris-virginica\", \"Cluster 1\"], [6.4, 5.6, 2.2, \"Iris-virginica\", \"Cluster 1\"], [7.9, 6.4, 2.0, \"Iris-virginica\", \"Cluster 1\"], [7.4, 6.1, 1.9, \"Iris-virginica\", \"Cluster 1\"], [7.2, 5.8, 1.6, \"Iris-virginica\", \"Cluster 1\"], [6.4, 5.6, 2.1, \"Iris-virginica\", \"Cluster 1\"], [6.0, 4.8, 1.8, \"Iris-virginica\", \"Cluster 1\"], [6.3, 6.0, 2.5, \"Iris-virginica\", \"Cluster 1\"], [5.9, 5.1, 1.8, \"Iris-virginica\", \"Cluster 1\"], [6.2, 5.4, 2.3, \"Iris-virginica\", \"Cluster 1\"]], \"hovertemplate\": \"Cluster=%{customdata[4]}<br>sepalwidth=%{x}<br>sepallength=%{customdata[0]}<br>petallength=%{customdata[1]}<br>petalwidth=%{customdata[2]}<br>class=%{customdata[3]}<extra></extra>\", \"legendgroup\": \"Cluster 1\", \"marker\": {\"color\": \"#EF553B\"}, \"name\": \"Cluster 1\", \"notched\": true, \"offsetgroup\": \"Cluster 1\", \"showlegend\": false, \"type\": \"box\", \"x\": [3.2, 3.0, 3.8, 2.8, 3.2, 2.8, 2.8, 2.6, 2.7, 2.9, 3.0, 2.7, 3.2, 3.6, 2.5, 2.9, 3.0, 3.0, 3.3, 3.0, 2.5, 3.2, 3.1, 3.0, 3.0, 2.7, 2.5, 3.0, 3.3, 3.2, 2.7, 3.1, 3.1, 2.8, 3.1, 3.4, 3.0, 2.6, 2.8, 2.8, 3.8, 2.8, 3.0, 2.8, 3.0, 3.3, 3.0, 3.4], \"xaxis\": \"x2\", \"yaxis\": \"y2\"}, {\"alignmentgroup\": \"True\", \"bingroup\": \"x\", \"hovertemplate\": \"Cluster=Cluster 2<br>sepalwidth=%{x}<br>count=%{y}<extra></extra>\", \"legendgroup\": \"Cluster 2\", \"marker\": {\"color\": \"#00cc96\", \"opacity\": 0.7}, \"name\": \"Cluster 2\", \"offsetgroup\": \"Cluster 2\", \"orientation\": \"v\", \"showlegend\": true, \"type\": \"histogram\", \"x\": [3.0, 3.0, 2.8, 2.5, 2.8, 3.2, 3.0, 3.1, 2.8, 2.9, 3.0, 2.9, 3.3, 2.8, 2.8, 3.1, 3.2, 3.2, 2.9, 3.0, 2.9, 2.9, 2.9, 3.0, 3.0, 3.4, 3.0, 3.1, 2.8, 2.9, 2.7], \"xaxis\": \"x\", \"yaxis\": \"y\"}, {\"alignmentgroup\": \"True\", \"customdata\": [[6.6, 4.4, 1.4, \"Iris-versicolor\", \"Cluster 2\"], [5.7, 4.2, 1.2, \"Iris-versicolor\", \"Cluster 2\"], [6.1, 4.7, 1.2, \"Iris-versicolor\", \"Cluster 2\"], [6.3, 4.9, 1.5, \"Iris-versicolor\", \"Cluster 2\"], [6.1, 4.0, 1.3, \"Iris-versicolor\", \"Cluster 2\"], [5.9, 4.8, 1.8, \"Iris-versicolor\", \"Cluster 2\"], [5.6, 4.5, 1.5, \"Iris-versicolor\", \"Cluster 2\"], [6.7, 4.4, 1.4, \"Iris-versicolor\", \"Cluster 2\"], [6.8, 4.8, 1.4, \"Iris-versicolor\", \"Cluster 2\"], [5.6, 3.6, 1.3, \"Iris-versicolor\", \"Cluster 2\"], [5.9, 4.2, 1.5, \"Iris-versicolor\", \"Cluster 2\"], [6.6, 4.6, 1.3, \"Iris-versicolor\", \"Cluster 2\"], [6.3, 4.7, 1.6, \"Iris-versicolor\", \"Cluster 2\"], [5.7, 4.5, 1.3, \"Iris-versicolor\", \"Cluster 2\"], [6.5, 4.6, 1.5, \"Iris-versicolor\", \"Cluster 2\"], [6.9, 4.9, 1.5, \"Iris-versicolor\", \"Cluster 2\"], [6.4, 4.5, 1.5, \"Iris-versicolor\", \"Cluster 2\"], [7.0, 4.7, 1.4, \"Iris-versicolor\", \"Cluster 2\"], [6.1, 4.7, 1.4, \"Iris-versicolor\", \"Cluster 2\"], [6.7, 5.0, 1.7, \"Iris-versicolor\", \"Cluster 2\"], [5.7, 4.2, 1.3, \"Iris-versicolor\", \"Cluster 2\"], [6.4, 4.3, 1.3, \"Iris-versicolor\", \"Cluster 2\"], [6.0, 4.5, 1.5, \"Iris-versicolor\", \"Cluster 2\"], [5.6, 4.1, 1.3, \"Iris-versicolor\", \"Cluster 2\"], [6.1, 4.6, 1.4, \"Iris-versicolor\", \"Cluster 2\"], [6.0, 4.5, 1.6, \"Iris-versicolor\", \"Cluster 2\"], [5.4, 4.5, 1.5, \"Iris-versicolor\", \"Cluster 2\"], [6.7, 4.7, 1.5, \"Iris-versicolor\", \"Cluster 2\"], [5.7, 4.1, 1.3, \"Iris-versicolor\", \"Cluster 2\"], [6.2, 4.3, 1.3, \"Iris-versicolor\", \"Cluster 2\"], [6.0, 5.1, 1.6, \"Iris-versicolor\", \"Cluster 2\"]], \"hovertemplate\": \"Cluster=%{customdata[4]}<br>sepalwidth=%{x}<br>sepallength=%{customdata[0]}<br>petallength=%{customdata[1]}<br>petalwidth=%{customdata[2]}<br>class=%{customdata[3]}<extra></extra>\", \"legendgroup\": \"Cluster 2\", \"marker\": {\"color\": \"#00cc96\"}, \"name\": \"Cluster 2\", \"notched\": true, \"offsetgroup\": \"Cluster 2\", \"showlegend\": false, \"type\": \"box\", \"x\": [3.0, 3.0, 2.8, 2.5, 2.8, 3.2, 3.0, 3.1, 2.8, 2.9, 3.0, 2.9, 3.3, 2.8, 2.8, 3.1, 3.2, 3.2, 2.9, 3.0, 2.9, 2.9, 2.9, 3.0, 3.0, 3.4, 3.0, 3.1, 2.8, 2.9, 2.7], \"xaxis\": \"x2\", \"yaxis\": \"y2\"}, {\"alignmentgroup\": \"True\", \"bingroup\": \"x\", \"hovertemplate\": \"Cluster=Cluster 3<br>sepalwidth=%{x}<br>count=%{y}<extra></extra>\", \"legendgroup\": \"Cluster 3\", \"marker\": {\"color\": \"#ab63fa\", \"opacity\": 0.7}, \"name\": \"Cluster 3\", \"offsetgroup\": \"Cluster 3\", \"orientation\": \"v\", \"showlegend\": true, \"type\": \"histogram\", \"x\": [2.5, 2.3, 2.7, 2.3, 2.6, 2.4, 2.3, 2.7, 2.6, 2.6, 2.2, 2.5, 2.3, 2.7, 2.2, 2.5, 2.7, 2.4, 2.4, 2.2, 2.0, 2.5], \"xaxis\": \"x\", \"yaxis\": \"y\"}, {\"alignmentgroup\": \"True\", \"customdata\": [[5.1, 3.0, 1.1, \"Iris-versicolor\", \"Cluster 3\"], [5.5, 4.0, 1.3, \"Iris-versicolor\", \"Cluster 3\"], [5.6, 4.2, 1.3, \"Iris-versicolor\", \"Cluster 3\"], [5.0, 3.3, 1.0, \"Iris-versicolor\", \"Cluster 3\"], [5.8, 4.0, 1.2, \"Iris-versicolor\", \"Cluster 3\"], [4.9, 3.3, 1.0, \"Iris-versicolor\", \"Cluster 3\"], [4.5, 1.3, 0.3, \"Iris-setosa\", \"Cluster 3\"], [5.2, 3.9, 1.4, \"Iris-versicolor\", \"Cluster 3\"], [5.7, 3.5, 1.0, \"Iris-versicolor\", \"Cluster 3\"], [5.5, 4.4, 1.2, \"Iris-versicolor\", \"Cluster 3\"], [6.0, 4.0, 1.0, \"Iris-versicolor\", \"Cluster 3\"], [4.9, 4.5, 1.7, \"Iris-virginica\", \"Cluster 3\"], [6.3, 4.4, 1.3, \"Iris-versicolor\", \"Cluster 3\"], [5.8, 4.1, 1.0, \"Iris-versicolor\", \"Cluster 3\"], [6.2, 4.5, 1.5, \"Iris-versicolor\", \"Cluster 3\"], [5.6, 3.9, 1.1, \"Iris-versicolor\", \"Cluster 3\"], [5.8, 3.9, 1.2, \"Iris-versicolor\", \"Cluster 3\"], [5.5, 3.7, 1.0, \"Iris-versicolor\", \"Cluster 3\"], [5.5, 3.8, 1.1, \"Iris-versicolor\", \"Cluster 3\"], [6.0, 5.0, 1.5, \"Iris-virginica\", \"Cluster 3\"], [5.0, 3.5, 1.0, \"Iris-versicolor\", \"Cluster 3\"], [5.5, 4.0, 1.3, \"Iris-versicolor\", \"Cluster 3\"]], \"hovertemplate\": \"Cluster=%{customdata[4]}<br>sepalwidth=%{x}<br>sepallength=%{customdata[0]}<br>petallength=%{customdata[1]}<br>petalwidth=%{customdata[2]}<br>class=%{customdata[3]}<extra></extra>\", \"legendgroup\": \"Cluster 3\", \"marker\": {\"color\": \"#ab63fa\"}, \"name\": \"Cluster 3\", \"notched\": true, \"offsetgroup\": \"Cluster 3\", \"showlegend\": false, \"type\": \"box\", \"x\": [2.5, 2.3, 2.7, 2.3, 2.6, 2.4, 2.3, 2.7, 2.6, 2.6, 2.2, 2.5, 2.3, 2.7, 2.2, 2.5, 2.7, 2.4, 2.4, 2.2, 2.0, 2.5], \"xaxis\": \"x2\", \"yaxis\": \"y2\"}],                        {\"barmode\": \"relative\", \"height\": 600, \"legend\": {\"title\": {\"text\": \"Cluster\"}, \"tracegroupgap\": 0}, \"margin\": {\"t\": 60}, \"template\": {\"data\": {\"bar\": [{\"error_x\": {\"color\": \"#2a3f5f\"}, \"error_y\": {\"color\": \"#2a3f5f\"}, \"marker\": {\"line\": {\"color\": \"#E5ECF6\", \"width\": 0.5}}, \"type\": \"bar\"}], \"barpolar\": [{\"marker\": {\"line\": {\"color\": \"#E5ECF6\", \"width\": 0.5}}, \"type\": \"barpolar\"}], \"carpet\": [{\"aaxis\": {\"endlinecolor\": \"#2a3f5f\", \"gridcolor\": \"white\", \"linecolor\": \"white\", \"minorgridcolor\": \"white\", \"startlinecolor\": \"#2a3f5f\"}, \"baxis\": {\"endlinecolor\": \"#2a3f5f\", \"gridcolor\": \"white\", \"linecolor\": \"white\", \"minorgridcolor\": \"white\", \"startlinecolor\": \"#2a3f5f\"}, \"type\": \"carpet\"}], \"choropleth\": [{\"colorbar\": {\"outlinewidth\": 0, \"ticks\": \"\"}, \"type\": \"choropleth\"}], \"contour\": [{\"colorbar\": {\"outlinewidth\": 0, \"ticks\": \"\"}, \"colorscale\": [[0.0, \"#0d0887\"], [0.1111111111111111, \"#46039f\"], [0.2222222222222222, \"#7201a8\"], [0.3333333333333333, \"#9c179e\"], [0.4444444444444444, \"#bd3786\"], [0.5555555555555556, \"#d8576b\"], [0.6666666666666666, \"#ed7953\"], [0.7777777777777778, \"#fb9f3a\"], [0.8888888888888888, \"#fdca26\"], [1.0, \"#f0f921\"]], \"type\": \"contour\"}], \"contourcarpet\": [{\"colorbar\": {\"outlinewidth\": 0, \"ticks\": \"\"}, \"type\": \"contourcarpet\"}], \"heatmap\": [{\"colorbar\": {\"outlinewidth\": 0, \"ticks\": \"\"}, \"colorscale\": [[0.0, \"#0d0887\"], [0.1111111111111111, \"#46039f\"], [0.2222222222222222, \"#7201a8\"], [0.3333333333333333, \"#9c179e\"], [0.4444444444444444, \"#bd3786\"], [0.5555555555555556, \"#d8576b\"], [0.6666666666666666, \"#ed7953\"], [0.7777777777777778, \"#fb9f3a\"], [0.8888888888888888, \"#fdca26\"], [1.0, \"#f0f921\"]], \"type\": \"heatmap\"}], \"heatmapgl\": [{\"colorbar\": {\"outlinewidth\": 0, \"ticks\": \"\"}, \"colorscale\": [[0.0, \"#0d0887\"], [0.1111111111111111, \"#46039f\"], [0.2222222222222222, \"#7201a8\"], [0.3333333333333333, \"#9c179e\"], [0.4444444444444444, \"#bd3786\"], [0.5555555555555556, \"#d8576b\"], [0.6666666666666666, \"#ed7953\"], [0.7777777777777778, \"#fb9f3a\"], [0.8888888888888888, \"#fdca26\"], [1.0, \"#f0f921\"]], \"type\": \"heatmapgl\"}], \"histogram\": [{\"marker\": {\"colorbar\": {\"outlinewidth\": 0, \"ticks\": \"\"}}, \"type\": \"histogram\"}], \"histogram2d\": [{\"colorbar\": {\"outlinewidth\": 0, \"ticks\": \"\"}, \"colorscale\": [[0.0, \"#0d0887\"], [0.1111111111111111, \"#46039f\"], [0.2222222222222222, \"#7201a8\"], [0.3333333333333333, \"#9c179e\"], [0.4444444444444444, \"#bd3786\"], [0.5555555555555556, \"#d8576b\"], [0.6666666666666666, \"#ed7953\"], [0.7777777777777778, \"#fb9f3a\"], [0.8888888888888888, \"#fdca26\"], [1.0, \"#f0f921\"]], \"type\": \"histogram2d\"}], \"histogram2dcontour\": [{\"colorbar\": {\"outlinewidth\": 0, \"ticks\": \"\"}, \"colorscale\": [[0.0, \"#0d0887\"], [0.1111111111111111, \"#46039f\"], [0.2222222222222222, \"#7201a8\"], [0.3333333333333333, \"#9c179e\"], [0.4444444444444444, \"#bd3786\"], [0.5555555555555556, \"#d8576b\"], [0.6666666666666666, \"#ed7953\"], [0.7777777777777778, \"#fb9f3a\"], [0.8888888888888888, \"#fdca26\"], [1.0, \"#f0f921\"]], \"type\": \"histogram2dcontour\"}], \"mesh3d\": [{\"colorbar\": {\"outlinewidth\": 0, \"ticks\": \"\"}, \"type\": \"mesh3d\"}], \"parcoords\": [{\"line\": {\"colorbar\": {\"outlinewidth\": 0, \"ticks\": \"\"}}, \"type\": \"parcoords\"}], \"pie\": [{\"automargin\": true, \"type\": \"pie\"}], \"scatter\": [{\"marker\": {\"colorbar\": {\"outlinewidth\": 0, \"ticks\": \"\"}}, \"type\": \"scatter\"}], \"scatter3d\": [{\"line\": {\"colorbar\": {\"outlinewidth\": 0, \"ticks\": \"\"}}, \"marker\": {\"colorbar\": {\"outlinewidth\": 0, \"ticks\": \"\"}}, \"type\": \"scatter3d\"}], \"scattercarpet\": [{\"marker\": {\"colorbar\": {\"outlinewidth\": 0, \"ticks\": \"\"}}, \"type\": \"scattercarpet\"}], \"scattergeo\": [{\"marker\": {\"colorbar\": {\"outlinewidth\": 0, \"ticks\": \"\"}}, \"type\": \"scattergeo\"}], \"scattergl\": [{\"marker\": {\"colorbar\": {\"outlinewidth\": 0, \"ticks\": \"\"}}, \"type\": \"scattergl\"}], \"scattermapbox\": [{\"marker\": {\"colorbar\": {\"outlinewidth\": 0, \"ticks\": \"\"}}, \"type\": \"scattermapbox\"}], \"scatterpolar\": [{\"marker\": {\"colorbar\": {\"outlinewidth\": 0, \"ticks\": \"\"}}, \"type\": \"scatterpolar\"}], \"scatterpolargl\": [{\"marker\": {\"colorbar\": {\"outlinewidth\": 0, \"ticks\": \"\"}}, \"type\": \"scatterpolargl\"}], \"scatterternary\": [{\"marker\": {\"colorbar\": {\"outlinewidth\": 0, \"ticks\": \"\"}}, \"type\": \"scatterternary\"}], \"surface\": [{\"colorbar\": {\"outlinewidth\": 0, \"ticks\": \"\"}, \"colorscale\": [[0.0, \"#0d0887\"], [0.1111111111111111, \"#46039f\"], [0.2222222222222222, \"#7201a8\"], [0.3333333333333333, \"#9c179e\"], [0.4444444444444444, \"#bd3786\"], [0.5555555555555556, \"#d8576b\"], [0.6666666666666666, \"#ed7953\"], [0.7777777777777778, \"#fb9f3a\"], [0.8888888888888888, \"#fdca26\"], [1.0, \"#f0f921\"]], \"type\": \"surface\"}], \"table\": [{\"cells\": {\"fill\": {\"color\": \"#EBF0F8\"}, \"line\": {\"color\": \"white\"}}, \"header\": {\"fill\": {\"color\": \"#C8D4E3\"}, \"line\": {\"color\": \"white\"}}, \"type\": \"table\"}]}, \"layout\": {\"annotationdefaults\": {\"arrowcolor\": \"#2a3f5f\", \"arrowhead\": 0, \"arrowwidth\": 1}, \"autotypenumbers\": \"strict\", \"coloraxis\": {\"colorbar\": {\"outlinewidth\": 0, \"ticks\": \"\"}}, \"colorscale\": {\"diverging\": [[0, \"#8e0152\"], [0.1, \"#c51b7d\"], [0.2, \"#de77ae\"], [0.3, \"#f1b6da\"], [0.4, \"#fde0ef\"], [0.5, \"#f7f7f7\"], [0.6, \"#e6f5d0\"], [0.7, \"#b8e186\"], [0.8, \"#7fbc41\"], [0.9, \"#4d9221\"], [1, \"#276419\"]], \"sequential\": [[0.0, \"#0d0887\"], [0.1111111111111111, \"#46039f\"], [0.2222222222222222, \"#7201a8\"], [0.3333333333333333, \"#9c179e\"], [0.4444444444444444, \"#bd3786\"], [0.5555555555555556, \"#d8576b\"], [0.6666666666666666, \"#ed7953\"], [0.7777777777777778, \"#fb9f3a\"], [0.8888888888888888, \"#fdca26\"], [1.0, \"#f0f921\"]], \"sequentialminus\": [[0.0, \"#0d0887\"], [0.1111111111111111, \"#46039f\"], [0.2222222222222222, \"#7201a8\"], [0.3333333333333333, \"#9c179e\"], [0.4444444444444444, \"#bd3786\"], [0.5555555555555556, \"#d8576b\"], [0.6666666666666666, \"#ed7953\"], [0.7777777777777778, \"#fb9f3a\"], [0.8888888888888888, \"#fdca26\"], [1.0, \"#f0f921\"]]}, \"colorway\": [\"#636efa\", \"#EF553B\", \"#00cc96\", \"#ab63fa\", \"#FFA15A\", \"#19d3f3\", \"#FF6692\", \"#B6E880\", \"#FF97FF\", \"#FECB52\"], \"font\": {\"color\": \"#2a3f5f\"}, \"geo\": {\"bgcolor\": \"white\", \"lakecolor\": \"white\", \"landcolor\": \"#E5ECF6\", \"showlakes\": true, \"showland\": true, \"subunitcolor\": \"white\"}, \"hoverlabel\": {\"align\": \"left\"}, \"hovermode\": \"closest\", \"mapbox\": {\"style\": \"light\"}, \"paper_bgcolor\": \"white\", \"plot_bgcolor\": \"#E5ECF6\", \"polar\": {\"angularaxis\": {\"gridcolor\": \"white\", \"linecolor\": \"white\", \"ticks\": \"\"}, \"bgcolor\": \"#E5ECF6\", \"radialaxis\": {\"gridcolor\": \"white\", \"linecolor\": \"white\", \"ticks\": \"\"}}, \"scene\": {\"xaxis\": {\"backgroundcolor\": \"#E5ECF6\", \"gridcolor\": \"white\", \"gridwidth\": 2, \"linecolor\": \"white\", \"showbackground\": true, \"ticks\": \"\", \"zerolinecolor\": \"white\"}, \"yaxis\": {\"backgroundcolor\": \"#E5ECF6\", \"gridcolor\": \"white\", \"gridwidth\": 2, \"linecolor\": \"white\", \"showbackground\": true, \"ticks\": \"\", \"zerolinecolor\": \"white\"}, \"zaxis\": {\"backgroundcolor\": \"#E5ECF6\", \"gridcolor\": \"white\", \"gridwidth\": 2, \"linecolor\": \"white\", \"showbackground\": true, \"ticks\": \"\", \"zerolinecolor\": \"white\"}}, \"shapedefaults\": {\"line\": {\"color\": \"#2a3f5f\"}}, \"ternary\": {\"aaxis\": {\"gridcolor\": \"white\", \"linecolor\": \"white\", \"ticks\": \"\"}, \"baxis\": {\"gridcolor\": \"white\", \"linecolor\": \"white\", \"ticks\": \"\"}, \"bgcolor\": \"#E5ECF6\", \"caxis\": {\"gridcolor\": \"white\", \"linecolor\": \"white\", \"ticks\": \"\"}}, \"title\": {\"x\": 0.05}, \"xaxis\": {\"automargin\": true, \"gridcolor\": \"white\", \"linecolor\": \"white\", \"ticks\": \"\", \"title\": {\"standoff\": 15}, \"zerolinecolor\": \"white\", \"zerolinewidth\": 2}, \"yaxis\": {\"automargin\": true, \"gridcolor\": \"white\", \"linecolor\": \"white\", \"ticks\": \"\", \"title\": {\"standoff\": 15}, \"zerolinecolor\": \"white\", \"zerolinewidth\": 2}}}, \"xaxis\": {\"anchor\": \"y\", \"domain\": [0.0, 1.0], \"title\": {\"text\": \"sepalwidth\"}}, \"xaxis2\": {\"anchor\": \"y2\", \"domain\": [0.0, 1.0], \"matches\": \"x\", \"showgrid\": true, \"showticklabels\": false}, \"yaxis\": {\"anchor\": \"x\", \"domain\": [0.0, 0.7326], \"title\": {\"text\": \"count\"}}, \"yaxis2\": {\"anchor\": \"x2\", \"domain\": [0.7426, 1.0], \"matches\": \"y2\", \"showgrid\": false, \"showline\": false, \"showticklabels\": false, \"ticks\": \"\"}},                        {\"responsive\": true}                    ).then(function(){\n",
       "                            \n",
       "var gd = document.getElementById('360d78db-fc30-41f0-9758-7e4860df8c3c');\n",
       "var x = new MutationObserver(function (mutations, observer) {{\n",
       "        var display = window.getComputedStyle(gd).display;\n",
       "        if (!display || display === 'none') {{\n",
       "            console.log([gd, 'removed!']);\n",
       "            Plotly.purge(gd);\n",
       "            observer.disconnect();\n",
       "        }}\n",
       "}});\n",
       "\n",
       "// Listen for the removal of the full notebook cells\n",
       "var notebookContainer = gd.closest('#notebook-container');\n",
       "if (notebookContainer) {{\n",
       "    x.observe(notebookContainer, {childList: true});\n",
       "}}\n",
       "\n",
       "// Listen for the clearing of the current output cell\n",
       "var outputEl = gd.closest('.output');\n",
       "if (outputEl) {{\n",
       "    x.observe(outputEl, {childList: true});\n",
       "}}\n",
       "\n",
       "                        })                };                });            </script>        </div>"
      ]
     },
     "metadata": {},
     "output_type": "display_data"
    }
   ],
   "source": [
    "plot_model(kmeans,plot='distribution',feature='sepalwidth')"
   ]
  },
  {
   "cell_type": "markdown",
   "metadata": {},
   "source": [
    "# Final Step: Assign Cluster labels to dataset"
   ]
  },
  {
   "cell_type": "code",
   "execution_count": 56,
   "metadata": {},
   "outputs": [
    {
     "data": {
      "text/html": [
       "<div>\n",
       "<style scoped>\n",
       "    .dataframe tbody tr th:only-of-type {\n",
       "        vertical-align: middle;\n",
       "    }\n",
       "\n",
       "    .dataframe tbody tr th {\n",
       "        vertical-align: top;\n",
       "    }\n",
       "\n",
       "    .dataframe thead th {\n",
       "        text-align: right;\n",
       "    }\n",
       "</style>\n",
       "<table border=\"1\" class=\"dataframe\">\n",
       "  <thead>\n",
       "    <tr style=\"text-align: right;\">\n",
       "      <th></th>\n",
       "      <th>sepallength</th>\n",
       "      <th>sepalwidth</th>\n",
       "      <th>petallength</th>\n",
       "      <th>petalwidth</th>\n",
       "      <th>class</th>\n",
       "      <th>Cluster</th>\n",
       "    </tr>\n",
       "  </thead>\n",
       "  <tbody>\n",
       "    <tr>\n",
       "      <th>50</th>\n",
       "      <td>7.0</td>\n",
       "      <td>3.2</td>\n",
       "      <td>4.7</td>\n",
       "      <td>1.4</td>\n",
       "      <td>Iris-versicolor</td>\n",
       "      <td>Cluster 2</td>\n",
       "    </tr>\n",
       "    <tr>\n",
       "      <th>51</th>\n",
       "      <td>6.4</td>\n",
       "      <td>3.2</td>\n",
       "      <td>4.5</td>\n",
       "      <td>1.5</td>\n",
       "      <td>Iris-versicolor</td>\n",
       "      <td>Cluster 2</td>\n",
       "    </tr>\n",
       "    <tr>\n",
       "      <th>52</th>\n",
       "      <td>6.9</td>\n",
       "      <td>3.1</td>\n",
       "      <td>4.9</td>\n",
       "      <td>1.5</td>\n",
       "      <td>Iris-versicolor</td>\n",
       "      <td>Cluster 2</td>\n",
       "    </tr>\n",
       "    <tr>\n",
       "      <th>53</th>\n",
       "      <td>5.5</td>\n",
       "      <td>2.3</td>\n",
       "      <td>4.0</td>\n",
       "      <td>1.3</td>\n",
       "      <td>Iris-versicolor</td>\n",
       "      <td>Cluster 3</td>\n",
       "    </tr>\n",
       "    <tr>\n",
       "      <th>54</th>\n",
       "      <td>6.5</td>\n",
       "      <td>2.8</td>\n",
       "      <td>4.6</td>\n",
       "      <td>1.5</td>\n",
       "      <td>Iris-versicolor</td>\n",
       "      <td>Cluster 2</td>\n",
       "    </tr>\n",
       "    <tr>\n",
       "      <th>...</th>\n",
       "      <td>...</td>\n",
       "      <td>...</td>\n",
       "      <td>...</td>\n",
       "      <td>...</td>\n",
       "      <td>...</td>\n",
       "      <td>...</td>\n",
       "    </tr>\n",
       "    <tr>\n",
       "      <th>145</th>\n",
       "      <td>6.7</td>\n",
       "      <td>3.0</td>\n",
       "      <td>5.2</td>\n",
       "      <td>2.3</td>\n",
       "      <td>Iris-virginica</td>\n",
       "      <td>Cluster 1</td>\n",
       "    </tr>\n",
       "    <tr>\n",
       "      <th>146</th>\n",
       "      <td>6.3</td>\n",
       "      <td>2.5</td>\n",
       "      <td>5.0</td>\n",
       "      <td>1.9</td>\n",
       "      <td>Iris-virginica</td>\n",
       "      <td>Cluster 1</td>\n",
       "    </tr>\n",
       "    <tr>\n",
       "      <th>147</th>\n",
       "      <td>6.5</td>\n",
       "      <td>3.0</td>\n",
       "      <td>5.2</td>\n",
       "      <td>2.0</td>\n",
       "      <td>Iris-virginica</td>\n",
       "      <td>Cluster 1</td>\n",
       "    </tr>\n",
       "    <tr>\n",
       "      <th>148</th>\n",
       "      <td>6.2</td>\n",
       "      <td>3.4</td>\n",
       "      <td>5.4</td>\n",
       "      <td>2.3</td>\n",
       "      <td>Iris-virginica</td>\n",
       "      <td>Cluster 1</td>\n",
       "    </tr>\n",
       "    <tr>\n",
       "      <th>149</th>\n",
       "      <td>5.9</td>\n",
       "      <td>3.0</td>\n",
       "      <td>5.1</td>\n",
       "      <td>1.8</td>\n",
       "      <td>Iris-virginica</td>\n",
       "      <td>Cluster 1</td>\n",
       "    </tr>\n",
       "  </tbody>\n",
       "</table>\n",
       "<p>100 rows × 6 columns</p>\n",
       "</div>"
      ],
      "text/plain": [
       "     sepallength  sepalwidth  petallength  petalwidth            class  \\\n",
       "50           7.0         3.2          4.7         1.4  Iris-versicolor   \n",
       "51           6.4         3.2          4.5         1.5  Iris-versicolor   \n",
       "52           6.9         3.1          4.9         1.5  Iris-versicolor   \n",
       "53           5.5         2.3          4.0         1.3  Iris-versicolor   \n",
       "54           6.5         2.8          4.6         1.5  Iris-versicolor   \n",
       "..           ...         ...          ...         ...              ...   \n",
       "145          6.7         3.0          5.2         2.3   Iris-virginica   \n",
       "146          6.3         2.5          5.0         1.9   Iris-virginica   \n",
       "147          6.5         3.0          5.2         2.0   Iris-virginica   \n",
       "148          6.2         3.4          5.4         2.3   Iris-virginica   \n",
       "149          5.9         3.0          5.1         1.8   Iris-virginica   \n",
       "\n",
       "       Cluster  \n",
       "50   Cluster 2  \n",
       "51   Cluster 2  \n",
       "52   Cluster 2  \n",
       "53   Cluster 3  \n",
       "54   Cluster 2  \n",
       "..         ...  \n",
       "145  Cluster 1  \n",
       "146  Cluster 1  \n",
       "147  Cluster 1  \n",
       "148  Cluster 1  \n",
       "149  Cluster 1  \n",
       "\n",
       "[100 rows x 6 columns]"
      ]
     },
     "execution_count": 56,
     "metadata": {},
     "output_type": "execute_result"
    }
   ],
   "source": [
    "k_results=assign_model(kmeans)\n",
    "k_results.head(150)\n",
    "k_results.tail(100)"
   ]
  }
 ],
 "metadata": {
  "kernelspec": {
   "display_name": "Python 3",
   "language": "python",
   "name": "python3"
  },
  "language_info": {
   "codemirror_mode": {
    "name": "ipython",
    "version": 3
   },
   "file_extension": ".py",
   "mimetype": "text/x-python",
   "name": "python",
   "nbconvert_exporter": "python",
   "pygments_lexer": "ipython3",
   "version": "3.8.5"
  }
 },
 "nbformat": 4,
 "nbformat_minor": 4
}
